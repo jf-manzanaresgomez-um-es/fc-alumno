{
 "cells": [
  {
   "cell_type": "markdown",
   "id": "8e983960",
   "metadata": {},
   "source": [
    "# Práctica 4a: Manejo del sistema de ficheros en el *shell* de Linux.\n",
    "\n",
    "## Objetivos\n",
    "\n",
    "El objetivo de este boletín de prácticas es continuar familiarizando al alumno con la consulta y manipulación del sistema de ficheros a través de la interfaz de línea de comandos, introduciendo el uso de comodines como herramienta clave detrás del potencial del shell a la hora de listar, mover, copiar o borrar ficheros. Además, se pretende que el alumno adquiera soltura en la búsqueda de información en la documentación existente en las páginas del manual de los diferentes comandos. También se introducen conceptos tales como el propietario y grupo de un fichero, así como sus permisos."
   ]
  },
  {
   "cell_type": "markdown",
   "id": "e9e35ab5",
   "metadata": {},
   "source": [
    "<font size=\"4\">  \n",
    "    <span style=\"color: red;\">No olvides configurar Git para usar tu nombre y apellido(s), y tu dirección de correo electrónico universitario antes de comenzar.\n",
    "    </span>\n",
    "</font>\n",
    "\n",
    "Edita las primeras líneas de la siguiente celda con tu nombre y email y ejecútala para configurar tu entorno Git antes de empezar."
   ]
  },
  {
   "cell_type": "code",
   "execution_count": null,
   "id": "3508aefa",
   "metadata": {},
   "outputs": [],
   "source": [
    "# Establece tu identidad\n",
    "git config --global user.name \"Nombre Apellido1 [Apellido2]\"\n",
    "git config --global user.email \"alumno@um.es\"\n",
    "\n",
    "# Establece el editor por defecto\n",
    "# para los mensajes de commit\n",
    "git config --global core.editor \"gedit\""
   ]
  },
  {
   "cell_type": "markdown",
   "id": "5ee0790b",
   "metadata": {},
   "source": [
    "<br>\n",
    "<font size=\"5\">  \n",
    "    <span style=\"color: red;\"><b>IMPORTANTE:</b><br> Añade este fichero a tu repositorio-bitácora \"fc-alumno\" <b>ANTES</b> de comenzar a realizar los ejercicios.\n",
    "    </span>\n",
    "</font>  \n",
    "<font size=\"4\">  \n",
    "    Sigue las instrucciones a continuación.\n",
    "</font>"
   ]
  },
  {
   "cell_type": "markdown",
   "id": "cb07ba90",
   "metadata": {},
   "source": [
    "Recuerda que para poder registrar tu trabajo en tu bitácora personal de prácticas, debes evitar trabajar en una copia de este *notebook* que no esté bajo control de versiones en Git en tu repositorio. Por ello, **ANTES DE REALIZAR NINGÚN CAMBIO en este fichero asegúrate de COLOCARLO DENTRO DIRECTORIO DE TU REPOSITORIO-BITÁCORA `fc-alumno`** y añadirlo al repositorio:\n",
    "1. Cierra esta pestaña del navegador sin guardar los cambios.\n",
    "2. Muévelo desde donde lo hayas descargado del AV (p.ej. `$HOME/Descargas`) al directorio donde tengas tu repositorio (se recomienda `$HOME/fc-alumno`).\n",
    "3. Añádelo al repositorio:\n",
    "    * `git add practica4a-ficheros-boletin.ipynb`\n",
    "    * `git commit -m \"Añadiendo el notebook del boletín de la práctica 4a (sin empezar)\"`"
   ]
  },
  {
   "cell_type": "markdown",
   "id": "55b352d2",
   "metadata": {},
   "source": [
    "## Algunas recomendaciones iniciales\n",
    "\n",
    "### Recomendaciones sobre la nomenclatura de ficheros\n",
    "\n",
    "- **Espacios en blanco**. Dado que la sintaxis del shell utiliza el espacio en blanco como separador entre los diferentes elementos que componen una orden (nombre del comando, opciones, parámetros), es una costumbre habitual entre los usuarios de Linux no usar espacios en blanco en el nombre de los ficheros o directorios; no es porque no esté permitido sino por comodidad, pues su uso nos obliga bien a entrecomillar el nombre del fichero/directorio o bien a anteponer la barra invertida `\\` ante cada espacio en blanco que contenga el nombre\n",
    "(por ejemplo, `ls mi\\ directorio`). Esto es necesario para que el shell no confunda el espacio del nombre del fichero con el separador habitual.\n",
    "- **Caracteres especiales**. Los caracteres `/|\\!?*<>&~()[];#:` también tienen un significado especial en la gramática bash, por lo que se recomienda igualmente evitar su uso a la hora de nombrar ficheros."
   ]
  },
  {
   "cell_type": "code",
   "execution_count": null,
   "id": "3c4e650c",
   "metadata": {},
   "outputs": [],
   "source": [
    "rm -rf /tmp/pruebas-bash\n",
    "mkdir /tmp/pruebas-bash\n",
    "cd /tmp/pruebas-bash"
   ]
  },
  {
   "cell_type": "code",
   "execution_count": null,
   "id": "ac61675b",
   "metadata": {},
   "outputs": [],
   "source": [
    "# Creamos un directorio cuyo nombre tiene espacios\n",
    "mkdir \"mi directorio\""
   ]
  },
  {
   "cell_type": "code",
   "execution_count": null,
   "id": "d598b63c",
   "metadata": {},
   "outputs": [],
   "source": [
    "# El espacio tiene un significado especial para el shell... (separador de comandos, opción, argumentos...)\n",
    "cd mi directorio"
   ]
  },
  {
   "cell_type": "code",
   "execution_count": null,
   "id": "44d34d30",
   "metadata": {},
   "outputs": [],
   "source": [
    "# Podemos anteponer la \"contrabarra\" para \"escapar\" del significado especial del espacio\n",
    "cd mi\\ directorio"
   ]
  },
  {
   "cell_type": "code",
   "execution_count": null,
   "id": "046f9146",
   "metadata": {},
   "outputs": [],
   "source": [
    "touch \"nombre>no-recomendable\""
   ]
  },
  {
   "cell_type": "code",
   "execution_count": null,
   "id": "62638d23",
   "metadata": {},
   "outputs": [],
   "source": [
    "touch \"nombre&no-recomendable\""
   ]
  },
  {
   "cell_type": "code",
   "execution_count": null,
   "id": "bdbeae63",
   "metadata": {},
   "outputs": [],
   "source": [
    "ls"
   ]
  },
  {
   "cell_type": "markdown",
   "id": "c99fea69",
   "metadata": {},
   "source": [
    "Fíjate en que los nombres aparecen entrecomillados, ya que contienen caracteres especiales."
   ]
  },
  {
   "cell_type": "code",
   "execution_count": null,
   "id": "7f8358d5",
   "metadata": {},
   "outputs": [],
   "source": [
    "cat nombre&no-recomendable"
   ]
  },
  {
   "cell_type": "markdown",
   "id": "de70ea4a",
   "metadata": {},
   "source": [
    "Al no indicar que queremos que `&` no se interprete como un carácter especial, el shell interpreta que es un separador de órdenes y por tanto que `cat nombre` es una orden y `no-recomendable` es otra orden distinta (la primera se lanza en segundo plano, como veremos en sucesivos boletines)."
   ]
  },
  {
   "cell_type": "code",
   "execution_count": null,
   "id": "033a7ee9",
   "metadata": {},
   "outputs": [],
   "source": [
    "cat nombre>no-recomendable"
   ]
  },
  {
   "cell_type": "markdown",
   "id": "2327d3c3",
   "metadata": {},
   "source": [
    "Al no indicar que queremos que `>` no se interprete como un carácter especial, el shell interpreta que es el operador de redirección y por tanto que `cat nombre` es una orden cuya salida queremos redireccionar al fichero `no-recomendable` (veremos en qué consiste la *redirección* en próximos boletines)."
   ]
  },
  {
   "cell_type": "code",
   "execution_count": null,
   "id": "7bcbb3a4",
   "metadata": {},
   "outputs": [],
   "source": [
    "pwd"
   ]
  },
  {
   "cell_type": "code",
   "execution_count": null,
   "id": "05637cf3",
   "metadata": {},
   "outputs": [],
   "source": [
    "cd .."
   ]
  },
  {
   "cell_type": "markdown",
   "id": "37bb8aaa",
   "metadata": {},
   "source": [
    "Por tanto, si tenemos ficheros o directorios con caracteres especiales, siempre debemos entrecomillarlos para pasarlos como argumentos a cualquier comando:"
   ]
  },
  {
   "cell_type": "code",
   "execution_count": null,
   "id": "ecb80d82",
   "metadata": {},
   "outputs": [],
   "source": [
    "rm -r \"mi directorio\""
   ]
  },
  {
   "cell_type": "markdown",
   "id": "68589d13",
   "metadata": {},
   "source": [
    "- **Mayúsculas y minúsculas**: `A != a`. Ten en cuenta siempre que en Linux, los nombres de ficheros `Programa.c` y `programa.c` son distintos."
   ]
  },
  {
   "cell_type": "code",
   "execution_count": null,
   "id": "4ee21181",
   "metadata": {},
   "outputs": [],
   "source": [
    "# Todos estos nombres de fichero son distintos\n",
    "touch hola HOLA holA HolA"
   ]
  },
  {
   "cell_type": "code",
   "execution_count": null,
   "id": "8016482a",
   "metadata": {},
   "outputs": [],
   "source": [
    "ls"
   ]
  },
  {
   "cell_type": "markdown",
   "id": "74712864",
   "metadata": {},
   "source": [
    "- **Uso del carácter . (punto)**. Puede aparecer tantas veces como queramos en el nombre de ficheros y directorios, y su uso suele ser por comodidad o convención, para diferenciar a modo de *extensiones* los ficheros del mismo tipo, por ejemplo, aquellos que serán abiertos con la misma aplicación (p.ej., `documento.pdf`). No obstante, también es perfectamente válido no incluir ningún punto en el nombre de un fichero o directorio (p.ej., `LEEME`). Aquellos ficheros o directorios cuyo nombre comience por el carácter punto se considerarán ocultos y no aparecerían en un listado normal, a menos que usemos la opción `-a` o `--all` del comando `ls`).\n"
   ]
  },
  {
   "cell_type": "code",
   "execution_count": null,
   "id": "55b60678",
   "metadata": {},
   "outputs": [],
   "source": [
    "# Creamos un directorio y nos cambiamos al mismo\n",
    "mkdir ocultos && cd ocultos "
   ]
  },
  {
   "cell_type": "code",
   "execution_count": null,
   "id": "1744203a",
   "metadata": {},
   "outputs": [],
   "source": [
    "touch leeme.txt"
   ]
  },
  {
   "cell_type": "code",
   "execution_count": null,
   "id": "331fb65c",
   "metadata": {},
   "outputs": [],
   "source": [
    "touch .fichero_oculto"
   ]
  },
  {
   "cell_type": "code",
   "execution_count": null,
   "id": "f34a2ec8",
   "metadata": {},
   "outputs": [],
   "source": [
    "ls"
   ]
  },
  {
   "cell_type": "markdown",
   "id": "587278fa",
   "metadata": {},
   "source": [
    "Con la opción `-a` (o `--all`) veremos todos los ficheros, incluyendo los que empiezan por punto."
   ]
  },
  {
   "cell_type": "code",
   "execution_count": null,
   "id": "9de7c663",
   "metadata": {},
   "outputs": [],
   "source": [
    "ls -a"
   ]
  },
  {
   "cell_type": "markdown",
   "id": "3a96a6b5",
   "metadata": {},
   "source": [
    "Recuerda que las opciones se pueden combinar en cualquier orden."
   ]
  },
  {
   "cell_type": "code",
   "execution_count": null,
   "id": "30d8fd89",
   "metadata": {},
   "outputs": [],
   "source": [
    "ls -al"
   ]
  },
  {
   "cell_type": "markdown",
   "id": "57c5b583",
   "metadata": {},
   "source": [
    "### Recomendaciones a la hora de teclear comandos\n",
    "\n",
    "- **Autocompletado con `TAB`**. Como se vio en anteriores prácticas, la pulsación tecla del tabulador, puede ayudarnos a ahorrar miles de pulsaciones de teclas, al autocompletar los nombres de los ficheros o directorios que pasamos como parámetros a nuestros comandos.\n",
    "\n",
    "- **Historial de comandos**. Podemos hacer un uso más rápido del intérprete de órdenes haciendo uso de las teclas flecha arriba ↑ o abajo ↓ para navegar por las órdenes que ya hayamos introducido anteriormente y que se guardan en un historial. También podemos buscar en el historial con la combinación `CTRL+R` y tecleando una subcadena de una orden anterior, de forma que pulsando `CTRL+R` de nuevo podemos ir pasando al siguiente resultado de la búsqueda.\n",
    "\n",
    "- **Copiar y pegar**. Podemos copiar el texto que previamente hayamos seleccionado en el terminal con la combinación `Ctrl+Mayúsculas+C` . Con `Ctrl+Mayúsculas+V` podemos pegar en el terminal lo que hayamos copiado previamente al portapapeles, ya sea desde el terminal o desde cualquier otro programa.\n",
    "- **Obteniendo ayuda**. Cuanto más se usa el terminal más diestro se es, pero al principio es muy recomendable consultar continuamente el manual y experimentar con órdenes y sus opciones para familiarizarnos. El comando `man orden` muestra la documentación o manual de uso de la orden tecleada, del que se sale pulsando la tecla `q`. Lo habitual es buscar una determinada palabra clave en la documentación, para lo cual se utiliza `/` seguido de la cadena a buscar. Por otro lado, la mayoría de comandos acepta también la opción `--help`, que muestra un resumen sobre su uso así como las opciones más relevantes."
   ]
  },
  {
   "cell_type": "code",
   "execution_count": null,
   "id": "d1e0afcb",
   "metadata": {},
   "outputs": [],
   "source": [
    "cd --help"
   ]
  },
  {
   "cell_type": "code",
   "execution_count": null,
   "id": "91592d00",
   "metadata": {},
   "outputs": [],
   "source": [
    "man ls"
   ]
  },
  {
   "cell_type": "markdown",
   "id": "4be76506",
   "metadata": {},
   "source": [
    "## Usuarios y grupos. Permisos.\n",
    "\n",
    "Linux es un SO multiusuario, lo que significa que más de un usuario puede trabajar en el sistema de forma simultánea con otros, ejecutando una o más tareas a la vez. Para que múltiples usuarios puedan hacer uso del sistema de una forma segura y ordenada es necesario que el sistema disponga de mecanismos para proteger y limitar el acceso\n",
    "a los datos de cada usuario, así como proteger y asegurar el correcto funcionamiento del propio sistema.\n",
    "\n",
    "### Tipos de usuarios\n",
    "\n",
    "1. **Usuarios normales**: Son individuos particulares que pueden acceder al sistema para hacer uso de los recursos que ofrece el mismo, sin disponer de los privilegios necesarios para administrarlo. Como indicador el prompt utiliza para ellos por defecto el símbolo dólar.\n",
    "\n",
    "\n",
    "2. **Usuarios de sistema**: Son usuarios especiales vinculados a ciertas tareas que debe realizar el sistema operativo. No están vinculados a personas, ya que este tipo de usuarios no pueden ingresar al sistema con un login normal. Ejemplos: `mail`, `bin`, `kvm`, etc. También se les conoce como usuarios sin login.\n",
    "\n",
    "\n",
    "3. **Usuario `root`, o superusuario**: Todo sistema Linux cuenta con un superusuario, que tiene los máximos privilegios. Dichos privilegios le permitirán efectuar cualquier operación sobre el sistema (incluida su destrucción). Su existencia es imprescindible ya que se encarga de adminstrar su funcionamiento, incluyendo los grupos, usuarios, instalación de software, etc. Debido a su omnipotencia, al entrar como superusuario el prompt nos avisa de ello utilizando el símbolo almohadilla `#`."
   ]
  },
  {
   "cell_type": "markdown",
   "id": "d687d158",
   "metadata": {},
   "source": [
    "Un usuario puede pertenecer a varios grupos, y el superusuario es el responsable de organizar la distribución de usuarios por grupos.\n",
    "\n",
    "\n",
    "A continuación se expone la lista de órdenes más habituales relacionadas con lo visto en este apartado:\n",
    "\n",
    "- `whoami` : Muestra nuestro nombre de usuario.\n",
    "- `who` : Muestra los usuarios actualmente conectados al sistema, con su hora de inicio de sesión, y la máquina desde la que accedió al equipo.\n",
    "- `su`: Cambia de usuario (*switch user*). Por defecto, cambia de usuario normal a superusuario (o root). El prompt acaba con el carácter # en lugar del carácter dólar para advertírnoslo. Si se especifica como parámetro un usuario, se cambia a ese usuario. En cualquier caso, hay que indicar la contraseña del usuario al que se desea cambiar.\n",
    "- `sudo orden`: Ejecuta el comando orden como superususario, aún estando conectados como usuario normal (por supuesto, y al igual que el comando anterior, exige contraseña).\n",
    "- `exit` : Termina la sesión del usuario actual."
   ]
  },
  {
   "cell_type": "code",
   "execution_count": null,
   "id": "0b1ff0ef",
   "metadata": {},
   "outputs": [],
   "source": [
    "whoami"
   ]
  },
  {
   "cell_type": "code",
   "execution_count": null,
   "id": "d214b831",
   "metadata": {},
   "outputs": [],
   "source": [
    "who"
   ]
  },
  {
   "attachments": {
    "image.png": {
     "image/png": "[encoded data removed]"
    }
   },
   "cell_type": "markdown",
   "id": "1f2afbe1",
   "metadata": {},
   "source": [
    "### Grupos\n",
    "\n",
    "Para poder administrar los permisos de acceso al sistema de ficheros de una forma más flexible, Linux permite la organización de usuarios en grupos, de forma que cada fichero o directorio, además de tener un usuario propietario, siempre pertenece a un determinado grupo. Los grupos, por tanto, permiten otorgar una serie de privilegios a un conjunto de usuarios sin tener que dárselos de forma individual a cada uno de ellos. Así pues, los usuarios de un sistema Linux se organizan en grupos, de forma que todos los miembros del mismo grupo disponen de los mismos privilegios para poder acceder a ficheros y servicios del sistema. \n",
    "\n",
    "![image.png](attachment:image.png)\n",
    "\n",
    "Con el comando `groups`: podemos ver a qué grupos pertenecemos."
   ]
  },
  {
   "cell_type": "code",
   "execution_count": null,
   "id": "59e71e22",
   "metadata": {},
   "outputs": [],
   "source": [
    "groups"
   ]
  },
  {
   "cell_type": "markdown",
   "id": "4607845d",
   "metadata": {},
   "source": [
    "### Superusuario\n",
    "\n",
    "Una buena razón para aprender los fundamentos de la línea de comandos es que las instrucciones que solemos encontrar en la red suelen favorecer el uso de comandos del shell en lugar de una interfaz gráfica. Cuando esas instrucciones requieran cambios en tu máquina que vayan más allá de la modificación de unos pocos ficheros en tu\n",
    "directorio personal, inevitablemente te encontrarás con comandos que deben ser ejecutados como administrador de la máquina (o superusuario en la jerga de Unix). Antes de que empieces a ejecutar comandos arbitrarios que encuentres en algún rincón oscuro de Internet, vale la pena entender las implicaciones de ejecutar como administrador, para que puedas valorar mejor si son seguras de ejecutar o no.\n",
    "\n",
    "\n",
    "El superusuario es un usuario con superpoderes, pues **puede modificar o eliminar cualquier fichero en cualquier directorio del sistema, independientemente de quién sea su propietario**; `root` puede reescribir las reglas del cortafuegos o iniciar servicios de red que podrían abrir la máquina a un ataque; o apagar la máquina aunque haya otras personas utilizándola. En resumen, el usuario `root` puede hacer prácticamente cualquier cosa, saltándose fácilmente las protecciones que se suelen poner en marcha para evitar que los usuarios se pasen de la raya. Por supuesto, una persona conectada como root es tan capaz de cometer errores como cualquier otra. Los anales de la historia de la informática están llenos de relatos en los que un comando mal escrito borra todo el sistema de ficheros o mata un servidor vital. Además, existe la posibilidad de un ataque malicioso: si un usuario se conecta como root y abandona su escritorio, no es demasiado difícil que un colega descontento se meta en su máquina y cause estragos."
   ]
  },
  {
   "cell_type": "markdown",
   "id": "47cffa28",
   "metadata": {},
   "source": [
    "Para tratar de minimizar la cantidad de tiempo que se pasa conectado como root, muchas distribuciones de Linux comenzaron a fomentar el uso del comando `su` (*switch user*), que permite cambiar a otro usuario en la máquina sin tener que salir y entrar de nuevo. Cuando se utiliza sin parámetros, asume que quieres cambiar al usuario `root`, pero puedes pasarle un nombre de usuario para cambiar a una cuenta de usuario específica.\n",
    "\n",
    "En muchas distribuciones de Linux, como Ubuntu, la cuenta de `root` está deshabilitada por completo para no permitir sesiones de terminal de larga duración con poderes peligrosos. En su lugar, se requiere que el usuario solicite específicamente los derechos de superusuario en cada comando mediante `sudo` (que viene de “cambiar de usuario y hacer este comando”). `sudo` se utiliza antepuesto a un comando que debe ejecutarse con privilegios de superusuario. Por ejemplo: \n",
    "```bash\n",
    "$ sudo chown newowner FILE\n",
    "```\n",
    "\n",
    "Se utiliza un fichero de configuración para definir qué usuarios pueden utilizar `sudo`, y qué comandos pueden ejecutar. Cuando se ejecuta, al usuario se le pide su propia contraseña, que se almacena en la memoria durante un período de tiempo (por defecto 15 minutos), por lo que si necesita ejecutar varios comandos de nivel de superusuario no se le pide continuamente que la escriba. En un sistema Ubuntu, el primer usuario creado cuando se instala el sistema se\n",
    "considera el superusuario."
   ]
  },
  {
   "cell_type": "markdown",
   "id": "44d3d1ef",
   "metadata": {},
   "source": [
    "## Consulta y manipulación del sistema de ficheros\n",
    "\n",
    "Los distintos entornos de escritorio que podemos encontrar en cualquier distribución de Linux actual cuentan con exploradores de ficheros que permiten interactuar con el sistema de ficheros mediante una interfaz de usuario gráfica (GUI) basada en ventanas y botones que nos permiten interactuar mediante el ratón. Si bien la interfaz que nos ofrece el shell no resulta tan intuitiva, merece la pena aprender los comandos de manejo del sistema de ficheros ya que estos nos ofrecen muchas más posibilidades de listado, búsqueda y manipulación, como veremos en este boletín.\n",
    "\n",
    "A la hora de aprender a utilizar los principales comandos de manipulación del sistema de ficheros, resulta fundamental tener presente los conceptos de rutas absolutas y relativas vistos en una práctica anterior, ya que esto nos permite explotar una poderosa propiedad de la línea de comandos: es posible operar con ficheros y directorios en ubicaciones totalmente diferentes sin importar en qué parte del sistema de ficheros nos encontremos.\n",
    "\n",
    "\n",
    "#### ¿Qué hay por aquí?\n",
    "\n",
    "Como vimos en una práctica anterior, el comando `ls` nos permite obtener diversa información sobre el contenido del sistema de ficheros. Si lo ejecutamos sin parámetros, este comando lista en formato “corto” las entradas del directorio de trabajo actual; en caso de que se le pasen como parámetro rutas a ficheros o directorios, `ls` mostrará el contenido de dichos directorios (o información sobre ficheros). Aunque existen muchas opciones a la hora de\n",
    "elegir qué información muestra ls y cómo lo hace (prueba a verlas con `man ls`), sin duda la opción más utilizada es `ls -l` (“ele”), que nos ofrece un “listado largo” con información detallada sobre cada entrada (fichero o directorio).\n",
    "\n",
    "\n",
    "Otras opciones habituales son: \n",
    "- `-a` (o `--all`), que lista todos los ficheros incluyendo los ficheros ocultos (cuyo nombre comienza por el carácter punto .).\n",
    "- `-R` (o `--recursive`), que lista recursivamente mostrando el contenido de todos los subdirectorios, a cualquier profundidad.\n",
    "- `-S`, que lista en orden de tamaño\n",
    "- `-t` , que lista en orden de fecha y hora de la última modificación."
   ]
  },
  {
   "attachments": {
    "image.png": {
     "image/png": "[encoded data removed]"
    }
   },
   "cell_type": "markdown",
   "id": "f13ac5bc",
   "metadata": {},
   "source": [
    "Como muestra la siguiente figura, en el listado en formato largo que obtenemos con `ls -l`, cada línea se corresponde con una entrada del directorio (fichero o directorio). \n",
    "\n",
    "![image.png](attachment:image.png)"
   ]
  },
  {
   "cell_type": "markdown",
   "id": "763064ea",
   "metadata": {},
   "source": [
    "Si la línea empieza por `d`, se trata de un directorio, si empieza por un guión (-) es un fichero (NOTA: hay más tipos de ficheros  por tanto más letras, pero quedan fuera del alcance de esta prácticas; continúa con los permisos; el número de enlaces físicos que tiene esa entrada; el usuario propietario del fichero (normalmente, el que lo creó); el grupo al que pertenece el fichero; el tamaño del fichero o directorio; su fecha y hora de última modificación y su nombre.\n",
    "\n",
    "\n",
    "Los permisos disponibles para cada entrada son 9, agrupados de 3 en 3. Los 3 grupos se refieren, respectivamente, al propietario del fichero, a los usuarios pertenecientes al grupo del fichero y por último al resto de usuarios del sistema. Para cada uno de esos grupos se definen 3 permisos, llamados de lectura (r), escritura (w) y ejecución (x).\n",
    "Volveremos sobre los permisos en el siguiente boletín.\n",
    "\n",
    "\n",
    "En el caso del tamaño de los directorios, cabe destacar que se refiere al tamaño que ocupa la lista de entradas (ficheros o directorios) que contiene, y no el tamaño de su contenido. De hecho, el tamaño de los directorios suele ser habitualmente 4 KiB, aunque puede crecer de 4 en 4 KiB dependiendo del número de entradas que contenga."
   ]
  },
  {
   "cell_type": "code",
   "execution_count": null,
   "id": "ea691a73",
   "metadata": {},
   "outputs": [],
   "source": [
    "mkdir -p /tmp/pruebas-bash/permisos"
   ]
  },
  {
   "cell_type": "code",
   "execution_count": null,
   "id": "3fc7c49b",
   "metadata": {},
   "outputs": [],
   "source": [
    "cd /tmp/pruebas-bash/permisos"
   ]
  },
  {
   "cell_type": "code",
   "execution_count": null,
   "id": "fff99920-9d93-4a38-b744-3b48bfb27fed",
   "metadata": {},
   "outputs": [],
   "source": [
    "# Ejecuta esta celda para crear algunos ficheros con distintos permisos\n",
    "\n",
    "echo \"Hola, mundo\" > hello\n",
    "echo '#!/bin/bash' > listadolargorecientes\n",
    "echo 'ls -lt' >> listadolargorecientes\n",
    "rm -f ficherosololectura\n",
    "echo '''¡¡Modifícame, si puedes!!' > ficherosololectura\n",
    "chmod a-w ficherosololectura\n",
    "chmod a+x listadolargorecientes\n",
    "ls -l /usr/bin > listadoprogramas\n",
    "rm -rf directorio1 directorio2\n",
    "mkdir -p directorio0 directorio1 directorio2\n",
    "for i in `seq 0 128` ; do touch directorio2/un_fichero_vacio_con_nombre_muy_largo_$i ; done\n",
    "for i in `seq 0 128` ; do touch directorio1/$i ; done"
   ]
  },
  {
   "cell_type": "markdown",
   "id": "458ff0a1",
   "metadata": {},
   "source": [
    "Como vemos a continuación, el shell suele colorear los directorios (azul), los ficheros ejecutables (verde) y otros ficheros regulares (tales como los archivadores `.zip`, en rojo) mientras que deja en el color por defecto los demás ficheros regulares."
   ]
  },
  {
   "cell_type": "code",
   "execution_count": null,
   "id": "c081008a-2045-4c0a-b86a-fdcbfc592635",
   "metadata": {},
   "outputs": [],
   "source": [
    "ls -l"
   ]
  },
  {
   "cell_type": "markdown",
   "id": "f15cc46f",
   "metadata": {},
   "source": [
    "**Para ejecutar un fichero, necesitamos anteponer la ruta exacta al mismo**, ya sea relativa o absoluta. Por ejemplo, para ejecutar el *shell script* `listadolargorecientes` que está en el directorio actual, teclearíamos:"
   ]
  },
  {
   "cell_type": "code",
   "execution_count": null,
   "id": "e241e98f",
   "metadata": {},
   "outputs": [],
   "source": [
    "ls -l listadolargorecientes"
   ]
  },
  {
   "cell_type": "code",
   "execution_count": null,
   "id": "ae423063",
   "metadata": {},
   "outputs": [],
   "source": [
    "cat listadolargorecientes"
   ]
  },
  {
   "cell_type": "code",
   "execution_count": null,
   "id": "7cc75c9c",
   "metadata": {},
   "outputs": [],
   "source": [
    "./listadolargorecientes"
   ]
  },
  {
   "cell_type": "markdown",
   "id": "77f1e1de",
   "metadata": {},
   "source": [
    "Los directorios, ya estén vacíos o tengan un número relativamente pequeño de ficheros, ocupan 4KiB. Una vez que **la lista** de ficheros que contienen se hace más larga, el directorio va creciendo de tamaño para albergar dicha lista. Recuerda que un directorio es simplemente una lista de ficheros, y que el **tamaño de un directorio NO tiene nada que ver con el tamaño de los ficheros que contiene**, sino con el nombre de dichos ficheros y su número. Por ejemplo, el directorio  `directorio2` creado anteriormente contiene únicamente ficheros vacíos. Dicha *lista* ocupa 12KiB a pesar de que los ficheros que hay en él no tienen contenido alguno."
   ]
  },
  {
   "cell_type": "code",
   "execution_count": null,
   "id": "d81e5ad6",
   "metadata": {},
   "outputs": [],
   "source": [
    "ls -l directorio2"
   ]
  },
  {
   "cell_type": "markdown",
   "id": "5db612db",
   "metadata": {},
   "source": [
    "Fíjate que `directorio1` contiene el mismo número de ficheros que `directorio2` (128 ficheros), y sin embargo su tamaño es igual al de `directorio0` (que está vacío). Como ves, el tamaño del directorio depende de los nombres de los ficheros que contiene, pero no de su contenido."
   ]
  },
  {
   "cell_type": "code",
   "execution_count": null,
   "id": "e140d3bd",
   "metadata": {},
   "outputs": [],
   "source": [
    "ls directorio1"
   ]
  },
  {
   "cell_type": "code",
   "execution_count": null,
   "id": "d924ec40",
   "metadata": {},
   "outputs": [],
   "source": [
    "ls -l"
   ]
  },
  {
   "cell_type": "markdown",
   "id": "748a9fbc",
   "metadata": {},
   "source": [
    "Podemos comprobar que tenemos permisos de lectura sobre un fichero mostrando su contenido con `cat`:"
   ]
  },
  {
   "cell_type": "code",
   "execution_count": null,
   "id": "33a58bda",
   "metadata": {},
   "outputs": [],
   "source": [
    "cat hello"
   ]
  },
  {
   "cell_type": "markdown",
   "id": "d6bfa324",
   "metadata": {},
   "source": [
    "Podemos comprobar que tenemos permisos de escritura sobre un fichero añadiendo una línea al final del mismo de esta forma:"
   ]
  },
  {
   "cell_type": "code",
   "execution_count": null,
   "id": "4c53bf11",
   "metadata": {},
   "outputs": [],
   "source": [
    "echo \"Hello, world, again!\""
   ]
  },
  {
   "cell_type": "code",
   "execution_count": null,
   "id": "d2258d1f",
   "metadata": {},
   "outputs": [],
   "source": [
    "# echo es un comando que imprime por pantalla lo que le pasemos\n",
    "# >> Es un operador de redirección de la salida (añade al final)\n",
    "# Entenderemos este comando mejor en sucesivos boletines\n",
    "echo \"Hello, world, again!\" >> hello"
   ]
  },
  {
   "cell_type": "code",
   "execution_count": null,
   "id": "527a74c4",
   "metadata": {},
   "outputs": [],
   "source": [
    "cat hello"
   ]
  },
  {
   "cell_type": "markdown",
   "id": "e9b8b36e",
   "metadata": {},
   "source": [
    "Sin embargo, si carecemos de permisos de escritura, la misma operación fallará:"
   ]
  },
  {
   "cell_type": "code",
   "execution_count": null,
   "id": "e5bd4b6a",
   "metadata": {},
   "outputs": [],
   "source": [
    "ls -l ficherosololectura"
   ]
  },
  {
   "cell_type": "code",
   "execution_count": null,
   "id": "12303e5d",
   "metadata": {},
   "outputs": [],
   "source": [
    "echo \"Hello, world, again!\" >> ficherosololectura"
   ]
  },
  {
   "cell_type": "markdown",
   "id": "ea1eba24",
   "metadata": {},
   "source": [
    "Algunas veces nos interesará hacer un listado *recursivo* de un directorio, que muestre su contenido y luego haga un listado recursivo de cada uno de los subdirectorios que contiene, y así sucesivamente, para mostrar todos los ficheros situados a cualquier profundidad."
   ]
  },
  {
   "cell_type": "code",
   "execution_count": null,
   "id": "13097744",
   "metadata": {},
   "outputs": [],
   "source": [
    "ls -R"
   ]
  },
  {
   "cell_type": "markdown",
   "id": "b14dce2d",
   "metadata": {},
   "source": [
    "### Uso de comodines\n",
    "\n",
    "Una de las capacidades destacadas que ofrece cualquier shell es la posibilidad de utilizar caracteres especiales, llamados comodines, para manejar muchos ficheros de nombre similar a la vez a la hora de pasar parámetros a los diferentes comandos. Podemos combinar comodines para obtener listados múltiples acotados, sin necesidad de teclear\n",
    "una a una todas las entradas deseadas. Los comodines pueden usarse en cualquier lugar de la línea de comandos, aunque lo más habitual es emplearlos en los listados a realizar con el comando ls visto en el apartado anterior (como en el comando `ls -l *.c *.h`, por ejemplo), o bien con comandos para copiar, mover o borrar archivos, que veremos un poco más adelante.\n",
    "El repertorio completo de comodines que utilizaremos es el siguiente:\n",
    "- `*` : Significa cero o más caracteres cualesquiera.\n",
    "- `?` : Un carácter cualquiera.\n",
    "- `[a-z]` : Cualquier carácter del rango indicado.\n",
    "- `[!b-d]` : Cualquier carácter que no esté en el rango indicado.\n",
    "- `{nom1,nom2,...}` : Cualquier secuencia de caracteres o nombres de la lista.\n",
    "\n",
    "\n",
    "Algunos ejemplos:\n",
    "- `*.{c,h}` : Recogería nombres como `pepe.c`, `f1.c`, `hola.h`, `antonio.h`, ...\n",
    "- `{fi1,fi2}.[a-c]` : Recogería los nombres `fi1.a`, `fi2.a`, `fi1.b`, `fi2.b`, `fi1.c`, `fi2.c`.\n",
    "- `*.?` : Recogería todos los ficheros con extensión de un carácter, como `f1.a`, `hola.c`, `adios.txt.c`, ...\n",
    "- `*.[!c]` : Recogería todos los ficheros con extensión de un carácter que no sea `c`, como `pepe.h`, `f1.a`, o `f2.z`, pero no `fichero`, `hola.doc` o `antonio.c`.\n",
    "\n",
    "Naturalmente, los comodines pueden también formar parte de una ruta arbitrariamente larga, como en el comando\n",
    "`ls -l ../../dir/p*.txt`, por ejemplo."
   ]
  },
  {
   "cell_type": "markdown",
   "id": "b1d647c8",
   "metadata": {},
   "source": [
    "#### <span style=\"color: blue;\">EJERCICIO</span>\n",
    "\n",
    "Ejecuta las siguientes celdas para generar un directorio con ficheros de prueba."
   ]
  },
  {
   "cell_type": "code",
   "execution_count": null,
   "id": "7771645e",
   "metadata": {},
   "outputs": [],
   "source": [
    "rm -rf /tmp/pruebas-bash/comodines\n",
    "mkdir -p /tmp/pruebas-bash/comodines\n",
    "cd /tmp/pruebas-bash/comodines"
   ]
  },
  {
   "cell_type": "code",
   "execution_count": null,
   "id": "c497b045",
   "metadata": {},
   "outputs": [],
   "source": [
    "# Ejecuta esta celda para crear algunos ficheros con distintos nombres\n",
    "for i in `seq 5 15` ; do touch file_$i.c ; done \n",
    "for i in `seq 8 12` ; do touch fichero_$i.c ; done\n",
    "for i in `seq 0 5` ; do touch archivo_$i.c ; done\n",
    "for i in `seq 0 5` ; do touch archivo_$i.cpp fichero_$i.cpp; done\n",
    "for i in `seq 0 5` ; do touch file_$i.h ; done\n",
    "for i in `seq 0 10` ; do touch $i.txt ; done\n",
    "touch test1.txt readme hello.py alfiletero.txt file_.c file_a.c file_ab.c\n",
    "cp /usr/bin/fi* ."
   ]
  },
  {
   "cell_type": "code",
   "execution_count": null,
   "id": "fc4872a5",
   "metadata": {},
   "outputs": [],
   "source": [
    "ls"
   ]
  },
  {
   "cell_type": "markdown",
   "id": "7d82b210",
   "metadata": {},
   "source": [
    " Ahora, a la vista del contenido del directorio actual, observa la salida de cada comando que usa comodines, y escribe el comando adecuado en las celdas vacías:"
   ]
  },
  {
   "cell_type": "code",
   "execution_count": null,
   "id": "9aaead52",
   "metadata": {},
   "outputs": [],
   "source": [
    "# Lista ficheros que empiecen por \"file\"\n",
    "# Recuerda: * equivale a *CERO* o más caracteres\n",
    "ls file*"
   ]
  },
  {
   "cell_type": "code",
   "execution_count": null,
   "id": "16eb8711",
   "metadata": {},
   "outputs": [],
   "source": [
    "# Lista los ficheros que terminen con el carácter \"h\"\n"
   ]
  },
  {
   "cell_type": "code",
   "execution_count": null,
   "id": "ac51f0cb",
   "metadata": {},
   "outputs": [],
   "source": [
    "# Lista los ficheros que contengan la cadena \".c\"\n"
   ]
  },
  {
   "cell_type": "code",
   "execution_count": null,
   "id": "2b6d14aa",
   "metadata": {},
   "outputs": [],
   "source": [
    "# Lista los ficheros que contengan las cadenas \"fi\" y \"ro\"\n"
   ]
  },
  {
   "cell_type": "code",
   "execution_count": null,
   "id": "7cf618ab",
   "metadata": {},
   "outputs": [],
   "source": [
    "ls file_?.c"
   ]
  },
  {
   "cell_type": "markdown",
   "id": "fc40d64c",
   "metadata": {},
   "source": [
    "¿Por qué no se muestra `file_10.c`?\n",
    "\n",
    "RESPUESTA:"
   ]
  },
  {
   "cell_type": "markdown",
   "id": "b8cae500",
   "metadata": {},
   "source": [
    "¿Por qué se muestra `file_a.c`?\n",
    "\n",
    "RESPUESTA:"
   ]
  },
  {
   "cell_type": "code",
   "execution_count": null,
   "id": "4b1b0194",
   "metadata": {},
   "outputs": [],
   "source": [
    "# Muestra únicamente los ficheros llamados \"file_\" seguidos #\n",
    "# de exactamente dos caracteres cualquiera, y acabados en \".c\"\n"
   ]
  },
  {
   "cell_type": "code",
   "execution_count": null,
   "id": "db2dabc1",
   "metadata": {},
   "outputs": [],
   "source": [
    "# Muestra únicamente los ficheros llamados \"file_\" seguidos #\n",
    "# de exactamente dos caracters numéricos, y acabados en \".c\"\n"
   ]
  },
  {
   "cell_type": "code",
   "execution_count": null,
   "id": "f05c53d4",
   "metadata": {},
   "outputs": [],
   "source": [
    "ls file_*.c"
   ]
  },
  {
   "cell_type": "markdown",
   "id": "efa5af52",
   "metadata": {},
   "source": [
    "¿Por qué se muestra `file_.c`?\n",
    "\n",
    "RESPUESTA:"
   ]
  },
  {
   "cell_type": "code",
   "execution_count": null,
   "id": "b57350ae",
   "metadata": {},
   "outputs": [],
   "source": [
    "# Lista los ficheros que empiecen por una letra cualquiera seguida de \"i\", \n",
    "# una cadena cualquiera y acaben con la letra p\n"
   ]
  },
  {
   "cell_type": "code",
   "execution_count": null,
   "id": "5858b280",
   "metadata": {},
   "outputs": [],
   "source": [
    "# Lista los ficheros que empiecen por \"file_5\" y acaben por una letra cualquiera\n",
    "ls file_5*"
   ]
  },
  {
   "cell_type": "code",
   "execution_count": null,
   "id": "2dfe6623",
   "metadata": {},
   "outputs": [],
   "source": []
  },
  {
   "cell_type": "code",
   "execution_count": null,
   "id": "f87736a7",
   "metadata": {},
   "outputs": [],
   "source": [
    "# Recuerda: * equivale a *CERO* o más caracteres\n",
    "ls file*.c"
   ]
  },
  {
   "cell_type": "code",
   "execution_count": null,
   "id": "b7a8249d",
   "metadata": {},
   "outputs": [],
   "source": [
    "# Trata de listar los ficheros cuyo nombre empiece con \"file\" seguido de un carácter exactamente. ¿Hay alguno?\n",
    "ls file?"
   ]
  },
  {
   "cell_type": "markdown",
   "id": "a7f40115",
   "metadata": {},
   "source": [
    "RESPUESTA: "
   ]
  },
  {
   "cell_type": "code",
   "execution_count": null,
   "id": "1c9df963",
   "metadata": {},
   "outputs": [],
   "source": [
    "# Lista los ficheros que acaban en .cpp\n"
   ]
  },
  {
   "cell_type": "code",
   "execution_count": null,
   "id": "48f11d47",
   "metadata": {},
   "outputs": [],
   "source": [
    "# Lista los ficheros que acaban en .cpp o en .h\n",
    "ls *.{cpp,h}"
   ]
  },
  {
   "cell_type": "code",
   "execution_count": null,
   "id": "99205948",
   "metadata": {},
   "outputs": [],
   "source": [
    "# Lista los ficheros que empiezan por \"file\" o \"fichero\" seguidos de \"_8.c\"\n"
   ]
  },
  {
   "cell_type": "code",
   "execution_count": null,
   "id": "2a490482",
   "metadata": {},
   "outputs": [],
   "source": [
    "# Lista los ficheros que empiezan por \"file\" o \"fichero\" seguidos de dos caracteres cualquiera y luego \".c\"\n"
   ]
  },
  {
   "cell_type": "code",
   "execution_count": null,
   "id": "353e2665",
   "metadata": {},
   "outputs": [],
   "source": [
    "# Lista los ficheros que contienen las cadenas \"fi\", \"chi\" o \"es\", y acaban en \"txt\" o en \"cpp\"\n"
   ]
  },
  {
   "cell_type": "markdown",
   "id": "61443166",
   "metadata": {},
   "source": [
    "¿Por qué crees que se muestran algunos mensajes de error en el comando anterior?\n",
    "\n",
    "RESPUESTA:"
   ]
  },
  {
   "cell_type": "code",
   "execution_count": null,
   "id": "9b92fc2d",
   "metadata": {},
   "outputs": [],
   "source": [
    "# Lista los ficheros que empiezan un número del 0 al 5\n",
    "ls [0-5]*"
   ]
  },
  {
   "cell_type": "code",
   "execution_count": null,
   "id": "8570a1e8",
   "metadata": {},
   "outputs": [],
   "source": [
    "# Lista los ficheros que contienen la cadena \"he\", \"re\" o \"le\"\n",
    "ls *[hlr]e*"
   ]
  },
  {
   "cell_type": "code",
   "execution_count": null,
   "id": "c86100a9",
   "metadata": {},
   "outputs": [],
   "source": [
    "# Lista los ficheros que empiezan por a o por f, y acaban por _3.c, _4.c, _5.c, _6.c, _7.c\n"
   ]
  },
  {
   "cell_type": "code",
   "execution_count": null,
   "id": "9631af10",
   "metadata": {},
   "outputs": [],
   "source": [
    "# Lista los ficheros que empiezan por cualquier letra de la m a la z\n"
   ]
  },
  {
   "cell_type": "code",
   "execution_count": null,
   "id": "2d7117ab",
   "metadata": {},
   "outputs": [],
   "source": [
    "# Lista los ficheros que empiezan por f o cualquier letra de la m a la z, y acaban por d o por t.\n"
   ]
  },
  {
   "cell_type": "code",
   "execution_count": null,
   "id": "2efc8d91",
   "metadata": {},
   "outputs": [],
   "source": [
    "# Lista los ficheros que NO empiezan por f y acaban en .c\n",
    "ls [!f]*.c"
   ]
  },
  {
   "cell_type": "code",
   "execution_count": null,
   "id": "dec2683b",
   "metadata": {},
   "outputs": [],
   "source": [
    "# Lista los ficheros que cuya primera letra sea la f o la h,\n",
    "# la segunda sea la i o la e, y la tercera sea la l o la n,\n",
    "# y acaben por cualquier cadena\n"
   ]
  },
  {
   "cell_type": "code",
   "execution_count": null,
   "id": "f63fe00e",
   "metadata": {},
   "outputs": [],
   "source": [
    "# Lista los ficheros que empiecen por \"file\" o \"hello\" y acaben con un carácter de la g a la z\n"
   ]
  },
  {
   "cell_type": "markdown",
   "id": "6b9fe5cc",
   "metadata": {},
   "source": [
    "Las rutas que acabamos de emplear con comodines son todas rutas relativas al directorio actual (los ficheros que manejamos están en dicho directorio, por eso no hemos antepuesto nada al nombre del fichero). No obstante, resulta posible utilizar comodines para cualquier ruta, ya sea absoluta o relativa, como podemos ver a continuación:"
   ]
  },
  {
   "cell_type": "code",
   "execution_count": null,
   "id": "60cf1ecc",
   "metadata": {},
   "outputs": [],
   "source": [
    "ls ../[Hh]*"
   ]
  },
  {
   "cell_type": "code",
   "execution_count": null,
   "id": "7bbc60d4",
   "metadata": {},
   "outputs": [],
   "source": [
    "cd /tmp/pruebas-bash"
   ]
  },
  {
   "cell_type": "code",
   "execution_count": null,
   "id": "f78bffb4",
   "metadata": {},
   "outputs": [],
   "source": [
    "ls comodines/fi*.h */directorio?/*10"
   ]
  },
  {
   "cell_type": "code",
   "execution_count": null,
   "id": "b884b553",
   "metadata": {},
   "outputs": [],
   "source": [
    "ls hol? */*.cpp"
   ]
  },
  {
   "cell_type": "code",
   "execution_count": null,
   "id": "5a84d093",
   "metadata": {},
   "outputs": [],
   "source": [
    "# Lista los ficheros cuyo nombre acabe en \".txt\" que estén situados \n",
    "# en los subdirectorios inmediatos cuyo nombre acabe en \"es\" o en \"os\"\n"
   ]
  },
  {
   "cell_type": "code",
   "execution_count": null,
   "id": "35ab698b",
   "metadata": {},
   "outputs": [],
   "source": [
    "# Lista los ficheros en cualquier subdirectorio inmediato del directorio actual, \n",
    "# cuyo nombre empiece por \"punto\" y tenga al menos 3 caracteres\n"
   ]
  },
  {
   "cell_type": "markdown",
   "id": "56ce0c6e",
   "metadata": {},
   "source": [
    "### ¿Qué hay dentro?\n",
    "\n",
    "El terminal nos permite también mostrar el contenido de los ficheros de texto sin necesidad de abrir un editor. Los comandos más útiles para ello son:\n",
    "\n",
    "- `cat fichero`: Muestra el contenido del fichero, de golpe, en el terminal.\n",
    "- `less fichero`: Muestra el contenido del fichero, con posibilidad de scroll bidireccional en el terminal, y búsqueda de palabras (con `/palabra` ). Para terminar de visualizarlo hay que pulsar la tecla `q`.\n",
    "- `hexdump -C archivo`: Vuelca el archivo en formato hexadecimal en el terminal. Éste comando es interesante porque permite también inspeccionar archivos binarios genéricos (no necesariamente de texto), por el terminal, muy al estilo del programa `okteta`."
   ]
  },
  {
   "cell_type": "markdown",
   "id": "f124e7d2",
   "metadata": {},
   "source": [
    "<span style=\"color: red;\"><B>RECUERDA</B>: ¡NO DEBES EJECUTAR \"less\" EN UN JUPYTER NOTEBOOK!</span> Dicho comando necesita leer su entrada de teclado (teclas para subir/bajar página, salir del visor, etc.), lo cual no es posible desde dentro de Jupyter. En caso de hacerlo, debes reiniciar el kernel desde el menú superior: *Kernel->Restart*"
   ]
  },
  {
   "cell_type": "code",
   "execution_count": null,
   "id": "532e1f94",
   "metadata": {},
   "outputs": [],
   "source": [
    "mkdir -p /tmp/pruebas-bash/visores\n",
    "cd /tmp/pruebas-bash/visores\n",
    "echo \"Hola, mundo\" > hello"
   ]
  },
  {
   "cell_type": "code",
   "execution_count": null,
   "id": "fbcc0499",
   "metadata": {},
   "outputs": [],
   "source": [
    "cat hello"
   ]
  },
  {
   "cell_type": "code",
   "execution_count": null,
   "id": "298d93af",
   "metadata": {},
   "outputs": [],
   "source": [
    "hexdump -C hello"
   ]
  },
  {
   "cell_type": "code",
   "execution_count": null,
   "id": "b82982f7",
   "metadata": {},
   "outputs": [],
   "source": [
    "# Prueba a ejecutar esta celda y verás cómo se queda indefinidamente \n",
    "# en ejecución [*]... (el kernel no termina de ejecutarla). A partir\n",
    "# de aquí ya no puedes ejecutar ninguna otra celda... Reinicia el kernel\n",
    "less hello"
   ]
  },
  {
   "cell_type": "markdown",
   "id": "19fc0a00",
   "metadata": {},
   "source": [
    "### Crear, copiar, mover y borrar ficheros y directorios\n",
    "\n",
    "A continuación se muestran los comandos más comunes para la creación (`touch`), copiado (`cp`), traslado (`mv`) y borrado (`rm`) de ficheros:\n",
    "- `touch nombre_fichero` : Crea un nuevo fichero llamado `nombre_fichero`, vacío, o si ya existía le cambia la fecha y hora de modificación a la actual sin modificar su contenido.\n",
    "- `cp fich_origen_1 [fich_origen_2 ...] fich_destino|dir_destino` : Copia un fichero a otra ubicación, ya sea manteniendo su nombre o con uno nuevo; o bien copia varios ficheros a un directorio, en este caso manteniendo sus nombres originales. También puede copiar directorios, incluyendo su contenido. Para ilustrar su uso, veamos varios ejemplos de utilización del comando `cp`. En los siguientes ejemplos, el directorio de trabajo actual contiene un directorio llamado `Escritorio`; por su parte, `/etc/hosts` y `/etc/hostname` son ficheros regulares, mientras que `/etc/init.d` es un directorio.\n",
    "    * `cp /etc/hosts Escritorio` : Copia el fichero /etc/hosts al directorio Escritorio (que está en el directorio actual), manteniendo su nombre. Si el fichero `Escritorio/hosts` ya existe,sobreescribe su contenido.\n",
    "    * `cp /etc/hosts Escritorio/hosts.backup` : Copia el fichero /etc/hosts al directorio `Escritorio`, con el nombre `hosts.backup`. Si ya existe un fichero con ese nombre, sobreescribe su contenido.\n",
    "    * `cp /etc/hosts escritorio/hosts.backup `: Error, el directorio destino escritorio no existe.\n",
    "    * `cp /etc/hosts /etc/hostname Escritorio `: Copia los ficheros hosts y hostname del directorio origen `/etc` al directorio destino `Escritorio` , manteniendo sus respectivos nombres.\n",
    "    * `cp /etc/hosts /etc/hostname Escritorio/hosts `: Error, el destino hosts debe ser un directorio ya que hay más de un fichero origen.\n",
    "    * `cp /etc/init.d /etc/hosts Escritorio` : Se omite la copia del directorio `init.d`, sin embargo sí se copia el fichero hosts al directorio destino.\n",
    "    * `cp -r /etc/init.d Escritorio` : Copia recursivamente todo el contenido del subdirectorio `init.d` al directorio destino.\n",
    "- `mv fichero_origen_1|dir_origen_1 [...] fichero_destino|dir_destino`: El comando mv es similar al comando cp, pero borra el(los) fichero(s) y/o directorio(s) de origen tras copiarlos. Podemos también usarlo para cambiar el nombre de un fichero o subdirectorio si tanto el origen como el\n",
    "destino están ubicados en el mismo directorio.\n",
    "- `rm fichero_1|directorio_1 ... `: El comando `rm` sirve para borrar ficheros o directorios."
   ]
  },
  {
   "cell_type": "markdown",
   "id": "edb7bacc",
   "metadata": {},
   "source": [
    "<span style=\"color: red;\"><B>ADVERTENCIA IMPORTANTE</B></span>. A diferencia de las interfaces gráficas, `rm` **no mueve los archivos a una carpeta llamada “Papelera” o similar**. En su lugar, los borra total, absoluta e irrevocablemente. Debes tener mucho cuidado con los parámetros que utilizas con `rm` para asegurarte de que sólo estás borrando el/los archivo/s que pretendes.\n",
    "\n",
    "Debes tener especial cuidado cuando utilices comodines, ya que es fácil borrar accidentalmente más archivos de los que pretendías. Un carácter de espacio erróneo en tu comando puede cambiarlo por completo: \n",
    "```bash\n",
    "$ rm t*\n",
    "```\n",
    "significa eliminar todos los archivos que empiezan por \"t\", mientras que este comando:"
   ]
  },
  {
   "cell_type": "markdown",
   "id": "184e5c2b",
   "metadata": {},
   "source": [
    "```bash\n",
    "$ rm t *\n",
    "```\n",
    "significa eliminar el archivo `t` así como cualquier archivo cuyo nombre esté formado por cero o más caracteres, *¡lo que sería todo en el directorio!* Si no estás seguro, utilice la opción `-i` (interactiva) de `rm`, que te pedirá que confirmes la eliminación de cada archivo; introduzca S para eliminarlo, N para conservarlo y pulse `Ctrl-C` para detener la operación por completo.\n",
    "\n",
    "En particular, **debes tener muchísimo cuidado al usar `rm -rf`** ya que esto borra de forma recursiva (-r), y sin confirmación (-f), los parámetros que se le pasan como parámetros (usualmente directorios)."
   ]
  },
  {
   "cell_type": "markdown",
   "id": "c1ec2601",
   "metadata": {},
   "source": [
    "#### Manipulando directorios\n",
    "\n",
    "En relación a la creación, borrado y copia de directorios, los comandos más relevantes son:\n",
    "- `mkdir directorio` : Crea un directorio vacío en la ruta designada o en el directorio actual.\n",
    "- `rmdir directorio` : Borra el directorio indicado, siempre que esté vacío. Si no, hay que borrar primero todas sus entradas, o bien simplemente usar el comando rm con la opción -r, como se indicó anteriormente.\n",
    "- `cp -r directorio_origen directorio_destino` : Copia el directorio origen en el directorio destino. También puede hacerse usando el comodín `*` dentro del directorio origen, pero para ello el directorio destino debe haber sido creado previamente."
   ]
  },
  {
   "cell_type": "markdown",
   "id": "01ceed7f",
   "metadata": {},
   "source": [
    "#### <span style=\"color: blue;\">EJERCICIO</span>\n",
    "\n",
    "Vamos a utilizar los ficheros de prueba que hemos generado anteriormente."
   ]
  },
  {
   "cell_type": "code",
   "execution_count": null,
   "id": "b1435712",
   "metadata": {},
   "outputs": [],
   "source": [
    "# Creamos una copia de respaldo, por si necesitamos repetir algún paso\n",
    "cp -r /tmp/pruebas-bash/ /tmp/pruebas-bash-backup"
   ]
  },
  {
   "cell_type": "code",
   "execution_count": null,
   "id": "7cb8bd18",
   "metadata": {},
   "outputs": [],
   "source": [
    "# Ejecuta esta celda si quieres repetir este ejercicio desde el principio\n",
    "rm -rf /tmp/pruebas-bash/\n",
    "cp -r /tmp/pruebas-bash-backup/ /tmp/pruebas-bash/\n",
    "cd /tmp/pruebas-bash/"
   ]
  },
  {
   "cell_type": "code",
   "execution_count": null,
   "id": "d63a4859",
   "metadata": {},
   "outputs": [],
   "source": [
    "ls"
   ]
  },
  {
   "cell_type": "code",
   "execution_count": null,
   "id": "0b351ede",
   "metadata": {},
   "outputs": [],
   "source": [
    "# Crea una copia del fichero \"hola\" en el mismo directorio, que se llame \"hello\".\n"
   ]
  },
  {
   "cell_type": "code",
   "execution_count": null,
   "id": "aef6b8d8",
   "metadata": {},
   "outputs": [],
   "source": [
    "# Haz un listado largo del directorio actual\n"
   ]
  },
  {
   "cell_type": "markdown",
   "id": "df565bac",
   "metadata": {},
   "source": [
    "¿Qué tamaño tiene el fichero creado?\n",
    "\n",
    "RESPUESTA: "
   ]
  },
  {
   "cell_type": "code",
   "execution_count": null,
   "id": "ecaea8a9",
   "metadata": {},
   "outputs": [],
   "source": [
    "# Copia el fichero \"hello\" que hay en \"permisos\" al directorio actual\n"
   ]
  },
  {
   "cell_type": "code",
   "execution_count": null,
   "id": "77055cd9",
   "metadata": {},
   "outputs": [],
   "source": [
    "# Haz un listado largo del directorio actual\n"
   ]
  },
  {
   "cell_type": "markdown",
   "id": "35faaa14",
   "metadata": {},
   "source": [
    "¿Qué tamaño tiene ahora el fichero `hello`?\n",
    "\n",
    "RESPUESTA:"
   ]
  },
  {
   "cell_type": "code",
   "execution_count": null,
   "id": "d90a0b27",
   "metadata": {},
   "outputs": [],
   "source": [
    "# Muestra el contenido del fichero hello\n"
   ]
  },
  {
   "cell_type": "markdown",
   "id": "dc8fccc9",
   "metadata": {},
   "source": [
    "¿Qué ha ocurrido con el fichero `hello` que era copia de `hola`?\n",
    "\n",
    "RESPUESTA: "
   ]
  },
  {
   "cell_type": "code",
   "execution_count": null,
   "id": "06034586",
   "metadata": {
    "scrolled": true
   },
   "outputs": [],
   "source": [
    "# Crea una copia del fichero \"hello\" (situado en \"permisos\"),\n",
    "# llamada \"hello2\"\n"
   ]
  },
  {
   "cell_type": "code",
   "execution_count": null,
   "id": "f1ae64e7",
   "metadata": {},
   "outputs": [],
   "source": [
    "# Renombra el fichero \"HOLA\", para que pase a llamarse \"empty\"\n"
   ]
  },
  {
   "cell_type": "code",
   "execution_count": null,
   "id": "ba24ad8b",
   "metadata": {},
   "outputs": [],
   "source": [
    "# Haz un listado del directorio actual\n"
   ]
  },
  {
   "cell_type": "markdown",
   "id": "f6420720",
   "metadata": {},
   "source": [
    "Observa los siguientes dos comandos, y luego ejecútalos. ¿Por qué el primero funciona y el segundo falla?"
   ]
  },
  {
   "cell_type": "code",
   "execution_count": null,
   "id": "f4915222",
   "metadata": {},
   "outputs": [],
   "source": [
    "cp hello hello2"
   ]
  },
  {
   "cell_type": "code",
   "execution_count": null,
   "id": "33c06162",
   "metadata": {},
   "outputs": [],
   "source": [
    "cp hello hello2 hello3"
   ]
  },
  {
   "cell_type": "markdown",
   "id": "b0897880",
   "metadata": {},
   "source": [
    "¿Qué hace el primer comando?\n",
    "\n",
    "RESPUESTA: \n",
    "\n",
    "¿Por qué falla el segundo comando?\n",
    "\n",
    "RESPUESTA: "
   ]
  },
  {
   "cell_type": "code",
   "execution_count": null,
   "id": "ae4e6616",
   "metadata": {},
   "outputs": [],
   "source": [
    "# Crea un directorio llamado \"saludo\"\n"
   ]
  },
  {
   "cell_type": "code",
   "execution_count": null,
   "id": "8548015a",
   "metadata": {},
   "outputs": [],
   "source": [
    "# Copia los ficheros \"hello\" y \"hello2\" al directorio \"saludo\"\n"
   ]
  },
  {
   "cell_type": "code",
   "execution_count": null,
   "id": "afb1b8f6",
   "metadata": {},
   "outputs": [],
   "source": [
    "ls saludo"
   ]
  },
  {
   "cell_type": "code",
   "execution_count": null,
   "id": "fe5ac0d5",
   "metadata": {},
   "outputs": [],
   "source": [
    "# Mueve el directorio \"saludo\" al directorio \"comodines\"\n"
   ]
  },
  {
   "cell_type": "code",
   "execution_count": null,
   "id": "e18222a9",
   "metadata": {},
   "outputs": [],
   "source": [
    "ls comodines"
   ]
  },
  {
   "cell_type": "code",
   "execution_count": null,
   "id": "ed8ca10e",
   "metadata": {},
   "outputs": [],
   "source": [
    "ls"
   ]
  },
  {
   "cell_type": "code",
   "execution_count": null,
   "id": "e5a1358c",
   "metadata": {},
   "outputs": [],
   "source": [
    "ls permisos"
   ]
  },
  {
   "cell_type": "code",
   "execution_count": null,
   "id": "befec71b",
   "metadata": {},
   "outputs": [],
   "source": [
    "# Copia el fichero \"ficherosololectura\" (situado en \"permisos\") \n",
    "# al directorio actual, de forma que la copia se llame \"readonly\"\n"
   ]
  },
  {
   "cell_type": "code",
   "execution_count": null,
   "id": "5aad0b9a",
   "metadata": {},
   "outputs": [],
   "source": [
    "# Copia los ficheros que empiecen por \"l\" situados en \"permisos\", al directorio \"saludo\"\n"
   ]
  },
  {
   "cell_type": "code",
   "execution_count": null,
   "id": "6ad677ea",
   "metadata": {},
   "outputs": [],
   "source": [
    "ls saludo"
   ]
  },
  {
   "cell_type": "code",
   "execution_count": null,
   "id": "383e91c8",
   "metadata": {},
   "outputs": [],
   "source": [
    "# Copia los directorios \"ocultos\" y \"visores\" al directorio \"saludo\" (PISTA: opción -r)\n"
   ]
  },
  {
   "cell_type": "code",
   "execution_count": null,
   "id": "2b2a01cf",
   "metadata": {},
   "outputs": [],
   "source": [
    "ls saludo"
   ]
  },
  {
   "cell_type": "code",
   "execution_count": null,
   "id": "89429610",
   "metadata": {},
   "outputs": [],
   "source": [
    "# Copia los fichero hola al directorio \"saludo\"\n"
   ]
  },
  {
   "cell_type": "code",
   "execution_count": null,
   "id": "3eb458f0",
   "metadata": {},
   "outputs": [],
   "source": [
    "ls"
   ]
  },
  {
   "cell_type": "code",
   "execution_count": null,
   "id": "3d24417d",
   "metadata": {},
   "outputs": [],
   "source": [
    "# Copia los ficheros que empiezan por h al directorio \"saludo\"\n"
   ]
  },
  {
   "cell_type": "code",
   "execution_count": null,
   "id": "899be55a",
   "metadata": {},
   "outputs": [],
   "source": [
    "# Mueve los ficheros que empiezan por H al directorio \"saludo\"\n"
   ]
  },
  {
   "cell_type": "code",
   "execution_count": null,
   "id": "8221de9c",
   "metadata": {},
   "outputs": [],
   "source": [
    "# Cambia el nombre del directorio \"saludo\" para que pase a llamarse \"greetings\"\n"
   ]
  },
  {
   "cell_type": "code",
   "execution_count": null,
   "id": "a3ee2fe9",
   "metadata": {},
   "outputs": [],
   "source": [
    "ls"
   ]
  },
  {
   "cell_type": "code",
   "execution_count": null,
   "id": "ebe750c5",
   "metadata": {},
   "outputs": [],
   "source": [
    "# Mueve el directorio \"greetings\" al directorio \"ocultos\", de forma que ahora se llame \".diroculto\"\n"
   ]
  },
  {
   "cell_type": "code",
   "execution_count": null,
   "id": "18e7043d",
   "metadata": {},
   "outputs": [],
   "source": [
    "# Borra los ficheros cuyo nombre tenga 4 letras, empiece por \"hol\" y acabe por a o A (usa comodines)\n"
   ]
  },
  {
   "cell_type": "code",
   "execution_count": null,
   "id": "af339021",
   "metadata": {},
   "outputs": [],
   "source": [
    "# Borra todos los ficheros que hay en el directorio \"visores\"\n"
   ]
  },
  {
   "cell_type": "code",
   "execution_count": null,
   "id": "25d253dc",
   "metadata": {},
   "outputs": [],
   "source": [
    "# Borra el directorio visores"
   ]
  },
  {
   "cell_type": "code",
   "execution_count": null,
   "id": "e84a448e",
   "metadata": {},
   "outputs": [],
   "source": [
    "# Borra los ficheros del directorio \"directorio1\" (situado dentro de \"permisos\")\n",
    "# cuyo nombre tenga tres caracteres cualquiera\n"
   ]
  },
  {
   "cell_type": "code",
   "execution_count": null,
   "id": "5d4f4ed6",
   "metadata": {},
   "outputs": [],
   "source": [
    "ls permisos/directorio1"
   ]
  },
  {
   "cell_type": "code",
   "execution_count": null,
   "id": "128a4248",
   "metadata": {},
   "outputs": [],
   "source": [
    "# Borra los ficheros del directorio \"directorio1\" (situado dentro de \"permisos\")\n",
    "# cuyo nombre sea un carácter numérico\n"
   ]
  },
  {
   "cell_type": "code",
   "execution_count": null,
   "id": "b73ccd59",
   "metadata": {},
   "outputs": [],
   "source": [
    "ls permisos/directorio1"
   ]
  },
  {
   "cell_type": "code",
   "execution_count": null,
   "id": "7b926d43",
   "metadata": {},
   "outputs": [],
   "source": [
    "# Trata de borrar el directorio \"directorio1\" (situado dentro de \"permisos\") con el comando de borrar directorio\n"
   ]
  },
  {
   "cell_type": "markdown",
   "id": "d7e513cf",
   "metadata": {},
   "source": [
    "¿Por qué no puedes borrar el directorio?\n",
    "\n",
    "RESPUESTA:"
   ]
  },
  {
   "cell_type": "code",
   "execution_count": null,
   "id": "2cf60897",
   "metadata": {},
   "outputs": [],
   "source": [
    "# Borra *recursivamente* el directorio \"directorio1\" (situado dentro de \"permisos\") \n"
   ]
  },
  {
   "cell_type": "code",
   "execution_count": null,
   "id": "d59c9a74",
   "metadata": {},
   "outputs": [],
   "source": [
    "# Muestra el contenido del directorio \"directorio0\" que hay en \"permisos\"\n"
   ]
  },
  {
   "cell_type": "code",
   "execution_count": null,
   "id": "0d597f60",
   "metadata": {},
   "outputs": [],
   "source": [
    "# Mueve los ficheros que acaban en \"txt\" del directorio \"comodines\" al directorio \"directorio1\"\n"
   ]
  }
 ],
 "metadata": {
  "kernelspec": {
   "display_name": "Bash",
   "language": "bash",
   "name": "bash"
  },
  "language_info": {
   "codemirror_mode": "shell",
   "file_extension": ".sh",
   "mimetype": "text/x-sh",
   "name": "bash"
  },
  "toc": {
   "base_numbering": 1,
   "nav_menu": {},
   "number_sections": true,
   "sideBar": true,
   "skip_h1_title": true,
   "title_cell": "Table of Contents",
   "title_sidebar": "Contents",
   "toc_cell": false,
   "toc_position": {
    "height": "calc(100% - 180px)",
    "left": "10px",
    "top": "150px",
    "width": "296px"
   },
   "toc_section_display": true,
   "toc_window_display": false
  }
 },
 "nbformat": 4,
 "nbformat_minor": 5
}
