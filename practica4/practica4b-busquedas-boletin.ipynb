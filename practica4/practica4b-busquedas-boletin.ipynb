{
 "cells": [
  {
   "cell_type": "markdown",
   "id": "8e983960",
   "metadata": {},
   "source": [
    "# Práctica 4b: Herramientas de gestión del sistema de ficheros. Búsquedas.\n",
    "\n",
    "## Objetivos\n",
    "\n",
    "El objetivo de este boletín de prácticas es familiarizar a los alumnos con varias herramientas básicas de la línea de comandos que forman parte del repertorio básico de cualquier usuario, y que permiten desde la gestión de la metainformación de los ficheros o la búsqueda avanzada en el sistema de ficheros, hasta la búsqueda por contenido, la compresión y archivado, o la monitorización del espacio en disco. También se introducirá por primera vez el concepto de enlace y sus tipos."
   ]
  },
  {
   "cell_type": "markdown",
   "id": "e9e35ab5",
   "metadata": {},
   "source": [
    "<font size=\"4\">  \n",
    "    <span style=\"color: red;\">No olvides configurar Git para usar tu nombre y apellido(s), y tu dirección de correo electrónico universitario antes de comenzar.\n",
    "    </span>\n",
    "</font>\n",
    "\n",
    "Edita las primeras líneas de la siguiente celda con tu nombre y email y ejecútala para configurar tu entorno Git antes de empezar."
   ]
  },
  {
   "cell_type": "code",
   "execution_count": null,
   "id": "3508aefa",
   "metadata": {},
   "outputs": [],
   "source": [
    "# Establece tu identidad\n",
    "git config --global user.name \"Nombre Apellido1 [Apellido2]\"\n",
    "git config --global user.email \"alumno@um.es\"\n",
    "\n",
    "# Establece el editor por defecto\n",
    "# para los mensajes de commit\n",
    "git config --global core.editor \"gedit\""
   ]
  },
  {
   "cell_type": "markdown",
   "id": "5ee0790b",
   "metadata": {},
   "source": [
    "<br>\n",
    "<font size=\"5\">  \n",
    "    <span style=\"color: red;\"><b>IMPORTANTE:</b><br> Añade este fichero a tu repositorio-bitácora \"fc-alumno\" <b>ANTES</b> de comenzar a realizar los ejercicios.\n",
    "    </span>\n",
    "</font>  \n",
    "<font size=\"4\">  \n",
    "    Sigue las instrucciones a continuación.\n",
    "</font>"
   ]
  },
  {
   "cell_type": "markdown",
   "id": "cb07ba90",
   "metadata": {},
   "source": [
    "Recuerda que para poder registrar tu trabajo en tu bitácora personal de prácticas, debes evitar trabajar en una copia de este *notebook* que no esté bajo control de versiones en Git en tu repositorio. Por ello, **ANTES DE REALIZAR NINGÚN CAMBIO en este fichero asegúrate de COLOCARLO DENTRO DIRECTORIO DE TU REPOSITORIO-BITÁCORA `fc-alumno`** y añadirlo al repositorio:\n",
    "1. Cierra esta pestaña del navegador sin guardar los cambios.\n",
    "2. Muévelo desde donde lo hayas descargado del AV (p.ej. `$HOME/Descargas`) al directorio donde tengas tu repositorio (se recomienda `$HOME/fc-alumno`).\n",
    "3. Añádelo al repositorio:\n",
    "    * `git add practica4b-busquedas-boletin.ipynb`\n",
    "    * `git commit -m \"Añadiendo el notebook del boletín de la práctica 4b (sin empezar)\"`"
   ]
  },
  {
   "cell_type": "markdown",
   "id": "55b352d2",
   "metadata": {},
   "source": [
    "## Gestión de los permisos\n",
    "\n",
    "Las operaciones que vimos en el boletín anterior de lectura y modificación de ficheros y directorios sólo se pueden realizar si disponemos de los permisos pertinentes sobre los ficheros o directorios involucrados. En esta sección veremos una explicación de los mismos, que varía de interpretación dependiendo de si los permisos se refieren a un fichero o un directorio.\n",
    "\n",
    "Los comandos relacionados con el cambio de permisos, usuarios y grupos son los siguientes:\n",
    "* `chmod 3_cifras_en_octal fichero|directorio` : Cambia permisos de ficheros o directorios. Como los permisos de propietario, de grupo y de resto de usuarios son tres para cada tipo, éstos se pueden\n",
    "designar con 3 cifras octales. Por ejemplo, `754 = 111 101 100 = rwx r-x r--`\n",
    "* `chown nuevo_propietario fichero|directorio` : Cambia el propietario de un fichero o directorio. Obviamente, se necesita ser superusuario para poder ejecutar con éxito este comando. Esta orden también\n",
    "permite cambiar el grupo propietario del fichero o directorio.\n",
    "* `chgrp nuevo_grupo fichero|directorio` : Cambia el grupo de un fichero o directorio. De nuevo, se necesita ser superusuario."
   ]
  },
  {
   "cell_type": "code",
   "execution_count": null,
   "id": "3334595c",
   "metadata": {},
   "outputs": [],
   "source": [
    "# Ejecuta esta celda para crear algunos \n",
    "# ficheros y directorios con distintos permisos\n",
    "chmod -Rf 700 /tmp/bash-gestion-permisos\n",
    "rm -rf /tmp/bash-gestion-permisos\n",
    "mkdir -p /tmp/bash-gestion-permisos\n",
    "cd /tmp/bash-gestion-permisos"
   ]
  },
  {
   "cell_type": "markdown",
   "id": "33405229",
   "metadata": {},
   "source": [
    "\n",
    "### Permisos en ficheros\n",
    "\n",
    "El significado de los permisos de lectura y escritura es obvio.\n",
    "* **Lectura**. El permiso de lectura nos permite acceder al contenido del fichero con una orden o un editor de texto.\n",
    "* **Escritura**. Si carecemos de permiso de escritura no se habilitará en el menú de éste la opción de salvar fichero (si lo abrimos con el editor de texto desde el explorador de archivos). Tampoco podremos escribir en el mismo usando el operador de redirección (`>` ó `>>`)\n",
    "* **Ejecución**.  El permiso de ejecución se le añade al fichero sólo cuando éste es un programa ejecutable o cuando, después de editar un fichero con un editor de texto ASCII plano, queremos que éste se ejecute como un *script* (también llamado \"guión shell\")."
   ]
  },
  {
   "cell_type": "code",
   "execution_count": null,
   "id": "7f47ad81-04d0-441b-bb52-b69664a26e13",
   "metadata": {},
   "outputs": [],
   "source": [
    "echo \"Nobody can see this!\" > file_noaccess"
   ]
  },
  {
   "cell_type": "code",
   "execution_count": null,
   "id": "435e8ec7-3673-41b7-897a-b00afa95763b",
   "metadata": {},
   "outputs": [],
   "source": [
    "ll file_noaccess"
   ]
  },
  {
   "cell_type": "code",
   "execution_count": null,
   "id": "3469a462-0a4c-4b64-9772-98fec74bb40d",
   "metadata": {},
   "outputs": [],
   "source": [
    "# Quitamos todos los permisos a todo el mundo\n",
    "chmod 000 file_noaccess"
   ]
  },
  {
   "cell_type": "code",
   "execution_count": null,
   "id": "5abd0fe1-7b3e-4e88-9bee-b5443a7861d0",
   "metadata": {},
   "outputs": [],
   "source": [
    "ll file_noaccess"
   ]
  },
  {
   "cell_type": "code",
   "execution_count": null,
   "id": "d9a0c7d0",
   "metadata": {},
   "outputs": [],
   "source": [
    "cat file_noaccess"
   ]
  },
  {
   "cell_type": "code",
   "execution_count": null,
   "id": "f70e842f-98cd-4117-80d5-2ec6fef72168",
   "metadata": {},
   "outputs": [],
   "source": [
    "echo \"Un fichero cualquiera\" > file_regular"
   ]
  },
  {
   "cell_type": "code",
   "execution_count": null,
   "id": "eba50245-24c5-4912-9a3e-4c40d46d2940",
   "metadata": {},
   "outputs": [],
   "source": [
    "ll file_regular"
   ]
  },
  {
   "cell_type": "code",
   "execution_count": null,
   "id": "6bbd1eec-5d3e-4547-82a6-053705c85730",
   "metadata": {},
   "outputs": [],
   "source": [
    "chmod 644 file_regular"
   ]
  },
  {
   "cell_type": "code",
   "execution_count": null,
   "id": "731e7bb5-fe75-4bdc-9ded-4ffe7aeb16a3",
   "metadata": {},
   "outputs": [],
   "source": [
    "echo \"con varias líneas\" >> file_regular"
   ]
  },
  {
   "cell_type": "code",
   "execution_count": null,
   "id": "10c50f71",
   "metadata": {},
   "outputs": [],
   "source": [
    "cat file_regular"
   ]
  },
  {
   "cell_type": "code",
   "execution_count": null,
   "id": "9c7b8fb8-cadd-45f4-a882-b504697c92d4",
   "metadata": {},
   "outputs": [],
   "source": [
    "ll file_regular"
   ]
  },
  {
   "cell_type": "code",
   "execution_count": null,
   "id": "ed24aa8b",
   "metadata": {},
   "outputs": [],
   "source": [
    "cat file_regular"
   ]
  },
  {
   "cell_type": "code",
   "execution_count": null,
   "id": "67b422da-a82a-42a8-a135-d2c006758d82",
   "metadata": {},
   "outputs": [],
   "source": [
    "echo \"Edit me if you can\" > file_readonly\n"
   ]
  },
  {
   "cell_type": "code",
   "execution_count": null,
   "id": "536b70a2-0db3-4611-878a-292773a11870",
   "metadata": {},
   "outputs": [],
   "source": [
    "chmod 444 file_readonly"
   ]
  },
  {
   "cell_type": "code",
   "execution_count": null,
   "id": "1bb9cb18-47ed-4621-a532-5ab4737c998a",
   "metadata": {},
   "outputs": [],
   "source": [
    "ll file_readonly"
   ]
  },
  {
   "cell_type": "code",
   "execution_count": null,
   "id": "efa6db48",
   "metadata": {},
   "outputs": [],
   "source": [
    "echo \"Can't write to this file!\" >> file_readonly"
   ]
  },
  {
   "cell_type": "code",
   "execution_count": null,
   "id": "f1d8430b",
   "metadata": {},
   "outputs": [],
   "source": [
    "ls -l file*"
   ]
  },
  {
   "cell_type": "code",
   "execution_count": null,
   "id": "76fe64ba",
   "metadata": {},
   "outputs": [],
   "source": [
    "./file_regular"
   ]
  },
  {
   "cell_type": "code",
   "execution_count": null,
   "id": "f36b6dcf-1ade-4011-bf1e-46a45c969b24",
   "metadata": {},
   "outputs": [],
   "source": [
    "echo '#!/bin/bash' > file_roexecutable\n",
    "echo 'echo \"Hello world\"' >> file_roexecutable"
   ]
  },
  {
   "cell_type": "code",
   "execution_count": null,
   "id": "dd8c6b3a",
   "metadata": {},
   "outputs": [],
   "source": [
    "cat file_roexecutable"
   ]
  },
  {
   "cell_type": "code",
   "execution_count": null,
   "id": "68103ad3-0a68-4a0c-933d-b6a23a466a85",
   "metadata": {},
   "outputs": [],
   "source": [
    "ll file_roexecutable"
   ]
  },
  {
   "cell_type": "code",
   "execution_count": null,
   "id": "6824d7b2-80e7-42f3-9568-ac59880e2cc9",
   "metadata": {},
   "outputs": [],
   "source": [
    "chmod 554 file_roexecutable"
   ]
  },
  {
   "cell_type": "code",
   "execution_count": null,
   "id": "672ef1cd-65aa-4941-beb6-eab5f81b5ffc",
   "metadata": {},
   "outputs": [],
   "source": [
    "ll file_roexecutable"
   ]
  },
  {
   "cell_type": "markdown",
   "id": "27fc9199",
   "metadata": {},
   "source": [
    "Recuerda: Para ejecutar un fichero debes indicar su ruta completa, ya sea de forma relativa al directorio de trabajo actual o bien la ruta absoluta. Si el fichero a ejecutar está situado en el directorio actual, entonces debes indicarlo explícitamente anteponiendo `./` al nombre del fichero. De lo contrario, el *shell* interpretará que el programa que quieres ejecutar está en el `PATH`, es decir, en alguno de los directorios en los que por defecto se ubican los programas instalados para todos los usuarios (p.ej., `/usr/bin`, etc.). En el próximo boletín de prácticas veremos esto (concepto de `PATH` con más detalle)."
   ]
  },
  {
   "cell_type": "code",
   "execution_count": null,
   "id": "e00c5935",
   "metadata": {},
   "outputs": [],
   "source": [
    "# Si no indicamos la ruta, el shell no será capaz de encontrar el fichero a ejecutar\n",
    "file_roexecutable"
   ]
  },
  {
   "cell_type": "code",
   "execution_count": null,
   "id": "1648ce71",
   "metadata": {},
   "outputs": [],
   "source": [
    "./file_roexecutable"
   ]
  },
  {
   "cell_type": "code",
   "execution_count": null,
   "id": "0f58cd78",
   "metadata": {},
   "outputs": [],
   "source": [
    "ls -l /usr/bin/cat"
   ]
  },
  {
   "cell_type": "code",
   "execution_count": null,
   "id": "20b3fd91",
   "metadata": {},
   "outputs": [],
   "source": [
    "# Creamos una copia del programa \"cat\", llamada \"mostrar_fichero\", ubicada en el directorio actual:\n",
    "cp /usr/bin/cat ./mostrar_fichero"
   ]
  },
  {
   "cell_type": "code",
   "execution_count": null,
   "id": "75fbf827",
   "metadata": {},
   "outputs": [],
   "source": [
    "ls -l"
   ]
  },
  {
   "cell_type": "code",
   "execution_count": null,
   "id": "30b610e2",
   "metadata": {},
   "outputs": [],
   "source": [
    "# Se trata de un fichero que contiene un programa en código máquina, y con permisos de ejecución...\n",
    "./mostrar_fichero file_regular"
   ]
  },
  {
   "cell_type": "markdown",
   "id": "f1b6e16f",
   "metadata": {},
   "source": [
    "Aunque se permite cualquier combinación de los tres permisos, habitualmente un fichero tiene permiso de sólo lectura, o de lectura y también de escritura, o de lectura y ejecución, o de lectura, escritura y ejecución. Es atípico que un fichero sólo tenga permiso de escritura, pues su carencia del permiso de lectura impide que el editor lo lea (*la escritura en estos ficheros podría hacerse en cualquier caso, por ejemplo, con una orden redireccionada al fichero, como veremos en un boletín de prácticas posterior*)."
   ]
  },
  {
   "cell_type": "markdown",
   "id": "794d4483",
   "metadata": {},
   "source": [
    "### Permisos en directorios\n",
    "\n",
    "Aquí el significado de los permisos no es tan obvio. \n",
    "\n",
    "* **Lectura**. El permiso de lectura permite conocer las entradas del directorio, por ejemplo realizando un listado de su contenido.\n",
    "* **Escritura**. El permiso de escritura permite modificar las entradas al directorio (por ejemplo crear, borrar o renombrar ficheros o directorios dentro de él). \n",
    "* **Ejecución**. Finalmente, el permiso de ejecución permite entrar dentro de un directorio (por ejemplo con el comando `cd directorio`) o utilizar este directorio en programas que necesiten acceder a sus contenidos como por ejemplo en búsquedas realizadas con el comando `find`.\n",
    "  \n",
    "> **IMPORTANTE:** Los permisos de lectura y escritura del directorio, respectivamente,  **no tienen relación con la lectura y modificación del contenido en sí de los ficheros** ubicados en dicho directorio, puesto que éstos son permisos propios de cada fichero individual. \n"
   ]
  },
  {
   "cell_type": "code",
   "execution_count": null,
   "id": "9644ac01-bd18-4792-b30a-5edcdf0cd9e9",
   "metadata": {},
   "outputs": [],
   "source": [
    "# Creamos 5 directorios\n",
    "mkdir -p dir1 dir2 dir3 dir4 dir5\n",
    "# Creamos ficheros vacíos en 4 de ellos\n",
    "touch dir1/onefile\n",
    "touch dir2/anotherfile\n",
    "touch dir3/yetanotherfile\n",
    "touch dir4/unfichero"
   ]
  },
  {
   "cell_type": "code",
   "execution_count": null,
   "id": "4fd7ad22",
   "metadata": {},
   "outputs": [],
   "source": [
    "ls -ld dir* # La opción -d de ls es para listar los directorios mismos, en vez de su contenido"
   ]
  },
  {
   "cell_type": "code",
   "execution_count": null,
   "id": "8652c7f5-b768-4d64-b58e-71c4455960d8",
   "metadata": {},
   "outputs": [],
   "source": [
    "chmod 750 dir2"
   ]
  },
  {
   "cell_type": "code",
   "execution_count": null,
   "id": "e0b2d466-af90-4516-826b-ddb6b14ca161",
   "metadata": {},
   "outputs": [],
   "source": [
    "# dir2 es ahora inaccesible al resto de usuarios, y miembros del grupo no pueden modificarlo\n",
    "ls -ld dir2 "
   ]
  },
  {
   "cell_type": "code",
   "execution_count": null,
   "id": "0e0b12b4-e4fa-4d26-a9fd-76bcffac558d",
   "metadata": {},
   "outputs": [],
   "source": [
    "chmod 500 dir3"
   ]
  },
  {
   "cell_type": "code",
   "execution_count": null,
   "id": "11941798-7b3f-4efd-954d-c60145165377",
   "metadata": {},
   "outputs": [],
   "source": [
    "# dir3 es un directorio de solo lectura para el propietario, sin acceso para el resto\n",
    "ls -ld dir3 "
   ]
  },
  {
   "cell_type": "code",
   "execution_count": null,
   "id": "4fd00e15",
   "metadata": {},
   "outputs": [],
   "source": [
    "# yetanotherfile es un fichero en blanco con permisos rw\n",
    "cat dir3/yetanotherfile"
   ]
  },
  {
   "cell_type": "code",
   "execution_count": null,
   "id": "0fd913af",
   "metadata": {},
   "outputs": [],
   "source": [
    "rm dir3/yetanotherfile"
   ]
  },
  {
   "cell_type": "markdown",
   "id": "4cdfc5fe",
   "metadata": {},
   "source": [
    "Como vemos, el fichero no se puede eliminar porque el directorio `dir3` es de sólo lectura. *RECUERDA: un directorio es **una lista** de ficheros/directorios*. En este caso, sólo podemos leer la lista pero no quitar elementos de dicha lista.\n",
    "\n",
    "Lo que sí podemos hacer es **modificar el contenido** de ficheros que estén en directorios de sólo lectura, siempre que dichos ficheros tengan los permisos de escritura, como en este caso."
   ]
  },
  {
   "cell_type": "code",
   "execution_count": null,
   "id": "048f2cbd",
   "metadata": {},
   "outputs": [],
   "source": [
    "echo \"Hola\" > dir3/yetanotherfile"
   ]
  },
  {
   "cell_type": "code",
   "execution_count": null,
   "id": "92afb461",
   "metadata": {},
   "outputs": [],
   "source": [
    "# El *CONTENIDO* de yetanotherfile puede ser modificado!\n",
    "cat dir3/yetanotherfile"
   ]
  },
  {
   "cell_type": "code",
   "execution_count": null,
   "id": "a2195c58-8ca2-43da-8991-34f736b42ee4",
   "metadata": {},
   "outputs": [],
   "source": [
    "# dir4 es un directorio al que ni siquiera el propietario se puede cambiar con \"cd\"\n",
    "chmod 400 dir4"
   ]
  },
  {
   "cell_type": "code",
   "execution_count": null,
   "id": "2e914262-7cb6-4335-8aec-0fe7d785a499",
   "metadata": {},
   "outputs": [],
   "source": [
    "ls -ld dir4"
   ]
  },
  {
   "cell_type": "code",
   "execution_count": null,
   "id": "d2d4d4a5",
   "metadata": {},
   "outputs": [],
   "source": [
    "# No podemos cambiarnos a dir4\n",
    "cd dir4"
   ]
  },
  {
   "cell_type": "code",
   "execution_count": null,
   "id": "55507d6b",
   "metadata": {},
   "outputs": [],
   "source": [
    "# Pero sí podemos mostrar el nombre de los ficheros que contiene\n",
    "ls dir4"
   ]
  },
  {
   "cell_type": "code",
   "execution_count": null,
   "id": "4bf8f736",
   "metadata": {},
   "outputs": [],
   "source": [
    "# Sin embargo no podemos acceder al contenido de los ficheros sin permiso de ejecución en el directorio\n",
    "cat dir4/unfichero"
   ]
  },
  {
   "cell_type": "markdown",
   "id": "ab32cd23",
   "metadata": {},
   "source": [
    "Lo normal para un directorio será que tenga los permisos de lectura, escritura y ejecución (`rwx`) para el propietario del fichero, y los permisos de lectura y ejecución (`r-x`) para el resto (grupo propietario y resto de usuarios). En caso de que fuese necesario, podríamos evitar que el resto de usuarios que no sean del grupo al que pertenece el fichero tenga acceso al directorio, como vemos a continuación."
   ]
  },
  {
   "cell_type": "code",
   "execution_count": null,
   "id": "78c3da79-0ce6-4002-beeb-6018ddee2183",
   "metadata": {},
   "outputs": [],
   "source": [
    "# dir5 es un directorio sin ningún tipo de acceso\n",
    "chmod 000 dir5"
   ]
  },
  {
   "cell_type": "code",
   "execution_count": null,
   "id": "6a4f4d7a",
   "metadata": {},
   "outputs": [],
   "source": [
    "ls -ld dir5"
   ]
  },
  {
   "cell_type": "markdown",
   "id": "efe696b0-6917-43a5-bc67-efde5e95b6d1",
   "metadata": {},
   "source": [
    "No es posible acceder a directorios sobre los que no tengamos permisos de ejecución:"
   ]
  },
  {
   "cell_type": "code",
   "execution_count": null,
   "id": "3366b63e",
   "metadata": {},
   "outputs": [],
   "source": [
    "cd dir5"
   ]
  },
  {
   "cell_type": "markdown",
   "id": "85c3775e",
   "metadata": {},
   "source": [
    "Habitualmente se suelen habilitar los permisos de escritura y ejecución conjuntamente si queremos dar permisos para borrar entradas o crear nuevas. La habilitación de sólo el permiso de lectura de un directorio nos permite\n",
    "conocer sus entradas (nombres de ficheros y directorios) pero nada más (ni permisos, ni fechas, ni tamaños,\n",
    "etc.). Como vemos a continuación, tener exclusivamente permiso de lectura sobre un directorio no basta para poder acceder a los ficheros del directorio:"
   ]
  },
  {
   "cell_type": "markdown",
   "id": "a80b75b6",
   "metadata": {},
   "source": [
    "#### <span style=\"color: blue;\">EJERCICIO</span>"
   ]
  },
  {
   "cell_type": "code",
   "execution_count": null,
   "id": "08c5002e",
   "metadata": {},
   "outputs": [],
   "source": [
    "# Haz un listado largo del directorio actual"
   ]
  },
  {
   "cell_type": "markdown",
   "id": "9d010387",
   "metadata": {},
   "source": [
    "- Modifica los permisos del fichero `file-regular` para que sólo el propietario pueda modificar su contenido, mientras que el resto pueda únicamente leerlo."
   ]
  },
  {
   "cell_type": "code",
   "execution_count": null,
   "id": "22f4ff00",
   "metadata": {},
   "outputs": [],
   "source": []
  },
  {
   "cell_type": "markdown",
   "id": "6c2ac85a",
   "metadata": {},
   "source": [
    "- Modifica los permisos del fichero `file-readonly` para que sólo el propietario pueda ver su contenido, mientras que el resto no tenga ningún tipo de acceso al mismo."
   ]
  },
  {
   "cell_type": "code",
   "execution_count": null,
   "id": "bc36a5fd",
   "metadata": {},
   "outputs": [],
   "source": []
  },
  {
   "cell_type": "markdown",
   "id": "434e6f9a",
   "metadata": {},
   "source": [
    "- Modifica los permisos del fichero `file-roexecutable` para que cualquier usuario de la máquina pueda verlo y ejecutarlo."
   ]
  },
  {
   "cell_type": "code",
   "execution_count": null,
   "id": "cf5550e1",
   "metadata": {},
   "outputs": [],
   "source": []
  },
  {
   "cell_type": "markdown",
   "id": "33394cb0",
   "metadata": {},
   "source": [
    "- Modifica los permisos del directorio `dir3` para que el propietario pueda añadir nuevos ficheros al mismo y los miembros del grupo puedan acceder a dicho directorio y ver su contenido."
   ]
  },
  {
   "cell_type": "code",
   "execution_count": null,
   "id": "8c369e8b",
   "metadata": {},
   "outputs": [],
   "source": []
  },
  {
   "cell_type": "markdown",
   "id": "d216fb7a",
   "metadata": {},
   "source": [
    "- (ESTE EJERCICIO REQUIERE ACCESO COMO ADMINISTRADOR DEL SISTEMA; sólo puede realizarse en una máquina virtual o instalación propia de Linux). Abre un terminal y conviérte en superusuario con `sudo su`; si estás en la máquina virtual proporcionada por los profesores de la asignatura, la contraseña de `root` es \"alumno\". Después, ejecuta los siguientes comandos para crear sendos ficheros. Fíjate que el *prompt* termina por almohadilla (`#`) en vez de dólar (`$`), para advertirte del peligro:\n",
    "```\n",
    "# cd /home/alumno\n",
    "# echo \"hola, soy el superusuario\" > fichero_de_root\n",
    "# touch file_touched_by_root\n",
    "\n",
    "```\n"
   ]
  },
  {
   "cell_type": "markdown",
   "id": "990fefd5",
   "metadata": {},
   "source": [
    "- En otro terminal distinto o en este notebook, como usuario `alumno`, haz un listado (formato largo) de los ficheros del directorio personal cuyo nombre acabe en \"root\":"
   ]
  },
  {
   "cell_type": "code",
   "execution_count": null,
   "id": "c0aea636",
   "metadata": {},
   "outputs": [],
   "source": [
    "ls -l ~/*root"
   ]
  },
  {
   "cell_type": "markdown",
   "id": "f0487f2e-521e-4beb-b3f5-28bf4227476e",
   "metadata": {},
   "source": [
    "¿Quién es el propietario del fichero `fichero_de_root`? ¿Y el grupo? ¿Qué permisos tiene el resto de usuarios?\n",
    "\n",
    "RESPUESTA:"
   ]
  },
  {
   "cell_type": "markdown",
   "id": "e070819b",
   "metadata": {},
   "source": [
    "- Prueba a mostrar el contenido del fichero y luego a modificarlo. ¿Puedes verlo? ¿Y modificarlo? ¿Por qué?\n",
    "\n",
    "RESPUESTA:"
   ]
  },
  {
   "cell_type": "code",
   "execution_count": null,
   "id": "c6993245",
   "metadata": {},
   "outputs": [],
   "source": [
    "cat ~/fichero_de_root"
   ]
  },
  {
   "cell_type": "code",
   "execution_count": null,
   "id": "343954a8",
   "metadata": {},
   "outputs": [],
   "source": [
    "echo \"otra línea más\" >> ~/fichero_de_root"
   ]
  },
  {
   "cell_type": "markdown",
   "id": "69617839",
   "metadata": {},
   "source": [
    "- En la terminal donde estás *logueado* como administrador:\n",
    "    1. Cambia el grupo del fichero `fichero_de_root` para que pase a ser del grupo `alumno` (en Ubuntu, hay un grupo llamado de forma idéntica al nombre de un usuario). \n",
    "    2. Cambia los permisos de dicho fichero para que los miembros del grupo puedan modificarlo.\n",
    "    3. Haz un listado largo del fichero para comprobar los cambios:"
   ]
  },
  {
   "cell_type": "code",
   "execution_count": null,
   "id": "b09d27ab-81d9-4cf9-bd1d-89825ab8b1d7",
   "metadata": {},
   "outputs": [],
   "source": [
    "ls -l ~/*root"
   ]
  },
  {
   "cell_type": "markdown",
   "id": "d00763da",
   "metadata": {},
   "source": [
    "- Ahora, prueba a modificar el fichero de nuevo en la terminal donde eres usuario `alumno` (o en este *notebook*): "
   ]
  },
  {
   "cell_type": "code",
   "execution_count": null,
   "id": "b0330097",
   "metadata": {},
   "outputs": [],
   "source": [
    "echo \"otra línea más\" >> ~/fichero_de_root"
   ]
  },
  {
   "cell_type": "code",
   "execution_count": null,
   "id": "633f79b2",
   "metadata": {},
   "outputs": [],
   "source": [
    "cat ~/fichero_de_root"
   ]
  },
  {
   "cell_type": "markdown",
   "id": "b671cb56-354d-4caf-a266-22686c1f2204",
   "metadata": {},
   "source": [
    "¿Has conseguido modificar el contenido del fichero? ¿Por qué?\n",
    "\n",
    "RESPUESTA:"
   ]
  },
  {
   "cell_type": "markdown",
   "id": "3b458144",
   "metadata": {},
   "source": [
    "- Intenta borrar el fichero `file_touched_by_root` (cuyo propietario es `root`) ejecutando la siguiente celda:"
   ]
  },
  {
   "cell_type": "code",
   "execution_count": null,
   "id": "494d1c26",
   "metadata": {},
   "outputs": [],
   "source": [
    "rm -f ~/file_touched_by_root # Necesitamos la opción -f para evitar que el shell pida confirmación (ya que es de sólo lectura)"
   ]
  },
  {
   "cell_type": "code",
   "execution_count": null,
   "id": "809b4ab4-83bf-40a8-98c6-8aab5b07190b",
   "metadata": {},
   "outputs": [],
   "source": [
    "ls ~/*root"
   ]
  },
  {
   "cell_type": "markdown",
   "id": "e9d0d96c",
   "metadata": {},
   "source": [
    "¿Has conseguido borrarlo? ¿Por qué?\n",
    "\n",
    "RESPUESTA:"
   ]
  },
  {
   "cell_type": "markdown",
   "id": "92237bac",
   "metadata": {},
   "source": [
    "- Finalmente, en la terminal donde eres administrador, cambia el propietario del fichero `fichero_de_root` para que pase a ser `alumno`. Confirma que el propietario ha cambiado mediante un listado largo. **No olvides cerrar la sesión abierta como `root` mediante el comando `exit` al terminar de hacer este ejercicio.**"
   ]
  },
  {
   "cell_type": "code",
   "execution_count": null,
   "id": "ef35017d-04e1-4d0d-bb07-425657cab290",
   "metadata": {},
   "outputs": [],
   "source": [
    "ls -l ~/fichero_de_root"
   ]
  },
  {
   "cell_type": "markdown",
   "id": "57c5b583",
   "metadata": {},
   "source": [
    "## Búsqueda de ficheros por sus metadatos\n"
   ]
  },
  {
   "cell_type": "markdown",
   "id": "6f9aac64",
   "metadata": {},
   "source": [
    "Una tarea muy frecuente en el manejo del SO es encontrar la ubicación de ficheros o directorios que coincidan con ciertos criterios de búsqueda basados en los metadatos de los ficheros a encontrar: su nombre, tipo, tamaño, propietario, fecha de última modificación, etc. Una orden de Linux muy útil para ello es `find`, que nos permite realizar búsquedas con mucha precisión. El comando `find` busca recursivamente entradas (ficheros, directorios, etc.) en la(s) ruta(s) especificada(s) como parámetro(s), que concuerden con la(s) expresión(es) de búsqueda especificadas.\n"
   ]
  },
  {
   "cell_type": "markdown",
   "id": "6af03fa4",
   "metadata": {},
   "source": [
    "El formato general es `find [ruta1 ruta2...] expresión`. Es **conveniente entrecomillar la expresión**, en particular, cuando contiene comodines. Entre las opciones más empleadas como parte de la expresión de búsqueda, tenemos las siguientes:\n",
    "\n",
    "* `-iname nombre` : Nombre del fichero a buscar, sin distinguir el uso de mayúsculas. Se pueden utilizar comodines, en cuyo caso se debe entrecomillas el patrón. También podemos utilizar `-name` si queremos que la búsqueda distinga entre mayúsculas y minúsculas.\n",
    "* `-type f|d` : Tipo del fichero (fichero regular o directorio). Hay muchas más opciones, pero quedan fuera del alcance de un curso introductorio de primero.\n",
    "* `-user usuario` : Propietario al que debe pertenecer el fichero.\n",
    "* `-mtime [+|-]n` : Fichero modificado hace más de, menos de o exactamente n días.\n",
    "* `-size [+|-]n` : Fichero con un tamaño de más, menos o exactamente 512 × n bytes. Lo habitual es especificar una unidad de mayor tamaño, por ejemplo `-size +28k` para indicar ficheros que tengan un tamaño\n",
    "mayor de 28 KiB.\n",
    "* `-printf \"...\"` : Sirve para imprimir cadenas de texto formateado junto con información acerca de los ficheros encontrados por find, tales con su ruta (%p), tamaño (%s), usuario propietario (%u), etc."
   ]
  },
  {
   "cell_type": "markdown",
   "id": "ad90a536",
   "metadata": {},
   "source": [
    "Los criterios de búsqueda usados en la expresión se pueden combinar con operadores lógicos: `!` para la negación; `-o` para la disyunción (“OR”); y `-a` para la conjunción (“AND”), que está implícito por efecto cuando se indican varios criterios. Veamos varios ejemplos concretos de uso del comando find con diferentes expresiones de búsqueda:\n",
    "\n",
    "* `find dir -type f -iname \"*.tgz\" `: Busca dentro de `dir` ficheros con extensión `.tgz` (o .TGZ, .Tgz, etc.).\n",
    "* `find /etc/default dir -type d -name \"dir_*\" ` : Busca tanto bajo `/etc/default` como bajo `dir` los directorios cuyo nombre empiece exactamente con la cadena `dir_`.\n",
    "* `find dir -size +140k -a -type f`: Busca en `dir` los ficheros de más de 140 KiB.\n",
    "* `find . -type f -printf \"El fichero %p ocupa %s bytes\\n\"`: Sirve para imprimir cadenas de texto formateado junto con información acerca de los ficheros encontrados por `find`, tales con su ruta (`%p`), tamaño (`%s`), usuario propietario (`%u`), fecha de última modificación (`%t`), etc..\n",
    "\n",
    "```"
   ]
  },
  {
   "cell_type": "code",
   "execution_count": null,
   "id": "1684e30f",
   "metadata": {},
   "outputs": [],
   "source": [
    "# Ejecuta esta celda para crear algunos ficheros\n",
    "rm -rf /tmp/bash-búsquedas\n",
    "mkdir -p /tmp/bash-búsquedas\n",
    "cd /tmp/bash-búsquedas\n",
    "# Creamos 5 directorios\n",
    "mkdir -p dir1 dir2 dir3 dir4 dir5\n",
    "# Creamos ficheros vacíos en 4 de ellos\n",
    "touch dir1/onefile\n",
    "touch dir2/anotherfile\n",
    "touch dir3/yetanotherfile\n",
    "touch dir4/unfichero"
   ]
  },
  {
   "cell_type": "code",
   "execution_count": null,
   "id": "18846071-3764-409e-9f4e-badf38074b62",
   "metadata": {},
   "outputs": [],
   "source": [
    "# Clonamos el repositorio del editor \"nano\"\n",
    "git clone https://github.com/madnight/nano"
   ]
  },
  {
   "cell_type": "code",
   "execution_count": null,
   "id": "a7e2f967-f8d4-499e-897d-eb7ad7ec3713",
   "metadata": {},
   "outputs": [],
   "source": [
    "# Buscar en el directorio \"nano\" ficheros regulares cuyo nombre \n",
    "# sea NANO.C, sin distinguir mayúsculas de minúsculas\n",
    "find nano -type f -iname \"NANO.C\""
   ]
  },
  {
   "cell_type": "code",
   "execution_count": null,
   "id": "9ef8c13d-2537-483e-a127-f6a486487a9f",
   "metadata": {},
   "outputs": [],
   "source": [
    "# Buscar en el directorio \"nano\" ficheros regulares cuyo nombre \n",
    "# empiece por la cadena \"win\" (en minúsculas)\n",
    "find nano -type f -name \"win*\""
   ]
  },
  {
   "cell_type": "code",
   "execution_count": null,
   "id": "d30468eb-3dc2-43c5-b7fa-537350a865b7",
   "metadata": {},
   "outputs": [],
   "source": [
    "# Buscar en el directorio \"nano\" ficheros regulares cuyo nombre \n",
    "# NO acabe por *.c (en minúsculas)\n",
    "find nano/src -type f ! -name \"*.c\""
   ]
  },
  {
   "cell_type": "code",
   "execution_count": null,
   "id": "83527c0a-976e-41e5-bc38-61b6ef4d596d",
   "metadata": {},
   "outputs": [],
   "source": [
    "# Buscar en el directorio \"nano\" ficheros regulares cuyo nombre \n",
    "# contenga la cadena \"make\", sin distinguir mayúsculas\n",
    "find nano -type f -iname \"*make*\""
   ]
  },
  {
   "cell_type": "code",
   "execution_count": null,
   "id": "1762ff6f-2f27-41e5-8348-ac19c4a023d4",
   "metadata": {},
   "outputs": [],
   "source": [
    "# Buscar en el directorio \"nano\" ficheros regulares cuyo nombre \n",
    "# contenga la cadena \"make\" seguida de f o punto, sin distinguir mayúsculas\n",
    "find nano -type f -iname \"*make[f.]\""
   ]
  },
  {
   "cell_type": "code",
   "execution_count": null,
   "id": "318fa39e-78ea-4d5d-a665-4c91ccdc3a2a",
   "metadata": {},
   "outputs": [],
   "source": [
    "# Buscar en el directorio \"nano\", subdirectorios cuyo nombre \n",
    "# contenga la cadena \"git\", sin distinguir mayúsculas\n",
    "find nano -type d -name \"*git*\""
   ]
  },
  {
   "cell_type": "code",
   "execution_count": null,
   "id": "127aab81-02c8-4df1-ad34-25cc60519278",
   "metadata": {},
   "outputs": [],
   "source": [
    "# Buscar en el directorio \"nano\" ficheros regulares cuyo tamaño \n",
    "# sea mayor que 100KiB y menor que 500KiB\n",
    "find nano -type f -size +100k -size -500k"
   ]
  },
  {
   "cell_type": "code",
   "execution_count": null,
   "id": "f87ead1f-cacb-4306-a6a4-d05e3e037f0e",
   "metadata": {},
   "outputs": [],
   "source": [
    "# Buscar en el directorio \"nano\" ficheros regulares cuyo tamaño \n",
    "# sea mayor que 10KiB y menor que 15KiB, y para cada coincidencia\n",
    "# imprime una cadena su ruta relativa (%p) y tamaño (%s)\n",
    "find nano -type f -size +10k -size -15k -printf \"El fichero %p ocupa %s bytes\\n\""
   ]
  },
  {
   "cell_type": "markdown",
   "id": "5fbe6286",
   "metadata": {},
   "source": [
    "#### <span style=\"color: blue;\">EJERCICIO</span>\n",
    "\n",
    "Encuentra mediante `find` los ficheros que cumplan los criterios indicados."
   ]
  },
  {
   "cell_type": "code",
   "execution_count": null,
   "id": "f85ff63c-4b1c-4ec1-9b62-c36f66940902",
   "metadata": {},
   "outputs": [],
   "source": [
    "# Ficheros dentro del directorio \"nano\", de tipo regular \n",
    "# y cuyo nombre contenga la subcadena \"es\", sin distinguir mayúsculas\n"
   ]
  },
  {
   "cell_type": "code",
   "execution_count": null,
   "id": "7a7f074c-1b3d-400a-85f4-fdb07a07a349",
   "metadata": {},
   "outputs": [],
   "source": [
    "# Ficheros dentro del directorio \"nano\", de tipo regular \n",
    "# y cuyo nombre contenga la subcadena \"es\" en mayúsculas\n"
   ]
  },
  {
   "cell_type": "code",
   "execution_count": null,
   "id": "e269557f-450a-4f74-b7de-e5afb7cd105e",
   "metadata": {},
   "outputs": [],
   "source": [
    "# Ficheros dentro del directorio \"nano\", de tipo regular \n",
    "# y cuyo nombre contenga la subcadena \"es\" seguida bien\n",
    "# de punto '.' o bien   y que no acaben ni en 'h', ni en 'c' ni en 'n'\n",
    "# sin distinguir mayúsculas\n"
   ]
  },
  {
   "cell_type": "code",
   "execution_count": null,
   "id": "5d10115c-8b0e-4703-a28c-f3e42e7ba9f9",
   "metadata": {},
   "outputs": [],
   "source": [
    "# Ficheros dentro de los directorios \"nano\" \"dir2\" y \"dir3\",\n",
    "# de tipo regular cuyo nombre contenga la subcadena \"file\",\n",
    "# no contengan el carácter \"m\", sin distinguir mayúsculas,\n",
    "# y tengan tamaño menor que 1KiB\n"
   ]
  },
  {
   "cell_type": "code",
   "execution_count": null,
   "id": "58222ac9-da06-4ccd-8ae0-1d8a400b9c06",
   "metadata": {},
   "outputs": [],
   "source": [
    "# Ficheros regulares dentro de \"nano\" cuyo tamaño \n",
    "# sea mayor que 3MiB, y para cada coincidencia imprime una\n",
    "#  cadena su ruta relativa (%p) y fecha de última modificación (%t)\n"
   ]
  },
  {
   "cell_type": "markdown",
   "id": "4c21160b",
   "metadata": {},
   "source": [
    "## Búsqueda de texto en ficheros. Búsqueda de ficheros por su contenido.\n"
   ]
  },
  {
   "cell_type": "markdown",
   "id": "4631f8ee",
   "metadata": {},
   "source": [
    "Otra tarea recurrente al interactuar con el sistema de ficheros es encontrar determinados ficheros en función de su contenido, o bien localizar exactamente en qué lugar de un determinado fichero aparece una cierta palabra. El comando por excelencia para ello es `grep`, que es una contracción de *global regular expresion print*, y que se encarga de encontrar e imprimir las líneas de los ficheros que coinciden con un patrón dado.\n",
    "\n",
    "El formato general es `grep [opciones] patrón [ruta...]` . Es **conveniente entrecomillar el patrón**, que puede contener caracteres literales y otros con significado especial. Entre las opciones más empleadas tenemos las siguientes:\n",
    "* `-i`: Busca ignorando el uso de mayúsculas.\n",
    "* `-v`: Invierte la búsqueda, selecciona las líneas que no concuerdan con el patrón dado.\n",
    "* `-l`: Muestra el nombre del fichero que contiene la línea coincidente en vez de dicha línea.\n",
    "* `-n`: Muestra el número de línea para cada línea coincidente, empezando por 1.\n",
    "* `-w`: Busca únicamente palabras completas, no fragmentos de palabras.\n",
    "* `-r`: Busca recursivamente en los directorios."
   ]
  },
  {
   "cell_type": "markdown",
   "id": "d1c39b85",
   "metadata": {},
   "source": [
    "Algunos caracteres con significado especial que se usan frecuentemente como parte del patrón son:\n",
    "- `^`: inicio de línea.\n",
    "- `$`: fin de línea.\n",
    "- `.`: una ocurrencia de cualquier carácter. \n",
    "- `[abcf-h]`: una ocurrencia de un carácter perteneciente a un grupo/rango de caracteres. "
   ]
  },
  {
   "cell_type": "markdown",
   "id": "242b2892",
   "metadata": {},
   "source": [
    "Veamos varios ejemplos concretos de uso del comando grep con diferentes opciones y patrones:\n",
    "* `grep -rl “memoria” . `: Buscaría recursivamente la palabra exacta “memoria” en todos los ficheros que cuelgan del directorio de trabajo actual (`.`), a cualquier profundidad, y mostraría únicamente el nombre de aquellos ficheros en los que se encontraron coincidencias.\n",
    "* `grep -in “total” /proc/meminfo` : Mostraría las líneas del fichero `/proc/meminfo` que contienen la subcadena “total”, sin tener en cuenta las mayúsculas, anteponiendo el número de línea.\n",
    "* `grep “ $” fich.txt` : Mostraría las líneas del fichero `fich.txt` que acaban con el carácter espacio.\n",
    "* `grep “ˆ[A-Z].s” fich.txt`: Mostraría las líneas del fichero `fich.txt` indicado que empiezan con una letra mayúscula, seguida de cualquier carácter y a continuación la letra ’s’."
   ]
  },
  {
   "cell_type": "code",
   "execution_count": null,
   "id": "2f15f142",
   "metadata": {},
   "outputs": [],
   "source": [
    "# Busca en el contenido del fichero nano.c aquellas líneas\n",
    "# que contengan la cadena \"main\" \n",
    "grep main nano/src/nano.c"
   ]
  },
  {
   "cell_type": "code",
   "execution_count": null,
   "id": "5f018f3f-59ff-4404-918a-96a90e3596f6",
   "metadata": {},
   "outputs": [],
   "source": [
    "# Busca en el contenido del fichero nano.c aquellas líneas\n",
    "# que contengan la palabra (-w) \"main\" (no como fragmento\n",
    "# de otra cadena más larga)\n",
    "grep -w main nano/src/nano.c"
   ]
  },
  {
   "cell_type": "code",
   "execution_count": null,
   "id": "36ccabff-fbb2-446b-b870-b9217e1dedea",
   "metadata": {},
   "outputs": [],
   "source": [
    "# Busca en el contenido de todos los ficheros *.h en cualquier\n",
    "# subdirectorio dentro de \"nano\", aquellas líneas  que contengan la\n",
    "# cadena \"gnu\", mostrando el número de línea (-n) en cada fichero \n",
    "grep -n gnu nano/*/*.h"
   ]
  },
  {
   "cell_type": "code",
   "execution_count": null,
   "id": "92396ca6-d192-42b0-bab3-3ccd5501b5ec",
   "metadata": {},
   "outputs": [],
   "source": [
    "# Busca recursivamente (-r) en el contenido de todos los ficheros\n",
    "# dentro del directorio \"nano\" a cualquier profundidad, aquellas\n",
    "# líneas  que empiecen (^) por la cadena \"then \"\n",
    "grep -r \"^then \" nano"
   ]
  },
  {
   "cell_type": "code",
   "execution_count": null,
   "id": "7bd479e3-7ec1-4044-9bd9-0b070e81e8c5",
   "metadata": {},
   "outputs": [],
   "source": [
    "# Busca recursivamente (-r) en el contenido de todos los ficheros\n",
    "# dentro del directorio \"nano\" a cualquier profundidad, aquellas\n",
    "# líneas  que empiezan (^) por un número del 5 al 9\n",
    "grep -r \"^[5-9]\" nano/"
   ]
  },
  {
   "cell_type": "markdown",
   "id": "626ab935",
   "metadata": {},
   "source": [
    "#### <span style=\"color: blue;\">EJERCICIO</span>\n",
    "\n",
    "Utiliza `grep` para encontrar ficheros de texto que contengan ciertas cadenas de caracteres que concuerden con un patrón de búsqueda."
   ]
  },
  {
   "cell_type": "code",
   "execution_count": null,
   "id": "b9428aaa",
   "metadata": {},
   "outputs": [],
   "source": [
    "# Busca en el contenido del fichero nano/README aquellas líneas\n",
    "# que contengan la cadena \"installed\" \n"
   ]
  },
  {
   "cell_type": "code",
   "execution_count": null,
   "id": "e333e49e-ee12-4bba-9a23-20aa25340805",
   "metadata": {},
   "outputs": [],
   "source": [
    "# Busca en el contenido de todos los ficheros *.c del directorio\n",
    "# src\" dentro de \"nano\", aquellas líneas  que contengan la\n",
    "# palabra \"Windows\" (sin distinguir mayúsculas: -i)\n"
   ]
  },
  {
   "cell_type": "code",
   "execution_count": null,
   "id": "36bf74a9-9acd-4d1d-852b-179f581004c8",
   "metadata": {},
   "outputs": [],
   "source": [
    "# Busca recursivamente (-r) en el contenido de todos los ficheros\n",
    "# dentro del directorio \"nano\" a cualquier profundidad, aquellas\n",
    "# líneas  que contengan la cadena \"Javier\"\n"
   ]
  },
  {
   "cell_type": "code",
   "execution_count": null,
   "id": "6e98fddf-50ed-49e5-80af-5a654968cc1d",
   "metadata": {},
   "outputs": [],
   "source": [
    "# Busca recursivamente (-r) en el contenido de todos los ficheros\n",
    "# dentro del directorio \"nano\" a cualquier profundidad, aquellas\n",
    "# líneas que contienen una cadena formada por una letra mayúscula,\n",
    "# seguida de otra minúscula y en tercer lugar de nuevo mayúscula.\n"
   ]
  },
  {
   "cell_type": "code",
   "execution_count": null,
   "id": "b9ef9c45-a1e0-4fe8-ae64-489e46746943",
   "metadata": {},
   "outputs": [],
   "source": [
    "# Busca  en el contenido de todos los ficheros que hay dentro \n",
    "# del directorio \"nano/doc\", aquellas líneas  que \n",
    "# terminan ($) por la palabra \"if\"\n"
   ]
  },
  {
   "cell_type": "markdown",
   "id": "9243ab19",
   "metadata": {},
   "source": [
    "## Compresión y descompresión de ficheros"
   ]
  },
  {
   "cell_type": "markdown",
   "id": "2e5caeed",
   "metadata": {},
   "source": [
    "`tar` es el comando tradicionalmente usado para empaquetar (y desempaquetar) varios ficheros en uno sólo. La herramienta `tar` por sí sola no comprime el fichero resultante sino que hay que usar otras herramientas. En concreto, `gzip` es la herramienta que más se suele usar en Linux, y que se llama pasando un simple parámetro a la orden tar. Los ficheros empaquetados con tar suelen tener la “extensión” `.tar`, mientras que los ficheros empaquetados con `tar` y comprimidos usando Gzip suelen tener extensión `.tar.gz` o, más abreviadamente, `.tgz`. "
   ]
  },
  {
   "cell_type": "markdown",
   "id": "3dfbcaaf",
   "metadata": {},
   "source": [
    "Éstas son las tres\n",
    "formas más comunes de uso de este comando, correspondientes a la compresión, el listado y la descompresión:\n",
    "\n",
    "* `tar czvf result.tar.gz directorio[s]|fichero[s]`: Empaqueta (indicado por la opción c) y comprime (opción `z`) los directorios (recursivamente) y ficheros indicados como segundo y sucesivos parámetros, en un solo fichero `.tar.gz` (opción `f`), cuyo nombre se pasa como primer parámetro. Se guardan rutas relativas y permisos. Indicando la opción `v` muestra una descripción detallada del proceso de comprensión.\n",
    "* `tar tzvf result.tar.gz` : Lista en el terminal los contenidos del fichero `result.tar.gz`. La opción `z` indica que los archivos se leen a través de opción `gzip`. Es recomendable usar esta opción debe ser usada para ficheros comprimidos con opción `gzip`.\n",
    "* `tar xzvf result.tar.gz` : Descomprime y desempaqueta el fichero `result.tar.gz`, recuperando los ficheros, permisos y la estructura de directorios original. Si se desea extraer los ficheros en un directorio diferente al de trabajo actual se debe usar la opción `-C` como por ejemplo: `tar xzvf result.tar.gz -C ./otrodir`"
   ]
  },
  {
   "cell_type": "markdown",
   "id": "2b6ef965",
   "metadata": {},
   "source": [
    "Naturalmente existen también utilidades Linux para tratar otros tipos de ficheros comprimidos igualmente populares, como los tipos de\n",
    "ficheros `.zip`, `.rar`, etc. Sin embargo, aquí nos centraremos exclusivamente en el comando `tar`, dado que como ya se ha dicho, el\n",
    "formato `.tgz` es el más comúnmente usado para la compresión en Linux."
   ]
  },
  {
   "cell_type": "code",
   "execution_count": null,
   "id": "890a07b7",
   "metadata": {},
   "outputs": [],
   "source": [
    "# Ejecuta esta celda para crear algunos ficheros\n",
    "rm -rf /tmp/bash-compresión\n",
    "mkdir -p /tmp/bash-compresión\n",
    "cd /tmp/bash-compresión\n",
    "# Clonamos el repositorio del editor \"nano\"\n",
    "git clone https://github.com/madnight/nano"
   ]
  },
  {
   "cell_type": "code",
   "execution_count": null,
   "id": "7432b8c9",
   "metadata": {},
   "outputs": [],
   "source": [
    "ls"
   ]
  },
  {
   "cell_type": "code",
   "execution_count": null,
   "id": "6b466dc1",
   "metadata": {},
   "outputs": [],
   "source": [
    "# El comando tar al empaquetar (c) escribe por defecto los ficheros\n",
    "# empaquetados en la salida estándar... Debemos pasar siempre \"f\"\n",
    "tar c nano-src.tar nano/src"
   ]
  },
  {
   "cell_type": "code",
   "execution_count": null,
   "id": "964eab83",
   "metadata": {},
   "outputs": [],
   "source": [
    "# Empaquetar todos los archivos del directorio \"nano/src\" en un\n",
    "# fichero llamado nano-src.tar\n",
    "tar cf nano-src.tar nano/src"
   ]
  },
  {
   "cell_type": "code",
   "execution_count": null,
   "id": "a7207109",
   "metadata": {},
   "outputs": [],
   "source": [
    "ls -l"
   ]
  },
  {
   "cell_type": "code",
   "execution_count": null,
   "id": "05d191a1",
   "metadata": {},
   "outputs": [],
   "source": [
    "# Empaquetar todos los archivos del directorio \"nano/src\" en un\n",
    "# fichero comprimido con gzip llamado nano-src.tar.gz\n",
    "tar zcf nano-src.tar.gz nano/src"
   ]
  },
  {
   "cell_type": "code",
   "execution_count": null,
   "id": "a8b75400",
   "metadata": {},
   "outputs": [],
   "source": [
    "ls -l"
   ]
  },
  {
   "cell_type": "code",
   "execution_count": null,
   "id": "f3a80517",
   "metadata": {},
   "outputs": [],
   "source": [
    "# Empaquetar todos los archivos del directorio \"nano/src\" en un\n",
    "# fichero comprimido con gzip llamado nano-src.tar.gz, mostrando\n",
    "# todos los ficheros que se van empaquetando\n",
    "tar zcvf nano-src.tar.gz nano/src"
   ]
  },
  {
   "cell_type": "code",
   "execution_count": null,
   "id": "d25c5108",
   "metadata": {},
   "outputs": [],
   "source": [
    "# Se pueden empaquetar al mismo tiempo cualquier número de directorios\n",
    "# o ficheros individuales, simplemente pasándolos como parámetro\n",
    "tar zcvf nano-src-doc.tar.gz nano/src/ nano/doc"
   ]
  },
  {
   "cell_type": "code",
   "execution_count": null,
   "id": "c0cf2c23",
   "metadata": {},
   "outputs": [],
   "source": [
    "# Se pueden empaquetar al mismo tiempo cualquier número de directorios\n",
    "# o ficheros individuales, simplemente pasándolos como parámetro, y \n",
    "# resulta posible utilizar comodines en la ruta a dichos ficheros\n",
    "tar zcvf nano-src-headers.tar.gz nano/src/*.h nano/README*"
   ]
  },
  {
   "cell_type": "code",
   "execution_count": null,
   "id": "89428a68",
   "metadata": {},
   "outputs": [],
   "source": [
    "# Con la opción \"t\" (en vez de \"x\" o \"c\") mostramos el contenido\n",
    "# de un fichero empaquetado, pero sin desempaquetarlo\n",
    "tar ztvf nano-src-headers.tar.gz "
   ]
  },
  {
   "cell_type": "code",
   "execution_count": null,
   "id": "c79220d4",
   "metadata": {},
   "outputs": [],
   "source": [
    "# Con la opción \"x\" descomprimimos un fichero empaquetado (zx si\n",
    "# está comprimido con gzip). Por defecto, se descomprime en el\n",
    "# directorio actual, pero podemos desempaquetar en otro directorio con \"-C\"\n",
    "mkdir -p headers-descomprimido\n",
    "tar zxvf nano-src-headers.tar.gz -C headers-descomprimido"
   ]
  },
  {
   "cell_type": "code",
   "execution_count": null,
   "id": "9860419c",
   "metadata": {},
   "outputs": [],
   "source": [
    "find headers-descomprimido"
   ]
  },
  {
   "cell_type": "markdown",
   "id": "0ca4803b",
   "metadata": {},
   "source": [
    "#### <span style=\"color: blue;\">EJERCICIO</span>\n",
    "\n",
    "Escribe el comando adecuado para empaquetar o desempaquetar ficheros mediante la herramienta `tar`."
   ]
  },
  {
   "cell_type": "code",
   "execution_count": null,
   "id": "b1516d4d",
   "metadata": {},
   "outputs": [],
   "source": [
    "# Borra recursivamente y sin preguntar los directorios nano/src\n",
    "# y nano/doc\n"
   ]
  },
  {
   "cell_type": "code",
   "execution_count": null,
   "id": "61b1ccc1",
   "metadata": {},
   "outputs": [],
   "source": [
    "# Muestra el contenido del fichero empaquetado nano-src-doc.tar.gz\n",
    "# creado anteriormente\n"
   ]
  },
  {
   "cell_type": "code",
   "execution_count": null,
   "id": "0c18502d",
   "metadata": {},
   "outputs": [],
   "source": [
    "# Desempaqueta el contenido del fichero nano-src-doc.tar.gz \n",
    "# en el directorio actual\n"
   ]
  },
  {
   "cell_type": "code",
   "execution_count": null,
   "id": "f78944b3",
   "metadata": {},
   "outputs": [],
   "source": [
    "# Crea un fichero empaquetado y comprimido con todo el contenido\n",
    "# del directorio \"nano\"\n"
   ]
  },
  {
   "cell_type": "code",
   "execution_count": null,
   "id": "275c6adc",
   "metadata": {},
   "outputs": [],
   "source": [
    "# Crea un directorio llamado \"copia-nano\" y cámbiate a él\n"
   ]
  },
  {
   "cell_type": "code",
   "execution_count": null,
   "id": "98331752",
   "metadata": {},
   "outputs": [],
   "source": [
    "# Desempaqueta al directorio actual el contenido de fichero\n",
    "# empaquetado \"nano.tar.gz\" (situado en el directorio padre)\n"
   ]
  },
  {
   "cell_type": "code",
   "execution_count": null,
   "id": "46d9d01e",
   "metadata": {},
   "outputs": [],
   "source": [
    "# Crea un directorio llamado copia-nano-headers\n"
   ]
  },
  {
   "cell_type": "code",
   "execution_count": null,
   "id": "6890cdca",
   "metadata": {},
   "outputs": [],
   "source": [
    "# Desempaqueta al directorio copia-nano-headers el contenido del\n",
    "# fichero empaquetado \"nano-src-headers.tar.gz\" (situado en el \n",
    "# directorio padre)\n"
   ]
  },
  {
   "cell_type": "code",
   "execution_count": null,
   "id": "2a448b3f",
   "metadata": {},
   "outputs": [],
   "source": [
    "ls"
   ]
  },
  {
   "cell_type": "code",
   "execution_count": null,
   "id": "dc00d548",
   "metadata": {},
   "outputs": [],
   "source": [
    "find copia-nano-headers"
   ]
  },
  {
   "cell_type": "markdown",
   "id": "14b9d48a",
   "metadata": {},
   "source": [
    "## Enlaces"
   ]
  },
  {
   "cell_type": "markdown",
   "id": "4bd41ad1",
   "metadata": {},
   "source": [
    "Crear enlaces a ficheros o directorios nos permite tener una copia “virtual” de un fichero o directorio. Si por ejemplo editamos el contenido del fichero enlazado, al abrir el enlace aparece tal modificación tanto en el fichero enlazado como en el original. Decimos “virtual” porque en realidad el enlace no ocupa un lugar adicional en el disco, es sólo **una forma de referenciar a otro fichero o directorio desde otro lugar del sistema de ficheros**. Existen dos tipos de enlaces, físicos y simbólicos, que describimos a continuación."
   ]
  },
  {
   "cell_type": "markdown",
   "id": "7f25ebc2",
   "metadata": {},
   "source": [
    "### Enlaces físicos (*duros*)\n",
    "\n"
   ]
  },
  {
   "cell_type": "markdown",
   "id": "d492f5bb",
   "metadata": {},
   "source": [
    "Un enlace físico o duro (*hard link*, en inglés) es una forma de asociar un archivo a varios nombres de archivo distintos en el sistema de archivos. A diferencia de los enlaces simbólicos (*soft links* o *symlinks*), que son referencias a otros archivos por su ruta o nombre, los enlaces duros crean múltiples entradas en el sistema de archivos que apuntan al mismo nodo de datos en el disco. Esto significa que, en términos prácticos, **todos los enlaces duros de un archivo son equivalentes en cuanto a contenido**, ya que apuntan al mismo conjunto de datos en el disco. Por tanto, hasta que no se borran todos los enlaces físicos que apuntan a un mismo fichero no se elimina realmente el contenido del fichero. Cada enlace duro actúa como una copia exacta del fichero enlazado (y por tanto se puede borrar el fichero enlazado y sus copias seguirán existiendo con su contenido).\n",
    "\n",
    "Cuando hacemos un listado detallado (\"largo\") de un directorio, el número de enlaces duros a cada fichero se muestra en la columna que aparece a continuación de los permisos del fichero. En un fichero normal, dicho número es siempre 1 (indicando que es copia única, ésto es, que si se borra dicho fichero ya se perderá definitivamente en el disco). Sin embargo, en un fichero sobre el que se han realizado n − 1 enlaces duros dicho número es n (lo que indica que hay que borrar hasta n copias del mismo para terminar de borrarlo del disco duro).\n",
    "\n",
    "Naturalmente, aunque por claridad en este ejemplo se han ubicado tanto el fichero original como el enlazado en\n",
    "el mismo subdirectorio, ésto no es en absoluto obligatorio."
   ]
  },
  {
   "cell_type": "markdown",
   "id": "4a6e68e0",
   "metadata": {},
   "source": [
    "Los enlaces físicos se crean con el comando:\n",
    "\n",
    "\n",
    "```bash\n",
    "$ ln fichero_a_enlazar nombre_enlace\n",
    "```"
   ]
  },
  {
   "cell_type": "code",
   "execution_count": null,
   "id": "406596e9",
   "metadata": {},
   "outputs": [],
   "source": [
    "# Ejecuta esta celda para crear algunos ficheros\n",
    "rm -rf /tmp/bash-enlaces\n",
    "mkdir -p /tmp/bash-enlaces\n",
    "cd /tmp/bash-enlaces\n",
    "mkdir dir1"
   ]
  },
  {
   "cell_type": "code",
   "execution_count": null,
   "id": "4dfe4b73",
   "metadata": {},
   "outputs": [],
   "source": [
    "# Creamos un fichero vacío\n",
    "touch vacio"
   ]
  },
  {
   "cell_type": "code",
   "execution_count": null,
   "id": "4de27d7b",
   "metadata": {},
   "outputs": [],
   "source": [
    "# Sólo hay un enlace físico a dicho fichero en el sistema de ficheros.\n",
    "# Por tanto, hay un \"1\" en la columna de enlaces físicos\n",
    "ls -l"
   ]
  },
  {
   "cell_type": "code",
   "execution_count": null,
   "id": "7a49c205",
   "metadata": {},
   "outputs": [],
   "source": [
    "# Creamos otro enlace físico al fichero, ubicado en \"dir2\"\n",
    "ln vacio dir1/mifichero"
   ]
  },
  {
   "cell_type": "code",
   "execution_count": null,
   "id": "703e6d6c",
   "metadata": {},
   "outputs": [],
   "source": [
    "# Confirmamos que ahora tenemos 2 enlaces físicos al mismo contenido:\n",
    "# uno en \"dir1/mifichero\" y otro en \"vacio\"\n",
    "ls -l dir1"
   ]
  },
  {
   "cell_type": "code",
   "execution_count": null,
   "id": "a01de2fb",
   "metadata": {},
   "outputs": [],
   "source": [
    "ls -l vacio"
   ]
  },
  {
   "cell_type": "code",
   "execution_count": null,
   "id": "1add491d",
   "metadata": {},
   "outputs": [],
   "source": [
    "# Si modificamos el contenido a través de un enlace...\n",
    "echo \"hola, mundo\" >> vacio"
   ]
  },
  {
   "cell_type": "code",
   "execution_count": null,
   "id": "3eb95d2a",
   "metadata": {},
   "outputs": [],
   "source": [
    "# También vemos las modificaciones a través de cualquier \n",
    "# otro enlace (ambos apuntan a los mismos datos en disco)\n",
    "cat dir1/mifichero"
   ]
  },
  {
   "cell_type": "code",
   "execution_count": null,
   "id": "64eaf7fc",
   "metadata": {},
   "outputs": [],
   "source": [
    "# Y viceversa\n",
    "echo \"adios, mundo cruel\" >> dir1/mifichero"
   ]
  },
  {
   "cell_type": "code",
   "execution_count": null,
   "id": "ad46abf5",
   "metadata": {},
   "outputs": [],
   "source": [
    "cat vacio"
   ]
  },
  {
   "cell_type": "code",
   "execution_count": null,
   "id": "d05105fd",
   "metadata": {},
   "outputs": [],
   "source": [
    "# Si eliminamos un enlace, el contenido del fichero no se elimina\n",
    "# porque quedan más enlaces apuntando al mismo nodo de datos\n",
    "rm vacio"
   ]
  },
  {
   "cell_type": "code",
   "execution_count": null,
   "id": "db397e12",
   "metadata": {},
   "outputs": [],
   "source": [
    "ls -l dir1/mifichero"
   ]
  },
  {
   "cell_type": "code",
   "execution_count": null,
   "id": "44d3b5e4",
   "metadata": {},
   "outputs": [],
   "source": [
    "cat dir1/mifichero"
   ]
  },
  {
   "cell_type": "markdown",
   "id": "ac790a89",
   "metadata": {},
   "source": [
    "### Enlaces simbólicos (*blandos*)"
   ]
  },
  {
   "cell_type": "markdown",
   "id": "3443eb05",
   "metadata": {},
   "source": [
    "En el caso de los enlaces blandos (también llamados simbólicos), si borramos el fichero enlazado original los enlaces quedan “colgando” (apuntando a ningún sitio), y el contenido del fichero se pierde, puesto que el espacio en disco ocupado por los datos habrá sido definitivamente liberado. El enlace simbólico, sin embargo, puede ser borrado en cualquier momento sin afectar para nada al fichero original.\n",
    "Los enlaces blandos se identifican al hacer un listado con formato largo (ls -l) porque en vez de aparecer en la primera columna un carácter - (como un fichero normal) o un carácter d (como un directorio), aparece un carácter l (de link, enlace en inglés). Por ejemplo, éste podría ser el aspecto de un listado largo de nuestro directorio actual después de ejecutar el comando ln -s pelicula.avi enlace.avi:"
   ]
  },
  {
   "cell_type": "markdown",
   "id": "cfe9f18d",
   "metadata": {},
   "source": [
    "Los enlaces simbólicos se crean con el mismo comando que los físicos, pero añadiendo la opción `-s`:\n",
    "\n",
    "```bash\n",
    "$ ln -s fichero_a_enlazar nombre_enlace_simbolico\n",
    "```"
   ]
  },
  {
   "cell_type": "markdown",
   "id": "52467dee",
   "metadata": {},
   "source": [
    "De nuevo, y al igual que ocurría con los enlaces duros, no sólo no es obligado que el origen y el destino del enlace estén en el mismo subdirectorio, sino que lo más habitual y útil es que estén ubicados en subdirectorios distintos."
   ]
  },
  {
   "cell_type": "code",
   "execution_count": null,
   "id": "29aaba30",
   "metadata": {},
   "outputs": [],
   "source": [
    "mkdir dir1/dir2"
   ]
  },
  {
   "cell_type": "code",
   "execution_count": null,
   "id": "c18ae280",
   "metadata": {},
   "outputs": [],
   "source": [
    "# Creamos un enlace simbólico a \"mifichero\"\n",
    "ln -s dir1/mifichero misoftlink"
   ]
  },
  {
   "cell_type": "code",
   "execution_count": null,
   "id": "43b384e8",
   "metadata": {},
   "outputs": [],
   "source": [
    "# Como vemos, el enlace simbólico \"apunta\" al destino DE FORMA RELATIVA\n",
    "ls -l"
   ]
  },
  {
   "cell_type": "code",
   "execution_count": null,
   "id": "8b8ce979",
   "metadata": {},
   "outputs": [],
   "source": [
    "# Podemos acceder al contenido del fichero mediante el enlace simbólico...\n",
    "cat misoftlink"
   ]
  },
  {
   "cell_type": "code",
   "execution_count": null,
   "id": "1906ee6f",
   "metadata": {},
   "outputs": [],
   "source": [
    "# En realidad, es como si \"misoftlink\" se reemplazase por \"dir1/mifichero\" en cada comando que usemos\n",
    "cp misoftlink mifichero.backup"
   ]
  },
  {
   "cell_type": "code",
   "execution_count": null,
   "id": "3aa20e2a",
   "metadata": {},
   "outputs": [],
   "source": [
    "ls -l"
   ]
  },
  {
   "cell_type": "code",
   "execution_count": null,
   "id": "429621b2",
   "metadata": {},
   "outputs": [],
   "source": [
    "# Pero si borramos el fichero apuntado, su contenido se pierde y el enlace simbólico quedará \"roto\"\n",
    "rm dir1/mifichero"
   ]
  },
  {
   "cell_type": "code",
   "execution_count": null,
   "id": "a313da25",
   "metadata": {},
   "outputs": [],
   "source": [
    "# El shell muestra en rojo/negro los enlaces simbólicos rotos (dangling links)\n",
    "ls -l"
   ]
  },
  {
   "cell_type": "code",
   "execution_count": null,
   "id": "e20f0a0d",
   "metadata": {},
   "outputs": [],
   "source": [
    "cat misoftlink"
   ]
  },
  {
   "cell_type": "code",
   "execution_count": null,
   "id": "de79f293",
   "metadata": {},
   "outputs": [],
   "source": [
    "# En el momento en que vuelva a existir algún fichero en el destino, el enlace simbólico funcionará...\n",
    "mv mifichero.backup dir1/mifichero"
   ]
  },
  {
   "cell_type": "code",
   "execution_count": null,
   "id": "c645b1dc",
   "metadata": {},
   "outputs": [],
   "source": [
    "ls -l"
   ]
  },
  {
   "cell_type": "code",
   "execution_count": null,
   "id": "770ac254",
   "metadata": {},
   "outputs": [],
   "source": [
    "mv misoftlink dir1"
   ]
  },
  {
   "cell_type": "code",
   "execution_count": null,
   "id": "bbd69918",
   "metadata": {},
   "outputs": [],
   "source": [
    "# En todo caso, el número de enlaces físicos del fichero \"mifichero\" es 1\n",
    "ls -l dir1"
   ]
  },
  {
   "cell_type": "markdown",
   "id": "9827834a",
   "metadata": {},
   "source": [
    "## Espacio en disco\n",
    "\n",
    "En Linux, existen varias utilidades y comandos que te permiten gestionar y supervisar el espacio en disco de tu sistema. Estas herramientas son esenciales para administrar eficazmente el almacenamiento y asegurarte de que no se agote el espacio."
   ]
  },
  {
   "cell_type": "markdown",
   "id": "484fc35e-fad5-4dbe-abc4-d09d414cfee6",
   "metadata": {},
   "source": [
    "### Espacio libre disponible"
   ]
  },
  {
   "cell_type": "markdown",
   "id": "d76e90fd",
   "metadata": {},
   "source": [
    "Una de las utilidades más comunes para la gestión de espacio en disco es `df` (*disk free*): este comando informa de espacio total, libre y ocupado en todos los sistemas de ficheros montados (discos duros, disquetes, discos USB, etc.). Con la opción `-h` (*human readable*) podemos verlo en unidades más fácilmente legibles."
   ]
  },
  {
   "cell_type": "code",
   "execution_count": null,
   "id": "78369816-0141-4337-9041-a025cee37a6a",
   "metadata": {},
   "outputs": [],
   "source": [
    "df -h"
   ]
  },
  {
   "cell_type": "markdown",
   "id": "06912844-9ddc-488f-bcd4-47a59fd9add1",
   "metadata": {},
   "source": [
    "### Espacio ocupado por un fichero/directorio\n",
    "\n",
    "Otro de los comandos básicos para la gestión del espacio en disco es `du` (*disk used*), al cual se le proporciona como argumento los directorios cuyo espacio ocupado queremos conocer:\n",
    "\n",
    "```bash\n",
    "$ du -hs directorio1 ... \n",
    "```\n",
    "\n",
    "\n",
    "Este comando muestra los bloques que ocupan realmente en disco los directorios indicados y todo lo que cuelga de ellos. Las opciones `-h` y `-s` sirven, respectivamente, para indicar que el listado lo queremos en unidades de KiB, MiB o GiB (y no en bloques de 1024 bytes, como se muestra por defecto), y que queremos que se resuman los contenidos de cada directorio que se pasa como parámetro (en lugar de mostrar detalladamente lo que ocuparía cada entrada contenida dentro de dichos directorios)."
   ]
  },
  {
   "cell_type": "code",
   "execution_count": null,
   "id": "38b5c55f",
   "metadata": {},
   "outputs": [],
   "source": [
    "# Ejecuta esta celda para crear algunos ficheros\n",
    "rm -rf /tmp/bash-du\n",
    "mkdir -p /tmp/bash-du\n",
    "cd /tmp/bash-du\n",
    "# Clonamos el repositorio del editor \"nano\"\n",
    "git clone https://github.com/madnight/nano"
   ]
  },
  {
   "cell_type": "code",
   "execution_count": null,
   "id": "edd5a971",
   "metadata": {},
   "outputs": [],
   "source": [
    "du -hs nano/.git"
   ]
  },
  {
   "cell_type": "code",
   "execution_count": null,
   "id": "46be7564",
   "metadata": {},
   "outputs": [],
   "source": [
    "du -h nano/"
   ]
  },
  {
   "cell_type": "code",
   "execution_count": null,
   "id": "0d44d915",
   "metadata": {},
   "outputs": [],
   "source": [
    "# Creamos un fichero de tamaño pequeño (12 bytes)\n",
    "echo \"hola, mundo\" > hola"
   ]
  },
  {
   "cell_type": "code",
   "execution_count": null,
   "id": "b4d037bc",
   "metadata": {},
   "outputs": [],
   "source": [
    "ls -l hola"
   ]
  },
  {
   "cell_type": "code",
   "execution_count": null,
   "id": "7a5e19fc",
   "metadata": {},
   "outputs": [],
   "source": [
    "# Fíjate que el espacio en disco se asigna en bloques de 4KiB,\n",
    "# aunque el fichero tenga solo 12 bytes, ocupa 4KiB del espacio en disco\n",
    "du -h hola"
   ]
  },
  {
   "cell_type": "code",
   "execution_count": null,
   "id": "94424cf8",
   "metadata": {},
   "outputs": [],
   "source": [
    "mkdir \"prueba-dir\""
   ]
  },
  {
   "cell_type": "code",
   "execution_count": null,
   "id": "9a9d6b75",
   "metadata": {},
   "outputs": [],
   "source": [
    "# Y lo mismo ocurre con los directorios, aunque estén vacíos\n",
    "du -h prueba-dir"
   ]
  },
  {
   "cell_type": "code",
   "execution_count": null,
   "id": "6d411360",
   "metadata": {},
   "outputs": [],
   "source": [
    "ls -ld prueba-dir"
   ]
  },
  {
   "cell_type": "code",
   "execution_count": null,
   "id": "e1e78a9e",
   "metadata": {},
   "outputs": [],
   "source": [
    "# También podemos pasarle ficheros en vez de directorios\n",
    "du -h /usr/bin/ls"
   ]
  },
  {
   "cell_type": "code",
   "execution_count": null,
   "id": "a48d1839-c060-45c7-9e12-d2b27a6564fb",
   "metadata": {},
   "outputs": [],
   "source": [
    "# Aunque el tamaño que ocupa un único fichero se puede ver con ls -l\n",
    "ls -lh /usr/bin/ls"
   ]
  }
 ],
 "metadata": {
  "kernelspec": {
   "display_name": "Bash",
   "language": "bash",
   "name": "bash"
  },
  "language_info": {
   "codemirror_mode": "shell",
   "file_extension": ".sh",
   "mimetype": "text/x-sh",
   "name": "bash"
  },
  "toc": {
   "base_numbering": 1,
   "nav_menu": {},
   "number_sections": true,
   "sideBar": true,
   "skip_h1_title": true,
   "title_cell": "Table of Contents",
   "title_sidebar": "Contents",
   "toc_cell": false,
   "toc_position": {
    "height": "calc(100% - 180px)",
    "left": "10px",
    "top": "150px",
    "width": "296px"
   },
   "toc_section_display": true,
   "toc_window_display": false
  }
 },
 "nbformat": 4,
 "nbformat_minor": 5
}
