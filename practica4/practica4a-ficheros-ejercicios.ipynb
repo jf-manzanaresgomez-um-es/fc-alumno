{
 "cells": [
  {
   "cell_type": "markdown",
   "id": "8e983960",
   "metadata": {},
   "source": [
    "# Ejercicios - Práctica 4a: Manejo del sistema de ficheros en el *shell* de Linux."
   ]
  },
  {
   "cell_type": "markdown",
   "id": "12603fc2",
   "metadata": {},
   "source": [
    "<font size=\"4\">  \n",
    "    <span style=\"color: red;\">No olvides configurar Git para usar tu nombre y apellido(s), y tu dirección de correo electrónico universitario antes de comenzar.\n",
    "    </span>\n",
    "</font>\n",
    "\n",
    "Edita las primeras líneas de la siguiente celda con tu nombre y email y ejecútala para configurar tu entorno Git antes de empezar."
   ]
  },
  {
   "cell_type": "code",
   "execution_count": 1,
   "id": "9f68a80c",
   "metadata": {},
   "outputs": [],
   "source": [
    "# Establece tu identidad\n",
    "git config --global user.name \"Juan Fco Manzanares Gómez\"\n",
    "git config --global user.email \"jf.manzanaresgomez@um.es\"\n",
    "\n",
    "# Establece el editor por defecto\n",
    "# para los mensajes de commit\n",
    "git config --global core.editor \"gedit\""
   ]
  },
  {
   "cell_type": "markdown",
   "id": "1eceb1f9",
   "metadata": {},
   "source": [
    "<br>\n",
    "<font size=\"5\">  \n",
    "    <span style=\"color: red;\"><b>IMPORTANTE:</b><br> Añade este fichero a tu repositorio-bitácora \"fc-alumno\" <b>ANTES</b> de comenzar a realizar los ejercicios.\n",
    "    </span>\n",
    "</font>  \n",
    "<font size=\"4\">  \n",
    "    Sigue las instrucciones a continuación.\n",
    "</font>"
   ]
  },
  {
   "cell_type": "markdown",
   "id": "5585b1f2",
   "metadata": {},
   "source": [
    "Recuerda que para poder registrar tu trabajo en tu bitácora personal de prácticas, debes evitar trabajar en una copia de este *notebook* que no esté bajo control de versiones en Git en tu repositorio. Por ello, **ANTES DE REALIZAR NINGÚN CAMBIO en este fichero asegúrate de COLOCARLO DENTRO DIRECTORIO DE TU REPOSITORIO-BITÁCORA `fc-alumno`** y añadirlo al repositorio:\n",
    "1. Cierra esta pestaña del navegador sin guardar los cambios.\n",
    "2. Muévelo desde donde lo hayas descargado del AV (p.ej. `$HOME/Descargas`) al directorio donde tengas tu repositorio (se recomienda `$HOME/fc-alumno`).\n",
    "3. Añádelo al repositorio:\n",
    "    * `git add practica4a-ficheros-ejercicios.ipynb`\n",
    "    * `git commit -m \"Añadiendo el notebook de ejercicios de la práctica 4a (sin empezar)\"`"
   ]
  },
  {
   "cell_type": "markdown",
   "id": "055d9927",
   "metadata": {},
   "source": [
    "### Manipulación del sistema de ficheros.\n",
    "\n",
    "Al igual que en la práctica 1 al comienzo del curso, vamos a hacer uso de los ficheros de ejemplo que tienes disponibles en el Aula Virtual (Recursos->Prácticas->P4). Descarga el fichero `ficheros_ejemplo.zip` y descomprímelo en tu directorio personal. El árbol de directorios en que se organizan los ficheros de ejemplo se puede observar a continuación:"
   ]
  },
  {
   "cell_type": "markdown",
   "id": "b089eec7",
   "metadata": {},
   "source": [
    "```\n",
    "ficheros_ejemplo\n",
    "├── nano\n",
    "│   ├── docu\n",
    "│   ├── m4\n",
    "│   ├── po\n",
    "│   ├── src\n",
    "│   └── syntax\n",
    "│       └── extra\n",
    "└── sample_files\n",
    "    ├── audio\n",
    "    │   ├── mp3\n",
    "    │   ├── ogg\n",
    "    │   ├── wav\n",
    "    │   └── wma\n",
    "    ├── docu\n",
    "    │   ├── docu\n",
    "    │   ├── docux\n",
    "    │   ├── pdf\n",
    "    │   ├── rtf\n",
    "    │   ├── txt\n",
    "    │   ├── xls\n",
    "    │   └── xlsx\n",
    "    ├── image\n",
    "    │   ├── bmp\n",
    "    │   ├── gif\n",
    "    │   ├── jpg\n",
    "    │   ├── png\n",
    "    │   └── tiff\n",
    "    └── video\n",
    "        ├── flv\n",
    "        ├── mkv\n",
    "        ├── mov\n",
    "        └── mp4\n",
    "\n",
    "```"
   ]
  },
  {
   "cell_type": "markdown",
   "id": "080049b0",
   "metadata": {},
   "source": [
    "Una vez lo tengas preparado, empezando desde tu directorio personal, realiza los siguientes ejercicios, utilizando en todo caso **RUTAS RELATIVAS**. \n",
    "\n",
    "<span style=\"color: red;\">Recuerda utilizar el tabulador </span> para facilitar la navegación por el sistema de ficheros al autocompletar los nombres de ficheros y directorios.\n"
   ]
  },
  {
   "cell_type": "code",
   "execution_count": 2,
   "id": "f9385319",
   "metadata": {},
   "outputs": [],
   "source": [
    "# Ejecuta esta celda para restaurar el estado de los ficheros\n",
    "# Para ello, necesitas colocar el 'ficheros_ejemplo.zip' en tu directorio personal\n",
    "\n",
    "cd ~/ficheros_ejemplo/sample_files"
   ]
  },
  {
   "cell_type": "code",
   "execution_count": 3,
   "id": "ad64fbf9-0045-434a-ba9d-9075f559ef77",
   "metadata": {},
   "outputs": [
    {
     "name": "stdout",
     "output_type": "stream",
     "text": [
      "\u001b[0m\u001b[01;34maudio\u001b[0m  \u001b[01;34mdocument\u001b[0m  \u001b[01;34mimage\u001b[0m  LICENSE  README.md  \u001b[01;34mvideo\u001b[0m\n"
     ]
    }
   ],
   "source": [
    "ls"
   ]
  },
  {
   "cell_type": "code",
   "execution_count": 4,
   "id": "f457d447",
   "metadata": {},
   "outputs": [],
   "source": [
    "# Cámbiate al directorio \"image\"\n",
    "cd image"
   ]
  },
  {
   "cell_type": "code",
   "execution_count": 5,
   "id": "75144a2b",
   "metadata": {},
   "outputs": [
    {
     "name": "stdout",
     "output_type": "stream",
     "text": [
      "\u001b[0m\u001b[01;34mbmp\u001b[0m  \u001b[01;34mgif\u001b[0m  \u001b[01;34mjpg\u001b[0m  \u001b[01;34mpng\u001b[0m  \u001b[01;34mtiff\u001b[0m\n"
     ]
    }
   ],
   "source": [
    "# Lista el contenido del directorio\n",
    "ls"
   ]
  },
  {
   "cell_type": "code",
   "execution_count": 6,
   "id": "0e047617",
   "metadata": {},
   "outputs": [
    {
     "name": "stdout",
     "output_type": "stream",
     "text": [
      " \u001b[0m\u001b[01;35massorted_colour_laser_light.jpg\u001b[0m   \u001b[01;35mlilac_calla_lilies.jpg\u001b[0m\n",
      " \u001b[01;35massorted_pebble_rocks.jpg\u001b[0m         \u001b[01;35mocean_waves.jpg\u001b[0m\n",
      " \u001b[01;35mbirds_eye_beach.jpg\u001b[0m               \u001b[01;35morange_juice_glass.jpg\u001b[0m\n",
      " \u001b[01;35mbitcoin.jpg\u001b[0m                       \u001b[01;35mshanghai_black_and_white.jpg\u001b[0m\n",
      " \u001b[01;35mcocktail_on_the_beach.jpg\u001b[0m         \u001b[01;35mstacked_ice_cubes.jpg\u001b[0m\n",
      " \u001b[01;35meagle_closeup.jpg\u001b[0m                \u001b[01;35m'tiger_lying_on _the_ground.jpg'\u001b[0m\n",
      " \u001b[01;35megg_pattern.jpg\u001b[0m                   \u001b[01;35mtulip_field.jpg\u001b[0m\n",
      " \u001b[01;35melephants.jpg\u001b[0m                     \u001b[01;35mwaterfall_long_exposure_2.jpg\u001b[0m\n",
      " \u001b[01;35mhexagon_building_facade.jpg\u001b[0m       \u001b[01;35mwaterfall_long_exposure.jpg\u001b[0m\n",
      " \u001b[01;35mlemon_patern_wallpaper.jpg\u001b[0m        \u001b[01;35myorkshire_terrier_dog.jpg\u001b[0m\n"
     ]
    }
   ],
   "source": [
    "# Lista el contenido del directorio jpg\n",
    "ls jpg"
   ]
  },
  {
   "cell_type": "code",
   "execution_count": 8,
   "id": "63abaeab",
   "metadata": {},
   "outputs": [
    {
     "name": "stdout",
     "output_type": "stream",
     "text": [
      "\u001b[0m\u001b[01;35mjpg/bitcoin.jpg\u001b[0m\n"
     ]
    }
   ],
   "source": [
    "# Lista todos los ficheros situados en \"jpg\"\n",
    "# cuyo nombre tenga exactamente 7 caracteres\n",
    "# seguidos de \".jpg\"\n",
    "ls jpg/???????.jpg"
   ]
  },
  {
   "cell_type": "markdown",
   "id": "a8fceec0",
   "metadata": {},
   "source": [
    "SALIDA: \n",
    "```bash\n",
    "jpg/bitcoin.jpg\n",
    "```"
   ]
  },
  {
   "cell_type": "code",
   "execution_count": 9,
   "id": "ffc02819",
   "metadata": {},
   "outputs": [
    {
     "name": "stdout",
     "output_type": "stream",
     "text": [
      "\u001b[0m\u001b[01;35mjpg/assorted_pebble_rocks.jpg\u001b[0m  \u001b[01;35mjpg/elephants.jpg\u001b[0m\n",
      "\u001b[01;35mjpg/eagle_closeup.jpg\u001b[0m          \u001b[01;35mjpg/lemon_patern_wallpaper.jpg\u001b[0m\n"
     ]
    }
   ],
   "source": [
    "# Lista todos los ficheros situados en \"jpg\"\n",
    "# cuyo nombre contenga la cadena \"le\"\n",
    "ls jpg/*le*"
   ]
  },
  {
   "cell_type": "markdown",
   "id": "19ff3d07",
   "metadata": {},
   "source": [
    "SALIDA: \n",
    "```bash\n",
    "jpg/assorted_pebble_rocks.jpg  jpg/elephants.jpg\n",
    "jpg/eagle_closeup.jpg          jpg/lemon_patern_wallpaper.jpg\n",
    "```"
   ]
  },
  {
   "cell_type": "code",
   "execution_count": 10,
   "id": "04d88742",
   "metadata": {},
   "outputs": [
    {
     "name": "stdout",
     "output_type": "stream",
     "text": [
      "ls: no se puede acceder a 'jpg/*lef*': No existe el archivo o el directorio\n",
      "ls: no se puede acceder a 'jpg/*terp*': No existe el archivo o el directorio\n",
      " \u001b[0m\u001b[01;35mjpg/elephants.jpg\u001b[0m                   \u001b[01;35mjpg/waterfall_long_exposure.jpg\u001b[0m\n",
      " \u001b[01;35mjpg/waterfall_long_exposure_2.jpg\u001b[0m\n"
     ]
    },
    {
     "ename": "",
     "evalue": "2",
     "output_type": "error",
     "traceback": []
    }
   ],
   "source": [
    "# Lista todos los ficheros situados en \"jpg\"\n",
    "# cuyo nombre contenga las cadenas \"le\" o \"ter\"\n",
    "# seguidas de la letra 'p' o 'f'\n",
    "ls jpg/*{le,ter}{p,f}*"
   ]
  },
  {
   "cell_type": "markdown",
   "id": "a0a04734",
   "metadata": {},
   "source": [
    "SALIDA: \n",
    "```bash\n",
    "jpg/elephants.jpg                  jpg/waterfall_long_exposure.jpg\n",
    "jpg/waterfall_long_exposure_2.jpg\n",
    "```"
   ]
  },
  {
   "cell_type": "code",
   "execution_count": 12,
   "id": "e537a0e2",
   "metadata": {},
   "outputs": [
    {
     "name": "stdout",
     "output_type": "stream",
     "text": [
      "\u001b[0m\u001b[01;35mjpg/assorted_colour_laser_light.jpg\u001b[0m  \u001b[01;35mjpg/assorted_pebble_rocks.jpg\u001b[0m\n"
     ]
    }
   ],
   "source": [
    "# Lista todos los ficheros situados en \"jpg\"\n",
    "# cuyo nombre comience con dos caracteres cualquiera\n",
    "# seguidos de la cadena \"sort\"\n",
    "ls jpg/??sort*"
   ]
  },
  {
   "cell_type": "markdown",
   "id": "e571a9aa",
   "metadata": {},
   "source": [
    "SALIDA: \n",
    "```bash\n",
    "jpg/assorted_colour_laser_light.jpg  jpg/assorted_pebble_rocks.jpg\n",
    "```"
   ]
  },
  {
   "cell_type": "code",
   "execution_count": 13,
   "id": "020d8068",
   "metadata": {},
   "outputs": [
    {
     "name": "stdout",
     "output_type": "stream",
     "text": [
      "\u001b[0m\u001b[01;35mjpg/assorted_colour_laser_light.jpg\u001b[0m  \u001b[01;35mjpg/waterfall_long_exposure.jpg\u001b[0m\n",
      "\u001b[01;35mjpg/assorted_pebble_rocks.jpg\u001b[0m        \u001b[01;35mjpg/yorkshire_terrier_dog.jpg\u001b[0m\n",
      "\u001b[01;35mjpg/waterfall_long_exposure_2.jpg\u001b[0m\n"
     ]
    }
   ],
   "source": [
    "# Lista todos los ficheros situados en \"jpg\"\n",
    "# cuyo nombre NO comienze por los caracteres\n",
    "# de la 'b' a la 't'\n",
    "ls jpg/[!b-t]*"
   ]
  },
  {
   "cell_type": "markdown",
   "id": "4dc1f60a",
   "metadata": {},
   "source": [
    "SALIDA: \n",
    "```bash\n",
    "jpg/assorted_colour_laser_light.jpg  jpg/waterfall_long_exposure.jpg\n",
    "jpg/assorted_pebble_rocks.jpg        jpg/yorkshire_terrier_dog.jpg\n",
    "jpg/waterfall_long_exposure_2.jpg\n",
    "```"
   ]
  },
  {
   "cell_type": "code",
   "execution_count": 15,
   "id": "548fabb4",
   "metadata": {},
   "outputs": [
    {
     "name": "stdout",
     "output_type": "stream",
     "text": [
      "\u001b[0m\u001b[01;35mjpg/waterfall_long_exposure_2.jpg\u001b[0m\n"
     ]
    }
   ],
   "source": [
    "# Lista todos los ficheros situados en cualquier subdirectorio\n",
    "# inmediato de \"image\" (bmp, gif, etc.) cuyo nombre contenga al menos un carácter numérico\n",
    "ls */*[1-9]*"
   ]
  },
  {
   "cell_type": "markdown",
   "id": "c4192ad2",
   "metadata": {},
   "source": [
    "SALIDA: \n",
    "```bash\n",
    "jpg/waterfall_long_exposure_2.jpg\n",
    "```"
   ]
  },
  {
   "cell_type": "code",
   "execution_count": 16,
   "id": "3b93668f",
   "metadata": {},
   "outputs": [
    {
     "name": "stdout",
     "output_type": "stream",
     "text": [
      "ls: no se puede acceder a '*/*fall*f': No existe el archivo o el directorio\n",
      "ls: no se puede acceder a '*/*bri*g': No existe el archivo o el directorio\n",
      " \u001b[0m\u001b[01;35mjpg/waterfall_long_exposure_2.jpg\u001b[0m   \u001b[01;35mtiff/london_bridge.tiff\u001b[0m\n",
      " \u001b[01;35mjpg/waterfall_long_exposure.jpg\u001b[0m     \u001b[01;35mtiff/rolled_fabric_stack.tiff\u001b[0m\n"
     ]
    },
    {
     "ename": "",
     "evalue": "2",
     "output_type": "error",
     "traceback": []
    }
   ],
   "source": [
    "# Lista todos los ficheros situados en cualquier subdirectorio\n",
    "# inmediato de \"image\" (bmp, gif, etc.) cuyo nombre contenga \n",
    "# las cadenas \"fall\" o \"bri\", y acaben con la letra 'g' o 'f'\n",
    "ls */*{fall,bri}*{g,f}"
   ]
  },
  {
   "cell_type": "markdown",
   "id": "1298f7f0",
   "metadata": {},
   "source": [
    "SALIDA: \n",
    "```bash\n",
    "jpg/waterfall_long_exposure_2.jpg  tiff/london_bridge.tiff\n",
    "jpg/waterfall_long_exposure.jpg    tiff/rolled_fabric_stack.tiff\n",
    "```"
   ]
  },
  {
   "cell_type": "code",
   "execution_count": 17,
   "id": "095b0a98",
   "metadata": {},
   "outputs": [],
   "source": [
    "# Cámbiate al directorio padre\n",
    "cd .."
   ]
  },
  {
   "cell_type": "code",
   "execution_count": 18,
   "id": "afae6aee",
   "metadata": {},
   "outputs": [
    {
     "name": "stdout",
     "output_type": "stream",
     "text": [
      "\u001b[0m\u001b[01;34maudio\u001b[0m  \u001b[01;34mdocument\u001b[0m  \u001b[01;34mimage\u001b[0m  LICENSE  README.md  \u001b[01;34mvideo\u001b[0m\n"
     ]
    }
   ],
   "source": [
    "# Lista su contenido\n",
    "ls"
   ]
  },
  {
   "cell_type": "markdown",
   "id": "9a7ad13e",
   "metadata": {},
   "source": [
    "SALIDA: \n",
    "```bash\n",
    "audio  document  image  LICENSE  README.md  video\n",
    "```"
   ]
  },
  {
   "cell_type": "code",
   "execution_count": 19,
   "id": "bdd37b93-5b2a-454b-9b5a-c2819c4dc677",
   "metadata": {},
   "outputs": [],
   "source": [
    "# Crea una copia íntegra del directorio \"document\" llamada \"docu\" (Pista: opción -r)\n",
    "cp -r document ./docu"
   ]
  },
  {
   "cell_type": "code",
   "execution_count": 20,
   "id": "1169c3d4",
   "metadata": {},
   "outputs": [
    {
     "name": "stdout",
     "output_type": "stream",
     "text": [
      "docu/rtf:\n",
      "file-sample_100kB.rtf  file-sample_300kB.rtf\n",
      "file-sample_1MB.rtf    file-sample_500kB.rtf\n",
      "\n",
      "docu/txt:\n",
      "sample1.txt  sample2.txt  sample3.txt\n",
      "\n",
      "docu/xls:\n",
      "file_example_XLS_1000.xls  file_example_XLS_5000.xls  sample2.xls\n",
      "file_example_XLS_100.xls   file_example_XLS_50.xls    sample3.xls\n",
      "file_example_XLS_10.xls    sample1.xls\n"
     ]
    }
   ],
   "source": [
    "# Lista el contenido de los directorios \"txt\", \"rtf\" y \"xls\" (situados dentro de \"docu\")\n",
    "ls docu/{txt,rtf,xls}"
   ]
  },
  {
   "cell_type": "markdown",
   "id": "10754ebb",
   "metadata": {},
   "source": [
    "SALIDA: \n",
    "```bash\n",
    "docu/rtf:\n",
    "file-sample_100kB.rtf  file-sample_300kB.rtf\n",
    "file-sample_1MB.rtf    file-sample_500kB.rtf\n",
    "\n",
    "docu/txt:\n",
    "sample1.txt  sample2.txt  sample3.txt\n",
    "\n",
    "docu/xls:\n",
    "file_example_XLS_1000.xls  file_example_XLS_5000.xls  sample2.xls\n",
    "file_example_XLS_100.xls   file_example_XLS_50.xls    sample3.xls\n",
    "file_example_XLS_10.xls    sample1.xls\n",
    "```"
   ]
  },
  {
   "cell_type": "code",
   "execution_count": 21,
   "id": "c5e70b8f",
   "metadata": {},
   "outputs": [
    {
     "name": "stdout",
     "output_type": "stream",
     "text": [
      "/home/kiko/ficheros_ejemplo/sample_files\n"
     ]
    }
   ],
   "source": [
    "# Muestra cuál es el directorio actual\n",
    "pwd"
   ]
  },
  {
   "cell_type": "code",
   "execution_count": 22,
   "id": "7afb2190-f4f6-4d6f-8012-b08ebd3ba2f2",
   "metadata": {},
   "outputs": [],
   "source": [
    "# Crea cuatro directorios llamados samples1 samples2 samples3 samples4\n",
    "mkdir samples1 samples2 samples3 samples4"
   ]
  },
  {
   "cell_type": "code",
   "execution_count": 24,
   "id": "5fc4385d-2d79-4752-b912-18ba519ecb22",
   "metadata": {},
   "outputs": [],
   "source": [
    "# Copia el fichero \"sample1.txt\" (situado en \"docu/txt\")\n",
    "# al directorio \"samples1\"\n",
    "cp docu/txt/sample1.txt ./samples1"
   ]
  },
  {
   "cell_type": "code",
   "execution_count": 25,
   "id": "752cbc4a-fd2d-43e4-97b0-8008c23c6891",
   "metadata": {},
   "outputs": [],
   "source": [
    "# Copia el fichero \"sample2.txt\" (situado en \"docu/txt\")\n",
    "# al directorio \"samples1\", de forma que la nueva copia se llame \"ejemplo2.txt\"\n",
    "cp docu/txt/sample2.txt samples1/ejemplo2.txt"
   ]
  },
  {
   "cell_type": "code",
   "execution_count": 26,
   "id": "d519c0ba-9344-497b-b68a-cd3c29f41076",
   "metadata": {},
   "outputs": [],
   "source": [
    "# Mueve el fichero \"sample3.txt\" (situado en \"docu/txt\")\n",
    "# al directorio \"samples1\", de forma que ahora se llame \"ejemplo3.txt\"\n",
    "cp docu/txt/sample3.txt samples1/ejemplo3.txt"
   ]
  },
  {
   "cell_type": "code",
   "execution_count": 34,
   "id": "fd733415-d046-4698-8a60-c3304e6edd14",
   "metadata": {},
   "outputs": [
    {
     "name": "stdout",
     "output_type": "stream",
     "text": [
      "mv: no se puede efectuar `stat' sobre 'docu/rtf/*{sample}*': No existe el archivo o el directorio\n"
     ]
    },
    {
     "ename": "",
     "evalue": "1",
     "output_type": "error",
     "traceback": []
    }
   ],
   "source": [
    "# Mueve los ficheros cuyo nombre contenga la cadena \"sample\" (situados en \"docu/rft\")\n",
    "# al directorio \"samples1\"\n",
    "mv -f docu/rtf/*{sample}*  ./samples1"
   ]
  },
  {
   "cell_type": "code",
   "execution_count": 35,
   "id": "10c83c16-d72d-4b4e-9f69-aa63c7a7aa56",
   "metadata": {},
   "outputs": [
    {
     "name": "stdout",
     "output_type": "stream",
     "text": [
      "ejemplo2.txt  file-sample_100kB.rtf  file-sample_300kB.rtf  sample1.txt\n",
      "ejemplo3.txt  file-sample_1MB.rtf    file-sample_500kB.rtf\n"
     ]
    }
   ],
   "source": [
    "ls samples1"
   ]
  },
  {
   "cell_type": "markdown",
   "id": "b78cf141",
   "metadata": {},
   "source": [
    "SALIDA: \n",
    "```bash\n",
    "ejemplo2.txt  file-sample_100kB.rtf  file-sample_300kB.rtf  sample1.txt\n",
    "ejemplo3.txt  file-sample_1MB.rtf    file-sample_500kB.rtf\n",
    "```"
   ]
  },
  {
   "cell_type": "code",
   "execution_count": 39,
   "id": "f689cbcc-97fd-4da4-8848-682c180c68ee",
   "metadata": {},
   "outputs": [
    {
     "name": "stdout",
     "output_type": "stream",
     "text": [
      "rm: no se puede borrar 'samples1/*[1-9][1-9]*': No existe el archivo o el directorio\n"
     ]
    },
    {
     "ename": "",
     "evalue": "1",
     "output_type": "error",
     "traceback": []
    }
   ],
   "source": [
    "# Borra los ficheros del directorio \"sample1\" cuyo nombre contenga dos caracteres numéricos consecutivos\n",
    "rm samples1/*[1-9][1-9]*"
   ]
  },
  {
   "cell_type": "code",
   "execution_count": 40,
   "id": "e2567a5b-191f-44c8-b0fd-b7aa0604fb96",
   "metadata": {},
   "outputs": [
    {
     "name": "stdout",
     "output_type": "stream",
     "text": [
      "ejemplo2.txt  file-sample_100kB.rtf  file-sample_300kB.rtf  sample1.txt\n",
      "ejemplo3.txt  file-sample_1MB.rtf    file-sample_500kB.rtf\n"
     ]
    }
   ],
   "source": [
    "ls samples1"
   ]
  },
  {
   "cell_type": "markdown",
   "id": "883c589b",
   "metadata": {},
   "source": [
    "SALIDA: \n",
    "```bash\n",
    "ejemplo2.txt  ejemplo3.txt  file-sample_1MB.rtf  sample1.txt\n",
    "```"
   ]
  },
  {
   "cell_type": "code",
   "execution_count": 41,
   "id": "a3fed0a3-f1ec-461b-a226-d0002ccf4cb3",
   "metadata": {},
   "outputs": [
    {
     "name": "stdout",
     "output_type": "stream",
     "text": [
      "Utilitatis causa amicitia est quaesita.\n",
      "Lorem ipsum dolor sit amet, consectetur adipiscing elit. Collatio igitur ista te nihil iuvat. Honesta oratio, Socratica, Platonis etiam. Primum in nostrane potestate est, quid meminerimus? Duo Reges: constructio interrete. Quid, si etiam iucunda memoria est praeteritorum malorum? Si quidem, inquit, tollerem, sed relinquo. An nisi populari fama?\n",
      "\n",
      "Quamquam id quidem licebit iis existimare, qui legerint. Summum a vobis bonum voluptas dicitur. At hoc in eo M. Refert tamen, quo modo. Quid sequatur, quid repugnet, vident. Iam id ipsum absurdum, maximum malum neglegi.\n",
      "\n"
     ]
    }
   ],
   "source": [
    "# Muestra el contenido del fichero sample1.txt situado en \"samples1\"\n",
    "cat samples1/sample1.txt"
   ]
  },
  {
   "cell_type": "markdown",
   "id": "178406c5",
   "metadata": {},
   "source": [
    "SALIDA: \n",
    "```bash\n",
    "Utilitatis causa amicitia est quaesita.\n",
    "Lorem ipsum dolor sit amet, consectetur adipiscing elit. Collatio igitur ista te nihil iuvat. Honesta oratio, Socratica, Platonis etiam. Primum in nostrane potestate est, quid meminerimus? Duo Reges: constructio interrete. Quid, si etiam iucunda memoria est praeteritorum malorum? Si quidem, inquit, tollerem, sed relinquo. An nisi populari fama?\n",
    "\n",
    "Quamquam id quidem licebit iis existimare, qui legerint. Summum a vobis bonum voluptas dicitur. At hoc in eo M. Refert tamen, quo modo. Quid sequatur, quid repugnet, vident. Iam id ipsum absurdum, maximum malum neglegi.\n",
    "```"
   ]
  },
  {
   "cell_type": "code",
   "execution_count": 42,
   "id": "311b2e1b-5aa9-4c8f-859a-791bf47e14c0",
   "metadata": {},
   "outputs": [],
   "source": [
    "# Copia los ficheros que empiecen por f y acaben por .xls (situados en \"docu/xls\")\n",
    "# al directorio \"samples2\"\n",
    "cp docu/xls/f*.xls samples2"
   ]
  },
  {
   "cell_type": "code",
   "execution_count": 43,
   "id": "9d7e89ec",
   "metadata": {},
   "outputs": [
    {
     "name": "stdout",
     "output_type": "stream",
     "text": [
      "file_example_XLS_1000.xls  file_example_XLS_10.xls    file_example_XLS_50.xls\n",
      "file_example_XLS_100.xls   file_example_XLS_5000.xls\n"
     ]
    }
   ],
   "source": [
    "ls samples2"
   ]
  },
  {
   "cell_type": "markdown",
   "id": "4fd1dbe8",
   "metadata": {},
   "source": [
    "SALIDA: \n",
    "```bash\n",
    "file_example_XLS_1000.xls  file_example_XLS_10.xls    file_example_XLS_50.xls\n",
    "file_example_XLS_100.xls   file_example_XLS_5000.xls\n",
    "```"
   ]
  },
  {
   "cell_type": "code",
   "execution_count": 44,
   "id": "bb58f341-0ddc-45c7-aab4-1cab124a2b05",
   "metadata": {},
   "outputs": [],
   "source": [
    "# Copia todos los ficheros situados en \"samples1\"\n",
    "# al directorio \"samples2\"\n",
    "cp samples1/* samples2"
   ]
  },
  {
   "cell_type": "code",
   "execution_count": 45,
   "id": "a9da4312-0dc2-4c5b-bc49-01d21563f8d5",
   "metadata": {},
   "outputs": [
    {
     "name": "stdout",
     "output_type": "stream",
     "text": [
      "ejemplo2.txt               file_example_XLS_10.xls    file-sample_1MB.rtf\n",
      "ejemplo3.txt               file_example_XLS_5000.xls  file-sample_300kB.rtf\n",
      "file_example_XLS_1000.xls  file_example_XLS_50.xls    file-sample_500kB.rtf\n",
      "file_example_XLS_100.xls   file-sample_100kB.rtf      sample1.txt\n"
     ]
    }
   ],
   "source": [
    "ls samples2"
   ]
  },
  {
   "cell_type": "markdown",
   "id": "e4df0cee",
   "metadata": {},
   "source": [
    "SALIDA: \n",
    "```bash\n",
    "ejemplo2.txt               file_example_XLS_100.xls   file_example_XLS_50.xls\n",
    "ejemplo3.txt               file_example_XLS_10.xls    file-sample_1MB.rtf\n",
    "file_example_XLS_1000.xls  file_example_XLS_5000.xls  sample1.txt\n",
    "```"
   ]
  },
  {
   "cell_type": "code",
   "execution_count": 46,
   "id": "0c7e705a-7cc4-4de8-ac01-00c47e17c4d0",
   "metadata": {},
   "outputs": [],
   "source": [
    "# Renombra el fichero \"file_example_XLS_100.xls\" en la carpeta \"samples2\"\n",
    "# para que pase a llamarse \"ejemplo_100.xls\"\n",
    "mv samples2/file_example_XLS_100.xls samples2/ejemplo_100.xls"
   ]
  },
  {
   "cell_type": "code",
   "execution_count": 47,
   "id": "73f6dad7-63ce-49ff-897d-17c568882075",
   "metadata": {},
   "outputs": [],
   "source": [
    "# Borra los ficheros cuyo nombre contenga las cadena \"sample\" o \"example\", situados en \n",
    "# el directorio \"samples2\"\n",
    "rm samples2/*{sample,example}*"
   ]
  },
  {
   "cell_type": "code",
   "execution_count": 51,
   "id": "8068f6dc-4144-425d-b815-0ee63f1fb862",
   "metadata": {},
   "outputs": [
    {
     "name": "stdout",
     "output_type": "stream",
     "text": [
      "ejemplo_100.xls  ejemplo2.txt  ejemplo3.txt\n"
     ]
    }
   ],
   "source": [
    "ls samples2"
   ]
  },
  {
   "cell_type": "markdown",
   "id": "95174a49",
   "metadata": {},
   "source": [
    "SALIDA: \n",
    "```bash\n",
    "ejemplo_100.xls  ejemplo2.txt  ejemplo3.txt\n",
    "```"
   ]
  },
  {
   "cell_type": "code",
   "execution_count": 55,
   "id": "3490441b-113e-4eab-8eba-07ef1add549d",
   "metadata": {},
   "outputs": [],
   "source": [
    "# Copia los ficheros cuyo nombre comience por \"sample\" que estén\n",
    "# situados en cualquier subdirectorio inmediato de \"docu\" (p.ej. docu/txt, docu/pdf, ...).\n",
    "# al directorio \"samples3\"\n",
    "cp docu/*/sample* samples3"
   ]
  },
  {
   "cell_type": "code",
   "execution_count": 56,
   "id": "2b942712-e887-41ff-bfd9-cf07a55a5d78",
   "metadata": {},
   "outputs": [
    {
     "name": "stdout",
     "output_type": "stream",
     "text": [
      "sample1.doc   sample1.xls   sample2.pdf   sample3.docx  sample3.xlsx\n",
      "sample1.docx  sample1.xlsx  sample2.txt   sample3.pdf   sample4.docx\n",
      "sample1.pdf   sample2.doc   sample2.xls   sample3.txt\n",
      "sample1.txt   sample2.docx  sample2.xlsx  sample3.xls\n"
     ]
    }
   ],
   "source": [
    "ls samples3"
   ]
  },
  {
   "cell_type": "markdown",
   "id": "d81f4854",
   "metadata": {},
   "source": [
    "SALIDA: \n",
    "```bash\n",
    "sample1.doc   sample1.xls   sample2.pdf   sample3.docx  sample4.docx\n",
    "sample1.docx  sample1.xlsx  sample2.txt   sample3.pdf\n",
    "sample1.pdf   sample2.doc   sample2.xls   sample3.xls\n",
    "sample1.txt   sample2.docx  sample2.xlsx  sample3.xlsx\n",
    "```"
   ]
  },
  {
   "cell_type": "code",
   "execution_count": 57,
   "id": "f725a604-3b33-4583-b67d-b45999d084ae",
   "metadata": {},
   "outputs": [],
   "source": [
    "# Borra los ficheros de \"samples3\" cuyo nombre contenga el carácter x o el carácter f\n",
    "rm samples3/*{x,f}*"
   ]
  },
  {
   "cell_type": "code",
   "execution_count": 58,
   "id": "b30dbd32-2c20-4ce0-bccf-e72c4453be4e",
   "metadata": {},
   "outputs": [
    {
     "name": "stdout",
     "output_type": "stream",
     "text": [
      "sample1.doc  sample2.doc\n"
     ]
    }
   ],
   "source": [
    "ls samples3"
   ]
  },
  {
   "cell_type": "markdown",
   "id": "1d6cf517",
   "metadata": {},
   "source": [
    "SALIDA: \n",
    "```bash\n",
    "sample1.doc  sample2.doc\n",
    "```"
   ]
  },
  {
   "cell_type": "code",
   "execution_count": 61,
   "id": "4e48928a-8d59-4506-894a-7c2620a2e6ab",
   "metadata": {},
   "outputs": [],
   "source": [
    "# Copia los ficheros cuyo nombre termine por \"pdf\" o \"docu\",\n",
    "# situados en cualquier subdirectorio inmediato de \"docu\", al directorio samples4\n",
    "cp docu/*/*{pdf,doc} samples4"
   ]
  },
  {
   "cell_type": "code",
   "execution_count": 62,
   "id": "4c8a20a8-5843-467a-b87a-773ac0763843",
   "metadata": {},
   "outputs": [
    {
     "name": "stdout",
     "output_type": "stream",
     "text": [
      "file-example_PDF_1MB.pdf     file-sample_150kB.pdf  sample1.doc  sample2.pdf\n",
      "file-example_PDF_500_kB.pdf  file-sample_1MB.doc    sample1.pdf  sample3.pdf\n",
      "file-sample_100kB.doc        file-sample_500kB.doc  sample2.doc\n"
     ]
    }
   ],
   "source": [
    "ls samples4"
   ]
  },
  {
   "cell_type": "markdown",
   "id": "0812c9d1",
   "metadata": {},
   "source": [
    "SALIDA: \n",
    "```bash\n",
    "file-example_PDF_1MB.pdf     file-sample_150kB.pdf  sample1.doc  sample2.pdf\n",
    "file-example_PDF_500_kB.pdf  file-sample_1MB.doc    sample1.pdf  sample3.pdf\n",
    "file-sample_100kB.doc        file-sample_500kB.doc  sample2.doc\n",
    "```"
   ]
  },
  {
   "cell_type": "code",
   "execution_count": 64,
   "id": "a70e4ea2-3253-4dfb-928f-2a0e7880ff50",
   "metadata": {},
   "outputs": [],
   "source": [
    "# Copia los ficheros cuyo nombre empiece por \"sample\",\n",
    "# situados en los directorios \"docx\" o \"xlsx\" al directorio \"samples4\"\n",
    "cp docu/{docx,xlsx}/sample* samples4"
   ]
  },
  {
   "cell_type": "code",
   "execution_count": 65,
   "id": "a19663a4-0a58-4a64-875a-a4ff3b117620",
   "metadata": {},
   "outputs": [
    {
     "name": "stdout",
     "output_type": "stream",
     "text": [
      "file-example_PDF_1MB.pdf     file-sample_500kB.doc  sample2.doc   sample3.pdf\n",
      "file-example_PDF_500_kB.pdf  sample1.doc            sample2.docx  sample3.xlsx\n",
      "file-sample_100kB.doc        sample1.docx           sample2.pdf   sample4.docx\n",
      "file-sample_150kB.pdf        sample1.pdf            sample2.xlsx\n",
      "file-sample_1MB.doc          sample1.xlsx           sample3.docx\n"
     ]
    }
   ],
   "source": [
    "ls samples4"
   ]
  },
  {
   "cell_type": "markdown",
   "id": "8eed122c",
   "metadata": {},
   "source": [
    "SALIDA: \n",
    "```bash\n",
    "file-example_PDF_1MB.pdf     file-sample_500kB.doc  sample2.doc   sample3.pdf\n",
    "file-example_PDF_500_kB.pdf  sample1.doc            sample2.docx  sample3.xlsx\n",
    "file-sample_100kB.doc        sample1.docx           sample2.pdf   sample4.docx\n",
    "file-sample_150kB.pdf        sample1.pdf            sample2.xlsx\n",
    "file-sample_1MB.doc          sample1.xlsx           sample3.docx\n",
    "```"
   ]
  },
  {
   "cell_type": "code",
   "execution_count": 66,
   "id": "9fa194e2-c4ff-4b87-85ca-57e2a9072136",
   "metadata": {},
   "outputs": [],
   "source": [
    "# Borra los ficheros de \"samples4\" que terminen en \"docx\" y contengan un carácter numérico menor que 4\n",
    "rm samples4/*[0-3]*docx"
   ]
  },
  {
   "cell_type": "code",
   "execution_count": 67,
   "id": "cb2bfb30-9681-4a5a-b46b-824e8db960a8",
   "metadata": {},
   "outputs": [
    {
     "name": "stdout",
     "output_type": "stream",
     "text": [
      "samples4/sample4.docx\n"
     ]
    }
   ],
   "source": [
    "# Lista los ficheros de \"samples4\" que acaben en \".docx\"\n",
    "ls samples4/*.docx"
   ]
  },
  {
   "cell_type": "markdown",
   "id": "ae8499da",
   "metadata": {},
   "source": [
    "SALIDA: \n",
    "```bash\n",
    "samples4/sample4.docx\n",
    "```"
   ]
  },
  {
   "cell_type": "code",
   "execution_count": 73,
   "id": "3849c12e",
   "metadata": {},
   "outputs": [
    {
     "name": "stdout",
     "output_type": "stream",
     "text": [
      "mv: no se puede efectuar `stat' sobre 'samples4/*[0-9][a-z]*': No existe el archivo o el directorio\n",
      "mv: no se puede efectuar `stat' sobre 'samples4/*[0-9][A*': No existe el archivo o el directorio\n",
      "mv: no se puede efectuar `stat' sobre 'samples4/*[0-9]Z]*': No existe el archivo o el directorio\n"
     ]
    },
    {
     "ename": "",
     "evalue": "1",
     "output_type": "error",
     "traceback": []
    }
   ],
   "source": [
    "# Mueve al directorio padre los ficheros de \"samples4\" cuyo nombre\n",
    "# contenga un carácter numérico seguido de una letra mayúscula o minúscula\n",
    "mv samples4/*[0-9]{[a-z],[A,Z]}* /."
   ]
  },
  {
   "cell_type": "code",
   "execution_count": 74,
   "id": "cfbe52e9",
   "metadata": {},
   "outputs": [
    {
     "name": "stdout",
     "output_type": "stream",
     "text": [
      "ls: no se puede acceder a 'file*': No existe el archivo o el directorio\n"
     ]
    },
    {
     "ename": "",
     "evalue": "2",
     "output_type": "error",
     "traceback": []
    }
   ],
   "source": [
    "# Lista los ficheros del directorio padre que empiecen por \"file\"\n",
    "ls file*"
   ]
  },
  {
   "cell_type": "markdown",
   "id": "08c5f710",
   "metadata": {},
   "source": [
    "SALIDA: \n",
    "```bash\n",
    "../file-example_PDF_1MB.pdf  ../file-sample_150kB.pdf  ../file-sample_500kB.doc\n",
    "../file-sample_100kB.doc     ../file-sample_1MB.doc\n",
    "```"
   ]
  },
  {
   "cell_type": "code",
   "execution_count": 77,
   "id": "dfc2cc65",
   "metadata": {},
   "outputs": [
    {
     "name": "stdout",
     "output_type": "stream",
     "text": [
      "browser.c  definitions.h  history.c    prompt.c      text.c\n",
      "chars.c    files.c        Makefile.am  prototypes.h  utils.c\n",
      "color.c    global.c       move.c       rcfile.c      winio.c\n",
      "cut.c      help.c         nano.c       search.c\n"
     ]
    }
   ],
   "source": [
    "# Lista el contenido del directorio \"src\" que hay dentro de \"nano\"\n",
    "# (Mira el árbol de directorios al principio del notebook para\n",
    "# averiguar la ruta relativa a \"nano\" desde \"sample_files\")\n",
    "ls ../nano/src"
   ]
  },
  {
   "cell_type": "markdown",
   "id": "ffdec7a1",
   "metadata": {},
   "source": [
    "SALIDA: \n",
    "```bash\n",
    "browser.c  definitions.h  history.c    prompt.c      text.c\n",
    "chars.c    files.c        Makefile.am  prototypes.h  utils.c\n",
    "color.c    global.c       move.c       rcfile.c      winio.c\n",
    "cut.c      help.c         nano.c       search.c\n",
    "```"
   ]
  },
  {
   "cell_type": "code",
   "execution_count": 78,
   "id": "81ea1b94",
   "metadata": {},
   "outputs": [],
   "source": [
    "# Crea un directorio llamado \"source\"\n",
    "mkdir source"
   ]
  },
  {
   "cell_type": "code",
   "execution_count": 79,
   "id": "bad4588c",
   "metadata": {},
   "outputs": [],
   "source": [
    "# Copia al directorio \"source\" los ficheros del directorio \"src\" que hay en \"nano\" \n",
    "# cuyo nombre acaba en \".h\"\n",
    "cp ../nano/src/*.h source"
   ]
  },
  {
   "cell_type": "code",
   "execution_count": 80,
   "id": "e6dc3ec4",
   "metadata": {},
   "outputs": [
    {
     "name": "stdout",
     "output_type": "stream",
     "text": [
      "definitions.h  prototypes.h\n"
     ]
    }
   ],
   "source": [
    "ls source"
   ]
  },
  {
   "cell_type": "markdown",
   "id": "52e9a754",
   "metadata": {},
   "source": [
    "SALIDA: \n",
    "```bash\n",
    "definitions.h  prototypes.h\n",
    "```"
   ]
  },
  {
   "cell_type": "code",
   "execution_count": null,
   "id": "b8f0c8d8",
   "metadata": {},
   "outputs": [],
   "source": [
    "# Copia al directorio \"source\" los ficheros del directorio \"src\" que hay en \"nano\" \n",
    "# cuyo nombre empieza por \"c\" seguido de una vocal\n",
    "cp ../nano/src/c{a,e,i,o,u}*.h source"
   ]
  },
  {
   "cell_type": "code",
   "execution_count": null,
   "id": "63137629",
   "metadata": {},
   "outputs": [],
   "source": [
    "ls source"
   ]
  },
  {
   "cell_type": "markdown",
   "id": "dff234d1",
   "metadata": {},
   "source": [
    "SALIDA: \n",
    "```bash\n",
    "color.c  cut.c  definitions.h  prototypes.h\n",
    "```"
   ]
  },
  {
   "cell_type": "code",
   "execution_count": null,
   "id": "7fa986f9",
   "metadata": {},
   "outputs": [],
   "source": [
    "# Copia al directorio \"source\" los ficheros del directorio \"src\" que hay en \"nano\" \n",
    "# cuyo nombre contiene la cadena \"to\" o la cadena \"pro\", y acaben por \".c\"\n"
   ]
  },
  {
   "cell_type": "code",
   "execution_count": null,
   "id": "1ade3b86",
   "metadata": {},
   "outputs": [],
   "source": [
    "ls source"
   ]
  },
  {
   "cell_type": "markdown",
   "id": "2dd2401f",
   "metadata": {},
   "source": [
    "SALIDA: \n",
    "```bash\n",
    "color.c  cut.c  definitions.h  history.c  prompt.c  prototypes.h\n",
    "```"
   ]
  }
 ],
 "metadata": {
  "kernelspec": {
   "display_name": "Bash",
   "language": "bash",
   "name": "bash"
  },
  "language_info": {
   "codemirror_mode": "shell",
   "file_extension": ".sh",
   "mimetype": "text/x-sh",
   "name": "bash"
  },
  "toc": {
   "base_numbering": 1,
   "nav_menu": {},
   "number_sections": true,
   "sideBar": true,
   "skip_h1_title": true,
   "title_cell": "Table of Contents",
   "title_sidebar": "Contents",
   "toc_cell": false,
   "toc_position": {
    "height": "calc(100% - 180px)",
    "left": "10px",
    "top": "150px",
    "width": "296px"
   },
   "toc_section_display": true,
   "toc_window_display": false
  }
 },
 "nbformat": 4,
 "nbformat_minor": 5
}
