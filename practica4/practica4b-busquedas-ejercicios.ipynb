{
 "cells": [
  {
   "cell_type": "markdown",
   "id": "8e983960",
   "metadata": {},
   "source": [
    "# Ejercicios - Práctica 4b: Herramientas de gestión del sistema de ficheros. Búsquedas."
   ]
  },
  {
   "cell_type": "markdown",
   "id": "12603fc2",
   "metadata": {},
   "source": [
    "<font size=\"4\">  \n",
    "    <span style=\"color: red;\">No olvides configurar Git para usar tu nombre y apellido(s), y tu dirección de correo electrónico universitario antes de comenzar.\n",
    "    </span>\n",
    "</font>\n",
    "\n",
    "Edita las primeras líneas de la siguiente celda con tu nombre y email y ejecútala para configurar tu entorno Git antes de empezar."
   ]
  },
  {
   "cell_type": "code",
   "execution_count": null,
   "id": "9f68a80c",
   "metadata": {},
   "outputs": [],
   "source": [
    "# Establece tu identidad\n",
    "git config --global user.name \"Nombre Apellido1 [Apellido2]\"\n",
    "git config --global user.email \"alumno@um.es\"\n",
    "\n",
    "# Establece el editor por defecto\n",
    "# para los mensajes de commit\n",
    "git config --global core.editor \"gedit\""
   ]
  },
  {
   "cell_type": "markdown",
   "id": "1eceb1f9",
   "metadata": {},
   "source": [
    "<br>\n",
    "<font size=\"5\">  \n",
    "    <span style=\"color: red;\"><b>IMPORTANTE:</b><br> Añade este fichero a tu repositorio-bitácora \"fc-alumno\" <b>ANTES</b> de comenzar a realizar los ejercicios.\n",
    "    </span>\n",
    "</font>  \n",
    "<font size=\"4\">  \n",
    "    Sigue las instrucciones a continuación.\n",
    "</font>"
   ]
  },
  {
   "cell_type": "markdown",
   "id": "5585b1f2",
   "metadata": {},
   "source": [
    "Recuerda que para poder registrar tu trabajo en tu bitácora personal de prácticas, debes evitar trabajar en una copia de este *notebook* que no esté bajo control de versiones en Git en tu repositorio. Por ello, **ANTES DE REALIZAR NINGÚN CAMBIO en este fichero asegúrate de COLOCARLO DENTRO DIRECTORIO DE TU REPOSITORIO-BITÁCORA `fc-alumno`** y añadirlo al repositorio:\n",
    "1. Cierra esta pestaña del navegador sin guardar los cambios.\n",
    "2. Muévelo desde donde lo hayas descargado del AV (p.ej. `$HOME/Descargas`) al directorio donde tengas tu repositorio (se recomienda `$HOME/fc-alumno`).\n",
    "3. Añádelo al repositorio:\n",
    "    * `git add practica4b-busquedas-ejercicios.ipynb`\n",
    "    * `git commit -m \"Añadiendo el notebook de ejercicios de la práctica 4b (sin empezar)\"`"
   ]
  },
  {
   "cell_type": "markdown",
   "id": "055d9927",
   "metadata": {},
   "source": [
    "Al igual que en la práctica 1 al comienzo del curso, vamos a hacer uso de los ficheros de ejemplo que tienes disponibles en el Aula Virtual (Recursos->Prácticas->P4). Descarga el fichero `ficheros_ejemplo.zip` y descomprímelo en tu directorio personal. El árbol de directorios en que se organizan los ficheros de ejemplo se puede observar a continuación:"
   ]
  },
  {
   "cell_type": "markdown",
   "id": "b089eec7",
   "metadata": {},
   "source": [
    "```\n",
    "ficheros_ejemplo\n",
    "├── nano\n",
    "│   ├── docu\n",
    "│   ├── m4\n",
    "│   ├── po\n",
    "│   ├── src\n",
    "│   └── syntax\n",
    "│       └── extra\n",
    "└── sample_files\n",
    "    ├── audio\n",
    "    │   ├── mp3\n",
    "    │   ├── ogg\n",
    "    │   ├── wav\n",
    "    │   └── wma\n",
    "    ├── docu\n",
    "    │   ├── docu\n",
    "    │   ├── docux\n",
    "    │   ├── pdf\n",
    "    │   ├── rtf\n",
    "    │   ├── txt\n",
    "    │   ├── xls\n",
    "    │   └── xlsx\n",
    "    ├── image\n",
    "    │   ├── bmp\n",
    "    │   ├── gif\n",
    "    │   ├── jpg\n",
    "    │   ├── png\n",
    "    │   └── tiff\n",
    "    └── video\n",
    "        ├── flv\n",
    "        ├── mkv\n",
    "        ├── mov\n",
    "        └── mp4\n",
    "\n",
    "```"
   ]
  },
  {
   "cell_type": "markdown",
   "id": "080049b0",
   "metadata": {},
   "source": [
    "Una vez lo tengas preparado, empezando desde tu directorio personal, realiza los siguientes ejercicios, utilizando en todo caso **RUTAS RELATIVAS**. \n",
    "\n",
    "<span style=\"color: red;\">Recuerda utilizar el tabulador </span> para facilitar la navegación por el sistema de ficheros al autocompletar los nombres de ficheros y directorios.\n"
   ]
  },
  {
   "cell_type": "code",
   "execution_count": null,
   "id": "f9385319",
   "metadata": {},
   "outputs": [],
   "source": [
    "# Ejecuta esta celda para restaurar el estado de los ficheros\n",
    "# Para ello, necesitas colocar el 'ficheros_ejemplo.zip' en tu directorio personal\n",
    "cd\n",
    "chmod -Rf 700 ficheros_ejemplo\n",
    "rm -rf ficheros_ejemplo\n",
    "unzip ficheros_ejemplo.zip\n",
    "cd ~/ficheros_ejemplo/sample_files\n"
   ]
  },
  {
   "cell_type": "markdown",
   "id": "090de0e8",
   "metadata": {},
   "source": [
    "### Permisos sobre directorios"
   ]
  },
  {
   "cell_type": "code",
   "execution_count": null,
   "id": "ad64fbf9-0045-434a-ba9d-9075f559ef77",
   "metadata": {},
   "outputs": [],
   "source": [
    "ls"
   ]
  },
  {
   "cell_type": "code",
   "execution_count": null,
   "id": "6c60def0",
   "metadata": {},
   "outputs": [],
   "source": [
    "# Copia el contenido íntegro del directorio \"video\"  a un\n",
    "# nuevo directorio llamado \"video-backup\" situado en el mismo directorio\n"
   ]
  },
  {
   "cell_type": "code",
   "execution_count": null,
   "id": "e357a830",
   "metadata": {},
   "outputs": [],
   "source": [
    "# Mueve al directorio \"video\" los ficheros que hay en su subdirectorio \"mp4\" \n",
    "# cuyo nombre comience por 'c' (NOTA: Utiliza comodines)\n"
   ]
  },
  {
   "cell_type": "code",
   "execution_count": null,
   "id": "5de139a5",
   "metadata": {},
   "outputs": [],
   "source": [
    "# Cambia los permisos del directorio \"video\" para \n",
    "# que el propietario pueda leer y escribir, y nadie más tenga acceso\n"
   ]
  },
  {
   "cell_type": "code",
   "execution_count": null,
   "id": "f989c6e1",
   "metadata": {},
   "outputs": [],
   "source": [
    "# Intenta cambiarte al directorio  \"video\". ¿Puedes?\n",
    "cd video"
   ]
  },
  {
   "cell_type": "markdown",
   "id": "3198c257",
   "metadata": {},
   "source": [
    "RESPUESTA (razonada): "
   ]
  },
  {
   "cell_type": "code",
   "execution_count": null,
   "id": "1990bdd9",
   "metadata": {},
   "outputs": [],
   "source": [
    "# Vuelve a cambiar los permisos del directorio ahora para\n",
    "# que el propietario pueda leer y ejecutar, y nadie más tenga acceso\n",
    "chmod 500 video"
   ]
  },
  {
   "cell_type": "code",
   "execution_count": null,
   "id": "b5f6f672",
   "metadata": {},
   "outputs": [],
   "source": [
    "# Listar los contenidos del directorio  \"video\".\n",
    "ls -l video/"
   ]
  },
  {
   "cell_type": "code",
   "execution_count": null,
   "id": "f28cf103",
   "metadata": {},
   "outputs": [],
   "source": [
    "# Elimina los ficheros del directorio \"video\" que contengan la cadena \"in\". ¿Puedes?\n"
   ]
  },
  {
   "cell_type": "markdown",
   "id": "999ba9e8",
   "metadata": {},
   "source": [
    "RESPUESTA (razonada): "
   ]
  },
  {
   "cell_type": "code",
   "execution_count": null,
   "id": "c3cc996a",
   "metadata": {},
   "outputs": [],
   "source": [
    "# Elimina todos los ficheros del directorio \"videos/mp4\". ¿Puedes?\n"
   ]
  },
  {
   "cell_type": "code",
   "execution_count": null,
   "id": "09d68c5f",
   "metadata": {},
   "outputs": [],
   "source": [
    "ls video/mp4"
   ]
  },
  {
   "cell_type": "markdown",
   "id": "2bb1fb98",
   "metadata": {},
   "source": [
    "RESPUESTA (razonada): "
   ]
  },
  {
   "cell_type": "code",
   "execution_count": null,
   "id": "d69119d9",
   "metadata": {},
   "outputs": [],
   "source": [
    "ls video"
   ]
  },
  {
   "cell_type": "code",
   "execution_count": null,
   "id": "f0187fe6",
   "metadata": {},
   "outputs": [],
   "source": [
    "# Establece los permisos adecuados para que el siguiente comando no \n",
    "# pueda \"vaciar\" el contenido del fichero \"video/cliff_waterfall.mp4\"\n"
   ]
  },
  {
   "cell_type": "code",
   "execution_count": null,
   "id": "b238ef4a",
   "metadata": {},
   "outputs": [],
   "source": [
    "# echo -n: Imprime \"nada\". Y redirigie \"nada\" a un fichero.\n",
    "echo -n > video/cliff_waterfall.mp4"
   ]
  },
  {
   "cell_type": "code",
   "execution_count": null,
   "id": "40b249fa",
   "metadata": {},
   "outputs": [],
   "source": [
    "# El listado debería mostrar que el fichero ocupa 1,3MiB\n",
    "ls -lh video/cliff_waterfall.mp4"
   ]
  },
  {
   "cell_type": "markdown",
   "id": "d8a42801",
   "metadata": {},
   "source": [
    "¿De qué permisos depende que el contenido del fichero se pueda modificar?\n",
    "\n",
    "RESPUESTA (razonada): "
   ]
  },
  {
   "cell_type": "code",
   "execution_count": null,
   "id": "41e12614",
   "metadata": {},
   "outputs": [],
   "source": [
    "# Elimina todos los permisos del directorio  \"video\".\n"
   ]
  },
  {
   "cell_type": "code",
   "execution_count": null,
   "id": "4dff3af8",
   "metadata": {},
   "outputs": [],
   "source": [
    "# ¿Puedes listarlo? \n"
   ]
  },
  {
   "cell_type": "code",
   "execution_count": null,
   "id": "f7a471a7",
   "metadata": {
    "code_folding": []
   },
   "outputs": [],
   "source": [
    "# Establece todos los permisos para el propietario del directorio \"video\",\n",
    "# y permisos de lectura y ejecución para grupo y el resto de usuarios\n"
   ]
  },
  {
   "cell_type": "code",
   "execution_count": null,
   "id": "6c3cfe46",
   "metadata": {},
   "outputs": [],
   "source": [
    "# Borra el directorio \"video\" usando la opción \"r\". ¿Qué ocurre?\n"
   ]
  },
  {
   "cell_type": "markdown",
   "id": "af69d01a",
   "metadata": {},
   "source": [
    "Verás que la celda anterior no termina de ejecutarse (se queda en estado `[*]`). Interrumpe el *kernel* y luego relánzalo, y pasa a la siguiente celda"
   ]
  },
  {
   "cell_type": "code",
   "execution_count": null,
   "id": "38aa8492",
   "metadata": {},
   "outputs": [],
   "source": [
    "# Al relanzar el kernel, el directorio actual vuelve a ser el directorio\n",
    "# donde está este notebook (donde esté este notebook)\n",
    "cd ~/ficheros_ejemplo/sample_files"
   ]
  },
  {
   "cell_type": "code",
   "execution_count": null,
   "id": "434209f3",
   "metadata": {},
   "outputs": [],
   "source": [
    "# Borra el directorio \"video\" sin que te pida confirmación\n"
   ]
  },
  {
   "cell_type": "code",
   "execution_count": null,
   "id": "11ae2c9b",
   "metadata": {},
   "outputs": [],
   "source": [
    "# Renombra el directorio \"video-backup\" para que se llame \"video\"\n"
   ]
  },
  {
   "cell_type": "markdown",
   "id": "ebf79c79",
   "metadata": {},
   "source": [
    "\n",
    "### Búsquedas en el sistema de ficheros. Comodines"
   ]
  },
  {
   "cell_type": "markdown",
   "id": "1b5856f1",
   "metadata": {},
   "source": [
    "Usando convenientemente los comodines y las opciones de `find`, mostrar lo siguiente:"
   ]
  },
  {
   "cell_type": "code",
   "execution_count": null,
   "id": "b2b404c8",
   "metadata": {},
   "outputs": [],
   "source": [
    "# Ejecuta esta celda para restaurar el estado de los ficheros\n",
    "# Para ello, necesitas colocar el 'ficheros_ejemplo.zip' en tu directorio personal\n",
    "cd\n",
    "chmod -Rf 700 ficheros_ejemplo\n",
    "rm -rf ficheros_ejemplo\n",
    "unzip ficheros_ejemplo.zip\n",
    "cd ~/ficheros_ejemplo/sample_files\n",
    "touch video/mkv/*as*"
   ]
  },
  {
   "cell_type": "code",
   "execution_count": null,
   "id": "aa8dbe02",
   "metadata": {},
   "outputs": [],
   "source": [
    "# todos los directorios que cuelgan del directorio actual\n"
   ]
  },
  {
   "cell_type": "code",
   "execution_count": null,
   "id": "5a009a04",
   "metadata": {
    "code_folding": []
   },
   "outputs": [],
   "source": [
    "# todos los directorios que cuelgan del directorio actual\n",
    "# cuyo nombre acabe en 'v'\n"
   ]
  },
  {
   "cell_type": "markdown",
   "id": "8b1d6349",
   "metadata": {},
   "source": [
    "SALIDA: \n",
    "```\n",
    "./audio/wav\n",
    "./video/mkv\n",
    "./video/mov\n",
    "./video/flv\n",
    "```"
   ]
  },
  {
   "cell_type": "code",
   "execution_count": null,
   "id": "94a50855",
   "metadata": {
    "code_folding": []
   },
   "outputs": [],
   "source": [
    "# todos los ficheros en \"image\", cuyo nombre empiece con \n",
    "# una letra entre la b y la f, con extensión .jpg y \n"
   ]
  },
  {
   "cell_type": "markdown",
   "id": "8bb37a79",
   "metadata": {},
   "source": [
    "SALIDA: \n",
    "```\n",
    "image/jpg/eagle_closeup.jpg\n",
    "image/jpg/birds_eye_beach.jpg\n",
    "image/jpg/elephants.jpg\n",
    "image/jpg/egg_pattern.jpg\n",
    "image/jpg/cocktail_on_the_beach.jpg\n",
    "image/jpg/bitcoin.jpg\n",
    "```"
   ]
  },
  {
   "cell_type": "code",
   "execution_count": null,
   "id": "c6f59109",
   "metadata": {},
   "outputs": [],
   "source": [
    "# todos los directorios en \"image\", cuyo nombre contenga la\n",
    "# letra 'c' en segundo lugar\n"
   ]
  },
  {
   "cell_type": "markdown",
   "id": "e2b848c8",
   "metadata": {},
   "source": [
    "SALIDA: \n",
    "```\n",
    "image/bmp/cc\n",
    "```"
   ]
  },
  {
   "cell_type": "code",
   "execution_count": null,
   "id": "6ecaf693",
   "metadata": {},
   "outputs": [],
   "source": [
    "# todos los ficheros en \"audio\", cuyo nombre contenga las letras 'b', w' y 'v', \n",
    "# en ese orden (no necesariamente consecutivas)\n"
   ]
  },
  {
   "cell_type": "markdown",
   "id": "805c3568",
   "metadata": {},
   "source": [
    "SALIDA: \n",
    "```\n",
    "./audio/wav/break_free.wav\n",
    "./audio/wav/dub_techno_loop_.wav\n",
    "./audio/wav/background_loop_straight_02.wav\n",
    "./audio/wav/background_loop_funky_03.wav\n",
    "./audio/wav/background_loop_chill_techno_04.wav\n",
    "```"
   ]
  },
  {
   "cell_type": "code",
   "execution_count": null,
   "id": "5dd1be51",
   "metadata": {},
   "outputs": [],
   "source": [
    "# todos los ficheros en \"audio\", cuyo nombre contenga un subrayado (_) seguido de\n",
    "# dos caracteres numéricos de los cuales el primero debe ser 0 y el segundo entre 4 y 6\n"
   ]
  },
  {
   "cell_type": "markdown",
   "id": "86789aec",
   "metadata": {},
   "source": [
    "SALIDA: \n",
    "```\n",
    "./audio/wav/background_loop_chill_techno_04.wav\n",
    "./audio/wma/background_loop_straight_04.wma\n",
    "./audio/ogg/background_loop_chill_techno_05.ogg\n",
    "```"
   ]
  },
  {
   "cell_type": "code",
   "execution_count": null,
   "id": "56eae084",
   "metadata": {},
   "outputs": [],
   "source": [
    "# todos los ficheros en \"video\", cuyo nombre contenga las letras 'r', w' y 'v', \n",
    "# en ese orden (no necesariamente consecutivas), y acabe con \".\" seguido de tres caracteres cualquiera\n"
   ]
  },
  {
   "cell_type": "markdown",
   "id": "5484d386",
   "metadata": {},
   "source": [
    "SALIDA: \n",
    "```\n",
    "video/flv/fireworks_over_water.flv\n",
    "```"
   ]
  },
  {
   "cell_type": "code",
   "execution_count": null,
   "id": "d7661aa3",
   "metadata": {},
   "outputs": [],
   "source": [
    "# todos los ficheros a partir del directorio actual \n",
    "# cuyo nombre contenga la letra z pero no la letra h\n"
   ]
  },
  {
   "cell_type": "markdown",
   "id": "6df40173",
   "metadata": {},
   "source": [
    "SALIDA: \n",
    "```\n",
    "./video/flv/frozen_ice_droplets.flv\n",
    "```"
   ]
  },
  {
   "cell_type": "code",
   "execution_count": null,
   "id": "2bda0f98",
   "metadata": {},
   "outputs": [],
   "source": [
    "# todos los ficheros a partir del directorio actual \n",
    "# cuyo nombre acabe en \"mkv\" y tengan tamaño superior a 1MiB\n"
   ]
  },
  {
   "cell_type": "markdown",
   "id": "a8c539f4",
   "metadata": {},
   "source": [
    "SALIDA: \n",
    "```\n",
    "./video/mkv/lit_incese_stick.mkv\n",
    "./video/mkv/waves_crashing_on_rocks.mkv\n",
    "./video/mkv/time_lapse_of_milky_way_galaxy.mkv\n",
    "./video/mkv/person_piping_icing.mkv\n",
    "```"
   ]
  },
  {
   "cell_type": "code",
   "execution_count": null,
   "id": "41609c70",
   "metadata": {},
   "outputs": [],
   "source": [
    "# todos los ficheros a partir del directorio actual \n",
    "# que tengan tamaño entre 200KiB y 250KiB\n"
   ]
  },
  {
   "cell_type": "markdown",
   "id": "4188194e",
   "metadata": {},
   "source": [
    "SALIDA: \n",
    "```\n",
    "./audio/wma/background_loop_sad_story.wma\n",
    "./video/mp4/city_forest_rainbow.mp4\n",
    "./image/bmp/coast_side_highway.bmp\n",
    "./image/png/oil_towers.png\n",
    "```"
   ]
  },
  {
   "cell_type": "code",
   "execution_count": null,
   "id": "21027b7a",
   "metadata": {},
   "outputs": [],
   "source": [
    "# todos los ficheros a partir del directorio actual \n",
    "# que tengan fecha de modificación inferior a 1 día\n"
   ]
  },
  {
   "cell_type": "markdown",
   "id": "563b6afc",
   "metadata": {},
   "source": [
    "SALIDA: \n",
    "```\n",
    "./video/mkv/astronaut_walking_fantasy.mkv\n",
    "./video/mkv/waves_crashing_on_rocks.mkv\n",
    "```"
   ]
  },
  {
   "cell_type": "code",
   "execution_count": null,
   "id": "1e2f6bed",
   "metadata": {},
   "outputs": [],
   "source": [
    "# todos los ficheros a partir del directorio actual \n",
    "# que tengan fecha de modificación superior a 30 días\n",
    "# cuyo nombre contenga la cadena \"ice\"\n"
   ]
  },
  {
   "cell_type": "markdown",
   "id": "e3441137",
   "metadata": {},
   "source": [
    "SALIDA: \n",
    "```\n",
    "./video/flv/lemon_slice_falling.flv\n",
    "./video/flv/frozen_ice_droplets.flv\n",
    "./image/jpg/orange_juice_glass.jpg\n",
    "./image/jpg/stacked_ice_cubes.jpg\n",
    "```"
   ]
  },
  {
   "cell_type": "markdown",
   "id": "f2e148c3",
   "metadata": {},
   "source": [
    "### Búsqueda de patrones en ficheros"
   ]
  },
  {
   "cell_type": "code",
   "execution_count": null,
   "id": "c554e43f",
   "metadata": {},
   "outputs": [],
   "source": [
    "# Ejecuta esta celda para generar ficheros de prueba. En particular, vamos a\n",
    "# clonar el repositorio con el código de zsh (otro programa shell, alternativo a bash)\n",
    "mkdir -p ~/p4b-ejercicios\n",
    "cd ~/p4b-ejercicios\n",
    "rm -rf zsh\n",
    "git clone https://github.com/zsh-users/zsh.git\n",
    "cd zsh && git branch fc-tests 20739b5458d19b81afafb8b7ed96476562f69f0f"
   ]
  },
  {
   "cell_type": "code",
   "execution_count": null,
   "id": "a8bd792c",
   "metadata": {},
   "outputs": [],
   "source": [
    "pwd"
   ]
  },
  {
   "cell_type": "code",
   "execution_count": null,
   "id": "dbf4cd2d",
   "metadata": {},
   "outputs": [],
   "source": [
    "# Busca en el contenido del fichero Src/main.c aquellas líneas\n",
    "# que contengan la cadena \"shell\" \n"
   ]
  },
  {
   "cell_type": "markdown",
   "id": "738fe9b2",
   "metadata": {},
   "source": [
    "SALIDA:\n",
    "```\n",
    " * This file is part of zsh, the Z shell.\n",
    "```"
   ]
  },
  {
   "cell_type": "code",
   "execution_count": null,
   "id": "d789aa3f",
   "metadata": {},
   "outputs": [],
   "source": [
    "# Busca en el contenido de los ficheros de Src cuyo nombre acabe en .c\n",
    "# aquellas líneas que contengan la cadena \"BASH\" (en mayúsculas)\n"
   ]
  },
  {
   "cell_type": "markdown",
   "id": "315dfd14",
   "metadata": {},
   "source": [
    "SALIDA:\n",
    "```\n",
    "Src/options.c:{{NULL, \"bashautolist\",\t      0},                        BASHAUTOLIST},\n",
    "Src/options.c:{{NULL, \"bashrematch\",\t      0},\t\t\t BASHREMATCH},\n",
    "```"
   ]
  },
  {
   "cell_type": "code",
   "execution_count": null,
   "id": "ff46fa63",
   "metadata": {},
   "outputs": [],
   "source": [
    "# Busca en el contenido de los ficheros de Src cuyo nombre acabe en .c\n",
    "# aquellas líneas que contengan la palabra \"ansi\" (no como fragmento\n",
    "# de otra function más larga), sin atender al uso de mayúsculas\n"
   ]
  },
  {
   "cell_type": "markdown",
   "id": "095c855c",
   "metadata": {},
   "source": [
    "SALIDA:\n",
    "```\n",
    "Src/builtin.c:\t\t     * possible escape characters recognized by ANSI.\n",
    "Src/prompt.c:/* Defines standard ANSI colour names in index order */\n",
    "Src/prompt.c: * Return index of ANSI colour for which *teststrp is an abbreviation.\n",
    "Src/prompt.c:    /* Out of range of termcap colours and basic ANSI set. */\n",
    "Src/prompt.c:\t * If 0 to 7, assume standard ANSI works, if 8 to 255, assume\n",
    "Src/utils.c: * is contained in the ANSI standard C library, but a lot of them seem *\n",
    "```"
   ]
  },
  {
   "cell_type": "code",
   "execution_count": null,
   "id": "9505057a",
   "metadata": {},
   "outputs": [],
   "source": [
    "# Busca recursivamente en el directorio actual ficheros que contengan\n",
    "# la cadena \"standard C\" (usa las comillas para quitar el significado especial al carácter espacio)\n"
   ]
  },
  {
   "cell_type": "markdown",
   "id": "7bf1f078",
   "metadata": {},
   "source": [
    "SALIDA:\n",
    "```\n",
    "./Src/utils.c: * is contained in the ANSI standard C library, but a lot of them seem *\n",
    "./Completion/Unix/Command/_gcc:  '-ffreestanding[do not assume that standard C libraries and main exist]'\n",
    "./Functions/Misc/zcalc:# and the standard C-like notation with a leading 0x for hexadecimal is\n",
    "./Doc/Zsh/arith.yo:If the tt(C_BASES) option is set, hexadecimal numbers are output in the standard C\n",
    "./Doc/Zsh/options.yo:Output hexadecimal numbers in the standard C format, for example `tt(0xFF)'\n",
    "```"
   ]
  },
  {
   "cell_type": "code",
   "execution_count": null,
   "id": "82286da6",
   "metadata": {},
   "outputs": [],
   "source": [
    "# Busca recursivamente en el directorio \"Doc\" ficheros que contengan\n",
    "# una cadena numérica que empiece por cualquier número seguido de \"567\"\n"
   ]
  },
  {
   "cell_type": "markdown",
   "id": "9e9dd999",
   "metadata": {},
   "source": [
    "SALIDA:\n",
    "```\n",
    "Doc/Zsh/arith.yo:example, by giving the command `tt(print - $(( 12345678901 )))'; if the\n",
    "```"
   ]
  },
  {
   "cell_type": "code",
   "execution_count": null,
   "id": "350864a8",
   "metadata": {},
   "outputs": [],
   "source": [
    "# Busca recursivamente en el directorio \"Doc\" ficheros que contengan\n",
    "# líneas que comiencen por un número seguido de un guión (-)\n"
   ]
  },
  {
   "cell_type": "markdown",
   "id": "9d88b060",
   "metadata": {},
   "source": [
    "SALIDA:\n",
    "```\n",
    "Doc/Zsh/params.yo:7-bit subset (ASCII) is used.  For example, if the character set\n",
    "```"
   ]
  },
  {
   "cell_type": "code",
   "execution_count": null,
   "id": "ceb1d47e",
   "metadata": {},
   "outputs": [],
   "source": [
    "# Busca en los ficheros \"NEWS\" e \"INSTALL\" líneas que acaben por \"rary\"\n"
   ]
  },
  {
   "cell_type": "markdown",
   "id": "9328ab8e",
   "metadata": {},
   "source": [
    "SALIDA:\n",
    "```\n",
    "NEWS:- builtin interface to pcre library\n",
    "INSTALL:zsh tries to make features from curses available and if the curses library\n",
    "INSTALL:The --enable-additional-fpath option may be used to add arbitrary\n",
    "INSTALL:This searches for POSIX capabilities; if found, the `cap' library\n",
    "```"
   ]
  },
  {
   "cell_type": "markdown",
   "id": "969ee442",
   "metadata": {},
   "source": [
    "### Compresión y descompresión"
   ]
  },
  {
   "cell_type": "code",
   "execution_count": null,
   "id": "16f5eb29",
   "metadata": {},
   "outputs": [],
   "source": [
    "# Este ejercicio presupone que has generado los \n",
    "# ficheros necesarios para el ejercicio anterior (zsh). Para ello,\n",
    "# ejecuta la primera celda del ejercicio anterior"
   ]
  },
  {
   "cell_type": "code",
   "execution_count": null,
   "id": "8c5abae9",
   "metadata": {},
   "outputs": [],
   "source": [
    "pwd"
   ]
  },
  {
   "cell_type": "code",
   "execution_count": null,
   "id": "4da4ee93",
   "metadata": {},
   "outputs": [],
   "source": [
    "ls"
   ]
  },
  {
   "cell_type": "code",
   "execution_count": null,
   "id": "144d1f59",
   "metadata": {},
   "outputs": [],
   "source": [
    "# Crea un fichero empaquetado con tar comprimido con gzip, llamado\n",
    "# \"zsh-doc.tar.gz\" que contenga el directorio \"Doc\" al completo, sin\n",
    "# mostrar por pantalla los ficheros que se van empaquetando\n"
   ]
  },
  {
   "cell_type": "code",
   "execution_count": null,
   "id": "532c175e",
   "metadata": {},
   "outputs": [],
   "source": [
    "# Crea un fichero empaquetado con tar comprimido con gzip, llamado\n",
    "# \"zsh-util-misc.tar.gz\" que contenga los ficheros ubicados en los \n",
    "# directorios \"Util\" y \"Misc\" cuyo nombre contiene la cadena \"ex\",\n",
    "# mostrando por pantalla los ficheros que se van empaquetando\n"
   ]
  },
  {
   "cell_type": "markdown",
   "id": "86389390",
   "metadata": {},
   "source": [
    "SALIDA: \n",
    "```\n",
    "Util/check_exports\n",
    "Misc/compctl-examples\n",
    "Misc/vcs_info-examples\n",
    "```"
   ]
  },
  {
   "cell_type": "code",
   "execution_count": null,
   "id": "ccf7ea39",
   "metadata": {},
   "outputs": [],
   "source": [
    "# Muestra los ficheros que hay dentro del empaquetado \"zsh-util-misc.tar.gz\"\n",
    "# sin extraer su contenido\n"
   ]
  },
  {
   "cell_type": "code",
   "execution_count": null,
   "id": "bdabff59",
   "metadata": {},
   "outputs": [],
   "source": [
    "# Borra los ficheros ubicados en los directorios \n",
    "# \"Util\" y \"Misc\" cuyo nombre contiene la cadena \"ex\",\n"
   ]
  },
  {
   "cell_type": "code",
   "execution_count": null,
   "id": "ab0068af",
   "metadata": {},
   "outputs": [],
   "source": [
    "# Muestra el estado del árbol de trabajo (copia del repositorio Git de \"zsh\")\n"
   ]
  },
  {
   "cell_type": "markdown",
   "id": "babc141e",
   "metadata": {},
   "source": [
    "SALIDA:\n",
    "```\n",
    "En la rama master\n",
    "Tu rama está actualizada con 'origin/master'.\n",
    "\n",
    "Cambios no rastreados para el commit:\n",
    "  (usa \"git add/rm <archivo>...\" para actualizar a lo que se le va a hacer commit)\n",
    "  (usa \"git restore <archivo>...\" para descartar los cambios en el directorio de trabajo)\n",
    "\tborrados:        Misc/compctl-examples\n",
    "\tborrados:        Misc/vcs_info-examples\n",
    "\tborrados:        Util/check_exports\n",
    "\n",
    "Archivos sin seguimiento:\n",
    "  (usa \"git add <archivo>...\" para incluirlo a lo que será confirmado)\n",
    "\tzsh-doc.tar.gz\n",
    "\tzsh-util-misc.tar.gz\n",
    "\n",
    "sin cambios agregados al commit (usa \"git add\" y/o \"git commit -a\")\n",
    "```"
   ]
  },
  {
   "cell_type": "code",
   "execution_count": null,
   "id": "c44b4289",
   "metadata": {},
   "outputs": [],
   "source": [
    "# Desempaqueta el fichero \"zsh-util-misc.tar.gz\", mostrando\n",
    "# los ficheros que se van generando al descomprimir\n"
   ]
  },
  {
   "cell_type": "code",
   "execution_count": null,
   "id": "4a6cbf20",
   "metadata": {},
   "outputs": [],
   "source": [
    "# Borra todos los ficheros del directorio actual que acaben en \"tar.gz\"\n"
   ]
  },
  {
   "cell_type": "code",
   "execution_count": null,
   "id": "5ecdda4b",
   "metadata": {},
   "outputs": [],
   "source": [
    "# Muestra el estado del árbol de trabajo (copia del repositorio Git de \"zsh\")\n"
   ]
  },
  {
   "cell_type": "markdown",
   "id": "38359cca",
   "metadata": {},
   "source": [
    "SALIDA:\n",
    "```\n",
    "En la rama master\n",
    "Tu rama está actualizada con 'origin/master'.\n",
    "\n",
    "nada para hacer commit, el árbol de trabajo está limpio\n",
    "```"
   ]
  },
  {
   "cell_type": "markdown",
   "id": "aa07978f",
   "metadata": {},
   "source": [
    "### Enlaces"
   ]
  },
  {
   "cell_type": "code",
   "execution_count": null,
   "id": "c794b173",
   "metadata": {},
   "outputs": [],
   "source": [
    "# Este ejercicio presupone que has generado los \n",
    "# ficheros necesarios para el bloque de búsqueda de patrones (grep).\n",
    "# Para ello, ejecuta la primera celda de dicho bloque anterior."
   ]
  },
  {
   "cell_type": "code",
   "execution_count": null,
   "id": "397d25de",
   "metadata": {},
   "outputs": [],
   "source": [
    "rm -rf ~/p4b-ejercicios/enlaces\n",
    "mkdir -p ~/p4b-ejercicios/enlaces\n",
    "cd ~/p4b-ejercicios/enlaces"
   ]
  },
  {
   "cell_type": "code",
   "execution_count": null,
   "id": "9ddc9174",
   "metadata": {},
   "outputs": [],
   "source": [
    "pwd"
   ]
  },
  {
   "cell_type": "code",
   "execution_count": null,
   "id": "ff9a40cc",
   "metadata": {},
   "outputs": [],
   "source": [
    "# Crea un enlace físico al fichero \"INSTALL\" ubicado en el \n",
    "# directorio \"zsh\" (que a su vez está en el directorio padre del actual)\n"
   ]
  },
  {
   "cell_type": "code",
   "execution_count": null,
   "id": "2d03ee51",
   "metadata": {},
   "outputs": [],
   "source": [
    "# Ejecuta esta celda para añadir una línea al final de \"instalar-zsh\"\n",
    "echo \"END OF INSTALLATION INSTRUCTIONS\" >> instalar-zsh"
   ]
  },
  {
   "cell_type": "code",
   "execution_count": null,
   "id": "7e283a98",
   "metadata": {},
   "outputs": [],
   "source": [
    "# Muestra el final del fichero \"instalar-zsh\" con el comando \"tail FICHERO\"\n",
    "tail instalar-zsh"
   ]
  },
  {
   "cell_type": "code",
   "execution_count": null,
   "id": "f9eca1af",
   "metadata": {},
   "outputs": [],
   "source": [
    "# Lista de forma detallada (ls -l) el fichero \"INSTALL\" ubicado en el \n",
    "# directorio \"zsh\" (que a su vez está en el directorio padre del actual)\n"
   ]
  },
  {
   "cell_type": "markdown",
   "id": "f30d2979",
   "metadata": {},
   "source": [
    "¿Cuántos enlaces físicos existen para dicho fichero?\n",
    "\n",
    "RESPUESTA:"
   ]
  },
  {
   "cell_type": "code",
   "execution_count": null,
   "id": "fbe2fc26",
   "metadata": {},
   "outputs": [],
   "source": [
    "# Añade una línea con 20 asteriscos al final del fichero \"INSTALL\" ubicado en el \n",
    "# directorio \"zsh\" (que a su vez está en el directorio padre del actual)\n",
    "# Toma como referencia el comando \"echo\" anterior, cambiando el fichero al que \n",
    "# se redirige (\">>\") lo que \"echo\" imprime\n"
   ]
  },
  {
   "cell_type": "code",
   "execution_count": null,
   "id": "3d2109f6",
   "metadata": {},
   "outputs": [],
   "source": [
    "# Muestra el final del fichero \"instalar-zsh\" con el comando \"tail FICHERO\"\n"
   ]
  },
  {
   "cell_type": "code",
   "execution_count": null,
   "id": "377e88fb",
   "metadata": {},
   "outputs": [],
   "source": [
    "# Crea un enlace simbólico al directorio \"zsh\", llamado \"repo-zsh\"\n"
   ]
  },
  {
   "cell_type": "code",
   "execution_count": null,
   "id": "633f0835",
   "metadata": {},
   "outputs": [],
   "source": [
    "# Haz un listado detallado del directorio actual\n"
   ]
  },
  {
   "cell_type": "code",
   "execution_count": null,
   "id": "395e6faa",
   "metadata": {},
   "outputs": [],
   "source": [
    "# Cámbiate al directorio \"repo-zsh\"\n"
   ]
  },
  {
   "cell_type": "code",
   "execution_count": null,
   "id": "67462a33",
   "metadata": {},
   "outputs": [],
   "source": [
    "# Haz un listado detallado del directorio actual\n"
   ]
  },
  {
   "cell_type": "markdown",
   "id": "22a5cacb",
   "metadata": {},
   "source": [
    "¿Cuántos enlaces físicos tiene el fichero `INSTALL`?\n",
    "\n",
    "RESPUESTA (razonada): "
   ]
  },
  {
   "cell_type": "code",
   "execution_count": null,
   "id": "65e991c9",
   "metadata": {},
   "outputs": [],
   "source": [
    "# Borra el fichero INSTALL ubicado en el directorio actual\n"
   ]
  },
  {
   "cell_type": "code",
   "execution_count": null,
   "id": "b4b0f300",
   "metadata": {},
   "outputs": [],
   "source": [
    "# Muestra el estado del árbol de trabajo de Git en el directorio actual\n"
   ]
  },
  {
   "cell_type": "code",
   "execution_count": null,
   "id": "8886089c",
   "metadata": {},
   "outputs": [],
   "source": [
    "# Cámbiate al directorio padre del actual\n",
    "cd .."
   ]
  },
  {
   "cell_type": "code",
   "execution_count": null,
   "id": "ddd95e87",
   "metadata": {},
   "outputs": [],
   "source": [
    "# Haz un listado detallado del directorio actual\n"
   ]
  },
  {
   "cell_type": "markdown",
   "id": "b2cd9bb5",
   "metadata": {},
   "source": [
    "¿Cuántos enlaces físicos tiene el fichero `instalar-zsh`?\n",
    "\n",
    "RESPUESTA (razonada): "
   ]
  },
  {
   "cell_type": "code",
   "execution_count": null,
   "id": "ae6db92b",
   "metadata": {},
   "outputs": [],
   "source": [
    "# Mueve el directorio \"zsh\" ubicado en el directorio padre, al directorio actual\n"
   ]
  },
  {
   "cell_type": "code",
   "execution_count": null,
   "id": "7e76df76",
   "metadata": {},
   "outputs": [],
   "source": [
    "# Haz un listado detallado del directorio actual\n"
   ]
  },
  {
   "cell_type": "markdown",
   "id": "e5dd3b17",
   "metadata": {},
   "source": [
    "¿Qué ha ocurrido con el enlace simbólico `repo-zsh`?\n",
    "\n",
    "RESPUESTA (razonada):"
   ]
  },
  {
   "cell_type": "code",
   "execution_count": null,
   "id": "eda2f7aa",
   "metadata": {},
   "outputs": [],
   "source": [
    "# Cámbiate al directorio \"zsh\"\n",
    "cd zsh"
   ]
  },
  {
   "cell_type": "code",
   "execution_count": null,
   "id": "2b12ba41",
   "metadata": {
    "scrolled": true
   },
   "outputs": [],
   "source": [
    "# Muestra el estado del árbol de trabajo de Git en el directorio actual\n"
   ]
  },
  {
   "cell_type": "markdown",
   "id": "520e37c9",
   "metadata": {},
   "source": [
    "¿En qué estado se encuentra ahora el fichero `INSTALL` en el árbol de trabajo? ¿Su contenido se ha borrado realmente del sistema de ficheros? Explica por qué.\n",
    "\n",
    "RESPUESTA (razonada):"
   ]
  },
  {
   "cell_type": "code",
   "execution_count": null,
   "id": "7576afb7",
   "metadata": {},
   "outputs": [],
   "source": [
    "# Mueve el fichero \"instalar-zsh\" situado en el directorio padre\n",
    "# al directorio actual, con el nombre \"INSTALL\"\n"
   ]
  },
  {
   "cell_type": "code",
   "execution_count": null,
   "id": "3b942359",
   "metadata": {},
   "outputs": [],
   "source": [
    "# Muestra el estado del árbol de trabajo de Git en el directorio actual\n"
   ]
  },
  {
   "cell_type": "markdown",
   "id": "16cfaab1",
   "metadata": {},
   "source": [
    "¿En qué estado se encuentra ahora el fichero `INSTALL` en el árbol de trabajo?\n",
    "\n",
    "RESPUESTA (razonada):"
   ]
  },
  {
   "cell_type": "code",
   "execution_count": null,
   "id": "78784c18",
   "metadata": {},
   "outputs": [],
   "source": [
    "# Muestra las diferencias entre el árbol de trabajo y el repositorio\n",
    "# para el fichero INSTALL\n"
   ]
  },
  {
   "cell_type": "markdown",
   "id": "bb94b5af",
   "metadata": {},
   "source": [
    "SALIDA:\n",
    "```\n",
    "diff --git a/INSTALL b/INSTALL\n",
    "index f347a4480..412a4df28 100644\n",
    "--- a/INSTALL\n",
    "+++ b/INSTALL\n",
    "@@ -637,3 +637,5 @@ dynamic              # allow dynamically loaded binary modules [yes]\n",
    " largefile            # allow configure check for large files [yes]\n",
    " locale               # allow use of locale library [yes]\n",
    " \n",
    "+END OF INSTALLATION INSTRUCTIONS\n",
    "+****************\n",
    "```"
   ]
  }
 ],
 "metadata": {
  "kernelspec": {
   "display_name": "Bash",
   "language": "bash",
   "name": "bash"
  },
  "language_info": {
   "codemirror_mode": "shell",
   "file_extension": ".sh",
   "mimetype": "text/x-sh",
   "name": "bash"
  },
  "toc": {
   "base_numbering": 1,
   "nav_menu": {},
   "number_sections": true,
   "sideBar": true,
   "skip_h1_title": true,
   "title_cell": "Table of Contents",
   "title_sidebar": "Contents",
   "toc_cell": false,
   "toc_position": {
    "height": "calc(100% - 180px)",
    "left": "10px",
    "top": "150px",
    "width": "296px"
   },
   "toc_section_display": true,
   "toc_window_display": false
  }
 },
 "nbformat": 4,
 "nbformat_minor": 5
}
