{
 "cells": [
  {
   "cell_type": "markdown",
   "id": "8e983960",
   "metadata": {},
   "source": [
    "# Ejercicios - Práctica 4b: Herramientas de gestión del sistema de ficheros. Búsquedas."
   ]
  },
  {
   "cell_type": "markdown",
   "id": "12603fc2",
   "metadata": {},
   "source": [
    "<font size=\"4\">  \n",
    "    <span style=\"color: red;\">No olvides configurar Git para usar tu nombre y apellido(s), y tu dirección de correo electrónico universitario antes de comenzar.\n",
    "    </span>\n",
    "</font>\n",
    "\n",
    "Edita las primeras líneas de la siguiente celda con tu nombre y email y ejecútala para configurar tu entorno Git antes de empezar."
   ]
  },
  {
   "cell_type": "code",
   "execution_count": 1,
   "id": "9f68a80c",
   "metadata": {},
   "outputs": [],
   "source": [
    "git config --global user.name \"Juan Fco Manzanares Gómez\"\n",
    "git config --global user.email \"jf.manzanaresgomez@um.es\"\n",
    "\n",
    "# Establece el editor por defecto\n",
    "# para los mensajes de commit\n",
    "git config --global core.editor \"gedit\""
   ]
  },
  {
   "cell_type": "markdown",
   "id": "1eceb1f9",
   "metadata": {},
   "source": [
    "<br>\n",
    "<font size=\"5\">  \n",
    "    <span style=\"color: red;\"><b>IMPORTANTE:</b><br> Añade este fichero a tu repositorio-bitácora \"fc-alumno\" <b>ANTES</b> de comenzar a realizar los ejercicios.\n",
    "    </span>\n",
    "</font>  \n",
    "<font size=\"4\">  \n",
    "    Sigue las instrucciones a continuación.\n",
    "</font>"
   ]
  },
  {
   "cell_type": "markdown",
   "id": "5585b1f2",
   "metadata": {},
   "source": [
    "Recuerda que para poder registrar tu trabajo en tu bitácora personal de prácticas, debes evitar trabajar en una copia de este *notebook* que no esté bajo control de versiones en Git en tu repositorio. Por ello, **ANTES DE REALIZAR NINGÚN CAMBIO en este fichero asegúrate de COLOCARLO DENTRO DIRECTORIO DE TU REPOSITORIO-BITÁCORA `fc-alumno`** y añadirlo al repositorio:\n",
    "1. Cierra esta pestaña del navegador sin guardar los cambios.\n",
    "2. Muévelo desde donde lo hayas descargado del AV (p.ej. `$HOME/Descargas`) al directorio donde tengas tu repositorio (se recomienda `$HOME/fc-alumno`).\n",
    "3. Añádelo al repositorio:\n",
    "    * `git add practica4b-busquedas-ejercicios.ipynb`\n",
    "    * `git commit -m \"Añadiendo el notebook de ejercicios de la práctica 4b (sin empezar)\"`"
   ]
  },
  {
   "cell_type": "markdown",
   "id": "055d9927",
   "metadata": {},
   "source": [
    "Al igual que en la práctica 1 al comienzo del curso, vamos a hacer uso de los ficheros de ejemplo que tienes disponibles en el Aula Virtual (Recursos->Prácticas->P4). Descarga el fichero `ficheros_ejemplo.zip` y descomprímelo en tu directorio personal. El árbol de directorios en que se organizan los ficheros de ejemplo se puede observar a continuación:"
   ]
  },
  {
   "cell_type": "markdown",
   "id": "b089eec7",
   "metadata": {},
   "source": [
    "```\n",
    "ficheros_ejemplo\n",
    "├── nano\n",
    "│   ├── docu\n",
    "│   ├── m4\n",
    "│   ├── po\n",
    "│   ├── src\n",
    "│   └── syntax\n",
    "│       └── extra\n",
    "└── sample_files\n",
    "    ├── audio\n",
    "    │   ├── mp3\n",
    "    │   ├── ogg\n",
    "    │   ├── wav\n",
    "    │   └── wma\n",
    "    ├── docu\n",
    "    │   ├── docu\n",
    "    │   ├── docux\n",
    "    │   ├── pdf\n",
    "    │   ├── rtf\n",
    "    │   ├── txt\n",
    "    │   ├── xls\n",
    "    │   └── xlsx\n",
    "    ├── image\n",
    "    │   ├── bmp\n",
    "    │   ├── gif\n",
    "    │   ├── jpg\n",
    "    │   ├── png\n",
    "    │   └── tiff\n",
    "    └── video\n",
    "        ├── flv\n",
    "        ├── mkv\n",
    "        ├── mov\n",
    "        └── mp4\n",
    "\n",
    "```"
   ]
  },
  {
   "cell_type": "markdown",
   "id": "080049b0",
   "metadata": {},
   "source": [
    "Una vez lo tengas preparado, empezando desde tu directorio personal, realiza los siguientes ejercicios, utilizando en todo caso **RUTAS RELATIVAS**. \n",
    "\n",
    "<span style=\"color: red;\">Recuerda utilizar el tabulador </span> para facilitar la navegación por el sistema de ficheros al autocompletar los nombres de ficheros y directorios.\n"
   ]
  },
  {
   "cell_type": "code",
   "execution_count": 5,
   "id": "f9385319",
   "metadata": {},
   "outputs": [
    {
     "name": "stdout",
     "output_type": "stream",
     "text": [
      "Archive:  ficheros_ejemplo.zip\n",
      "   creating: ficheros_ejemplo/\n",
      "   creating: ficheros_ejemplo/sample_files/\n",
      "   creating: ficheros_ejemplo/sample_files/document/\n",
      "   creating: ficheros_ejemplo/sample_files/document/rtf/\n",
      "  inflating: ficheros_ejemplo/sample_files/document/rtf/file-sample_300kB.rtf  \n",
      "  inflating: ficheros_ejemplo/sample_files/document/rtf/file-sample_100kB.rtf  \n",
      "  inflating: ficheros_ejemplo/sample_files/document/rtf/file-sample_500kB.rtf  \n",
      "  inflating: ficheros_ejemplo/sample_files/document/rtf/file-sample_1MB.rtf  \n",
      "   creating: ficheros_ejemplo/sample_files/document/pdf/\n",
      "  inflating: ficheros_ejemplo/sample_files/document/pdf/sample3.pdf  \n",
      "  inflating: ficheros_ejemplo/sample_files/document/pdf/file-sample_150kB.pdf  \n",
      "  inflating: ficheros_ejemplo/sample_files/document/pdf/sample2.pdf  \n",
      "  inflating: ficheros_ejemplo/sample_files/document/pdf/file-example_PDF_500_kB.pdf  \n",
      "  inflating: ficheros_ejemplo/sample_files/document/pdf/file-example_PDF_1MB.pdf  \n",
      "  inflating: ficheros_ejemplo/sample_files/document/pdf/sample1.pdf  \n",
      "   creating: ficheros_ejemplo/sample_files/document/doc/\n",
      "  inflating: ficheros_ejemplo/sample_files/document/doc/file-sample_500kB.doc  \n",
      "  inflating: ficheros_ejemplo/sample_files/document/doc/file-sample_100kB.doc  \n",
      "  inflating: ficheros_ejemplo/sample_files/document/doc/file-sample_1MB.doc  \n",
      "  inflating: ficheros_ejemplo/sample_files/document/doc/sample1.doc  \n",
      "  inflating: ficheros_ejemplo/sample_files/document/doc/sample2.doc  \n",
      "   creating: ficheros_ejemplo/sample_files/document/txt/\n",
      "  inflating: ficheros_ejemplo/sample_files/document/txt/sample1.txt  \n",
      "  inflating: ficheros_ejemplo/sample_files/document/txt/sample2.txt  \n",
      "  inflating: ficheros_ejemplo/sample_files/document/txt/sample3.txt  \n",
      "   creating: ficheros_ejemplo/sample_files/document/xls/\n",
      "  inflating: ficheros_ejemplo/sample_files/document/xls/sample1.xls  \n",
      "  inflating: ficheros_ejemplo/sample_files/document/xls/sample3.xls  \n",
      "  inflating: ficheros_ejemplo/sample_files/document/xls/file_example_XLS_1000.xls  \n",
      "  inflating: ficheros_ejemplo/sample_files/document/xls/file_example_XLS_10.xls  \n",
      "  inflating: ficheros_ejemplo/sample_files/document/xls/file_example_XLS_100.xls  \n",
      "  inflating: ficheros_ejemplo/sample_files/document/xls/sample2.xls  \n",
      "  inflating: ficheros_ejemplo/sample_files/document/xls/file_example_XLS_50.xls  \n",
      "  inflating: ficheros_ejemplo/sample_files/document/xls/file_example_XLS_5000.xls  \n",
      "   creating: ficheros_ejemplo/sample_files/document/xlsx/\n",
      "  inflating: ficheros_ejemplo/sample_files/document/xlsx/sample2.xlsx  \n",
      "  inflating: ficheros_ejemplo/sample_files/document/xlsx/file_example_XLSX_50.xlsx  \n",
      "  inflating: ficheros_ejemplo/sample_files/document/xlsx/file_example_XLSX_1000.xlsx  \n",
      "  inflating: ficheros_ejemplo/sample_files/document/xlsx/sample3.xlsx  \n",
      "  inflating: ficheros_ejemplo/sample_files/document/xlsx/sample1.xlsx  \n",
      "  inflating: ficheros_ejemplo/sample_files/document/xlsx/file_example_XLSX_10.xlsx  \n",
      "  inflating: ficheros_ejemplo/sample_files/document/xlsx/file_example_XLSX_5000.xlsx  \n",
      "  inflating: ficheros_ejemplo/sample_files/document/xlsx/file_example_XLSX_100.xlsx  \n",
      "   creating: ficheros_ejemplo/sample_files/document/docx/\n",
      "  inflating: ficheros_ejemplo/sample_files/document/docx/sample3.docx  \n",
      "  inflating: ficheros_ejemplo/sample_files/document/docx/file-sample_500kB.docx  \n",
      "  inflating: ficheros_ejemplo/sample_files/document/docx/file-sample_100kB.docx  \n",
      "  inflating: ficheros_ejemplo/sample_files/document/docx/sample2.docx  \n",
      "  inflating: ficheros_ejemplo/sample_files/document/docx/file-sample_1MB.docx  \n",
      "  inflating: ficheros_ejemplo/sample_files/document/docx/sample4.docx  \n",
      "  inflating: ficheros_ejemplo/sample_files/document/docx/sample1.docx  \n",
      "   creating: ficheros_ejemplo/sample_files/audio/\n",
      "   creating: ficheros_ejemplo/sample_files/audio/wav/\n",
      "  inflating: ficheros_ejemplo/sample_files/audio/wav/medieval_horror_music_theme.wav  \n",
      "  inflating: ficheros_ejemplo/sample_files/audio/wav/break_free.wav  \n",
      "  inflating: ficheros_ejemplo/sample_files/audio/wav/dub_techno_loop_.wav  \n",
      "  inflating: ficheros_ejemplo/sample_files/audio/wav/background_loop_straight_02.wav  \n",
      "  inflating: ficheros_ejemplo/sample_files/audio/wav/background_loop_funky_03.wav  \n",
      "  inflating: ficheros_ejemplo/sample_files/audio/wav/background_loop_chill_techno_04.wav  \n",
      "  inflating: ficheros_ejemplo/sample_files/audio/wav/trappy_chill_loop.wav  \n",
      "   creating: ficheros_ejemplo/sample_files/audio/mp3/\n",
      "  inflating: ficheros_ejemplo/sample_files/audio/mp3/background_loop_staright_01.mp3  \n",
      "  inflating: ficheros_ejemplo/sample_files/audio/mp3/background_loop_chill_techno_03.mp3  \n",
      "  inflating: ficheros_ejemplo/sample_files/audio/mp3/background_loop_rusty.mp3  \n",
      "  inflating: ficheros_ejemplo/sample_files/audio/mp3/out_from_the_wasteland.mp3  \n",
      "  inflating: ficheros_ejemplo/sample_files/audio/mp3/drippling_drops_long.mp3  \n",
      "  inflating: ficheros_ejemplo/sample_files/audio/mp3/rising_up.mp3  \n",
      "  inflating: ficheros_ejemplo/sample_files/audio/mp3/cinematic_arabic_dawn.mp3  \n",
      "   creating: ficheros_ejemplo/sample_files/audio/wma/\n",
      "  inflating: ficheros_ejemplo/sample_files/audio/wma/background_loop_chill_techno_01.wma  \n",
      "  inflating: ficheros_ejemplo/sample_files/audio/wma/background_loop_sad_story.wma  \n",
      "  inflating: ficheros_ejemplo/sample_files/audio/wma/guitar_modlin.wma  \n",
      "  inflating: ficheros_ejemplo/sample_files/audio/wma/background_loop_funky_01.wma  \n",
      "  inflating: ficheros_ejemplo/sample_files/audio/wma/swingbar_tricks.wma  \n",
      "  inflating: ficheros_ejemplo/sample_files/audio/wma/background_loop_straight_04.wma  \n",
      "   creating: ficheros_ejemplo/sample_files/audio/ogg/\n",
      "  inflating: ficheros_ejemplo/sample_files/audio/ogg/background_loop_chill_techno_05.ogg  \n",
      "  inflating: ficheros_ejemplo/sample_files/audio/ogg/background_loop_chill_techno_02.ogg  \n",
      "  inflating: ficheros_ejemplo/sample_files/audio/ogg/background_loop_happy.ogg  \n",
      "  inflating: ficheros_ejemplo/sample_files/audio/ogg/modular_granular_loop_drama.ogg  \n",
      "  inflating: ficheros_ejemplo/sample_files/audio/ogg/background_loop_funky_02.ogg  \n",
      "  inflating: ficheros_ejemplo/sample_files/audio/ogg/background_loop_straight_03.ogg  \n",
      "  inflating: ficheros_ejemplo/sample_files/LICENSE  \n",
      "  inflating: ficheros_ejemplo/sample_files/README.md  \n",
      "   creating: ficheros_ejemplo/sample_files/video/\n",
      "   creating: ficheros_ejemplo/sample_files/video/mkv/\n",
      "  inflating: ficheros_ejemplo/sample_files/video/mkv/astronaut_walking_fantasy.mkv  \n",
      "  inflating: ficheros_ejemplo/sample_files/video/mkv/person_warming_up_to_a_bonfire.mkv  \n",
      "  inflating: ficheros_ejemplo/sample_files/video/mkv/neon_love_you_sign.mkv  \n",
      "  inflating: ficheros_ejemplo/sample_files/video/mkv/clouds_from_the_sky.mkv  \n",
      "  inflating: ficheros_ejemplo/sample_files/video/mkv/lit_incese_stick.mkv  \n",
      "  inflating: ficheros_ejemplo/sample_files/video/mkv/new_year_sparkles_on_cake.mkv  \n",
      "  inflating: ficheros_ejemplo/sample_files/video/mkv/flower_field_movement.mkv  \n",
      "  inflating: ficheros_ejemplo/sample_files/video/mkv/person_pouring_honey_on_pancakes.mkv  \n",
      "  inflating: ficheros_ejemplo/sample_files/video/mkv/river_flowing.mkv  \n",
      "  inflating: ficheros_ejemplo/sample_files/video/mkv/waves_crashing_on_rocks.mkv  \n",
      "  inflating: ficheros_ejemplo/sample_files/video/mkv/time_lapse_of_milky_way_galaxy.mkv  \n",
      "  inflating: ficheros_ejemplo/sample_files/video/mkv/going_up_an_escalator.mkv  \n",
      "  inflating: ficheros_ejemplo/sample_files/video/mkv/person_piping_icing.mkv  \n",
      "  inflating: ficheros_ejemplo/sample_files/video/mkv/person_holding_sparkles.mkv  \n",
      "   creating: ficheros_ejemplo/sample_files/video/mov/\n",
      "  inflating: ficheros_ejemplo/sample_files/video/mov/fish_swimmin_in_aquarium.mov  \n",
      "  inflating: ficheros_ejemplo/sample_files/video/mov/tray_of_halloween_cupcakes.mov  \n",
      "  inflating: ficheros_ejemplo/sample_files/video/mov/gas_lamp_flame.mov  \n",
      "  inflating: ficheros_ejemplo/sample_files/video/mov/high_angle_man_shooting_basketball.mov  \n",
      "  inflating: ficheros_ejemplo/sample_files/video/mov/colorful_ferris_wheel_in_motion.mov  \n",
      "  inflating: ficheros_ejemplo/sample_files/video/mov/residential_area_cover_with_snow.mov  \n",
      "  inflating: ficheros_ejemplo/sample_files/video/mov/small_waterfall.mov  \n",
      "  inflating: ficheros_ejemplo/sample_files/video/mov/woman_caressing_dog.mov  \n"
     ]
    },
    {
     "name": "stdout",
     "output_type": "stream",
     "text": [
      "  inflating: ficheros_ejemplo/sample_files/video/mov/man_playing_guitar.mov  \n",
      "  inflating: ficheros_ejemplo/sample_files/video/mov/erson_pouring_drink_in_crystal_glass.mov  \n",
      "   creating: ficheros_ejemplo/sample_files/video/flv/\n",
      "  inflating: ficheros_ejemplo/sample_files/video/flv/lemon_slice_falling.flv  \n",
      "  inflating: ficheros_ejemplo/sample_files/video/flv/frozen_ice_droplets.flv  \n",
      "  inflating: ficheros_ejemplo/sample_files/video/flv/person_sprinkling_cinnamon.flv  \n",
      "  inflating: ficheros_ejemplo/sample_files/video/flv/olive_drop_in_glass.flv  \n",
      "  inflating: ficheros_ejemplo/sample_files/video/flv/fireworks_over_water.flv  \n",
      "  inflating: ficheros_ejemplo/sample_files/video/flv/crowd_at_music_concert.flv  \n",
      "  inflating: ficheros_ejemplo/sample_files/video/flv/sunset_time_lapse.flv  \n",
      "  inflating: ficheros_ejemplo/sample_files/video/flv/great_britain_flag_on_a_pole.flv  \n",
      "  inflating: ficheros_ejemplo/sample_files/video/flv/person_lighting_candles.flv  \n",
      "  inflating: ficheros_ejemplo/sample_files/video/flv/person_typing.flv  \n",
      "   creating: ficheros_ejemplo/sample_files/video/mp4/\n",
      "  inflating: ficheros_ejemplo/sample_files/video/mp4/dogs_playing.mp4  \n",
      "  inflating: ficheros_ejemplo/sample_files/video/mp4/kayak_surfing_ocean.mp4  \n",
      "  inflating: ficheros_ejemplo/sample_files/video/mp4/magnolia_flower_blossom.mp4  \n",
      "  inflating: ficheros_ejemplo/sample_files/video/mp4/birds_on_branch.mp4  \n",
      "  inflating: ficheros_ejemplo/sample_files/video/mp4/cheetah_strolling.mp4  \n",
      "  inflating: ficheros_ejemplo/sample_files/video/mp4/stary_sky.mp4  \n",
      "  inflating: ficheros_ejemplo/sample_files/video/mp4/puppy_running.mp4  \n",
      "  inflating: ficheros_ejemplo/sample_files/video/mp4/mountain_sky.mp4  \n",
      " extracting: ficheros_ejemplo/sample_files/video/mp4/coffee_beans.mp4  \n",
      "  inflating: ficheros_ejemplo/sample_files/video/mp4/city_forest_rainbow.mp4  \n",
      "  inflating: ficheros_ejemplo/sample_files/video/mp4/seoul_street_night_light.mp4  \n",
      "  inflating: ficheros_ejemplo/sample_files/video/mp4/astronaut_flying_fantasy.mp4  \n",
      "  inflating: ficheros_ejemplo/sample_files/video/mp4/neon_subscribe_sign.mp4  \n",
      "  inflating: ficheros_ejemplo/sample_files/video/mp4/seoul_traffic_car.mp4  \n",
      "  inflating: ficheros_ejemplo/sample_files/video/mp4/couple_jogging.mp4  \n",
      "  inflating: ficheros_ejemplo/sample_files/video/mp4/plum_flower_blossom.mp4  \n",
      "  inflating: ficheros_ejemplo/sample_files/video/mp4/morning_fog.mp4  \n",
      "  inflating: ficheros_ejemplo/sample_files/video/mp4/cliff_waterfall.mp4  \n",
      "  inflating: ficheros_ejemplo/sample_files/video/mp4/desert.mp4  \n",
      "  inflating: ficheros_ejemplo/sample_files/video/mp4/cherry_flower_blossom.mp4  \n",
      "   creating: ficheros_ejemplo/sample_files/image/\n",
      "   creating: ficheros_ejemplo/sample_files/image/tiff/\n",
      "  inflating: ficheros_ejemplo/sample_files/image/tiff/basketball.tiff  \n",
      "  inflating: ficheros_ejemplo/sample_files/image/tiff/basketball_net_on_the_beach.tiff  \n",
      "  inflating: ficheros_ejemplo/sample_files/image/tiff/waves.tiff  \n",
      "  inflating: ficheros_ejemplo/sample_files/image/tiff/highway_long_exposure.tiff  \n",
      "  inflating: ficheros_ejemplo/sample_files/image/tiff/shopping_window.tiff  \n",
      "  inflating: ficheros_ejemplo/sample_files/image/tiff/airplane_flying.tiff  \n",
      "  inflating: ficheros_ejemplo/sample_files/image/tiff/bmw_motorcycle.tiff  \n",
      "  inflating: ficheros_ejemplo/sample_files/image/tiff/elephant.tiff  \n",
      "  inflating: ficheros_ejemplo/sample_files/image/tiff/circuit-board-detail.tiff  \n",
      "  inflating: ficheros_ejemplo/sample_files/image/tiff/rolled_fabric_stack.tiff  \n",
      "  inflating: ficheros_ejemplo/sample_files/image/tiff/tle_like_building_on_top_of_mountain.tiff  \n",
      "  inflating: ficheros_ejemplo/sample_files/image/tiff/half_black_lamborghini_car.tiff  \n",
      "  inflating: ficheros_ejemplo/sample_files/image/tiff/london_taxi.tiff  \n",
      "  inflating: ficheros_ejemplo/sample_files/image/tiff/black_and_white_tree_branches.tiff  \n",
      "  inflating: ficheros_ejemplo/sample_files/image/tiff/raspberry_stack.tiff  \n",
      "  inflating: ficheros_ejemplo/sample_files/image/tiff/london_bridge.tiff  \n",
      "  inflating: ficheros_ejemplo/sample_files/image/tiff/contemporary_home_master_bedroom_interior.tiff  \n",
      "   creating: ficheros_ejemplo/sample_files/image/jpg/\n",
      "  inflating: ficheros_ejemplo/sample_files/image/jpg/lemon_patern_wallpaper.jpg  \n",
      "  inflating: ficheros_ejemplo/sample_files/image/jpg/eagle_closeup.jpg  \n",
      "  inflating: ficheros_ejemplo/sample_files/image/jpg/birds_eye_beach.jpg  \n",
      "  inflating: ficheros_ejemplo/sample_files/image/jpg/orange_juice_glass.jpg  \n",
      "  inflating: ficheros_ejemplo/sample_files/image/jpg/elephants.jpg  \n",
      "  inflating: ficheros_ejemplo/sample_files/image/jpg/hexagon_building_facade.jpg  \n",
      "  inflating: ficheros_ejemplo/sample_files/image/jpg/egg_pattern.jpg  \n",
      "  inflating: ficheros_ejemplo/sample_files/image/jpg/assorted_colour_laser_light.jpg  \n",
      "  inflating: ficheros_ejemplo/sample_files/image/jpg/tiger_lying_on _the_ground.jpg  \n",
      "  inflating: ficheros_ejemplo/sample_files/image/jpg/tulip_field.jpg  \n",
      "  inflating: ficheros_ejemplo/sample_files/image/jpg/cocktail_on_the_beach.jpg  \n",
      "  inflating: ficheros_ejemplo/sample_files/image/jpg/shanghai_black_and_white.jpg  \n",
      "  inflating: ficheros_ejemplo/sample_files/image/jpg/ocean_waves.jpg  \n",
      "  inflating: ficheros_ejemplo/sample_files/image/jpg/waterfall_long_exposure.jpg  \n",
      "  inflating: ficheros_ejemplo/sample_files/image/jpg/lilac_calla_lilies.jpg  \n",
      "  inflating: ficheros_ejemplo/sample_files/image/jpg/waterfall_long_exposure_2.jpg  \n",
      "  inflating: ficheros_ejemplo/sample_files/image/jpg/yorkshire_terrier_dog.jpg  \n",
      "  inflating: ficheros_ejemplo/sample_files/image/jpg/assorted_pebble_rocks.jpg  \n",
      "  inflating: ficheros_ejemplo/sample_files/image/jpg/stacked_ice_cubes.jpg  \n",
      "  inflating: ficheros_ejemplo/sample_files/image/jpg/bitcoin.jpg  \n",
      "   creating: ficheros_ejemplo/sample_files/image/bmp/\n",
      "  inflating: ficheros_ejemplo/sample_files/image/bmp/waves.bmp  \n",
      "  inflating: ficheros_ejemplo/sample_files/image/bmp/snow_covered_mountain.bmp  \n",
      "  inflating: ficheros_ejemplo/sample_files/image/bmp/building_facade.bmp  \n",
      "  inflating: ficheros_ejemplo/sample_files/image/bmp/footprint_on_sand.bmp  \n",
      "  inflating: ficheros_ejemplo/sample_files/image/bmp/coffee_bean_jar.bmp  \n",
      "  inflating: ficheros_ejemplo/sample_files/image/bmp/london_bridge_aerial_view.bmp  \n",
      "  inflating: ficheros_ejemplo/sample_files/image/bmp/picnic_basket_with_book_flowers_and_hat.bmp  \n",
      "  inflating: ficheros_ejemplo/sample_files/image/bmp/forest_aerial_view.bmp  \n",
      "  inflating: ficheros_ejemplo/sample_files/image/bmp/pitbul.bmp  \n",
      "  inflating: ficheros_ejemplo/sample_files/image/bmp/palm_tree.bmp  \n",
      "  inflating: ficheros_ejemplo/sample_files/image/bmp/empire_state_building_in_the_evening.bmp  \n",
      "  inflating: ficheros_ejemplo/sample_files/image/bmp/wooden_dock_beach.bmp  \n",
      "  inflating: ficheros_ejemplo/sample_files/image/bmp/banana_bread.bmp  \n",
      "  inflating: ficheros_ejemplo/sample_files/image/bmp/chinatown.bmp  \n",
      "  inflating: ficheros_ejemplo/sample_files/image/bmp/donut.bmp  \n",
      "  inflating: ficheros_ejemplo/sample_files/image/bmp/coast_side_highway.bmp  \n",
      "  inflating: ficheros_ejemplo/sample_files/image/bmp/digital_camera_on_grass.bmp  \n",
      "  inflating: ficheros_ejemplo/sample_files/image/bmp/water_drop_glass_panel.bmp  \n",
      "  inflating: ficheros_ejemplo/sample_files/image/bmp/village_at_mountain_foot.bmp  \n",
      "  inflating: ficheros_ejemplo/sample_files/image/bmp/bonfire.bmp  \n",
      "   creating: ficheros_ejemplo/sample_files/image/bmp/cc/\n",
      "   creating: ficheros_ejemplo/sample_files/image/gif/\n",
      "  inflating: ficheros_ejemplo/sample_files/image/gif/time_lapse_of_aurora_borealis.gif  \n",
      "  inflating: ficheros_ejemplo/sample_files/image/gif/pokeball.gif  \n",
      "  inflating: ficheros_ejemplo/sample_files/image/gif/dalmation_dog_running.gif  \n",
      "  inflating: ficheros_ejemplo/sample_files/image/gif/apple_flexing_muscles.gif  \n",
      "  inflating: ficheros_ejemplo/sample_files/image/gif/dragon_flying.gif  \n",
      "  inflating: ficheros_ejemplo/sample_files/image/gif/happy_birthday_baloon_pop.gif  \n",
      "  inflating: ficheros_ejemplo/sample_files/image/gif/pikachu_balancing_on_a_pokeball.gif  \n",
      "  inflating: ficheros_ejemplo/sample_files/image/gif/wine_pouring_into_glass.gif  \n",
      "  inflating: ficheros_ejemplo/sample_files/image/gif/pikachu_balancing_pokeball.gif  \n",
      "  inflating: ficheros_ejemplo/sample_files/image/gif/sunflower_good_morning.gif  \n"
     ]
    },
    {
     "name": "stdout",
     "output_type": "stream",
     "text": [
      "  inflating: ficheros_ejemplo/sample_files/image/gif/happy_hour.gif  \n",
      "  inflating: ficheros_ejemplo/sample_files/image/gif/pikachu_rolling_pokeball.gif  \n",
      "  inflating: ficheros_ejemplo/sample_files/image/gif/t_rex.gif  \n",
      "  inflating: ficheros_ejemplo/sample_files/image/gif/thank_you_ink_and_quilt.gif  \n",
      "   creating: ficheros_ejemplo/sample_files/image/png/\n",
      "  inflating: ficheros_ejemplo/sample_files/image/png/burger.png  \n",
      "  inflating: ficheros_ejemplo/sample_files/image/png/wheat_silhouette.png  \n",
      "  inflating: ficheros_ejemplo/sample_files/image/png/animal_pattern.png  \n",
      "  inflating: ficheros_ejemplo/sample_files/image/png/buldog_cartoon.png  \n",
      "  inflating: ficheros_ejemplo/sample_files/image/png/pink_coffee_mug.png  \n",
      "  inflating: ficheros_ejemplo/sample_files/image/png/oil_towers.png  \n",
      "  inflating: ficheros_ejemplo/sample_files/image/png/cherry_blossom_tree.png  \n",
      "  inflating: ficheros_ejemplo/sample_files/image/png/barbeshop_item_silhouettes.png  \n",
      "  inflating: ficheros_ejemplo/sample_files/image/png/gear_clock.png  \n",
      "  inflating: ficheros_ejemplo/sample_files/image/png/butterflies_shaped_leaves.png  \n",
      "  inflating: ficheros_ejemplo/sample_files/image/png/face_mask.png  \n",
      "  inflating: ficheros_ejemplo/sample_files/image/png/cosmos_rocket_cartoon.png  \n",
      "  inflating: ficheros_ejemplo/sample_files/image/png/vintage_bmw_car.png  \n",
      "  inflating: ficheros_ejemplo/sample_files/image/png/koi_fish.png  \n",
      "  inflating: ficheros_ejemplo/sample_files/image/png/iconic_london_landmark.png  \n",
      "  inflating: ficheros_ejemplo/sample_files/image/png/assorted_houses.png  \n",
      "  inflating: ficheros_ejemplo/sample_files/image/png/stegosaurus.png  \n",
      "  inflating: ficheros_ejemplo/sample_files/image/png/rose.png  \n",
      "  inflating: ficheros_ejemplo/sample_files/image/png/baran_skull.png  \n",
      "  inflating: ficheros_ejemplo/sample_files/image/png/digital_camera.png  \n",
      "   creating: ficheros_ejemplo/nano/\n",
      "  inflating: ficheros_ejemplo/nano/TODO  \n",
      "  inflating: ficheros_ejemplo/nano/roll-a-release.sh  \n",
      "  inflating: ficheros_ejemplo/nano/Makefile.am  \n",
      "  inflating: ficheros_ejemplo/nano/README  \n",
      "  inflating: ficheros_ejemplo/nano/ChangeLog.2007-2015  \n",
      "  inflating: ficheros_ejemplo/nano/THANKS  \n",
      "  inflating: ficheros_ejemplo/nano/nano-regress  \n",
      "   creating: ficheros_ejemplo/nano/po/\n",
      "  inflating: ficheros_ejemplo/nano/po/sr.po  \n",
      "  inflating: ficheros_ejemplo/nano/po/de.po  \n",
      "  inflating: ficheros_ejemplo/nano/po/es.po  \n",
      "  inflating: ficheros_ejemplo/nano/po/zh_TW.po  \n",
      "  inflating: ficheros_ejemplo/nano/po/ja.po  \n",
      "  inflating: ficheros_ejemplo/nano/po/ko.po  \n",
      "  inflating: ficheros_ejemplo/nano/po/pt.po  \n",
      "  inflating: ficheros_ejemplo/nano/po/POTFILES.in  \n",
      "  inflating: ficheros_ejemplo/nano/po/ca.po  \n",
      "  inflating: ficheros_ejemplo/nano/po/bg.po  \n",
      "  inflating: ficheros_ejemplo/nano/po/da.po  \n",
      "  inflating: ficheros_ejemplo/nano/po/ro.po  \n",
      "  inflating: ficheros_ejemplo/nano/po/nl.po  \n",
      "  inflating: ficheros_ejemplo/nano/po/it.po  \n",
      "  inflating: ficheros_ejemplo/nano/po/vi.po  \n",
      "  inflating: ficheros_ejemplo/nano/po/sk.po  \n",
      "  inflating: ficheros_ejemplo/nano/po/is.po  \n",
      "  inflating: ficheros_ejemplo/nano/po/sl.po  \n",
      "  inflating: ficheros_ejemplo/nano/po/zh_CN.po  \n",
      "  inflating: ficheros_ejemplo/nano/po/tr.po  \n",
      "  inflating: ficheros_ejemplo/nano/po/ms.po  \n",
      "  inflating: ficheros_ejemplo/nano/po/uk.po  \n",
      "  inflating: ficheros_ejemplo/nano/po/hu.po  \n",
      "  inflating: ficheros_ejemplo/nano/po/update_linguas.sh  \n",
      "  inflating: ficheros_ejemplo/nano/po/gl.po  \n",
      "  inflating: ficheros_ejemplo/nano/po/fr.po  \n",
      "  inflating: ficheros_ejemplo/nano/po/id.po  \n",
      "  inflating: ficheros_ejemplo/nano/po/ka.po  \n",
      "  inflating: ficheros_ejemplo/nano/po/ru.po  \n",
      "  inflating: ficheros_ejemplo/nano/po/.gitignore  \n",
      "  inflating: ficheros_ejemplo/nano/po/sq.po  \n",
      "  inflating: ficheros_ejemplo/nano/po/sv.po  \n",
      "  inflating: ficheros_ejemplo/nano/po/eo.po  \n",
      "  inflating: ficheros_ejemplo/nano/po/nano.pot  \n",
      "  inflating: ficheros_ejemplo/nano/po/ga.po  \n",
      "  inflating: ficheros_ejemplo/nano/po/hr.po  \n",
      "  inflating: ficheros_ejemplo/nano/po/cs.po  \n",
      "  inflating: ficheros_ejemplo/nano/po/Makevars  \n",
      "  inflating: ficheros_ejemplo/nano/po/fi.po  \n",
      "  inflating: ficheros_ejemplo/nano/po/pl.po  \n",
      "  inflating: ficheros_ejemplo/nano/po/pt_BR.po  \n",
      "  inflating: ficheros_ejemplo/nano/po/LINGUAS  \n",
      "  inflating: ficheros_ejemplo/nano/po/nb.po  \n",
      "  inflating: ficheros_ejemplo/nano/po/eu.po  \n",
      "  inflating: ficheros_ejemplo/nano/ChangeLog.1999-2006  \n",
      "  inflating: ficheros_ejemplo/nano/NEWS  \n",
      "   creating: ficheros_ejemplo/nano/doc/\n",
      "  inflating: ficheros_ejemplo/nano/doc/faq.html  \n",
      "  inflating: ficheros_ejemplo/nano/doc/cheatsheet.html  \n",
      "  inflating: ficheros_ejemplo/nano/doc/nanorc.5  \n",
      "  inflating: ficheros_ejemplo/nano/doc/Makefile.am  \n",
      "  inflating: ficheros_ejemplo/nano/doc/nano.texi  \n",
      "  inflating: ficheros_ejemplo/nano/doc/nano.1  \n",
      "  inflating: ficheros_ejemplo/nano/doc/rnano.1  \n",
      "  inflating: ficheros_ejemplo/nano/doc/.gitignore  \n",
      "  inflating: ficheros_ejemplo/nano/doc/sample.nanorc.in  \n",
      "  inflating: ficheros_ejemplo/nano/autogen.sh  \n",
      "  inflating: ficheros_ejemplo/nano/IMPROVEMENTS  \n",
      "   creating: ficheros_ejemplo/nano/m4/\n",
      "  inflating: ficheros_ejemplo/nano/m4/Makefile.am  \n",
      "  inflating: ficheros_ejemplo/nano/m4/ac_define_dir.m4  \n",
      "  inflating: ficheros_ejemplo/nano/m4/ax_check_compile_flag.m4  \n",
      "  inflating: ficheros_ejemplo/nano/configure.ac  \n",
      "  inflating: ficheros_ejemplo/nano/README.hacking  \n",
      "   creating: ficheros_ejemplo/nano/.github/\n",
      "   creating: ficheros_ejemplo/nano/.github/workflows/\n",
      "  inflating: ficheros_ejemplo/nano/.github/workflows/fetch.yml  \n",
      "  inflating: ficheros_ejemplo/nano/.gitignore  \n",
      "  inflating: ficheros_ejemplo/nano/ChangeLog  \n",
      "  inflating: ficheros_ejemplo/nano/COPYING.DOC  \n",
      "   creating: ficheros_ejemplo/nano/syntax/\n",
      "  inflating: ficheros_ejemplo/nano/syntax/nanorc.nanorc  \n",
      "  inflating: ficheros_ejemplo/nano/syntax/ruby.nanorc  \n",
      "  inflating: ficheros_ejemplo/nano/syntax/xml.nanorc  \n",
      "  inflating: ficheros_ejemplo/nano/syntax/awk.nanorc  \n",
      "  inflating: ficheros_ejemplo/nano/syntax/css.nanorc  \n",
      "  inflating: ficheros_ejemplo/nano/syntax/groff.nanorc  \n",
      "  inflating: ficheros_ejemplo/nano/syntax/sql.nanorc  \n",
      "  inflating: ficheros_ejemplo/nano/syntax/tex.nanorc  \n",
      "  inflating: ficheros_ejemplo/nano/syntax/Makefile.am  \n",
      "  inflating: ficheros_ejemplo/nano/syntax/email.nanorc  \n",
      "  inflating: ficheros_ejemplo/nano/syntax/tcl.nanorc  \n",
      "  inflating: ficheros_ejemplo/nano/syntax/asm.nanorc  \n",
      "  inflating: ficheros_ejemplo/nano/syntax/default.nanorc  \n",
      "  inflating: ficheros_ejemplo/nano/syntax/man.nanorc  \n",
      "  inflating: ficheros_ejemplo/nano/syntax/javascript.nanorc  \n",
      "  inflating: ficheros_ejemplo/nano/syntax/go.nanorc  \n",
      "  inflating: ficheros_ejemplo/nano/syntax/lua.nanorc  \n",
      "  inflating: ficheros_ejemplo/nano/syntax/nanohelp.nanorc  \n",
      "  inflating: ficheros_ejemplo/nano/syntax/autoconf.nanorc  \n",
      "  inflating: ficheros_ejemplo/nano/syntax/patch.nanorc  \n",
      "  inflating: ficheros_ejemplo/nano/syntax/objc.nanorc  \n",
      "  inflating: ficheros_ejemplo/nano/syntax/nftables.nanorc  \n",
      "  inflating: ficheros_ejemplo/nano/syntax/changelog.nanorc  \n",
      "  inflating: ficheros_ejemplo/nano/syntax/elisp.nanorc  \n",
      "  inflating: ficheros_ejemplo/nano/syntax/guile.nanorc  \n",
      "  inflating: ficheros_ejemplo/nano/syntax/cmake.nanorc  \n",
      "  inflating: ficheros_ejemplo/nano/syntax/sh.nanorc  \n",
      "  inflating: ficheros_ejemplo/nano/syntax/ocaml.nanorc  \n",
      "  inflating: ficheros_ejemplo/nano/syntax/po.nanorc  \n",
      "  inflating: ficheros_ejemplo/nano/syntax/texinfo.nanorc  \n",
      "  inflating: ficheros_ejemplo/nano/syntax/c.nanorc  \n",
      "  inflating: ficheros_ejemplo/nano/syntax/java.nanorc  \n",
      "  inflating: ficheros_ejemplo/nano/syntax/rust.nanorc  \n",
      "  inflating: ficheros_ejemplo/nano/syntax/perl.nanorc  \n",
      "  inflating: ficheros_ejemplo/nano/syntax/html.nanorc  \n",
      "  inflating: ficheros_ejemplo/nano/syntax/makefile.nanorc  \n",
      "  inflating: ficheros_ejemplo/nano/syntax/php.nanorc  \n",
      "   creating: ficheros_ejemplo/nano/syntax/extra/\n",
      "  inflating: ficheros_ejemplo/nano/syntax/extra/ada.nanorc  \n",
      "  inflating: ficheros_ejemplo/nano/syntax/extra/spec.nanorc  \n",
      "  inflating: ficheros_ejemplo/nano/syntax/extra/povray.nanorc  \n",
      "  inflating: ficheros_ejemplo/nano/syntax/extra/haskell.nanorc  \n",
      "  inflating: ficheros_ejemplo/nano/syntax/extra/fortran.nanorc  \n",
      "  inflating: ficheros_ejemplo/nano/syntax/json.nanorc  \n"
     ]
    },
    {
     "name": "stdout",
     "output_type": "stream",
     "text": [
      "  inflating: ficheros_ejemplo/nano/syntax/yaml.nanorc  \n",
      "  inflating: ficheros_ejemplo/nano/syntax/markdown.nanorc  \n",
      "  inflating: ficheros_ejemplo/nano/syntax/python.nanorc  \n",
      "  inflating: ficheros_ejemplo/nano/AUTHORS  \n",
      "   creating: ficheros_ejemplo/nano/src/\n",
      "  inflating: ficheros_ejemplo/nano/src/global.c  \n",
      "  inflating: ficheros_ejemplo/nano/src/search.c  \n",
      "  inflating: ficheros_ejemplo/nano/src/cut.c  \n",
      "  inflating: ficheros_ejemplo/nano/src/files.c  \n",
      "  inflating: ficheros_ejemplo/nano/src/Makefile.am  \n",
      "  inflating: ficheros_ejemplo/nano/src/prompt.c  \n",
      "  inflating: ficheros_ejemplo/nano/src/winio.c  \n",
      "  inflating: ficheros_ejemplo/nano/src/text.c  \n",
      "  inflating: ficheros_ejemplo/nano/src/utils.c  \n",
      "  inflating: ficheros_ejemplo/nano/src/chars.c  \n",
      "  inflating: ficheros_ejemplo/nano/src/definitions.h  \n",
      "  inflating: ficheros_ejemplo/nano/src/browser.c  \n",
      "  inflating: ficheros_ejemplo/nano/src/help.c  \n",
      "  inflating: ficheros_ejemplo/nano/src/move.c  \n",
      "  inflating: ficheros_ejemplo/nano/src/prototypes.h  \n",
      "  inflating: ficheros_ejemplo/nano/src/color.c  \n",
      "  inflating: ficheros_ejemplo/nano/src/nano.c  \n",
      "  inflating: ficheros_ejemplo/nano/src/rcfile.c  \n",
      "  inflating: ficheros_ejemplo/nano/src/history.c  \n",
      "  inflating: ficheros_ejemplo/nano/COPYING  \n"
     ]
    }
   ],
   "source": [
    "# Ejecuta esta celda para restaurar el estado de los ficheros\n",
    "# Para ello, necesitas colocar el 'ficheros_ejemplo.zip' en tu directorio personal\n",
    "cd\n",
    "chmod -Rf 700 ficheros_ejemplo\n",
    "rm -rf ficheros_ejemplo\n",
    "unzip ficheros_ejemplo.zip\n",
    "cd ~/ficheros_ejemplo/sample_files\n"
   ]
  },
  {
   "cell_type": "markdown",
   "id": "090de0e8",
   "metadata": {},
   "source": [
    "### Permisos sobre directorios"
   ]
  },
  {
   "cell_type": "code",
   "execution_count": 11,
   "id": "ad64fbf9-0045-434a-ba9d-9075f559ef77",
   "metadata": {},
   "outputs": [
    {
     "name": "stdout",
     "output_type": "stream",
     "text": [
      "\u001b[0m\u001b[01;34maudio\u001b[0m  \u001b[01;34mdocument\u001b[0m  \u001b[01;34mimage\u001b[0m  LICENSE  README.md  \u001b[01;34mvideo\u001b[0m\n"
     ]
    }
   ],
   "source": [
    "ls"
   ]
  },
  {
   "cell_type": "code",
   "execution_count": 14,
   "id": "6c60def0",
   "metadata": {},
   "outputs": [],
   "source": [
    "# Copia el contenido íntegro del directorio \"video\"  a un\n",
    "cp -r video/* video-copia"
   ]
  },
  {
   "cell_type": "code",
   "execution_count": 17,
   "id": "e357a830",
   "metadata": {},
   "outputs": [],
   "source": [
    "# Mueve al directorio \"video\" los ficheros que hay en su subdirectorio \"mp4\" \n",
    "# cuyo nombre comience por 'c' (NOTA: Utiliza comodines)\n",
    "mv video/mp4/c* video"
   ]
  },
  {
   "cell_type": "code",
   "execution_count": 19,
   "id": "5de139a5",
   "metadata": {},
   "outputs": [],
   "source": [
    "# Cambia los permisos del directorio \"video\" para \n",
    "# que el propietario pueda leer y escribir, y nadie más tenga acceso\n",
    "chmod 600 video"
   ]
  },
  {
   "cell_type": "code",
   "execution_count": 20,
   "id": "f989c6e1",
   "metadata": {},
   "outputs": [
    {
     "name": "stdout",
     "output_type": "stream",
     "text": [
      "bash: cd: video: Permiso denegado\n"
     ]
    },
    {
     "ename": "",
     "evalue": "1",
     "output_type": "error",
     "traceback": []
    }
   ],
   "source": [
    "# Intenta cambiarte al directorio  \"video\". ¿Puedes?\n",
    "cd video"
   ]
  },
  {
   "cell_type": "markdown",
   "id": "3198c257",
   "metadata": {},
   "source": [
    "RESPUESTA (razonada): no tengo el permiso de ejecucion que es el que me permite introducirme en el directorio"
   ]
  },
  {
   "cell_type": "code",
   "execution_count": 21,
   "id": "1990bdd9",
   "metadata": {},
   "outputs": [],
   "source": [
    "# Vuelve a cambiar los permisos del directorio ahora para\n",
    "# que el propietario pueda leer y ejecutar, y nadie más tenga acceso\n",
    "chmod 500 video"
   ]
  },
  {
   "cell_type": "code",
   "execution_count": 22,
   "id": "b5f6f672",
   "metadata": {},
   "outputs": [
    {
     "name": "stdout",
     "output_type": "stream",
     "text": [
      "total 2948\n",
      "-rw-rw-r-- 1 kiko kiko  480353 sep  7 10:06 \u001b[0m\u001b[01;35mcheetah_strolling.mp4\u001b[0m\n",
      "-rw-rw-r-- 1 kiko kiko  280835 sep  7 10:06 \u001b[01;35mcherry_flower_blossom.mp4\u001b[0m\n",
      "-rw-rw-r-- 1 kiko kiko  244500 sep  7 10:06 \u001b[01;35mcity_forest_rainbow.mp4\u001b[0m\n",
      "-rw-rw-r-- 1 kiko kiko 1288662 sep  7 10:06 \u001b[01;35mcliff_waterfall.mp4\u001b[0m\n",
      "-rw-rw-r-- 1 kiko kiko       0 sep  7 10:06 \u001b[01;35mcoffee_beans.mp4\u001b[0m\n",
      "-rw-rw-r-- 1 kiko kiko  699249 sep  7 10:06 \u001b[01;35mcouple_jogging.mp4\u001b[0m\n",
      "drwxrwxr-x 2 kiko kiko    4096 sep  7 10:05 \u001b[01;34mflv\u001b[0m\n",
      "drwxrwxr-x 2 kiko kiko    4096 sep  7 10:06 \u001b[01;34mmkv\u001b[0m\n",
      "drwxrwxr-x 2 kiko kiko    4096 sep  7 10:06 \u001b[01;34mmov\u001b[0m\n",
      "drwxrwxr-x 2 kiko kiko    4096 nov 13 18:48 \u001b[01;34mmp4\u001b[0m\n"
     ]
    }
   ],
   "source": [
    "# Listar los contenidos del directorio  \"video\".\n",
    "ls -l video/"
   ]
  },
  {
   "cell_type": "code",
   "execution_count": 23,
   "id": "f28cf103",
   "metadata": {},
   "outputs": [
    {
     "name": "stdout",
     "output_type": "stream",
     "text": [
      "rm: no se puede borrar 'video/cheetah_strolling.mp4': Permiso denegado\n",
      "rm: no se puede borrar 'video/city_forest_rainbow.mp4': Permiso denegado\n",
      "rm: no se puede borrar 'video/couple_jogging.mp4': Permiso denegado\n"
     ]
    },
    {
     "ename": "",
     "evalue": "1",
     "output_type": "error",
     "traceback": []
    }
   ],
   "source": [
    "# Elimina los ficheros del directorio \"video\" que contengan la cadena \"in\". ¿Puedes?\n",
    "rm video/*in*"
   ]
  },
  {
   "cell_type": "markdown",
   "id": "999ba9e8",
   "metadata": {},
   "source": [
    "RESPUESTA (razonada): no tengo el permiso de escritura que es el que me permite el borrado de ficheros"
   ]
  },
  {
   "cell_type": "code",
   "execution_count": 24,
   "id": "c3cc996a",
   "metadata": {},
   "outputs": [
    {
     "name": "stdout",
     "output_type": "stream",
     "text": [
      "rm: no se puede borrar 'video/mp4': Es un directorio\n"
     ]
    },
    {
     "ename": "",
     "evalue": "1",
     "output_type": "error",
     "traceback": []
    }
   ],
   "source": [
    "# Elimina todos los ficheros del directorio \"videos/mp4\". ¿Puedes?\n",
    "rm video/mp4"
   ]
  },
  {
   "cell_type": "code",
   "execution_count": 25,
   "id": "09d68c5f",
   "metadata": {},
   "outputs": [
    {
     "name": "stdout",
     "output_type": "stream",
     "text": [
      "\u001b[0m\u001b[01;35mastronaut_flying_fantasy.mp4\u001b[0m  \u001b[01;35mmountain_sky.mp4\u001b[0m\n",
      "\u001b[01;35mbirds_on_branch.mp4\u001b[0m           \u001b[01;35mneon_subscribe_sign.mp4\u001b[0m\n",
      "\u001b[01;35mdesert.mp4\u001b[0m                    \u001b[01;35mplum_flower_blossom.mp4\u001b[0m\n",
      "\u001b[01;35mdogs_playing.mp4\u001b[0m              \u001b[01;35mpuppy_running.mp4\u001b[0m\n",
      "\u001b[01;35mkayak_surfing_ocean.mp4\u001b[0m       \u001b[01;35mseoul_street_night_light.mp4\u001b[0m\n",
      "\u001b[01;35mmagnolia_flower_blossom.mp4\u001b[0m   \u001b[01;35mseoul_traffic_car.mp4\u001b[0m\n",
      "\u001b[01;35mmorning_fog.mp4\u001b[0m               \u001b[01;35mstary_sky.mp4\u001b[0m\n"
     ]
    }
   ],
   "source": [
    "ls video/mp4"
   ]
  },
  {
   "cell_type": "markdown",
   "id": "2bb1fb98",
   "metadata": {},
   "source": [
    "RESPUESTA (razonada): no tengo los permisos de escritura"
   ]
  },
  {
   "cell_type": "code",
   "execution_count": 26,
   "id": "d69119d9",
   "metadata": {},
   "outputs": [
    {
     "name": "stdout",
     "output_type": "stream",
     "text": [
      "\u001b[0m\u001b[01;35mcheetah_strolling.mp4\u001b[0m      \u001b[01;35mcliff_waterfall.mp4\u001b[0m  \u001b[01;34mflv\u001b[0m  \u001b[01;34mmp4\u001b[0m\n",
      "\u001b[01;35mcherry_flower_blossom.mp4\u001b[0m  \u001b[01;35mcoffee_beans.mp4\u001b[0m     \u001b[01;34mmkv\u001b[0m\n",
      "\u001b[01;35mcity_forest_rainbow.mp4\u001b[0m    \u001b[01;35mcouple_jogging.mp4\u001b[0m   \u001b[01;34mmov\u001b[0m\n"
     ]
    }
   ],
   "source": [
    "ls video"
   ]
  },
  {
   "cell_type": "code",
   "execution_count": 27,
   "id": "f0187fe6",
   "metadata": {},
   "outputs": [],
   "source": [
    "# Establece los permisos adecuados para que el siguiente comando no \n",
    "# pueda \"vaciar\" el contenido del fichero \"video/cliff_waterfall.mp4\"\n",
    "chmod 555 video/cliff_waterfall.mp4"
   ]
  },
  {
   "cell_type": "code",
   "execution_count": 28,
   "id": "b238ef4a",
   "metadata": {},
   "outputs": [
    {
     "name": "stdout",
     "output_type": "stream",
     "text": [
      "bash: video/cliff_waterfall.mp4: Permiso denegado\n"
     ]
    },
    {
     "ename": "",
     "evalue": "1",
     "output_type": "error",
     "traceback": []
    }
   ],
   "source": [
    "# echo -n: Imprime \"nada\". Y redirigie \"nada\" a un fichero.\n",
    "echo -n > video/cliff_waterfall.mp4"
   ]
  },
  {
   "cell_type": "code",
   "execution_count": 29,
   "id": "40b249fa",
   "metadata": {},
   "outputs": [
    {
     "name": "stdout",
     "output_type": "stream",
     "text": [
      "-r-xr-xr-x 1 kiko kiko 1,3M sep  7 10:06 \u001b[0m\u001b[01;32mvideo/cliff_waterfall.mp4\u001b[0m\n"
     ]
    }
   ],
   "source": [
    "# El listado debería mostrar que el fichero ocupa 1,3MiB\n",
    "ls -lh video/cliff_waterfall.mp4"
   ]
  },
  {
   "cell_type": "markdown",
   "id": "d8a42801",
   "metadata": {},
   "source": [
    "¿De qué permisos depende que el contenido del fichero se pueda modificar?\n",
    "\n",
    "RESPUESTA (razonada): del permiso de escritura"
   ]
  },
  {
   "cell_type": "code",
   "execution_count": 30,
   "id": "41e12614",
   "metadata": {},
   "outputs": [],
   "source": [
    "# Elimina todos los permisos del directorio  \"video\".\n",
    "chmod 000 video"
   ]
  },
  {
   "cell_type": "code",
   "execution_count": 31,
   "id": "4dff3af8",
   "metadata": {},
   "outputs": [
    {
     "name": "stdout",
     "output_type": "stream",
     "text": [
      "ls: no se puede abrir el directorio 'video': Permiso denegado\n"
     ]
    },
    {
     "ename": "",
     "evalue": "2",
     "output_type": "error",
     "traceback": []
    }
   ],
   "source": [
    "# ¿Puedes listarlo? \n",
    "ls video"
   ]
  },
  {
   "cell_type": "code",
   "execution_count": 32,
   "id": "f7a471a7",
   "metadata": {
    "code_folding": []
   },
   "outputs": [],
   "source": [
    "# Establece todos los permisos para el propietario del directorio \"video\",\n",
    "# y permisos de lectura y ejecución para grupo y el resto de usuarios\n",
    "chmod 755 video"
   ]
  },
  {
   "cell_type": "code",
   "execution_count": null,
   "id": "6c3cfe46",
   "metadata": {},
   "outputs": [],
   "source": [
    "# Borra el directorio \"video\" usando la opción \"r\". ¿Qué ocurre?\n",
    "rm -r video"
   ]
  },
  {
   "cell_type": "markdown",
   "id": "af69d01a",
   "metadata": {},
   "source": [
    "Verás que la celda anterior no termina de ejecutarse (se queda en estado `[*]`). Interrumpe el *kernel* y luego relánzalo, y pasa a la siguiente celda"
   ]
  },
  {
   "cell_type": "code",
   "execution_count": 1,
   "id": "38aa8492",
   "metadata": {},
   "outputs": [],
   "source": [
    "# Al relanzar el kernel, el directorio actual vuelve a ser el directorio\n",
    "# donde está este notebook (donde esté este notebook)\n",
    "cd ~/ficheros_ejemplo/sample_files"
   ]
  },
  {
   "cell_type": "code",
   "execution_count": 2,
   "id": "434209f3",
   "metadata": {},
   "outputs": [],
   "source": [
    "# Borra el directorio \"video\" sin que te pida confirmación\n",
    "#no me deja\n",
    "mv video nada"
   ]
  },
  {
   "cell_type": "code",
   "execution_count": 3,
   "id": "11ae2c9b",
   "metadata": {},
   "outputs": [],
   "source": [
    "# Renombra el directorio \"video-backup\" para que se llame \"video\"\n",
    "mv video-copia video"
   ]
  },
  {
   "cell_type": "markdown",
   "id": "ebf79c79",
   "metadata": {},
   "source": [
    "\n",
    "### Búsquedas en el sistema de ficheros. Comodines"
   ]
  },
  {
   "cell_type": "markdown",
   "id": "1b5856f1",
   "metadata": {},
   "source": [
    "Usando convenientemente los comodines y las opciones de `find`, mostrar lo siguiente:"
   ]
  },
  {
   "cell_type": "code",
   "execution_count": 4,
   "id": "b2b404c8",
   "metadata": {},
   "outputs": [
    {
     "name": "stdout",
     "output_type": "stream",
     "text": [
      "Archive:  ficheros_ejemplo.zip\n",
      "   creating: ficheros_ejemplo/\n",
      "   creating: ficheros_ejemplo/sample_files/\n",
      "   creating: ficheros_ejemplo/sample_files/document/\n",
      "   creating: ficheros_ejemplo/sample_files/document/rtf/\n",
      "  inflating: ficheros_ejemplo/sample_files/document/rtf/file-sample_300kB.rtf  \n",
      "  inflating: ficheros_ejemplo/sample_files/document/rtf/file-sample_100kB.rtf  \n",
      "  inflating: ficheros_ejemplo/sample_files/document/rtf/file-sample_500kB.rtf  \n",
      "  inflating: ficheros_ejemplo/sample_files/document/rtf/file-sample_1MB.rtf  \n",
      "   creating: ficheros_ejemplo/sample_files/document/pdf/\n",
      "  inflating: ficheros_ejemplo/sample_files/document/pdf/sample3.pdf  \n",
      "  inflating: ficheros_ejemplo/sample_files/document/pdf/file-sample_150kB.pdf  \n",
      "  inflating: ficheros_ejemplo/sample_files/document/pdf/sample2.pdf  \n",
      "  inflating: ficheros_ejemplo/sample_files/document/pdf/file-example_PDF_500_kB.pdf  \n",
      "  inflating: ficheros_ejemplo/sample_files/document/pdf/file-example_PDF_1MB.pdf  \n",
      "  inflating: ficheros_ejemplo/sample_files/document/pdf/sample1.pdf  \n",
      "   creating: ficheros_ejemplo/sample_files/document/doc/\n",
      "  inflating: ficheros_ejemplo/sample_files/document/doc/file-sample_500kB.doc  \n",
      "  inflating: ficheros_ejemplo/sample_files/document/doc/file-sample_100kB.doc  \n",
      "  inflating: ficheros_ejemplo/sample_files/document/doc/file-sample_1MB.doc  \n",
      "  inflating: ficheros_ejemplo/sample_files/document/doc/sample1.doc  \n",
      "  inflating: ficheros_ejemplo/sample_files/document/doc/sample2.doc  \n",
      "   creating: ficheros_ejemplo/sample_files/document/txt/\n",
      "  inflating: ficheros_ejemplo/sample_files/document/txt/sample1.txt  \n",
      "  inflating: ficheros_ejemplo/sample_files/document/txt/sample2.txt  \n",
      "  inflating: ficheros_ejemplo/sample_files/document/txt/sample3.txt  \n",
      "   creating: ficheros_ejemplo/sample_files/document/xls/\n",
      "  inflating: ficheros_ejemplo/sample_files/document/xls/sample1.xls  \n",
      "  inflating: ficheros_ejemplo/sample_files/document/xls/sample3.xls  \n",
      "  inflating: ficheros_ejemplo/sample_files/document/xls/file_example_XLS_1000.xls  \n",
      "  inflating: ficheros_ejemplo/sample_files/document/xls/file_example_XLS_10.xls  \n",
      "  inflating: ficheros_ejemplo/sample_files/document/xls/file_example_XLS_100.xls  \n",
      "  inflating: ficheros_ejemplo/sample_files/document/xls/sample2.xls  \n",
      "  inflating: ficheros_ejemplo/sample_files/document/xls/file_example_XLS_50.xls  \n",
      "  inflating: ficheros_ejemplo/sample_files/document/xls/file_example_XLS_5000.xls  \n",
      "   creating: ficheros_ejemplo/sample_files/document/xlsx/\n",
      "  inflating: ficheros_ejemplo/sample_files/document/xlsx/sample2.xlsx  \n",
      "  inflating: ficheros_ejemplo/sample_files/document/xlsx/file_example_XLSX_50.xlsx  \n",
      "  inflating: ficheros_ejemplo/sample_files/document/xlsx/file_example_XLSX_1000.xlsx  \n",
      "  inflating: ficheros_ejemplo/sample_files/document/xlsx/sample3.xlsx  \n",
      "  inflating: ficheros_ejemplo/sample_files/document/xlsx/sample1.xlsx  \n",
      "  inflating: ficheros_ejemplo/sample_files/document/xlsx/file_example_XLSX_10.xlsx  \n",
      "  inflating: ficheros_ejemplo/sample_files/document/xlsx/file_example_XLSX_5000.xlsx  \n",
      "  inflating: ficheros_ejemplo/sample_files/document/xlsx/file_example_XLSX_100.xlsx  \n",
      "   creating: ficheros_ejemplo/sample_files/document/docx/\n",
      "  inflating: ficheros_ejemplo/sample_files/document/docx/sample3.docx  \n",
      "  inflating: ficheros_ejemplo/sample_files/document/docx/file-sample_500kB.docx  \n",
      "  inflating: ficheros_ejemplo/sample_files/document/docx/file-sample_100kB.docx  \n",
      "  inflating: ficheros_ejemplo/sample_files/document/docx/sample2.docx  \n",
      "  inflating: ficheros_ejemplo/sample_files/document/docx/file-sample_1MB.docx  \n",
      "  inflating: ficheros_ejemplo/sample_files/document/docx/sample4.docx  \n",
      "  inflating: ficheros_ejemplo/sample_files/document/docx/sample1.docx  \n",
      "   creating: ficheros_ejemplo/sample_files/audio/\n",
      "   creating: ficheros_ejemplo/sample_files/audio/wav/\n",
      "  inflating: ficheros_ejemplo/sample_files/audio/wav/medieval_horror_music_theme.wav  \n",
      "  inflating: ficheros_ejemplo/sample_files/audio/wav/break_free.wav  \n",
      "  inflating: ficheros_ejemplo/sample_files/audio/wav/dub_techno_loop_.wav  \n",
      "  inflating: ficheros_ejemplo/sample_files/audio/wav/background_loop_straight_02.wav  \n",
      "  inflating: ficheros_ejemplo/sample_files/audio/wav/background_loop_funky_03.wav  \n",
      "  inflating: ficheros_ejemplo/sample_files/audio/wav/background_loop_chill_techno_04.wav  \n",
      "  inflating: ficheros_ejemplo/sample_files/audio/wav/trappy_chill_loop.wav  \n",
      "   creating: ficheros_ejemplo/sample_files/audio/mp3/\n",
      "  inflating: ficheros_ejemplo/sample_files/audio/mp3/background_loop_staright_01.mp3  \n",
      "  inflating: ficheros_ejemplo/sample_files/audio/mp3/background_loop_chill_techno_03.mp3  \n",
      "  inflating: ficheros_ejemplo/sample_files/audio/mp3/background_loop_rusty.mp3  \n",
      "  inflating: ficheros_ejemplo/sample_files/audio/mp3/out_from_the_wasteland.mp3  \n",
      "  inflating: ficheros_ejemplo/sample_files/audio/mp3/drippling_drops_long.mp3  \n",
      "  inflating: ficheros_ejemplo/sample_files/audio/mp3/rising_up.mp3  \n",
      "  inflating: ficheros_ejemplo/sample_files/audio/mp3/cinematic_arabic_dawn.mp3  \n",
      "   creating: ficheros_ejemplo/sample_files/audio/wma/\n",
      "  inflating: ficheros_ejemplo/sample_files/audio/wma/background_loop_chill_techno_01.wma  \n",
      "  inflating: ficheros_ejemplo/sample_files/audio/wma/background_loop_sad_story.wma  \n",
      "  inflating: ficheros_ejemplo/sample_files/audio/wma/guitar_modlin.wma  \n",
      "  inflating: ficheros_ejemplo/sample_files/audio/wma/background_loop_funky_01.wma  \n",
      "  inflating: ficheros_ejemplo/sample_files/audio/wma/swingbar_tricks.wma  \n",
      "  inflating: ficheros_ejemplo/sample_files/audio/wma/background_loop_straight_04.wma  \n",
      "   creating: ficheros_ejemplo/sample_files/audio/ogg/\n",
      "  inflating: ficheros_ejemplo/sample_files/audio/ogg/background_loop_chill_techno_05.ogg  \n",
      "  inflating: ficheros_ejemplo/sample_files/audio/ogg/background_loop_chill_techno_02.ogg  \n",
      "  inflating: ficheros_ejemplo/sample_files/audio/ogg/background_loop_happy.ogg  \n",
      "  inflating: ficheros_ejemplo/sample_files/audio/ogg/modular_granular_loop_drama.ogg  \n",
      "  inflating: ficheros_ejemplo/sample_files/audio/ogg/background_loop_funky_02.ogg  \n",
      "  inflating: ficheros_ejemplo/sample_files/audio/ogg/background_loop_straight_03.ogg  \n",
      "  inflating: ficheros_ejemplo/sample_files/LICENSE  \n",
      "  inflating: ficheros_ejemplo/sample_files/README.md  \n",
      "   creating: ficheros_ejemplo/sample_files/video/\n",
      "   creating: ficheros_ejemplo/sample_files/video/mkv/\n",
      "  inflating: ficheros_ejemplo/sample_files/video/mkv/astronaut_walking_fantasy.mkv  \n",
      "  inflating: ficheros_ejemplo/sample_files/video/mkv/person_warming_up_to_a_bonfire.mkv  \n",
      "  inflating: ficheros_ejemplo/sample_files/video/mkv/neon_love_you_sign.mkv  \n",
      "  inflating: ficheros_ejemplo/sample_files/video/mkv/clouds_from_the_sky.mkv  \n",
      "  inflating: ficheros_ejemplo/sample_files/video/mkv/lit_incese_stick.mkv  \n",
      "  inflating: ficheros_ejemplo/sample_files/video/mkv/new_year_sparkles_on_cake.mkv  \n",
      "  inflating: ficheros_ejemplo/sample_files/video/mkv/flower_field_movement.mkv  \n",
      "  inflating: ficheros_ejemplo/sample_files/video/mkv/person_pouring_honey_on_pancakes.mkv  \n",
      "  inflating: ficheros_ejemplo/sample_files/video/mkv/river_flowing.mkv  \n",
      "  inflating: ficheros_ejemplo/sample_files/video/mkv/waves_crashing_on_rocks.mkv  \n",
      "  inflating: ficheros_ejemplo/sample_files/video/mkv/time_lapse_of_milky_way_galaxy.mkv  \n",
      "  inflating: ficheros_ejemplo/sample_files/video/mkv/going_up_an_escalator.mkv  \n",
      "  inflating: ficheros_ejemplo/sample_files/video/mkv/person_piping_icing.mkv  \n",
      "  inflating: ficheros_ejemplo/sample_files/video/mkv/person_holding_sparkles.mkv  \n",
      "   creating: ficheros_ejemplo/sample_files/video/mov/\n",
      "  inflating: ficheros_ejemplo/sample_files/video/mov/fish_swimmin_in_aquarium.mov  \n",
      "  inflating: ficheros_ejemplo/sample_files/video/mov/tray_of_halloween_cupcakes.mov  \n",
      "  inflating: ficheros_ejemplo/sample_files/video/mov/gas_lamp_flame.mov  \n",
      "  inflating: ficheros_ejemplo/sample_files/video/mov/high_angle_man_shooting_basketball.mov  \n",
      "  inflating: ficheros_ejemplo/sample_files/video/mov/colorful_ferris_wheel_in_motion.mov  \n",
      "  inflating: ficheros_ejemplo/sample_files/video/mov/residential_area_cover_with_snow.mov  \n",
      "  inflating: ficheros_ejemplo/sample_files/video/mov/small_waterfall.mov  \n",
      "  inflating: ficheros_ejemplo/sample_files/video/mov/woman_caressing_dog.mov  \n"
     ]
    },
    {
     "name": "stdout",
     "output_type": "stream",
     "text": [
      "  inflating: ficheros_ejemplo/sample_files/video/mov/man_playing_guitar.mov  \n",
      "  inflating: ficheros_ejemplo/sample_files/video/mov/erson_pouring_drink_in_crystal_glass.mov  \n",
      "   creating: ficheros_ejemplo/sample_files/video/flv/\n",
      "  inflating: ficheros_ejemplo/sample_files/video/flv/lemon_slice_falling.flv  \n",
      "  inflating: ficheros_ejemplo/sample_files/video/flv/frozen_ice_droplets.flv  \n",
      "  inflating: ficheros_ejemplo/sample_files/video/flv/person_sprinkling_cinnamon.flv  \n",
      "  inflating: ficheros_ejemplo/sample_files/video/flv/olive_drop_in_glass.flv  \n",
      "  inflating: ficheros_ejemplo/sample_files/video/flv/fireworks_over_water.flv  \n",
      "  inflating: ficheros_ejemplo/sample_files/video/flv/crowd_at_music_concert.flv  \n",
      "  inflating: ficheros_ejemplo/sample_files/video/flv/sunset_time_lapse.flv  \n",
      "  inflating: ficheros_ejemplo/sample_files/video/flv/great_britain_flag_on_a_pole.flv  \n",
      "  inflating: ficheros_ejemplo/sample_files/video/flv/person_lighting_candles.flv  \n",
      "  inflating: ficheros_ejemplo/sample_files/video/flv/person_typing.flv  \n",
      "   creating: ficheros_ejemplo/sample_files/video/mp4/\n",
      "  inflating: ficheros_ejemplo/sample_files/video/mp4/dogs_playing.mp4  \n",
      "  inflating: ficheros_ejemplo/sample_files/video/mp4/kayak_surfing_ocean.mp4  \n",
      "  inflating: ficheros_ejemplo/sample_files/video/mp4/magnolia_flower_blossom.mp4  \n",
      "  inflating: ficheros_ejemplo/sample_files/video/mp4/birds_on_branch.mp4  \n",
      "  inflating: ficheros_ejemplo/sample_files/video/mp4/cheetah_strolling.mp4  \n",
      "  inflating: ficheros_ejemplo/sample_files/video/mp4/stary_sky.mp4  \n",
      "  inflating: ficheros_ejemplo/sample_files/video/mp4/puppy_running.mp4  \n",
      "  inflating: ficheros_ejemplo/sample_files/video/mp4/mountain_sky.mp4  \n",
      " extracting: ficheros_ejemplo/sample_files/video/mp4/coffee_beans.mp4  \n",
      "  inflating: ficheros_ejemplo/sample_files/video/mp4/city_forest_rainbow.mp4  \n",
      "  inflating: ficheros_ejemplo/sample_files/video/mp4/seoul_street_night_light.mp4  \n",
      "  inflating: ficheros_ejemplo/sample_files/video/mp4/astronaut_flying_fantasy.mp4  \n",
      "  inflating: ficheros_ejemplo/sample_files/video/mp4/neon_subscribe_sign.mp4  \n",
      "  inflating: ficheros_ejemplo/sample_files/video/mp4/seoul_traffic_car.mp4  \n",
      "  inflating: ficheros_ejemplo/sample_files/video/mp4/couple_jogging.mp4  \n",
      "  inflating: ficheros_ejemplo/sample_files/video/mp4/plum_flower_blossom.mp4  \n",
      "  inflating: ficheros_ejemplo/sample_files/video/mp4/morning_fog.mp4  \n",
      "  inflating: ficheros_ejemplo/sample_files/video/mp4/cliff_waterfall.mp4  \n",
      "  inflating: ficheros_ejemplo/sample_files/video/mp4/desert.mp4  \n",
      "  inflating: ficheros_ejemplo/sample_files/video/mp4/cherry_flower_blossom.mp4  \n",
      "   creating: ficheros_ejemplo/sample_files/image/\n",
      "   creating: ficheros_ejemplo/sample_files/image/tiff/\n",
      "  inflating: ficheros_ejemplo/sample_files/image/tiff/basketball.tiff  \n",
      "  inflating: ficheros_ejemplo/sample_files/image/tiff/basketball_net_on_the_beach.tiff  \n",
      "  inflating: ficheros_ejemplo/sample_files/image/tiff/waves.tiff  \n",
      "  inflating: ficheros_ejemplo/sample_files/image/tiff/highway_long_exposure.tiff  \n",
      "  inflating: ficheros_ejemplo/sample_files/image/tiff/shopping_window.tiff  \n",
      "  inflating: ficheros_ejemplo/sample_files/image/tiff/airplane_flying.tiff  \n",
      "  inflating: ficheros_ejemplo/sample_files/image/tiff/bmw_motorcycle.tiff  \n",
      "  inflating: ficheros_ejemplo/sample_files/image/tiff/elephant.tiff  \n",
      "  inflating: ficheros_ejemplo/sample_files/image/tiff/circuit-board-detail.tiff  \n",
      "  inflating: ficheros_ejemplo/sample_files/image/tiff/rolled_fabric_stack.tiff  \n",
      "  inflating: ficheros_ejemplo/sample_files/image/tiff/tle_like_building_on_top_of_mountain.tiff  \n",
      "  inflating: ficheros_ejemplo/sample_files/image/tiff/half_black_lamborghini_car.tiff  \n",
      "  inflating: ficheros_ejemplo/sample_files/image/tiff/london_taxi.tiff  \n",
      "  inflating: ficheros_ejemplo/sample_files/image/tiff/black_and_white_tree_branches.tiff  \n",
      "  inflating: ficheros_ejemplo/sample_files/image/tiff/raspberry_stack.tiff  \n",
      "  inflating: ficheros_ejemplo/sample_files/image/tiff/london_bridge.tiff  \n",
      "  inflating: ficheros_ejemplo/sample_files/image/tiff/contemporary_home_master_bedroom_interior.tiff  \n",
      "   creating: ficheros_ejemplo/sample_files/image/jpg/\n",
      "  inflating: ficheros_ejemplo/sample_files/image/jpg/lemon_patern_wallpaper.jpg  \n",
      "  inflating: ficheros_ejemplo/sample_files/image/jpg/eagle_closeup.jpg  \n",
      "  inflating: ficheros_ejemplo/sample_files/image/jpg/birds_eye_beach.jpg  \n",
      "  inflating: ficheros_ejemplo/sample_files/image/jpg/orange_juice_glass.jpg  \n",
      "  inflating: ficheros_ejemplo/sample_files/image/jpg/elephants.jpg  \n",
      "  inflating: ficheros_ejemplo/sample_files/image/jpg/hexagon_building_facade.jpg  \n",
      "  inflating: ficheros_ejemplo/sample_files/image/jpg/egg_pattern.jpg  \n",
      "  inflating: ficheros_ejemplo/sample_files/image/jpg/assorted_colour_laser_light.jpg  \n",
      "  inflating: ficheros_ejemplo/sample_files/image/jpg/tiger_lying_on _the_ground.jpg  \n",
      "  inflating: ficheros_ejemplo/sample_files/image/jpg/tulip_field.jpg  \n",
      "  inflating: ficheros_ejemplo/sample_files/image/jpg/cocktail_on_the_beach.jpg  \n",
      "  inflating: ficheros_ejemplo/sample_files/image/jpg/shanghai_black_and_white.jpg  \n",
      "  inflating: ficheros_ejemplo/sample_files/image/jpg/ocean_waves.jpg  \n",
      "  inflating: ficheros_ejemplo/sample_files/image/jpg/waterfall_long_exposure.jpg  \n",
      "  inflating: ficheros_ejemplo/sample_files/image/jpg/lilac_calla_lilies.jpg  \n",
      "  inflating: ficheros_ejemplo/sample_files/image/jpg/waterfall_long_exposure_2.jpg  \n",
      "  inflating: ficheros_ejemplo/sample_files/image/jpg/yorkshire_terrier_dog.jpg  \n",
      "  inflating: ficheros_ejemplo/sample_files/image/jpg/assorted_pebble_rocks.jpg  \n",
      "  inflating: ficheros_ejemplo/sample_files/image/jpg/stacked_ice_cubes.jpg  \n",
      "  inflating: ficheros_ejemplo/sample_files/image/jpg/bitcoin.jpg  \n",
      "   creating: ficheros_ejemplo/sample_files/image/bmp/\n",
      "  inflating: ficheros_ejemplo/sample_files/image/bmp/waves.bmp  \n",
      "  inflating: ficheros_ejemplo/sample_files/image/bmp/snow_covered_mountain.bmp  \n",
      "  inflating: ficheros_ejemplo/sample_files/image/bmp/building_facade.bmp  \n",
      "  inflating: ficheros_ejemplo/sample_files/image/bmp/footprint_on_sand.bmp  \n",
      "  inflating: ficheros_ejemplo/sample_files/image/bmp/coffee_bean_jar.bmp  \n",
      "  inflating: ficheros_ejemplo/sample_files/image/bmp/london_bridge_aerial_view.bmp  \n",
      "  inflating: ficheros_ejemplo/sample_files/image/bmp/picnic_basket_with_book_flowers_and_hat.bmp  \n",
      "  inflating: ficheros_ejemplo/sample_files/image/bmp/forest_aerial_view.bmp  \n",
      "  inflating: ficheros_ejemplo/sample_files/image/bmp/pitbul.bmp  \n",
      "  inflating: ficheros_ejemplo/sample_files/image/bmp/palm_tree.bmp  \n",
      "  inflating: ficheros_ejemplo/sample_files/image/bmp/empire_state_building_in_the_evening.bmp  \n",
      "  inflating: ficheros_ejemplo/sample_files/image/bmp/wooden_dock_beach.bmp  \n",
      "  inflating: ficheros_ejemplo/sample_files/image/bmp/banana_bread.bmp  \n",
      "  inflating: ficheros_ejemplo/sample_files/image/bmp/chinatown.bmp  \n",
      "  inflating: ficheros_ejemplo/sample_files/image/bmp/donut.bmp  \n",
      "  inflating: ficheros_ejemplo/sample_files/image/bmp/coast_side_highway.bmp  \n",
      "  inflating: ficheros_ejemplo/sample_files/image/bmp/digital_camera_on_grass.bmp  \n",
      "  inflating: ficheros_ejemplo/sample_files/image/bmp/water_drop_glass_panel.bmp  \n",
      "  inflating: ficheros_ejemplo/sample_files/image/bmp/village_at_mountain_foot.bmp  \n",
      "  inflating: ficheros_ejemplo/sample_files/image/bmp/bonfire.bmp  \n",
      "   creating: ficheros_ejemplo/sample_files/image/bmp/cc/\n",
      "   creating: ficheros_ejemplo/sample_files/image/gif/\n",
      "  inflating: ficheros_ejemplo/sample_files/image/gif/time_lapse_of_aurora_borealis.gif  \n",
      "  inflating: ficheros_ejemplo/sample_files/image/gif/pokeball.gif  \n",
      "  inflating: ficheros_ejemplo/sample_files/image/gif/dalmation_dog_running.gif  \n",
      "  inflating: ficheros_ejemplo/sample_files/image/gif/apple_flexing_muscles.gif  \n",
      "  inflating: ficheros_ejemplo/sample_files/image/gif/dragon_flying.gif  \n",
      "  inflating: ficheros_ejemplo/sample_files/image/gif/happy_birthday_baloon_pop.gif  \n",
      "  inflating: ficheros_ejemplo/sample_files/image/gif/pikachu_balancing_on_a_pokeball.gif  \n",
      "  inflating: ficheros_ejemplo/sample_files/image/gif/wine_pouring_into_glass.gif  \n",
      "  inflating: ficheros_ejemplo/sample_files/image/gif/pikachu_balancing_pokeball.gif  \n",
      "  inflating: ficheros_ejemplo/sample_files/image/gif/sunflower_good_morning.gif  \n"
     ]
    },
    {
     "name": "stdout",
     "output_type": "stream",
     "text": [
      "  inflating: ficheros_ejemplo/sample_files/image/gif/happy_hour.gif  \n",
      "  inflating: ficheros_ejemplo/sample_files/image/gif/pikachu_rolling_pokeball.gif  \n",
      "  inflating: ficheros_ejemplo/sample_files/image/gif/t_rex.gif  \n",
      "  inflating: ficheros_ejemplo/sample_files/image/gif/thank_you_ink_and_quilt.gif  \n",
      "   creating: ficheros_ejemplo/sample_files/image/png/\n",
      "  inflating: ficheros_ejemplo/sample_files/image/png/burger.png  \n",
      "  inflating: ficheros_ejemplo/sample_files/image/png/wheat_silhouette.png  \n",
      "  inflating: ficheros_ejemplo/sample_files/image/png/animal_pattern.png  \n",
      "  inflating: ficheros_ejemplo/sample_files/image/png/buldog_cartoon.png  \n",
      "  inflating: ficheros_ejemplo/sample_files/image/png/pink_coffee_mug.png  \n",
      "  inflating: ficheros_ejemplo/sample_files/image/png/oil_towers.png  \n",
      "  inflating: ficheros_ejemplo/sample_files/image/png/cherry_blossom_tree.png  \n",
      "  inflating: ficheros_ejemplo/sample_files/image/png/barbeshop_item_silhouettes.png  \n",
      "  inflating: ficheros_ejemplo/sample_files/image/png/gear_clock.png  \n",
      "  inflating: ficheros_ejemplo/sample_files/image/png/butterflies_shaped_leaves.png  \n",
      "  inflating: ficheros_ejemplo/sample_files/image/png/face_mask.png  \n",
      "  inflating: ficheros_ejemplo/sample_files/image/png/cosmos_rocket_cartoon.png  \n",
      "  inflating: ficheros_ejemplo/sample_files/image/png/vintage_bmw_car.png  \n",
      "  inflating: ficheros_ejemplo/sample_files/image/png/koi_fish.png  \n",
      "  inflating: ficheros_ejemplo/sample_files/image/png/iconic_london_landmark.png  \n",
      "  inflating: ficheros_ejemplo/sample_files/image/png/assorted_houses.png  \n",
      "  inflating: ficheros_ejemplo/sample_files/image/png/stegosaurus.png  \n",
      "  inflating: ficheros_ejemplo/sample_files/image/png/rose.png  \n",
      "  inflating: ficheros_ejemplo/sample_files/image/png/baran_skull.png  \n",
      "  inflating: ficheros_ejemplo/sample_files/image/png/digital_camera.png  \n",
      "   creating: ficheros_ejemplo/nano/\n",
      "  inflating: ficheros_ejemplo/nano/TODO  \n",
      "  inflating: ficheros_ejemplo/nano/roll-a-release.sh  \n",
      "  inflating: ficheros_ejemplo/nano/Makefile.am  \n",
      "  inflating: ficheros_ejemplo/nano/README  \n",
      "  inflating: ficheros_ejemplo/nano/ChangeLog.2007-2015  \n",
      "  inflating: ficheros_ejemplo/nano/THANKS  \n",
      "  inflating: ficheros_ejemplo/nano/nano-regress  \n",
      "   creating: ficheros_ejemplo/nano/po/\n",
      "  inflating: ficheros_ejemplo/nano/po/sr.po  \n",
      "  inflating: ficheros_ejemplo/nano/po/de.po  \n",
      "  inflating: ficheros_ejemplo/nano/po/es.po  \n",
      "  inflating: ficheros_ejemplo/nano/po/zh_TW.po  \n",
      "  inflating: ficheros_ejemplo/nano/po/ja.po  \n",
      "  inflating: ficheros_ejemplo/nano/po/ko.po  \n",
      "  inflating: ficheros_ejemplo/nano/po/pt.po  \n",
      "  inflating: ficheros_ejemplo/nano/po/POTFILES.in  \n",
      "  inflating: ficheros_ejemplo/nano/po/ca.po  \n",
      "  inflating: ficheros_ejemplo/nano/po/bg.po  \n",
      "  inflating: ficheros_ejemplo/nano/po/da.po  \n",
      "  inflating: ficheros_ejemplo/nano/po/ro.po  \n",
      "  inflating: ficheros_ejemplo/nano/po/nl.po  \n",
      "  inflating: ficheros_ejemplo/nano/po/it.po  \n",
      "  inflating: ficheros_ejemplo/nano/po/vi.po  \n",
      "  inflating: ficheros_ejemplo/nano/po/sk.po  \n",
      "  inflating: ficheros_ejemplo/nano/po/is.po  \n",
      "  inflating: ficheros_ejemplo/nano/po/sl.po  \n",
      "  inflating: ficheros_ejemplo/nano/po/zh_CN.po  \n",
      "  inflating: ficheros_ejemplo/nano/po/tr.po  \n",
      "  inflating: ficheros_ejemplo/nano/po/ms.po  \n",
      "  inflating: ficheros_ejemplo/nano/po/uk.po  \n",
      "  inflating: ficheros_ejemplo/nano/po/hu.po  \n",
      "  inflating: ficheros_ejemplo/nano/po/update_linguas.sh  \n",
      "  inflating: ficheros_ejemplo/nano/po/gl.po  \n",
      "  inflating: ficheros_ejemplo/nano/po/fr.po  \n",
      "  inflating: ficheros_ejemplo/nano/po/id.po  \n",
      "  inflating: ficheros_ejemplo/nano/po/ka.po  \n",
      "  inflating: ficheros_ejemplo/nano/po/ru.po  \n",
      "  inflating: ficheros_ejemplo/nano/po/.gitignore  \n",
      "  inflating: ficheros_ejemplo/nano/po/sq.po  \n",
      "  inflating: ficheros_ejemplo/nano/po/sv.po  \n",
      "  inflating: ficheros_ejemplo/nano/po/eo.po  \n",
      "  inflating: ficheros_ejemplo/nano/po/nano.pot  \n",
      "  inflating: ficheros_ejemplo/nano/po/ga.po  \n",
      "  inflating: ficheros_ejemplo/nano/po/hr.po  \n",
      "  inflating: ficheros_ejemplo/nano/po/cs.po  \n",
      "  inflating: ficheros_ejemplo/nano/po/Makevars  \n",
      "  inflating: ficheros_ejemplo/nano/po/fi.po  \n",
      "  inflating: ficheros_ejemplo/nano/po/pl.po  \n",
      "  inflating: ficheros_ejemplo/nano/po/pt_BR.po  \n",
      "  inflating: ficheros_ejemplo/nano/po/LINGUAS  \n",
      "  inflating: ficheros_ejemplo/nano/po/nb.po  \n",
      "  inflating: ficheros_ejemplo/nano/po/eu.po  \n",
      "  inflating: ficheros_ejemplo/nano/ChangeLog.1999-2006  \n",
      "  inflating: ficheros_ejemplo/nano/NEWS  \n",
      "   creating: ficheros_ejemplo/nano/doc/\n",
      "  inflating: ficheros_ejemplo/nano/doc/faq.html  \n",
      "  inflating: ficheros_ejemplo/nano/doc/cheatsheet.html  \n",
      "  inflating: ficheros_ejemplo/nano/doc/nanorc.5  \n",
      "  inflating: ficheros_ejemplo/nano/doc/Makefile.am  \n",
      "  inflating: ficheros_ejemplo/nano/doc/nano.texi  \n",
      "  inflating: ficheros_ejemplo/nano/doc/nano.1  \n",
      "  inflating: ficheros_ejemplo/nano/doc/rnano.1  \n",
      "  inflating: ficheros_ejemplo/nano/doc/.gitignore  \n",
      "  inflating: ficheros_ejemplo/nano/doc/sample.nanorc.in  \n",
      "  inflating: ficheros_ejemplo/nano/autogen.sh  \n",
      "  inflating: ficheros_ejemplo/nano/IMPROVEMENTS  \n",
      "   creating: ficheros_ejemplo/nano/m4/\n",
      "  inflating: ficheros_ejemplo/nano/m4/Makefile.am  \n",
      "  inflating: ficheros_ejemplo/nano/m4/ac_define_dir.m4  \n",
      "  inflating: ficheros_ejemplo/nano/m4/ax_check_compile_flag.m4  \n",
      "  inflating: ficheros_ejemplo/nano/configure.ac  \n",
      "  inflating: ficheros_ejemplo/nano/README.hacking  \n",
      "   creating: ficheros_ejemplo/nano/.github/\n",
      "   creating: ficheros_ejemplo/nano/.github/workflows/\n",
      "  inflating: ficheros_ejemplo/nano/.github/workflows/fetch.yml  \n",
      "  inflating: ficheros_ejemplo/nano/.gitignore  \n",
      "  inflating: ficheros_ejemplo/nano/ChangeLog  \n",
      "  inflating: ficheros_ejemplo/nano/COPYING.DOC  \n",
      "   creating: ficheros_ejemplo/nano/syntax/\n",
      "  inflating: ficheros_ejemplo/nano/syntax/nanorc.nanorc  \n",
      "  inflating: ficheros_ejemplo/nano/syntax/ruby.nanorc  \n",
      "  inflating: ficheros_ejemplo/nano/syntax/xml.nanorc  \n",
      "  inflating: ficheros_ejemplo/nano/syntax/awk.nanorc  \n",
      "  inflating: ficheros_ejemplo/nano/syntax/css.nanorc  \n",
      "  inflating: ficheros_ejemplo/nano/syntax/groff.nanorc  \n",
      "  inflating: ficheros_ejemplo/nano/syntax/sql.nanorc  \n",
      "  inflating: ficheros_ejemplo/nano/syntax/tex.nanorc  \n",
      "  inflating: ficheros_ejemplo/nano/syntax/Makefile.am  \n",
      "  inflating: ficheros_ejemplo/nano/syntax/email.nanorc  \n",
      "  inflating: ficheros_ejemplo/nano/syntax/tcl.nanorc  \n",
      "  inflating: ficheros_ejemplo/nano/syntax/asm.nanorc  \n",
      "  inflating: ficheros_ejemplo/nano/syntax/default.nanorc  \n",
      "  inflating: ficheros_ejemplo/nano/syntax/man.nanorc  \n",
      "  inflating: ficheros_ejemplo/nano/syntax/javascript.nanorc  \n",
      "  inflating: ficheros_ejemplo/nano/syntax/go.nanorc  \n",
      "  inflating: ficheros_ejemplo/nano/syntax/lua.nanorc  \n",
      "  inflating: ficheros_ejemplo/nano/syntax/nanohelp.nanorc  \n",
      "  inflating: ficheros_ejemplo/nano/syntax/autoconf.nanorc  \n",
      "  inflating: ficheros_ejemplo/nano/syntax/patch.nanorc  \n",
      "  inflating: ficheros_ejemplo/nano/syntax/objc.nanorc  \n",
      "  inflating: ficheros_ejemplo/nano/syntax/nftables.nanorc  \n",
      "  inflating: ficheros_ejemplo/nano/syntax/changelog.nanorc  \n",
      "  inflating: ficheros_ejemplo/nano/syntax/elisp.nanorc  \n",
      "  inflating: ficheros_ejemplo/nano/syntax/guile.nanorc  \n",
      "  inflating: ficheros_ejemplo/nano/syntax/cmake.nanorc  \n",
      "  inflating: ficheros_ejemplo/nano/syntax/sh.nanorc  \n",
      "  inflating: ficheros_ejemplo/nano/syntax/ocaml.nanorc  \n",
      "  inflating: ficheros_ejemplo/nano/syntax/po.nanorc  \n",
      "  inflating: ficheros_ejemplo/nano/syntax/texinfo.nanorc  \n",
      "  inflating: ficheros_ejemplo/nano/syntax/c.nanorc  \n",
      "  inflating: ficheros_ejemplo/nano/syntax/java.nanorc  \n",
      "  inflating: ficheros_ejemplo/nano/syntax/rust.nanorc  \n",
      "  inflating: ficheros_ejemplo/nano/syntax/perl.nanorc  \n",
      "  inflating: ficheros_ejemplo/nano/syntax/html.nanorc  \n",
      "  inflating: ficheros_ejemplo/nano/syntax/makefile.nanorc  \n",
      "  inflating: ficheros_ejemplo/nano/syntax/php.nanorc  \n",
      "   creating: ficheros_ejemplo/nano/syntax/extra/\n",
      "  inflating: ficheros_ejemplo/nano/syntax/extra/ada.nanorc  \n",
      "  inflating: ficheros_ejemplo/nano/syntax/extra/spec.nanorc  \n",
      "  inflating: ficheros_ejemplo/nano/syntax/extra/povray.nanorc  \n",
      "  inflating: ficheros_ejemplo/nano/syntax/extra/haskell.nanorc  \n",
      "  inflating: ficheros_ejemplo/nano/syntax/extra/fortran.nanorc  \n",
      "  inflating: ficheros_ejemplo/nano/syntax/json.nanorc  \n"
     ]
    },
    {
     "name": "stdout",
     "output_type": "stream",
     "text": [
      "  inflating: ficheros_ejemplo/nano/syntax/yaml.nanorc  \n",
      "  inflating: ficheros_ejemplo/nano/syntax/markdown.nanorc  \n",
      "  inflating: ficheros_ejemplo/nano/syntax/python.nanorc  \n",
      "  inflating: ficheros_ejemplo/nano/AUTHORS  \n",
      "   creating: ficheros_ejemplo/nano/src/\n",
      "  inflating: ficheros_ejemplo/nano/src/global.c  \n",
      "  inflating: ficheros_ejemplo/nano/src/search.c  \n",
      "  inflating: ficheros_ejemplo/nano/src/cut.c  \n",
      "  inflating: ficheros_ejemplo/nano/src/files.c  \n",
      "  inflating: ficheros_ejemplo/nano/src/Makefile.am  \n",
      "  inflating: ficheros_ejemplo/nano/src/prompt.c  \n",
      "  inflating: ficheros_ejemplo/nano/src/winio.c  \n",
      "  inflating: ficheros_ejemplo/nano/src/text.c  \n",
      "  inflating: ficheros_ejemplo/nano/src/utils.c  \n",
      "  inflating: ficheros_ejemplo/nano/src/chars.c  \n",
      "  inflating: ficheros_ejemplo/nano/src/definitions.h  \n",
      "  inflating: ficheros_ejemplo/nano/src/browser.c  \n",
      "  inflating: ficheros_ejemplo/nano/src/help.c  \n",
      "  inflating: ficheros_ejemplo/nano/src/move.c  \n",
      "  inflating: ficheros_ejemplo/nano/src/prototypes.h  \n",
      "  inflating: ficheros_ejemplo/nano/src/color.c  \n",
      "  inflating: ficheros_ejemplo/nano/src/nano.c  \n",
      "  inflating: ficheros_ejemplo/nano/src/rcfile.c  \n",
      "  inflating: ficheros_ejemplo/nano/src/history.c  \n",
      "  inflating: ficheros_ejemplo/nano/COPYING  \n"
     ]
    }
   ],
   "source": [
    "# Ejecuta esta celda para restaurar el estado de los ficheros\n",
    "# Para ello, necesitas colocar el 'ficheros_ejemplo.zip' en tu directorio personal\n",
    "cd\n",
    "chmod -Rf 700 ficheros_ejemplo\n",
    "rm -rf ficheros_ejemplo\n",
    "unzip ficheros_ejemplo.zip\n",
    "cd ~/ficheros_ejemplo/sample_files\n",
    "touch video/mkv/*as*"
   ]
  },
  {
   "cell_type": "code",
   "execution_count": 5,
   "id": "aa8dbe02",
   "metadata": {},
   "outputs": [
    {
     "name": "stdout",
     "output_type": "stream",
     "text": [
      "./\n",
      "./audio\n",
      "./audio/mp3\n",
      "./audio/wav\n",
      "./audio/ogg\n",
      "./audio/wma\n",
      "./video\n",
      "./video/mp4\n",
      "./video/flv\n",
      "./video/mov\n",
      "./video/mkv\n",
      "./document\n",
      "./document/docx\n",
      "./document/xls\n",
      "./document/doc\n",
      "./document/xlsx\n",
      "./document/txt\n",
      "./document/pdf\n",
      "./document/rtf\n",
      "./image\n",
      "./image/jpg\n",
      "./image/png\n",
      "./image/bmp\n",
      "./image/bmp/cc\n",
      "./image/gif\n",
      "./image/tiff\n"
     ]
    }
   ],
   "source": [
    "# todos los directorios que cuelgan del directorio actual\n",
    "find ./ -type d"
   ]
  },
  {
   "cell_type": "code",
   "execution_count": 7,
   "id": "5a009a04",
   "metadata": {
    "code_folding": []
   },
   "outputs": [
    {
     "name": "stdout",
     "output_type": "stream",
     "text": [
      "./audio/wav\n",
      "./video/flv\n",
      "./video/mov\n",
      "./video/mkv\n"
     ]
    }
   ],
   "source": [
    "# todos los directorios que cuelgan del directorio actual\n",
    "# cuyo nombre acabe en 'v'\n",
    "find ./ -type d -iname \"*v\""
   ]
  },
  {
   "cell_type": "markdown",
   "id": "8b1d6349",
   "metadata": {},
   "source": [
    "SALIDA: \n",
    "```\n",
    "./audio/wav\n",
    "./video/mkv\n",
    "./video/mov\n",
    "./video/flv\n",
    "```"
   ]
  },
  {
   "cell_type": "code",
   "execution_count": 11,
   "id": "94a50855",
   "metadata": {
    "code_folding": []
   },
   "outputs": [
    {
     "name": "stdout",
     "output_type": "stream",
     "text": [
      "./image/jpg/bitcoin.jpg\n",
      "./image/jpg/elephants.jpg\n",
      "./image/jpg/egg_pattern.jpg\n",
      "./image/jpg/cocktail_on_the_beach.jpg\n",
      "./image/jpg/birds_eye_beach.jpg\n",
      "./image/jpg/eagle_closeup.jpg\n"
     ]
    }
   ],
   "source": [
    "# todos los ficheros en \"image\", cuyo nombre empiece con \n",
    "# una letra entre la b y la f, con extensión .jpg y \n",
    "find ./image -type f -iname \"[b-f]*.jpg\""
   ]
  },
  {
   "cell_type": "markdown",
   "id": "8bb37a79",
   "metadata": {},
   "source": [
    "SALIDA: \n",
    "```\n",
    "image/jpg/eagle_closeup.jpg\n",
    "image/jpg/birds_eye_beach.jpg\n",
    "image/jpg/elephants.jpg\n",
    "image/jpg/egg_pattern.jpg\n",
    "image/jpg/cocktail_on_the_beach.jpg\n",
    "image/jpg/bitcoin.jpg\n",
    "```"
   ]
  },
  {
   "cell_type": "code",
   "execution_count": 12,
   "id": "c6f59109",
   "metadata": {},
   "outputs": [
    {
     "name": "stdout",
     "output_type": "stream",
     "text": [
      "./image/bmp/cc\n"
     ]
    }
   ],
   "source": [
    "# todos los directorios en \"image\", cuyo nombre contenga la\n",
    "# letra 'c' en segundo lugar\n",
    "find ./image -type d -iname \"?c*\""
   ]
  },
  {
   "cell_type": "markdown",
   "id": "e2b848c8",
   "metadata": {},
   "source": [
    "SALIDA: \n",
    "```\n",
    "image/bmp/cc\n",
    "```"
   ]
  },
  {
   "cell_type": "code",
   "execution_count": 13,
   "id": "6ecaf693",
   "metadata": {},
   "outputs": [
    {
     "name": "stdout",
     "output_type": "stream",
     "text": [
      "./audio/wav/break_free.wav\n",
      "./audio/wav/background_loop_chill_techno_04.wav\n",
      "./audio/wav/background_loop_funky_03.wav\n",
      "./audio/wav/dub_techno_loop_.wav\n",
      "./audio/wav/background_loop_straight_02.wav\n"
     ]
    }
   ],
   "source": [
    "# todos los ficheros en \"audio\", cuyo nombre contenga las letras 'b', w' y 'v', \n",
    "# en ese orden (no necesariamente consecutivas)\n",
    "find ./audio -type f -iname \"*b*w*v*\""
   ]
  },
  {
   "cell_type": "markdown",
   "id": "805c3568",
   "metadata": {},
   "source": [
    "SALIDA: \n",
    "```\n",
    "./audio/wav/break_free.wav\n",
    "./audio/wav/dub_techno_loop_.wav\n",
    "./audio/wav/background_loop_straight_02.wav\n",
    "./audio/wav/background_loop_funky_03.wav\n",
    "./audio/wav/background_loop_chill_techno_04.wav\n",
    "```"
   ]
  },
  {
   "cell_type": "code",
   "execution_count": 16,
   "id": "5dd1be51",
   "metadata": {},
   "outputs": [
    {
     "name": "stdout",
     "output_type": "stream",
     "text": [
      "./audio/wav/background_loop_chill_techno_04.wav\n",
      "./audio/ogg/background_loop_chill_techno_05.ogg\n",
      "./audio/wma/background_loop_straight_04.wma\n"
     ]
    }
   ],
   "source": [
    "# todos los ficheros en \"audio\", cuyo nombre contenga un subrayado (_) seguido de\n",
    "# dos caracteres numéricos de los cuales el primero debe ser 0 y el segundo entre 4 y 6\n",
    "find ./audio -type f -name '*_0[4-6]*'\n"
   ]
  },
  {
   "cell_type": "markdown",
   "id": "86789aec",
   "metadata": {},
   "source": [
    "SALIDA: \n",
    "```\n",
    "./audio/wav/background_loop_chill_techno_04.wav\n",
    "./audio/wma/background_loop_straight_04.wma\n",
    "./audio/ogg/background_loop_chill_techno_05.ogg\n",
    "```"
   ]
  },
  {
   "cell_type": "code",
   "execution_count": 17,
   "id": "56eae084",
   "metadata": {},
   "outputs": [
    {
     "name": "stdout",
     "output_type": "stream",
     "text": [
      "./video/flv/fireworks_over_water.flv\n"
     ]
    }
   ],
   "source": [
    "# todos los ficheros en \"video\", cuyo nombre contenga las letras 'r', w' y 'v', \n",
    "# en ese orden (no necesariamente consecutivas), y acabe con \".\" seguido de tres caracteres cualquiera\n",
    "find ./video -type f -iname \"*r*w*v*.???\""
   ]
  },
  {
   "cell_type": "markdown",
   "id": "5484d386",
   "metadata": {},
   "source": [
    "SALIDA: \n",
    "```\n",
    "video/flv/fireworks_over_water.flv\n",
    "```"
   ]
  },
  {
   "cell_type": "code",
   "execution_count": 19,
   "id": "d7661aa3",
   "metadata": {},
   "outputs": [
    {
     "name": "stdout",
     "output_type": "stream",
     "text": [
      "./video/flv/frozen_ice_droplets.flv\n"
     ]
    }
   ],
   "source": [
    "# todos los ficheros a partir del directorio actual \n",
    "# cuyo nombre contenga la letra z pero no la letra h\n",
    "find . -type f -name '*z*' -not -name '*h*'\n"
   ]
  },
  {
   "cell_type": "markdown",
   "id": "6df40173",
   "metadata": {},
   "source": [
    "SALIDA: \n",
    "```\n",
    "./video/flv/frozen_ice_droplets.flv\n",
    "```"
   ]
  },
  {
   "cell_type": "code",
   "execution_count": 20,
   "id": "2bda0f98",
   "metadata": {},
   "outputs": [
    {
     "name": "stdout",
     "output_type": "stream",
     "text": [
      "./video/mkv/person_piping_icing.mkv\n",
      "./video/mkv/time_lapse_of_milky_way_galaxy.mkv\n",
      "./video/mkv/waves_crashing_on_rocks.mkv\n",
      "./video/mkv/lit_incese_stick.mkv\n"
     ]
    }
   ],
   "source": [
    "# todos los ficheros a partir del directorio actual \n",
    "# cuyo nombre acabe en \"mkv\" y tengan tamaño superior a 1MiB\n",
    "find ./ -type f -name \"*mkv\" -size +1M"
   ]
  },
  {
   "cell_type": "markdown",
   "id": "a8c539f4",
   "metadata": {},
   "source": [
    "SALIDA: \n",
    "```\n",
    "./video/mkv/lit_incese_stick.mkv\n",
    "./video/mkv/waves_crashing_on_rocks.mkv\n",
    "./video/mkv/time_lapse_of_milky_way_galaxy.mkv\n",
    "./video/mkv/person_piping_icing.mkv\n",
    "```"
   ]
  },
  {
   "cell_type": "code",
   "execution_count": 21,
   "id": "41609c70",
   "metadata": {},
   "outputs": [
    {
     "name": "stdout",
     "output_type": "stream",
     "text": [
      "./audio/wma/background_loop_sad_story.wma\n",
      "./video/mp4/city_forest_rainbow.mp4\n",
      "./image/png/oil_towers.png\n",
      "./image/bmp/coast_side_highway.bmp\n"
     ]
    }
   ],
   "source": [
    "# todos los ficheros a partir del directorio actual \n",
    "# que tengan tamaño entre 200KiB y 250KiB\n",
    "find ./ -type f -size +200k -a -size -250k"
   ]
  },
  {
   "cell_type": "markdown",
   "id": "4188194e",
   "metadata": {},
   "source": [
    "SALIDA: \n",
    "```\n",
    "./audio/wma/background_loop_sad_story.wma\n",
    "./video/mp4/city_forest_rainbow.mp4\n",
    "./image/bmp/coast_side_highway.bmp\n",
    "./image/png/oil_towers.png\n",
    "```"
   ]
  },
  {
   "cell_type": "code",
   "execution_count": 22,
   "id": "21027b7a",
   "metadata": {},
   "outputs": [
    {
     "name": "stdout",
     "output_type": "stream",
     "text": [
      "./video/mkv/waves_crashing_on_rocks.mkv\n",
      "./video/mkv/astronaut_walking_fantasy.mkv\n"
     ]
    }
   ],
   "source": [
    "# todos los ficheros a partir del directorio actual \n",
    "# que tengan fecha de modificación inferior a 1 día\n",
    "find ./ -type f -mtime -1"
   ]
  },
  {
   "cell_type": "markdown",
   "id": "563b6afc",
   "metadata": {},
   "source": [
    "SALIDA: \n",
    "```\n",
    "./video/mkv/astronaut_walking_fantasy.mkv\n",
    "./video/mkv/waves_crashing_on_rocks.mkv\n",
    "```"
   ]
  },
  {
   "cell_type": "code",
   "execution_count": 23,
   "id": "1e2f6bed",
   "metadata": {},
   "outputs": [
    {
     "name": "stdout",
     "output_type": "stream",
     "text": [
      "./video/flv/frozen_ice_droplets.flv\n",
      "./video/flv/lemon_slice_falling.flv\n",
      "./image/jpg/stacked_ice_cubes.jpg\n",
      "./image/jpg/orange_juice_glass.jpg\n"
     ]
    }
   ],
   "source": [
    "# todos los ficheros a partir del directorio actual \n",
    "# que tengan fecha de modificación superior a 30 días\n",
    "# cuyo nombre contenga la cadena \"ice\"\n",
    "find ./ -type f -mtime +30 -name \"*ice*\""
   ]
  },
  {
   "cell_type": "markdown",
   "id": "e3441137",
   "metadata": {},
   "source": [
    "SALIDA: \n",
    "```\n",
    "./video/flv/lemon_slice_falling.flv\n",
    "./video/flv/frozen_ice_droplets.flv\n",
    "./image/jpg/orange_juice_glass.jpg\n",
    "./image/jpg/stacked_ice_cubes.jpg\n",
    "```"
   ]
  },
  {
   "cell_type": "markdown",
   "id": "f2e148c3",
   "metadata": {},
   "source": [
    "### Búsqueda de patrones en ficheros"
   ]
  },
  {
   "cell_type": "code",
   "execution_count": 24,
   "id": "c554e43f",
   "metadata": {},
   "outputs": [
    {
     "name": "stdout",
     "output_type": "stream",
     "text": [
      "Clonando en 'zsh'...\n",
      "remote: Enumerating objects: 101768, done.\u001b[K\n",
      "remote: Counting objects: 100% (2363/2363), done.\u001b[K\n",
      "remote: Compressing objects: 100% (737/737), done.\u001b[K\n",
      "remote: Total 101768 (delta 1645), reused 2167 (delta 1623), pack-reused 99405\u001b[K\n",
      "Recibiendo objetos: 100% (101768/101768), 35.52 MiB | 439.00 KiB/s, listo.\n",
      "Resolviendo deltas: 100% (78433/78433), listo.\n"
     ]
    }
   ],
   "source": [
    "# Ejecuta esta celda para generar ficheros de prueba. En particular, vamos a\n",
    "# clonar el repositorio con el código de zsh (otro programa shell, alternativo a bash)\n",
    "mkdir -p ~/p4b-ejercicios\n",
    "cd ~/p4b-ejercicios\n",
    "rm -rf zsh\n",
    "git clone https://github.com/zsh-users/zsh.git\n",
    "cd zsh && git branch fc-tests 20739b5458d19b81afafb8b7ed96476562f69f0f"
   ]
  },
  {
   "cell_type": "code",
   "execution_count": 25,
   "id": "a8bd792c",
   "metadata": {},
   "outputs": [
    {
     "name": "stdout",
     "output_type": "stream",
     "text": [
      "/home/kiko/p4b-ejercicios/zsh\n"
     ]
    }
   ],
   "source": [
    "pwd"
   ]
  },
  {
   "cell_type": "code",
   "execution_count": 28,
   "id": "dbf4cd2d",
   "metadata": {},
   "outputs": [
    {
     "name": "stdout",
     "output_type": "stream",
     "text": [
      " * This file is part of zsh, the Z \u001b[01;31m\u001b[Kshell\u001b[m\u001b[K.\n"
     ]
    }
   ],
   "source": [
    "# Busca en el contenido del fichero Src/main.c aquellas líneas\n",
    "# que contengan la cadena \"shell\" \n",
    "grep \"shell\" Src/main.c"
   ]
  },
  {
   "cell_type": "markdown",
   "id": "738fe9b2",
   "metadata": {},
   "source": [
    "SALIDA:\n",
    "```\n",
    " * This file is part of zsh, the Z shell.\n",
    "```"
   ]
  },
  {
   "cell_type": "code",
   "execution_count": 29,
   "id": "d789aa3f",
   "metadata": {},
   "outputs": [
    {
     "name": "stdout",
     "output_type": "stream",
     "text": [
      "\u001b[35m\u001b[KSrc/options.c\u001b[m\u001b[K\u001b[36m\u001b[K:\u001b[m\u001b[K{{NULL, \"bashautolist\",\t      0},                        \u001b[01;31m\u001b[KBASH\u001b[m\u001b[KAUTOLIST},\n",
      "\u001b[35m\u001b[KSrc/options.c\u001b[m\u001b[K\u001b[36m\u001b[K:\u001b[m\u001b[K{{NULL, \"bashrematch\",\t      0},\t\t\t \u001b[01;31m\u001b[KBASH\u001b[m\u001b[KREMATCH},\n"
     ]
    }
   ],
   "source": [
    "# Busca en el contenido de los ficheros de Src cuyo nombre acabe en .c\n",
    "# aquellas líneas que contengan la cadena \"BASH\" (en mayúsculas)\n",
    "grep \"BASH\" Src/*.c"
   ]
  },
  {
   "cell_type": "markdown",
   "id": "315dfd14",
   "metadata": {},
   "source": [
    "SALIDA:\n",
    "```\n",
    "Src/options.c:{{NULL, \"bashautolist\",\t      0},                        BASHAUTOLIST},\n",
    "Src/options.c:{{NULL, \"bashrematch\",\t      0},\t\t\t BASHREMATCH},\n",
    "```"
   ]
  },
  {
   "cell_type": "code",
   "execution_count": 30,
   "id": "ff46fa63",
   "metadata": {},
   "outputs": [
    {
     "name": "stdout",
     "output_type": "stream",
     "text": [
      "\u001b[35m\u001b[KSrc/builtin.c\u001b[m\u001b[K\u001b[36m\u001b[K:\u001b[m\u001b[K\t\t     * possible escape characters recognized by \u001b[01;31m\u001b[KANSI\u001b[m\u001b[K.\n",
      "\u001b[35m\u001b[KSrc/prompt.c\u001b[m\u001b[K\u001b[36m\u001b[K:\u001b[m\u001b[K/* Defines standard \u001b[01;31m\u001b[KANSI\u001b[m\u001b[K colour names in index order */\n",
      "\u001b[35m\u001b[KSrc/prompt.c\u001b[m\u001b[K\u001b[36m\u001b[K:\u001b[m\u001b[K * Return index of \u001b[01;31m\u001b[KANSI\u001b[m\u001b[K colour for which *teststrp is an abbreviation.\n",
      "\u001b[35m\u001b[KSrc/prompt.c\u001b[m\u001b[K\u001b[36m\u001b[K:\u001b[m\u001b[K    /* Out of range of termcap colours and basic \u001b[01;31m\u001b[KANSI\u001b[m\u001b[K set. */\n",
      "\u001b[35m\u001b[KSrc/prompt.c\u001b[m\u001b[K\u001b[36m\u001b[K:\u001b[m\u001b[K\t * If 0 to 7, assume standard \u001b[01;31m\u001b[KANSI\u001b[m\u001b[K works, if 8 to 255, assume\n",
      "\u001b[35m\u001b[KSrc/utils.c\u001b[m\u001b[K\u001b[36m\u001b[K:\u001b[m\u001b[K * is contained in the \u001b[01;31m\u001b[KANSI\u001b[m\u001b[K standard C library, but a lot of them seem *\n"
     ]
    }
   ],
   "source": [
    "# Busca en el contenido de los ficheros de Src cuyo nombre acabe en .c\n",
    "# aquellas líneas que contengan la palabra \"ansi\" (no como fragmento\n",
    "# de otra function más larga), sin atender al uso de mayúsculas\n",
    "grep -wi \"ansi\" Src/*.c"
   ]
  },
  {
   "cell_type": "markdown",
   "id": "095c855c",
   "metadata": {},
   "source": [
    "SALIDA:\n",
    "```\n",
    "Src/builtin.c:\t\t     * possible escape characters recognized by ANSI.\n",
    "Src/prompt.c:/* Defines standard ANSI colour names in index order */\n",
    "Src/prompt.c: * Return index of ANSI colour for which *teststrp is an abbreviation.\n",
    "Src/prompt.c:    /* Out of range of termcap colours and basic ANSI set. */\n",
    "Src/prompt.c:\t * If 0 to 7, assume standard ANSI works, if 8 to 255, assume\n",
    "Src/utils.c: * is contained in the ANSI standard C library, but a lot of them seem *\n",
    "```"
   ]
  },
  {
   "cell_type": "code",
   "execution_count": 31,
   "id": "9505057a",
   "metadata": {},
   "outputs": [
    {
     "name": "stdout",
     "output_type": "stream",
     "text": [
      "\u001b[35m\u001b[K./Src/utils.c\u001b[m\u001b[K\u001b[36m\u001b[K:\u001b[m\u001b[K * is contained in the ANSI \u001b[01;31m\u001b[Kstandard C\u001b[m\u001b[K library, but a lot of them seem *\n",
      "\u001b[35m\u001b[K./Functions/Misc/zcalc\u001b[m\u001b[K\u001b[36m\u001b[K:\u001b[m\u001b[K# and the \u001b[01;31m\u001b[Kstandard C\u001b[m\u001b[K-like notation with a leading 0x for hexadecimal is\n",
      "\u001b[35m\u001b[K./Doc/Zsh/arith.yo\u001b[m\u001b[K\u001b[36m\u001b[K:\u001b[m\u001b[KIf the tt(C_BASES) option is set, hexadecimal numbers are output in the \u001b[01;31m\u001b[Kstandard C\u001b[m\u001b[K\n",
      "\u001b[35m\u001b[K./Doc/Zsh/options.yo\u001b[m\u001b[K\u001b[36m\u001b[K:\u001b[m\u001b[KOutput hexadecimal numbers in the \u001b[01;31m\u001b[Kstandard C\u001b[m\u001b[K format, for example `tt(0xFF)'\n",
      "\u001b[35m\u001b[K./Completion/Unix/Command/_gcc\u001b[m\u001b[K\u001b[36m\u001b[K:\u001b[m\u001b[K  '-ffreestanding[do not assume that \u001b[01;31m\u001b[Kstandard C\u001b[m\u001b[K libraries and main exist]'\n"
     ]
    }
   ],
   "source": [
    "# Busca recursivamente en el directorio actual ficheros que contengan\n",
    "# la cadena \"standard C\" (usa las comillas para quitar el significado especial al carácter espacio)\n",
    "grep -r \"standard C\" ./"
   ]
  },
  {
   "cell_type": "markdown",
   "id": "7bf1f078",
   "metadata": {},
   "source": [
    "SALIDA:\n",
    "```\n",
    "./Src/utils.c: * is contained in the ANSI standard C library, but a lot of them seem *\n",
    "./Completion/Unix/Command/_gcc:  '-ffreestanding[do not assume that standard C libraries and main exist]'\n",
    "./Functions/Misc/zcalc:# and the standard C-like notation with a leading 0x for hexadecimal is\n",
    "./Doc/Zsh/arith.yo:If the tt(C_BASES) option is set, hexadecimal numbers are output in the standard C\n",
    "./Doc/Zsh/options.yo:Output hexadecimal numbers in the standard C format, for example `tt(0xFF)'\n",
    "```"
   ]
  },
  {
   "cell_type": "code",
   "execution_count": 32,
   "id": "82286da6",
   "metadata": {},
   "outputs": [
    {
     "name": "stdout",
     "output_type": "stream",
     "text": [
      "\u001b[35m\u001b[KDoc/Zsh/arith.yo\u001b[m\u001b[K\u001b[36m\u001b[K:\u001b[m\u001b[Kexample, by giving the command `tt(print - $(( 123\u001b[01;31m\u001b[K4567\u001b[m\u001b[K8901 )))'; if the\n"
     ]
    }
   ],
   "source": [
    "# Busca recursivamente en el directorio \"Doc\" ficheros que contengan\n",
    "# una cadena numérica que empiece por cualquier número seguido de \"567\"\n",
    "grep -r \"[0-9]567\" Doc"
   ]
  },
  {
   "cell_type": "markdown",
   "id": "9e9dd999",
   "metadata": {},
   "source": [
    "SALIDA:\n",
    "```\n",
    "Doc/Zsh/arith.yo:example, by giving the command `tt(print - $(( 12345678901 )))'; if the\n",
    "```"
   ]
  },
  {
   "cell_type": "code",
   "execution_count": 35,
   "id": "350864a8",
   "metadata": {},
   "outputs": [
    {
     "name": "stdout",
     "output_type": "stream",
     "text": [
      "\u001b[35m\u001b[KDoc/intro.ms\u001b[m\u001b[K\n",
      "\u001b[35m\u001b[KDoc/help/.cvsignore\u001b[m\u001b[K\n",
      "\u001b[35m\u001b[KDoc/help/.distfiles\u001b[m\u001b[K\n",
      "\u001b[35m\u001b[KDoc/Makefile.in\u001b[m\u001b[K\n",
      "\u001b[35m\u001b[KDoc/Zsh/mod_datetime.yo\u001b[m\u001b[K\n",
      "\u001b[35m\u001b[KDoc/Zsh/mod_system.yo\u001b[m\u001b[K\n",
      "\u001b[35m\u001b[KDoc/Zsh/prompt.yo\u001b[m\u001b[K\n",
      "\u001b[35m\u001b[KDoc/Zsh/mod_nearcolor.yo\u001b[m\u001b[K\n",
      "\u001b[35m\u001b[KDoc/Zsh/builtins.yo\u001b[m\u001b[K\n",
      "\u001b[35m\u001b[KDoc/Zsh/roadmap.yo\u001b[m\u001b[K\n",
      "\u001b[35m\u001b[KDoc/Zsh/seealso.yo\u001b[m\u001b[K\n",
      "\u001b[35m\u001b[KDoc/Zsh/arith.yo\u001b[m\u001b[K\n",
      "\u001b[35m\u001b[KDoc/Zsh/expn.yo\u001b[m\u001b[K\n",
      "\u001b[35m\u001b[KDoc/Zsh/mod_watch.yo\u001b[m\u001b[K\n",
      "\u001b[35m\u001b[KDoc/Zsh/mod_zftp.yo\u001b[m\u001b[K\n",
      "\u001b[35m\u001b[KDoc/Zsh/compsys.yo\u001b[m\u001b[K\n",
      "\u001b[35m\u001b[KDoc/Zsh/compwid.yo\u001b[m\u001b[K\n",
      "\u001b[35m\u001b[KDoc/Zsh/mod_mathfunc.yo\u001b[m\u001b[K\n",
      "\u001b[35m\u001b[KDoc/Zsh/zle.yo\u001b[m\u001b[K\n",
      "\u001b[35m\u001b[KDoc/Zsh/calsys.yo\u001b[m\u001b[K\n",
      "\u001b[35m\u001b[KDoc/Zsh/mod_complist.yo\u001b[m\u001b[K\n",
      "\u001b[35m\u001b[KDoc/Zsh/contrib.yo\u001b[m\u001b[K\n",
      "\u001b[35m\u001b[KDoc/Zsh/options.yo\u001b[m\u001b[K\n",
      "\u001b[35m\u001b[KDoc/Zsh/params.yo\u001b[m\u001b[K\n",
      "\u001b[35m\u001b[KDoc/.distfiles\u001b[m\u001b[K\n"
     ]
    }
   ],
   "source": [
    "# Busca recursivamente en el directorio \"Doc\" ficheros que contengan\n",
    "# líneas que comiencen por un número seguido de un guión (-)\n",
    "grep -rl \"[0-9]-\" Doc"
   ]
  },
  {
   "cell_type": "markdown",
   "id": "9d88b060",
   "metadata": {},
   "source": [
    "SALIDA:\n",
    "```\n",
    "Doc/Zsh/params.yo:7-bit subset (ASCII) is used.  For example, if the character set\n",
    "```"
   ]
  },
  {
   "cell_type": "code",
   "execution_count": 36,
   "id": "ceb1d47e",
   "metadata": {},
   "outputs": [
    {
     "name": "stdout",
     "output_type": "stream",
     "text": [
      "\u001b[35m\u001b[KNEWS\u001b[m\u001b[K\u001b[36m\u001b[K:\u001b[m\u001b[K- builtin interface to pcre lib\u001b[01;31m\u001b[Krary\u001b[m\u001b[K\n",
      "\u001b[35m\u001b[KINSTALL\u001b[m\u001b[K\u001b[36m\u001b[K:\u001b[m\u001b[Kzsh tries to make features from curses available and if the curses lib\u001b[01;31m\u001b[Krary\u001b[m\u001b[K\n",
      "\u001b[35m\u001b[KINSTALL\u001b[m\u001b[K\u001b[36m\u001b[K:\u001b[m\u001b[KThe --enable-additional-fpath option may be used to add arbit\u001b[01;31m\u001b[Krary\u001b[m\u001b[K\n",
      "\u001b[35m\u001b[KINSTALL\u001b[m\u001b[K\u001b[36m\u001b[K:\u001b[m\u001b[KThis searches for POSIX capabilities; if found, the `cap' lib\u001b[01;31m\u001b[Krary\u001b[m\u001b[K\n"
     ]
    }
   ],
   "source": [
    "# Busca en los ficheros \"NEWS\" e \"INSTALL\" líneas que acaben por \"rary\"\n",
    "grep \"rary$\" NEWS INSTALL"
   ]
  },
  {
   "cell_type": "markdown",
   "id": "9328ab8e",
   "metadata": {},
   "source": [
    "SALIDA:\n",
    "```\n",
    "NEWS:- builtin interface to pcre library\n",
    "INSTALL:zsh tries to make features from curses available and if the curses library\n",
    "INSTALL:The --enable-additional-fpath option may be used to add arbitrary\n",
    "INSTALL:This searches for POSIX capabilities; if found, the `cap' library\n",
    "```"
   ]
  },
  {
   "cell_type": "markdown",
   "id": "969ee442",
   "metadata": {},
   "source": [
    "### Compresión y descompresión"
   ]
  },
  {
   "cell_type": "code",
   "execution_count": null,
   "id": "16f5eb29",
   "metadata": {},
   "outputs": [],
   "source": [
    "# Este ejercicio presupone que has generado los \n",
    "# ficheros necesarios para el ejercicio anterior (zsh). Para ello,\n",
    "# ejecuta la primera celda del ejercicio anterior"
   ]
  },
  {
   "cell_type": "code",
   "execution_count": 37,
   "id": "8c5abae9",
   "metadata": {},
   "outputs": [
    {
     "name": "stdout",
     "output_type": "stream",
     "text": [
      "/home/kiko/p4b-ejercicios/zsh\n"
     ]
    }
   ],
   "source": [
    "pwd"
   ]
  },
  {
   "cell_type": "code",
   "execution_count": 38,
   "id": "4da4ee93",
   "metadata": {},
   "outputs": [
    {
     "name": "stdout",
     "output_type": "stream",
     "text": [
      "aclocal.m4  \u001b[0m\u001b[01;32mconfig.guess\u001b[0m  FEATURES    MACHINES       README        \u001b[01;34mUtil\u001b[0m\n",
      "aczsh.m4    \u001b[01;32mconfig.sub\u001b[0m    \u001b[01;34mFunctions\u001b[0m   Makefile.in    \u001b[01;34mScripts\u001b[0m\n",
      "ChangeLog   configure.ac  INSTALL     \u001b[01;34mMisc\u001b[0m           \u001b[01;34mSrc\u001b[0m\n",
      "\u001b[01;34mCompletion\u001b[0m  \u001b[01;34mDoc\u001b[0m           \u001b[01;32minstall-sh\u001b[0m  \u001b[01;32mmkinstalldirs\u001b[0m  \u001b[01;34mStartupFiles\u001b[0m\n",
      "\u001b[01;34mConfig\u001b[0m      \u001b[01;34mEtc\u001b[0m           LICENCE     NEWS           \u001b[01;34mTest\u001b[0m\n"
     ]
    }
   ],
   "source": [
    "ls"
   ]
  },
  {
   "cell_type": "code",
   "execution_count": 39,
   "id": "144d1f59",
   "metadata": {},
   "outputs": [],
   "source": [
    "# Crea un fichero empaquetado con tar comprimido con gzip, llamado\n",
    "# \"zsh-doc.tar.gz\" que contenga el directorio \"Doc\" al completo, sin\n",
    "# mostrar por pantalla los ficheros que se van empaquetando\n",
    "tar czf zhs-doc.tar.gz Doc"
   ]
  },
  {
   "cell_type": "code",
   "execution_count": 40,
   "id": "532c175e",
   "metadata": {},
   "outputs": [
    {
     "name": "stdout",
     "output_type": "stream",
     "text": [
      "Util/check_exports\n",
      "Misc/compctl-examples\n",
      "Misc/vcs_info-examples\n"
     ]
    }
   ],
   "source": [
    "# Crea un fichero empaquetado con tar comprimido con gzip, llamado\n",
    "# \"zsh-util-misc.tar.gz\" que contenga los ficheros ubicados en los \n",
    "# directorios \"Util\" y \"Misc\" cuyo nombre contiene la cadena \"ex\",\n",
    "# mostrando por pantalla los ficheros que se van empaquetando\n",
    "tar czvf zhs-util-misc.tar.gz Util/*ex* Misc/*ex*"
   ]
  },
  {
   "cell_type": "markdown",
   "id": "86389390",
   "metadata": {},
   "source": [
    "SALIDA: \n",
    "```\n",
    "Util/check_exports\n",
    "Misc/compctl-examples\n",
    "Misc/vcs_info-examples\n",
    "```"
   ]
  },
  {
   "cell_type": "code",
   "execution_count": 41,
   "id": "ccf7ea39",
   "metadata": {},
   "outputs": [
    {
     "name": "stdout",
     "output_type": "stream",
     "text": [
      "-rwxrwxr-x kiko/kiko      1701 2023-11-13 19:19 Util/check_exports\n",
      "-rw-rw-r-- kiko/kiko     29632 2023-11-13 19:19 Misc/compctl-examples\n",
      "-rw-rw-r-- kiko/kiko     25691 2023-11-13 19:19 Misc/vcs_info-examples\n"
     ]
    }
   ],
   "source": [
    "# Muestra los ficheros que hay dentro del empaquetado \"zsh-util-misc.tar.gz\"\n",
    "# sin extraer su contenido\n",
    "tar ztvf zhs-util-misc.tar.gz"
   ]
  },
  {
   "cell_type": "code",
   "execution_count": 42,
   "id": "bdabff59",
   "metadata": {},
   "outputs": [],
   "source": [
    "# Borra los ficheros ubicados en los directorios \n",
    "# \"Util\" y \"Misc\" cuyo nombre contiene la cadena \"ex\",\n",
    "rm Util/*ex* Misc/*ex*"
   ]
  },
  {
   "cell_type": "code",
   "execution_count": 44,
   "id": "ab0068af",
   "metadata": {},
   "outputs": [
    {
     "name": "stdout",
     "output_type": "stream",
     "text": [
      "En la rama master\n",
      "Tu rama está actualizada con 'origin/master'.\n",
      "\n",
      "Cambios no rastreados para el commit:\n",
      "  (usa \"git add/rm <archivo>...\" para actualizar a lo que se le va a hacer commit)\n",
      "  (usa \"git restore <archivo>...\" para descartar los cambios en el directorio de trabajo)\n",
      "\t\u001b[31mborrados:        Misc/compctl-examples\u001b[m\n",
      "\t\u001b[31mborrados:        Misc/vcs_info-examples\u001b[m\n",
      "\t\u001b[31mborrados:        Util/check_exports\u001b[m\n",
      "\n",
      "Archivos sin seguimiento:\n",
      "  (usa \"git add <archivo>...\" para incluirlo a lo que se será confirmado)\n",
      "\t\u001b[31mzhs-doc.tar.gz\u001b[m\n",
      "\t\u001b[31mzhs-util-misc.tar.gz\u001b[m\n",
      "\n",
      "sin cambios agregados al commit (usa \"git add\" y/o \"git commit -a\")\n"
     ]
    }
   ],
   "source": [
    "# Muestra el estado del árbol de trabajo (copia del repositorio Git de \"zsh\")\n",
    "git status"
   ]
  },
  {
   "cell_type": "markdown",
   "id": "babc141e",
   "metadata": {},
   "source": [
    "SALIDA:\n",
    "```\n",
    "En la rama master\n",
    "Tu rama está actualizada con 'origin/master'.\n",
    "\n",
    "Cambios no rastreados para el commit:\n",
    "  (usa \"git add/rm <archivo>...\" para actualizar a lo que se le va a hacer commit)\n",
    "  (usa \"git restore <archivo>...\" para descartar los cambios en el directorio de trabajo)\n",
    "\tborrados:        Misc/compctl-examples\n",
    "\tborrados:        Misc/vcs_info-examples\n",
    "\tborrados:        Util/check_exports\n",
    "\n",
    "Archivos sin seguimiento:\n",
    "  (usa \"git add <archivo>...\" para incluirlo a lo que será confirmado)\n",
    "\tzsh-doc.tar.gz\n",
    "\tzsh-util-misc.tar.gz\n",
    "\n",
    "sin cambios agregados al commit (usa \"git add\" y/o \"git commit -a\")\n",
    "```"
   ]
  },
  {
   "cell_type": "code",
   "execution_count": 45,
   "id": "c44b4289",
   "metadata": {},
   "outputs": [
    {
     "name": "stdout",
     "output_type": "stream",
     "text": [
      "Util/check_exports\n",
      "Misc/compctl-examples\n",
      "Misc/vcs_info-examples\n"
     ]
    }
   ],
   "source": [
    "# Desempaqueta el fichero \"zsh-util-misc.tar.gz\", mostrando\n",
    "# los ficheros que se van generando al descomprimir\n",
    "tar xzvf zhs-util-misc.tar.gz"
   ]
  },
  {
   "cell_type": "code",
   "execution_count": 46,
   "id": "4a6cbf20",
   "metadata": {},
   "outputs": [],
   "source": [
    "# Borra todos los ficheros del directorio actual que acaben en \"tar.gz\"\n",
    "rm ./*tar.gz"
   ]
  },
  {
   "cell_type": "code",
   "execution_count": 47,
   "id": "5ecdda4b",
   "metadata": {},
   "outputs": [
    {
     "name": "stdout",
     "output_type": "stream",
     "text": [
      "En la rama master\n",
      "Tu rama está actualizada con 'origin/master'.\n",
      "\n",
      "nada para hacer commit, el árbol de trabajo está limpio\n"
     ]
    }
   ],
   "source": [
    "# Muestra el estado del árbol de trabajo (copia del repositorio Git de \"zsh\")\n",
    "git status"
   ]
  },
  {
   "cell_type": "markdown",
   "id": "38359cca",
   "metadata": {},
   "source": [
    "SALIDA:\n",
    "```\n",
    "En la rama master\n",
    "Tu rama está actualizada con 'origin/master'.\n",
    "\n",
    "nada para hacer commit, el árbol de trabajo está limpio\n",
    "```"
   ]
  },
  {
   "cell_type": "markdown",
   "id": "aa07978f",
   "metadata": {},
   "source": [
    "### Enlaces"
   ]
  },
  {
   "cell_type": "code",
   "execution_count": null,
   "id": "c794b173",
   "metadata": {},
   "outputs": [],
   "source": [
    "# Este ejercicio presupone que has generado los \n",
    "# ficheros necesarios para el bloque de búsqueda de patrones (grep).\n",
    "# Para ello, ejecuta la primera celda de dicho bloque anterior."
   ]
  },
  {
   "cell_type": "code",
   "execution_count": 48,
   "id": "397d25de",
   "metadata": {},
   "outputs": [],
   "source": [
    "rm -rf ~/p4b-ejercicios/enlaces\n",
    "mkdir -p ~/p4b-ejercicios/enlaces\n",
    "cd ~/p4b-ejercicios/enlaces"
   ]
  },
  {
   "cell_type": "code",
   "execution_count": 49,
   "id": "9ddc9174",
   "metadata": {},
   "outputs": [
    {
     "name": "stdout",
     "output_type": "stream",
     "text": [
      "/home/kiko/p4b-ejercicios/enlaces\n"
     ]
    }
   ],
   "source": [
    "pwd"
   ]
  },
  {
   "cell_type": "code",
   "execution_count": 50,
   "id": "ff9a40cc",
   "metadata": {},
   "outputs": [],
   "source": [
    "# Crea un enlace físico al fichero \"INSTALL\" ubicado en el \n",
    "# directorio \"zsh\" (que a su vez está en el directorio padre del actual)\n",
    "ln ../zsh/INSTALL enlace_install"
   ]
  },
  {
   "cell_type": "code",
   "execution_count": 51,
   "id": "2d03ee51",
   "metadata": {},
   "outputs": [],
   "source": [
    "# Ejecuta esta celda para añadir una línea al final de \"instalar-zsh\"\n",
    "echo \"END OF INSTALLATION INSTRUCTIONS\" >> instalar-zsh"
   ]
  },
  {
   "cell_type": "code",
   "execution_count": 52,
   "id": "7e283a98",
   "metadata": {},
   "outputs": [
    {
     "name": "stdout",
     "output_type": "stream",
     "text": [
      "END OF INSTALLATION INSTRUCTIONS\n"
     ]
    }
   ],
   "source": [
    "# Muestra el final del fichero \"instalar-zsh\" con el comando \"tail FICHERO\"\n",
    "tail instalar-zsh"
   ]
  },
  {
   "cell_type": "code",
   "execution_count": 53,
   "id": "f9eca1af",
   "metadata": {},
   "outputs": [
    {
     "name": "stdout",
     "output_type": "stream",
     "text": [
      "-rw-rw-r-- 2 kiko kiko 30567 nov 13 19:19 ../zsh/INSTALL\n"
     ]
    }
   ],
   "source": [
    "# Lista de forma detallada (ls -l) el fichero \"INSTALL\" ubicado en el \n",
    "# directorio \"zsh\" (que a su vez está en el directorio padre del actual)\n",
    "ls -l ../zsh/INSTALL"
   ]
  },
  {
   "cell_type": "markdown",
   "id": "f30d2979",
   "metadata": {},
   "source": [
    "¿Cuántos enlaces físicos existen para dicho fichero?\n",
    "\n",
    "RESPUESTA: 2"
   ]
  },
  {
   "cell_type": "code",
   "execution_count": 54,
   "id": "fbe2fc26",
   "metadata": {},
   "outputs": [],
   "source": [
    "# Añade una línea con 20 asteriscos al final del fichero \"INSTALL\" ubicado en el \n",
    "# directorio \"zsh\" (que a su vez está en el directorio padre del actual)\n",
    "# Toma como referencia el comando \"echo\" anterior, cambiando el fichero al que \n",
    "# se redirige (\">>\") lo que \"echo\" imprime\n",
    "echo \"********************\" >> ../zsh/INSTALL\n"
   ]
  },
  {
   "cell_type": "code",
   "execution_count": 57,
   "id": "3d2109f6",
   "metadata": {},
   "outputs": [
    {
     "name": "stdout",
     "output_type": "stream",
     "text": [
      "tail: no se puede abrir 'instalar-zhs' para lectura: No existe el archivo o el directorio\n"
     ]
    },
    {
     "ename": "",
     "evalue": "1",
     "output_type": "error",
     "traceback": []
    }
   ],
   "source": [
    "# Muestra el final del fichero \"instalar-zsh\" con el comando \"tail FICHERO\"\n",
    "tail instalar-zhs"
   ]
  },
  {
   "cell_type": "code",
   "execution_count": 58,
   "id": "377e88fb",
   "metadata": {},
   "outputs": [],
   "source": [
    "# Crea un enlace simbólico al directorio \"zsh\", llamado \"repo-zsh\"\n",
    "ln -s ../zhs repo-zhs"
   ]
  },
  {
   "cell_type": "code",
   "execution_count": 59,
   "id": "633f0835",
   "metadata": {},
   "outputs": [
    {
     "name": "stdout",
     "output_type": "stream",
     "text": [
      "total 36\n",
      "-rw-rw-r-- 2 kiko kiko 30588 nov 13 19:40 enlace_install\n",
      "-rw-rw-r-- 1 kiko kiko    33 nov 13 19:37 instalar-zsh\n",
      "lrwxrwxrwx 1 kiko kiko     6 nov 13 19:42 \u001b[0m\u001b[40;31;01mrepo-zhs\u001b[0m -> \u001b[40;31;01m../zhs\u001b[0m\n"
     ]
    }
   ],
   "source": [
    "# Haz un listado detallado del directorio actual\n",
    "ls -l ."
   ]
  },
  {
   "cell_type": "code",
   "execution_count": 60,
   "id": "395e6faa",
   "metadata": {},
   "outputs": [
    {
     "name": "stdout",
     "output_type": "stream",
     "text": [
      "bash: cd: repo-zhs: No existe el archivo o el directorio\n"
     ]
    },
    {
     "ename": "",
     "evalue": "1",
     "output_type": "error",
     "traceback": []
    }
   ],
   "source": [
    "# Cámbiate al directorio \"repo-zsh\"\n",
    "cd repo-zhs\n"
   ]
  },
  {
   "cell_type": "code",
   "execution_count": 61,
   "id": "67462a33",
   "metadata": {},
   "outputs": [
    {
     "name": "stdout",
     "output_type": "stream",
     "text": [
      "lrwxrwxrwx 1 kiko kiko 6 nov 13 19:42 \u001b[0m\u001b[40;31;01mrepo-zhs\u001b[0m -> \u001b[40;31;01m../zhs\u001b[0m\n"
     ]
    }
   ],
   "source": [
    "# Haz un listado detallado del directorio actual\n",
    "ls -l repo-zhs"
   ]
  },
  {
   "cell_type": "markdown",
   "id": "22a5cacb",
   "metadata": {},
   "source": [
    "¿Cuántos enlaces físicos tiene el fichero `INSTALL`?\n",
    "\n",
    "RESPUESTA (razonada): debe tener 2 , ya que se habra creado otro pero blando"
   ]
  },
  {
   "cell_type": "code",
   "execution_count": 62,
   "id": "65e991c9",
   "metadata": {},
   "outputs": [
    {
     "name": "stdout",
     "output_type": "stream",
     "text": [
      "rm: no se puede borrar 'repo-zhs/INSTALL': No existe el archivo o el directorio\n"
     ]
    },
    {
     "ename": "",
     "evalue": "1",
     "output_type": "error",
     "traceback": []
    }
   ],
   "source": [
    "# Borra el fichero INSTALL ubicado en el directorio actual\n",
    "rm repo-zhs/INSTALL"
   ]
  },
  {
   "cell_type": "code",
   "execution_count": 63,
   "id": "b4b0f300",
   "metadata": {},
   "outputs": [
    {
     "name": "stdout",
     "output_type": "stream",
     "text": [
      "fatal: no es un repositorio git (ni ninguno de los directorios superiores): .git\n"
     ]
    },
    {
     "ename": "",
     "evalue": "128",
     "output_type": "error",
     "traceback": []
    }
   ],
   "source": [
    "# Muestra el estado del árbol de trabajo de Git en el directorio actual\n",
    "git status"
   ]
  },
  {
   "cell_type": "code",
   "execution_count": null,
   "id": "8886089c",
   "metadata": {},
   "outputs": [],
   "source": [
    "# Cámbiate al directorio padre del actual\n",
    "cd .."
   ]
  },
  {
   "cell_type": "code",
   "execution_count": 64,
   "id": "ddd95e87",
   "metadata": {},
   "outputs": [
    {
     "name": "stdout",
     "output_type": "stream",
     "text": [
      "total 36\n",
      "-rw-rw-r-- 2 kiko kiko 30588 nov 13 19:40 enlace_install\n",
      "-rw-rw-r-- 1 kiko kiko    33 nov 13 19:37 instalar-zsh\n",
      "lrwxrwxrwx 1 kiko kiko     6 nov 13 19:42 \u001b[0m\u001b[40;31;01mrepo-zhs\u001b[0m -> \u001b[40;31;01m../zhs\u001b[0m\n"
     ]
    }
   ],
   "source": [
    "# Haz un listado detallado del directorio actual\n",
    "ls -l"
   ]
  },
  {
   "cell_type": "markdown",
   "id": "b2cd9bb5",
   "metadata": {},
   "source": [
    "¿Cuántos enlaces físicos tiene el fichero `instalar-zsh`?\n",
    "\n",
    "RESPUESTA (razonada): "
   ]
  },
  {
   "cell_type": "code",
   "execution_count": 65,
   "id": "ae6db92b",
   "metadata": {},
   "outputs": [
    {
     "name": "stdout",
     "output_type": "stream",
     "text": [
      "mv: no se puede efectuar `stat' sobre '../zhs': No existe el archivo o el directorio\n"
     ]
    },
    {
     "ename": "",
     "evalue": "1",
     "output_type": "error",
     "traceback": []
    }
   ],
   "source": [
    "# Mueve el directorio \"zsh\" ubicado en el directorio padre, al directorio actual\n",
    "mv ../zhs ./"
   ]
  },
  {
   "cell_type": "code",
   "execution_count": null,
   "id": "7e76df76",
   "metadata": {},
   "outputs": [],
   "source": [
    "# Haz un listado detallado del directorio actual\n",
    "ls -"
   ]
  },
  {
   "cell_type": "markdown",
   "id": "e5dd3b17",
   "metadata": {},
   "source": [
    "¿Qué ha ocurrido con el enlace simbólico `repo-zsh`?\n",
    "\n",
    "RESPUESTA (razonada):"
   ]
  },
  {
   "cell_type": "code",
   "execution_count": null,
   "id": "eda2f7aa",
   "metadata": {},
   "outputs": [],
   "source": [
    "# Cámbiate al directorio \"zsh\"\n",
    "cd zsh"
   ]
  },
  {
   "cell_type": "code",
   "execution_count": null,
   "id": "2b12ba41",
   "metadata": {
    "scrolled": true
   },
   "outputs": [],
   "source": [
    "# Muestra el estado del árbol de trabajo de Git en el directorio actual\n"
   ]
  },
  {
   "cell_type": "markdown",
   "id": "520e37c9",
   "metadata": {},
   "source": [
    "¿En qué estado se encuentra ahora el fichero `INSTALL` en el árbol de trabajo? ¿Su contenido se ha borrado realmente del sistema de ficheros? Explica por qué.\n",
    "\n",
    "RESPUESTA (razonada):"
   ]
  },
  {
   "cell_type": "code",
   "execution_count": null,
   "id": "7576afb7",
   "metadata": {},
   "outputs": [],
   "source": [
    "# Mueve el fichero \"instalar-zsh\" situado en el directorio padre\n",
    "# al directorio actual, con el nombre \"INSTALL\"\n"
   ]
  },
  {
   "cell_type": "code",
   "execution_count": null,
   "id": "3b942359",
   "metadata": {},
   "outputs": [],
   "source": [
    "# Muestra el estado del árbol de trabajo de Git en el directorio actual\n"
   ]
  },
  {
   "cell_type": "markdown",
   "id": "16cfaab1",
   "metadata": {},
   "source": [
    "¿En qué estado se encuentra ahora el fichero `INSTALL` en el árbol de trabajo?\n",
    "\n",
    "RESPUESTA (razonada):"
   ]
  },
  {
   "cell_type": "code",
   "execution_count": null,
   "id": "78784c18",
   "metadata": {},
   "outputs": [],
   "source": [
    "# Muestra las diferencias entre el árbol de trabajo y el repositorio\n",
    "# para el fichero INSTALL\n"
   ]
  },
  {
   "cell_type": "markdown",
   "id": "bb94b5af",
   "metadata": {},
   "source": [
    "SALIDA:\n",
    "```\n",
    "diff --git a/INSTALL b/INSTALL\n",
    "index f347a4480..412a4df28 100644\n",
    "--- a/INSTALL\n",
    "+++ b/INSTALL\n",
    "@@ -637,3 +637,5 @@ dynamic              # allow dynamically loaded binary modules [yes]\n",
    " largefile            # allow configure check for large files [yes]\n",
    " locale               # allow use of locale library [yes]\n",
    " \n",
    "+END OF INSTALLATION INSTRUCTIONS\n",
    "+****************\n",
    "```"
   ]
  }
 ],
 "metadata": {
  "kernelspec": {
   "display_name": "Bash",
   "language": "bash",
   "name": "bash"
  },
  "language_info": {
   "codemirror_mode": "shell",
   "file_extension": ".sh",
   "mimetype": "text/x-sh",
   "name": "bash"
  },
  "toc": {
   "base_numbering": 1,
   "nav_menu": {},
   "number_sections": true,
   "sideBar": true,
   "skip_h1_title": true,
   "title_cell": "Table of Contents",
   "title_sidebar": "Contents",
   "toc_cell": false,
   "toc_position": {
    "height": "calc(100% - 180px)",
    "left": "10px",
    "top": "150px",
    "width": "296px"
   },
   "toc_section_display": true,
   "toc_window_display": false
  }
 },
 "nbformat": 4,
 "nbformat_minor": 5
}
