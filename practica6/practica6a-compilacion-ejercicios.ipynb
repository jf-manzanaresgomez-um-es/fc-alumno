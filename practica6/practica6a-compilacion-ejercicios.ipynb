{
 "cells": [
  {
   "cell_type": "markdown",
   "id": "8e983960",
   "metadata": {},
   "source": [
    "# Ejercicios - Práctica 6a: Compilación y ejecución de programas."
   ]
  },
  {
   "cell_type": "markdown",
   "id": "12603fc2",
   "metadata": {},
   "source": [
    "<font size=\"4\">  \n",
    "    <span style=\"color: red;\">No olvides configurar Git para usar tu nombre y apellido(s), y tu dirección de correo electrónico universitario antes de comenzar.\n",
    "    </span>\n",
    "</font>\n",
    "\n",
    "Edita las primeras líneas de la siguiente celda con tu nombre y email y ejecútala para configurar tu entorno Git antes de empezar."
   ]
  },
  {
   "cell_type": "code",
   "execution_count": 1,
   "id": "9f68a80c",
   "metadata": {},
   "outputs": [],
   "source": [
    "# Establece tu identidad\n",
    "git config --global user.name \"Juan Fco Manzanares Gómez\"\n",
    "git config --global user.email \"jf.manzanaresgomez@um.es\"\n",
    "\n",
    "# Establece el editor por defecto\n",
    "# para los mensajes de commit\n",
    "git config --global core.editor \"gedit\""
   ]
  },
  {
   "cell_type": "markdown",
   "id": "1eceb1f9",
   "metadata": {},
   "source": [
    "<br>\n",
    "<font size=\"5\">  \n",
    "    <span style=\"color: red;\"><b>IMPORTANTE:</b><br> Añade este fichero a tu repositorio-bitácora \"fc-alumno\" <b>ANTES</b> de comenzar a realizar los ejercicios.\n",
    "    </span>\n",
    "</font>  \n",
    "<font size=\"4\">  \n",
    "    Sigue las instrucciones a continuación.\n",
    "</font>"
   ]
  },
  {
   "cell_type": "markdown",
   "id": "5585b1f2",
   "metadata": {},
   "source": [
    "Recuerda que para poder registrar tu trabajo en tu bitácora personal de prácticas, debes evitar trabajar en una copia de este *notebook* que no esté bajo control de versiones en Git en tu repositorio. Por ello, **ANTES DE REALIZAR NINGÚN CAMBIO en este fichero asegúrate de COLOCARLO DENTRO DIRECTORIO DE TU REPOSITORIO-BITÁCORA `fc-alumno`** y añadirlo al repositorio:\n",
    "1. Cierra esta pestaña del navegador sin guardar los cambios.\n",
    "2. Muévelo desde donde lo hayas descargado del AV (p.ej. `$HOME/Descargas`) al directorio donde tengas tu repositorio (se recomienda `$HOME/fc-alumno`).\n",
    "3. Añádelo al repositorio:\n",
    "    * `git add practica6a-compilacion-ejercicios.ipynb`\n",
    "    * `git commit -m \"Añadiendo el notebook de ejercicios de la práctica 6a (sin empezar)\"`"
   ]
  },
  {
   "cell_type": "markdown",
   "id": "5f67155f",
   "metadata": {},
   "source": [
    "<br>\n",
    "<font size=\"5\">  \n",
    "    <span style=\"color: red;\"><b>ATENCIÓN:</b><br>Se recomienda realizar los ejercicios propuestos de este boletín en un terminal independiente, ya que la mayoría de ellos <b>no pueden llevarse a cabo en Jupyter</b> debido a que es necesario interactuar con el programa lanzado mediante el teclado durante su ejecución. \n",
    "    </span>\n",
    "    <br><br>\n",
    "    Utiliza el <i>notebook</i> únicamente para responder a las preguntas o introducir el comando requerido en las celdas de código, una vez lo hayas ejecutado en otro terminal.\n",
    "</font>  \n"
   ]
  },
  {
   "cell_type": "markdown",
   "id": "c61e6f57",
   "metadata": {},
   "source": [
    "### Llamadas a bibliotecas y llamadas al sistema"
   ]
  },
  {
   "cell_type": "markdown",
   "id": "add57cbb",
   "metadata": {},
   "source": [
    "- Vuelve a arrancar `gdb` con el programa `hola.static`, colocándole dos *breakpoints* en las funciones `puts` y `write` de la biblioteca de C (comandos `break puts` y `break write`. Luego ejecuta el programa (comando `run`) hasta que la ejecución se detenga en la función `puts`, y entonces muestra el valor del registro RIP con `info registers rip`. ¿Cuál el valor del registro contador de programa en ese punto (registro RIP en x86-64)? ¿Qué hay en la dirección a la que apunta RIP?"
   ]
  },
  {
   "cell_type": "markdown",
   "id": "756d8be1",
   "metadata": {},
   "source": [
    "RESPUESTA: rip            0x40c180            0x40c180 <puts>\n",
    "                                                (call)"
   ]
  },
  {
   "cell_type": "markdown",
   "id": "1416ffbd",
   "metadata": {},
   "source": [
    "- Visualiza el código ensamblador de `main` (comando `disassemble main`). A la vista dicho código ensamblador y del punto del programa en el que está actualmente parada la ejecución, ¿cuál fue la última instrucción en ejecutarse antes de que el programa se detuviese en el `breakpoint`?"
   ]
  },
  {
   "cell_type": "markdown",
   "id": "dcab40e0",
   "metadata": {},
   "source": [
    "RESPUESTA:   0x0000000000401784 <+15>:\tmov    %rax,%rdi\n"
   ]
  },
  {
   "cell_type": "markdown",
   "id": "ea91d534",
   "metadata": {},
   "source": [
    "- Mediante el comando `x/10i puts`, examina el contenido de las 10 instrucciones en memoria a partir de la dirección donde comienza `puts`. ¿Qué tamaño tiene la instrucción que se ejecutará a continuación?"
   ]
  },
  {
   "cell_type": "markdown",
   "id": "c680788a",
   "metadata": {},
   "source": [
    "RESPUESTA: 4 bytes"
   ]
  },
  {
   "cell_type": "markdown",
   "id": "535ee4cc",
   "metadata": {},
   "source": [
    "- ¿Cuál será el valor que tome el registro contador de programa (RIP) tras ejecutar la instrucción actual?"
   ]
  },
  {
   "cell_type": "markdown",
   "id": "073a0bba",
   "metadata": {},
   "source": [
    "RESPUESTA:   0x40c184 <puts+4>:\tpush   %r13"
   ]
  },
  {
   "cell_type": "markdown",
   "id": "9e60ec8a",
   "metadata": {},
   "source": [
    "- Continúa la ejecución hasta el siguiente punto de ruptura en la función `write`. Muestra la pila actual de llamadas a funciones mediante el comando `backtrace`, ¿qué función es la que ha realizado la llamada a `write`?"
   ]
  },
  {
   "cell_type": "markdown",
   "id": "3db401d4",
   "metadata": {},
   "source": [
    "RESPUESTA: #0  0x0000000000447360 in write ()\n",
    "#1  0x000000000040f62d in _IO_new_file_write ()\n",
    "#2  0x00000000004107a0 in _IO_new_do_write ()\n",
    "#3  0x0000000000411273 in _IO_new_file_overflow ()\n",
    "#4  0x000000000040c2e2 in puts ()\n",
    "#5  0x000000000040178c in main () at hola.c:4\n"
   ]
  },
  {
   "cell_type": "markdown",
   "id": "ffbb08c9",
   "metadata": {},
   "source": [
    "- ¿Qué función invocada directamente por `puts` ha llevado a la ejecución de `write`?"
   ]
  },
  {
   "cell_type": "markdown",
   "id": "2d83afec",
   "metadata": {},
   "source": [
    "RESPUESTA: next"
   ]
  },
  {
   "cell_type": "markdown",
   "id": "10b81953",
   "metadata": {},
   "source": [
    "RESPUESTA: "
   ]
  },
  {
   "cell_type": "markdown",
   "id": "887a25f2",
   "metadata": {},
   "source": [
    "- Ejecuta ahora el comando `stepi 5`, el cual ejecuta 5 instrucciones en ensamblador/máquina y comprueba en qué instrucción se encuentra parada la ejecución de nuevo con comando `x/10i write`. A continuación, visualiza el contenido de los registros RDI, RSI y RDX con `info registers rdi rsi rdx`. Estos tres registros contienen los valores de los tres parámetros que se pasan a la llamada al sistema `write(fichero,buffer,nbytes)`, la cual se usa para escribir en un determinado fichero (dado por su descriptor) el contenido de un buffer memoria, indicando el número de bytes a escribir en el fichero."
   ]
  },
  {
   "cell_type": "markdown",
   "id": "4908fd1d",
   "metadata": {},
   "source": [
    "RESPUESTA: "
   ]
  },
  {
   "cell_type": "markdown",
   "id": "1be5a185",
   "metadata": {},
   "source": [
    "- Sabiendo que el registro RDI contiene el descriptor del fichero en el que se va a escribir, ¿a qué dispositivo de E/S crees que corresponde dicho descriptor de fichero?"
   ]
  },
  {
   "cell_type": "markdown",
   "id": "1ed64067",
   "metadata": {},
   "source": [
    "RESPUESTA: pantalla"
   ]
  },
  {
   "cell_type": "markdown",
   "id": "340b3caf",
   "metadata": {},
   "source": [
    "- Muestra el contenido de la memoria en la dirección dada por el valor actual del registro RSI mediante `x/13bc <valor actual de RSI>`. ¿Qué dato se va a escribir en fichero? ¿Cuántos bytes se va a solicitar escribir?"
   ]
  },
  {
   "cell_type": "markdown",
   "id": "6d48ee8d",
   "metadata": {},
   "source": [
    "RESPUESTA:0x447384 <write+36>:\t72 'H'\t-119 '\\211'\t84 'T'\t36 '$'\t24 '\\030'\t72 'H'\t-119 '\\211'\t116 't'\n",
    "0x44738c <write+44>:\t36 '$'\t16 '\\020'\t-119 '\\211'\t124 '|'\t36 '$'\n",
    " "
   ]
  },
  {
   "cell_type": "markdown",
   "id": "f76aa852",
   "metadata": {},
   "source": [
    "- Ejecuta comando `stepi`, para ejecutar la instrucción `syscall`. ¿Qué ocurre inmediatamente tras ejecutar dicha instrucción (con respecto la interacción del programa con el usuario)? ¿Qué código es el encargado de llevar a cabo las acciones que han producido dicho comportamiento?"
   ]
  },
  {
   "cell_type": "markdown",
   "id": "8d3341da",
   "metadata": {},
   "source": [
    "RESPUESTA: Hola, mundo!\n",
    "0x0000000000447377 in write ()"
   ]
  },
  {
   "cell_type": "markdown",
   "id": "ee522f3e",
   "metadata": {},
   "source": [
    "### Variables globales y locales"
   ]
  },
  {
   "cell_type": "markdown",
   "id": "5c3a76c1",
   "metadata": {},
   "source": [
    "-  Arranca de nuevo con GDB el programa `globals.static`, colocándole un punto de ruptura justo al comienzo (comando `b main`). Luego, usa el comando `print array` para mostrar el valor de la variable array antes de comenzar a ejecutar programa. ¿Qué ocurre si tratas de mostrar el valor de la variable `i`?"
   ]
  },
  {
   "cell_type": "markdown",
   "id": "79dcd5b1",
   "metadata": {},
   "source": [
    "RESPUESTA: todavia no existe, error"
   ]
  },
  {
   "cell_type": "markdown",
   "id": "00c4b274",
   "metadata": {},
   "source": [
    "-  Lanza el programa a ejecución con `run`, y tras ello repite el apartado anterior. ¿Por qué es posible mostrar el valor de `array` antes incluso de empezar a ejecutar el programa, pero no ocurre lo mismo con la variable `i`?"
   ]
  },
  {
   "cell_type": "markdown",
   "id": "5f74abc2",
   "metadata": {},
   "source": [
    "RESPUESTA: porque el array esta antes del int main"
   ]
  },
  {
   "cell_type": "markdown",
   "id": "ca99a7bd",
   "metadata": {},
   "source": [
    "-  Ejecuta paso a paso usando el comando `next` (de sentencia en sentencia en lenguaje C). Para cada iteración del bucle `while`, observa los sucesivos cambios en memoria tanto del vector array como de la variable i, con los comandos `print i`, `print array` y `x/40bx array`."
   ]
  },
  {
   "cell_type": "markdown",
   "id": "4e135a88",
   "metadata": {},
   "source": [
    "RESPUESTA: (gdb) print i\n",
    "$3 = 0\n",
    "(gdb) print array\n",
    "$4 = {10, 9, 8, 7, 6, 5, 4, 3, 2, 1}\n",
    "(gdb) x/40bx array\n",
    "0x4c5100 <array>:\t0x0a\t0x00\t0x00\t0x00\t0x09\t0x00\t0x00\t0x00\n",
    "0x4c5108 <array+8>:\t0x08\t0x00\t0x00\t0x00\t0x07\t0x00\t0x00\t0x00\n",
    "0x4c5110 <array+16>:\t0x06\t0x00\t0x00\t0x00\t0x05\t0x00\t0x00\t0x00\n",
    "0x4c5118 <array+24>:\t0x04\t0x00\t0x00\t0x00\t0x03\t0x00\t0x00\t0x00\n",
    "0x4c5120 <array+32>:\t0x02\t0x00\t0x00\t0x00\t0x01\t0x00\t0x00\t0x00\n"
   ]
  },
  {
   "cell_type": "markdown",
   "id": "e53b24b1",
   "metadata": {},
   "source": [
    "- ¿Entre qué dos direcciones de memoria se almacena el último elemento del array? Da la respuesta como dirección inicial-final (ambas direcciones incluidas)"
   ]
  },
  {
   "cell_type": "markdown",
   "id": "daf9bf23",
   "metadata": {},
   "source": [
    "RESPUESTA: "
   ]
  },
  {
   "cell_type": "markdown",
   "id": "a7ae32b6",
   "metadata": {},
   "source": [
    "### Tipos de datos y su tamaño en memoria\n"
   ]
  },
  {
   "cell_type": "code",
   "execution_count": 2,
   "id": "13b94d15",
   "metadata": {},
   "outputs": [],
   "source": [
    "# Ejecuta esta celda para generar el fichero globals_long.c\n",
    "cat <<EOF > globals_long.c\n",
    "#define ARRAY_SIZE 10\n",
    "\n",
    "long int array[ARRAY_SIZE] = {10,9,8,7,6,5,4,3,2,1};\n",
    "\n",
    "int main() {\n",
    "    int i = 0;\n",
    "    while(i < ARRAY_SIZE) {\n",
    "        array[i] = -1;\n",
    "        ++i;\n",
    "    }\n",
    "}\n",
    "EOF"
   ]
  },
  {
   "cell_type": "markdown",
   "id": "58a04640",
   "metadata": {},
   "source": [
    "- Utiliza el siguiente comando para ver las diferencias entre el programa `globals.c` y `globals_long.c`. ¿En qué se diferencian?"
   ]
  },
  {
   "cell_type": "code",
   "execution_count": 3,
   "id": "316e6fc6",
   "metadata": {},
   "outputs": [
    {
     "name": "stdout",
     "output_type": "stream",
     "text": [
      "--- globals.c\t2023-12-04 16:52:19.720066772 +0100\n",
      "+++ globals_long.c\t2023-12-04 17:36:51.690706929 +0100\n",
      "@@ -1,6 +1,6 @@\n",
      " #define ARRAY_SIZE 10\n",
      " \n",
      "-int array[ARRAY_SIZE] = {10,9,8,7,6,5,4,3,2,1};\n",
      "+long int array[ARRAY_SIZE] = {10,9,8,7,6,5,4,3,2,1};\n",
      " \n",
      " int main() {\n",
      "     int i = 0;\n"
     ]
    },
    {
     "ename": "",
     "evalue": "1",
     "output_type": "error",
     "traceback": []
    }
   ],
   "source": [
    "diff -u globals.c globals_long.c"
   ]
  },
  {
   "cell_type": "markdown",
   "id": "b645b7d6",
   "metadata": {},
   "source": [
    "RESPUESTA: En el programa original (globals.c), el arreglo array está declarado como un arreglo de enteros (int), mientras que en el programa modificado (globals_long.c), se ha cambiado la declaración para que el arreglo array sea de tipo long int. La única diferencia entre los dos programas radica en el tipo de datos utilizado para declarar el arreglo."
   ]
  },
  {
   "cell_type": "markdown",
   "id": "9c4fb2a3",
   "metadata": {},
   "source": [
    "- Compila el programa `globals_long.c` y arranca con `gdb` el ejecutable que has generado."
   ]
  },
  {
   "cell_type": "code",
   "execution_count": 4,
   "id": "300b1112",
   "metadata": {},
   "outputs": [],
   "source": [
    "gcc -g -static globals_long.c -o globals_long"
   ]
  },
  {
   "cell_type": "markdown",
   "id": "b0e64554",
   "metadata": {},
   "source": [
    "```bash\n",
    "$ gdb globals_long\n",
    "```"
   ]
  },
  {
   "cell_type": "markdown",
   "id": "857024df",
   "metadata": {},
   "source": [
    "- Observa la disposición de los datos del array en memoria (`x/80bx array`), prestando especial atención a la nueva disposición de los elementos. ¿Cuánto ocupa ahora cada elemento del array? ¿Cuál es ahora la dirección de memoria del último elemento del array?"
   ]
  },
  {
   "cell_type": "markdown",
   "id": "9ddbe359",
   "metadata": {},
   "source": [
    "RESPUESTA: 8. 0x4c5148 <array+72>:\t0x01\t0x00\t0x00\t0x00\t0x00\t0x00\t0x00\t0x00\n"
   ]
  },
  {
   "cell_type": "code",
   "execution_count": 5,
   "id": "05bf1829",
   "metadata": {},
   "outputs": [],
   "source": [
    "# Ejecuta esta celda para generar el fichero globals_float.c\n",
    "cat <<EOF > globals_float.c\n",
    "#define ARRAY_SIZE 10\n",
    "\n",
    "float array[ARRAY_SIZE] = {10,9,8,7,6,5,4,3,2,1};\n",
    "\n",
    "int main() {\n",
    "    int i = 0;\n",
    "    while(i < ARRAY_SIZE) {\n",
    "        array[i] = -1;\n",
    "        ++i;\n",
    "    }\n",
    "}\n",
    "EOF"
   ]
  },
  {
   "cell_type": "markdown",
   "id": "29fc1e5b",
   "metadata": {},
   "source": [
    "- Utiliza el siguiente comando para ver las diferencias entre el programa `globals.c` y `globals_float.c`. ¿En qué se diferencian?"
   ]
  },
  {
   "cell_type": "code",
   "execution_count": 6,
   "id": "8b650678",
   "metadata": {},
   "outputs": [
    {
     "name": "stdout",
     "output_type": "stream",
     "text": [
      "--- globals.c\t2023-12-04 16:52:19.720066772 +0100\n",
      "+++ globals_float.c\t2023-12-04 17:39:24.807990827 +0100\n",
      "@@ -1,6 +1,6 @@\n",
      " #define ARRAY_SIZE 10\n",
      " \n",
      "-int array[ARRAY_SIZE] = {10,9,8,7,6,5,4,3,2,1};\n",
      "+float array[ARRAY_SIZE] = {10,9,8,7,6,5,4,3,2,1};\n",
      " \n",
      " int main() {\n",
      "     int i = 0;\n"
     ]
    },
    {
     "ename": "",
     "evalue": "1",
     "output_type": "error",
     "traceback": []
    }
   ],
   "source": [
    "diff -u globals.c globals_float.c"
   ]
  },
  {
   "cell_type": "markdown",
   "id": "af441c6b",
   "metadata": {},
   "source": [
    "RESPUESTA: En el programa original (globals.c), el arreglo array está declarado como un arreglo de enteros (int), mientras que en el programa modificado (globals_float.c), se ha cambiado la declaración para que el arreglo array sea de tipo float. La única diferencia entre los dos programas radica en el tipo de datos utilizado para declarar el arreglo, similar al caso anterior.\n",
    "\n",
    "\n",
    "\n",
    "\n",
    "\n"
   ]
  },
  {
   "cell_type": "markdown",
   "id": "147e8679",
   "metadata": {},
   "source": [
    "- Compila el programa `globals_float.c` y arranca con GDB el ejecutable que has generado:"
   ]
  },
  {
   "cell_type": "code",
   "execution_count": 7,
   "id": "0d333340",
   "metadata": {},
   "outputs": [],
   "source": [
    "gcc -g -static globals_float.c -o globals_float"
   ]
  },
  {
   "cell_type": "markdown",
   "id": "0d1ef56f",
   "metadata": {},
   "source": [
    "```bash\n",
    "$ gdb globals_float\n",
    "```"
   ]
  },
  {
   "cell_type": "markdown",
   "id": "5cdb0ca9",
   "metadata": {},
   "source": [
    "-  Observa la disposición de los datos del array en memoria (`x/40bx array`), prestando especial atención a la nueva disposición de los elementos. ¿Cuánto ocupa ahora cada elemento del array? ¿Cuál es ahora la dirección de memoria del último elemento del array?"
   ]
  },
  {
   "cell_type": "markdown",
   "id": "2d225810",
   "metadata": {},
   "source": [
    "RESPUESTA: 4. 0x4c5120 <array+32>:\t0x00\t0x00\t0x00\t0x40\t0x00\t0x00\t0x80\t0x3f\n"
   ]
  },
  {
   "cell_type": "markdown",
   "id": "bc45924b",
   "metadata": {},
   "source": [
    "- ¿Qué valor representan los 4 primeros bytes del array?"
   ]
  },
  {
   "cell_type": "markdown",
   "id": "aeeec262",
   "metadata": {},
   "source": [
    "RESPUESTA: 0"
   ]
  },
  {
   "cell_type": "markdown",
   "id": "c08f9778",
   "metadata": {},
   "source": [
    "- Ejecuta el programa paso a paso durante varias iteraciones, mostrando cómo cambian los valores en las direcciones de memoria donde se ubica array. ¿En qué ristra de bytes se codifica el valor -1 en dicha representación?"
   ]
  },
  {
   "cell_type": "markdown",
   "id": "c3cea727",
   "metadata": {},
   "source": [
    "RESPUESTA: "
   ]
  },
  {
   "cell_type": "markdown",
   "id": "b3134515",
   "metadata": {},
   "source": [
    "### Enlazado y bibliotecas\n"
   ]
  },
  {
   "cell_type": "markdown",
   "id": "856d73ab",
   "metadata": {},
   "source": [
    "- Genera un fichero ejecutable `hola.dynamic`, enlazado dinámicamente, y compilado con símbolos de depuración."
   ]
  },
  {
   "cell_type": "code",
   "execution_count": 8,
   "id": "abcfbf12",
   "metadata": {},
   "outputs": [],
   "source": [
    "gcc -g hola.c -o hola.dynamic"
   ]
  },
  {
   "cell_type": "markdown",
   "id": "a35821bb",
   "metadata": {},
   "source": [
    "- Arranca con GDB el ejecutable dinámicamente enlazado que acabas de generar, pon un punto de ruptura en la función `puts` y ejecuta (`run`) hasta llegar a dicho *breakpoint*."
   ]
  },
  {
   "cell_type": "markdown",
   "id": "2d4ba5df",
   "metadata": {},
   "source": [
    "```bash\n",
    "$ gdb ./hola.dinamic\n",
    "```"
   ]
  },
  {
   "cell_type": "markdown",
   "id": "544623ec",
   "metadata": {},
   "source": [
    "- Sin detenar la ejecución controlada de `hola.dynamic` con GDB, ejecuta el siguiente comando para averiguar el PID del proceso que está ejecutando el programa `hola.dynamic` (en un subshell) y mostrar el mapa de memoria de dicho PID."
   ]
  },
  {
   "cell_type": "code",
   "execution_count": 12,
   "id": "1b3004c4",
   "metadata": {},
   "outputs": [
    {
     "name": "stdout",
     "output_type": "stream",
     "text": [
      "7349:   /home/rtitos/docencia/fc-gcid/gh/fc-gcid/docs/practicas/2023-24/P6/hola.dynamic\n",
      "0000555555554000      4K r---- hola.dynamic\n",
      "0000555555555000      4K r-x-- hola.dynamic\n",
      "0000555555556000      4K r---- hola.dynamic\n",
      "0000555555557000      4K r---- hola.dynamic\n",
      "0000555555558000      4K rw--- hola.dynamic\n",
      "00007ffff7c00000    160K r---- libc.so.6\n",
      "00007ffff7c28000   1620K r-x-- libc.so.6\n",
      "00007ffff7dbd000    352K r---- libc.so.6\n",
      "00007ffff7e15000     16K r---- libc.so.6\n",
      "00007ffff7e19000      8K rw--- libc.so.6\n",
      "00007ffff7e1b000     52K rw---   [ anon ]\n",
      "00007ffff7fa0000     12K rw---   [ anon ]\n",
      "00007ffff7fbb000      8K rw---   [ anon ]\n",
      "00007ffff7fbd000     16K r----   [ anon ]\n",
      "00007ffff7fc1000      8K r-x--   [ anon ]\n",
      "00007ffff7fc3000      8K r---- ld-linux-x86-64.so.2\n",
      "00007ffff7fc5000    168K r-x-- ld-linux-x86-64.so.2\n",
      "00007ffff7fef000     44K r---- ld-linux-x86-64.so.2\n",
      "00007ffff7ffb000      8K r---- ld-linux-x86-64.so.2\n",
      "00007ffff7ffd000      8K rw--- ld-linux-x86-64.so.2\n",
      "00007ffffffde000    132K rw---   [ pila ]\n",
      "ffffffffff600000      4K --x--   [ anon ]\n",
      " total             2644K\n"
     ]
    },
    {
     "ename": "",
     "evalue": "42",
     "output_type": "error",
     "traceback": []
    }
   ],
   "source": [
    "pmap $(ps a | grep hola.dynamic | grep -v gdb | tr -s \" \" | cut -d \" \" -f2)"
   ]
  },
  {
   "cell_type": "markdown",
   "id": "ef6a00f8",
   "metadata": {},
   "source": [
    "-  Muestra con `x/10i main` las 10 primeras instrucciones de la función `main`, fijándote en la dirección de su primera instrucción."
   ]
  },
  {
   "cell_type": "markdown",
   "id": "89901692",
   "metadata": {},
   "source": [
    "RESPUESTA:0x1149"
   ]
  },
  {
   "cell_type": "markdown",
   "id": "894a9608",
   "metadata": {},
   "source": [
    "- Busca a qué rango de direcciones (región) del espacio de direcciones virtual del proceso pertence la dirección de `main` mostrada con GDB. Sabiendo que en la columna de la derecha aparece el fichero que \"respalda\" cada región del espacio de memoria del proceso (el contenido de dicha zona de memoria se carga del fichero indicado), ¿a qué fichero se corresponde la dirección donde está ubicado el código de `main`? ¿Qué tamaño tiene dicha región?"
   ]
  },
  {
   "cell_type": "markdown",
   "id": "c9fc6428",
   "metadata": {},
   "source": [
    "RESPUESTA:"
   ]
  },
  {
   "cell_type": "markdown",
   "id": "30124ceb",
   "metadata": {},
   "source": [
    "- Muestra con `x/10i puts` las 10 primeras instrucciones de la función `puts`, fijándote en la dirección de su primera instrucción."
   ]
  },
  {
   "cell_type": "markdown",
   "id": "587a7383",
   "metadata": {},
   "source": [
    "RESPUESTA:"
   ]
  },
  {
   "cell_type": "markdown",
   "id": "e8e6d824",
   "metadata": {},
   "source": [
    "- ¿A qué región del espacio de memoria de dicho proceso corresponde la dirección donde está ubicado el código de puts? ¿Qué tamaño tiene dicha región? ¿Qué fichero corresponde a dicho área?"
   ]
  },
  {
   "cell_type": "markdown",
   "id": "60649a4e",
   "metadata": {},
   "source": [
    "RESPUESTA: "
   ]
  },
  {
   "cell_type": "markdown",
   "id": "e9ebd4e3",
   "metadata": {},
   "source": [
    "- Arranca con gdb el ejecutable `hola.static`, estáticamente enlazado, que hemos usado anteriormente. De nuevo, pon un punto de ruptura en la función `puts` y ejecuta (`run`) hasta llegar a dicho *breakpoint*."
   ]
  },
  {
   "cell_type": "markdown",
   "id": "58e7d7dc",
   "metadata": {},
   "source": [
    "```bash\n",
    "$ gdb ./hola.static\n",
    "```"
   ]
  },
  {
   "cell_type": "markdown",
   "id": "231583c0",
   "metadata": {},
   "source": [
    "-  Repite los pasos anteriores para mostrar la dirección donde su ubica el código de `main` y `puts`, y ejecuta el siguiente comando para mostrar el mapa de memoria. "
   ]
  },
  {
   "cell_type": "markdown",
   "id": "9ad06f08",
   "metadata": {},
   "source": [
    "RESPUESTA:"
   ]
  },
  {
   "cell_type": "code",
   "execution_count": 14,
   "id": "7544529a",
   "metadata": {},
   "outputs": [
    {
     "name": "stdout",
     "output_type": "stream",
     "text": [
      "8122:   /home/rtitos/docencia/fc-gcid/gh/fc-gcid/docs/practicas/2023-24/P6/hola.static\n",
      "0000000000400000      4K r---- hola.static\n",
      "0000000000401000    604K r-x-- hola.static\n",
      "0000000000498000    164K r---- hola.static\n",
      "00000000004c1000     16K r---- hola.static\n",
      "00000000004c5000     12K rw--- hola.static\n",
      "00000000004c8000     20K rw---   [ anon ]\n",
      "00000000004cd000    136K rw---   [ anon ]\n",
      "00007ffff7ff9000     16K r----   [ anon ]\n",
      "00007ffff7ffd000      8K r-x--   [ anon ]\n",
      "00007ffffffde000    132K rw---   [ pila ]\n",
      "ffffffffff600000      4K --x--   [ anon ]\n",
      " total             1116K\n"
     ]
    },
    {
     "ename": "",
     "evalue": "42",
     "output_type": "error",
     "traceback": []
    }
   ],
   "source": [
    "pmap $(ps a | grep hola.static | grep -v gdb | tr -s \" \" | cut -d \" \" -f2)"
   ]
  },
  {
   "cell_type": "markdown",
   "id": "421c3cf5",
   "metadata": {},
   "source": [
    "- ¿A qué región del espacio de memoria de dicho proceso corresponde la dirección donde está ubicado el código de `main`? ¿Y el de `puts`? ¿Qué tamaño tiene dicha región? ¿Qué fichero corresponde a dicho área? ¿Por qué ya no aparece `libc.so.6` en el mapa de memoria del programa?"
   ]
  },
  {
   "cell_type": "markdown",
   "id": "8de70a4d",
   "metadata": {},
   "source": [
    "RESPUESTA:"
   ]
  }
 ],
 "metadata": {
  "kernelspec": {
   "display_name": "Bash",
   "language": "bash",
   "name": "bash"
  },
  "language_info": {
   "codemirror_mode": "shell",
   "file_extension": ".sh",
   "mimetype": "text/x-sh",
   "name": "bash"
  },
  "toc": {
   "base_numbering": 1,
   "nav_menu": {},
   "number_sections": true,
   "sideBar": true,
   "skip_h1_title": true,
   "title_cell": "Table of Contents",
   "title_sidebar": "Contents",
   "toc_cell": false,
   "toc_position": {
    "height": "calc(100% - 180px)",
    "left": "10px",
    "top": "150px",
    "width": "296px"
   },
   "toc_section_display": true,
   "toc_window_display": false
  }
 },
 "nbformat": 4,
 "nbformat_minor": 5
}
