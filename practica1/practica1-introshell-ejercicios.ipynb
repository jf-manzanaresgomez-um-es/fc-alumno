{
 "cells": [
  {
   "cell_type": "markdown",
   "id": "8e983960",
   "metadata": {},
   "source": [
    "# Ejercicios - Práctica 1: Introducción al *shell* de Linux. "
   ]
  },
  {
   "cell_type": "markdown",
   "id": "01b0058e",
   "metadata": {},
   "source": [
    "## Autor\n",
    "\n",
    "Introduce a continuación tu nombre y email:\n",
    "- Nombre Apellido1 Apellido2\n",
    "- tuemail@um.es"
   ]
  },
  {
   "cell_type": "markdown",
   "id": "b836c37f",
   "metadata": {},
   "source": [
    "## Ejercicios propuestos \n",
    "\n",
    "Escribe el comando adecuado según lo indicado en cada celda. Puedes abrir un terminal para realizar pruebas y finalmente escribir tu respuesta en la celda correspondiente."
   ]
  },
  {
   "cell_type": "markdown",
   "id": "dd62b6fd",
   "metadata": {},
   "source": [
    "<span style=\"color: red;\">\n",
    "**NOTA**: Es posible que en algunos casos, tras introducir un comando y ejecutar la celda en el notebook, la ejecución del mismo no se complete inmediatamente y no veamos ninguna salida. Eso se debe a que hemos introducido el comando de manera incorrecta (error de sintaxis, etc.) o que hemos lanzado un comando cuya ejecución mantiene ocupado al \"kernel\". En estos casos, al ejecutar la celda observarás que no aparece un número junto a la celda (p.ej. `In [5]`) sino un asterisco (`In [*]`). En estos casos, debes forzar la terminación del comando, para lo cual puedes interrumpir y reiniciar el kernel desde el menú \"Kernel\" en la ventana de Jupyter Notebook.\n",
    "</span>\n"
   ]
  },
  {
   "cell_type": "markdown",
   "id": "110ce729",
   "metadata": {},
   "source": [
    "Prueba a ejecutar un comando erróneo, observar que no termina y finalmente detener la celda de forma manual con el botón \"Stop\" (*interrupt kernel*)."
   ]
  },
  {
   "cell_type": "code",
   "execution_count": 1,
   "id": "19c8980e",
   "metadata": {},
   "outputs": [
    {
     "name": "stdout",
     "output_type": "stream",
     "text": [
      "\r\n"
     ]
    }
   ],
   "source": [
    "# Ejemplo de comando que se \"cuelga\"\n",
    "cat"
   ]
  },
  {
   "cell_type": "markdown",
   "id": "3a94c99a",
   "metadata": {},
   "source": [
    "### Primer contacto con el terminal"
   ]
  },
  {
   "cell_type": "code",
   "execution_count": 2,
   "id": "9b739dd4",
   "metadata": {},
   "outputs": [
    {
     "name": "stdout",
     "output_type": "stream",
     "text": [
      "lun 02 oct 2023 18:10:09 CEST\n"
     ]
    }
   ],
   "source": [
    "# Escribe el comando para mostrar la fecha.\n",
    "date"
   ]
  },
  {
   "cell_type": "code",
   "execution_count": 3,
   "id": "dc5c05d3",
   "metadata": {},
   "outputs": [
    {
     "name": "stdout",
     "output_type": "stream",
     "text": [
      "kiko\n"
     ]
    }
   ],
   "source": [
    "# Escribe el comando para mostrar tu nombre de usuario.\n",
    "whoami"
   ]
  },
  {
   "cell_type": "code",
   "execution_count": 4,
   "id": "92ace867",
   "metadata": {},
   "outputs": [
    {
     "name": "stdout",
     "output_type": "stream",
     "text": [
      "\u001b[0m\u001b[01;31m'(6572)CÁLCULOI[22_23].zip'\u001b[0m\n",
      " apuntes_tema_04_anexo.pdf\n",
      " apuntes_tema_04.pdf\n",
      " apuntes_tema_05.pdf\n",
      "'apuntes_tema_06 (1).pdf'\n",
      " apuntes_tema_06.pdf\n",
      " coche\n",
      " \u001b[01;31mejerciciosColas.rar\u001b[0m\n",
      " \u001b[01;31mejerciciosPilas.rar\u001b[0m\n",
      " \u001b[01;31mFicherosPractica8.zip\u001b[0m\n",
      "'Manzanares_Gómez_JuanFco (1).ipynb'\n",
      "'Manzanares_Gómez_JuanFco (2).ipynb'\n",
      "'Manzanares_Gómez_JuanFco (3).ipynb'\n",
      " Manzanares_Gómez_JuanFco.ipynb\n",
      " mayo2023s.pdf\n",
      "'Memoria  22-23.pdf'\n",
      " practica0-presentacion.ipynb\n",
      "'practica1-introshell-boletin (1).ipynb'\n",
      " practica1-introshell-boletin.ipynb\n",
      " practica1-introshell-ejercicios.ipynb\n",
      " practica_1.ipynb\n",
      " Resguardo_matrícula_23832209_278_2023.pdf\n",
      "'simplex transparencias_COMPLETAS (1).pdf'\n",
      "'simplex transparencias_COMPLETAS (2).pdf'\n",
      "'simplex transparencias_COMPLETAS (3).pdf'\n",
      "'simplex transparencias_COMPLETAS.pdf'\n",
      "'Sin confirmar 488545.crdownload'\n",
      " sol_enero2023.pdf\n",
      "'tema1 (1).ppt'\n",
      "'tema1 (2).ppt'\n",
      " tema1.odp\n",
      " tema1.ppt\n",
      " vacio\n"
     ]
    }
   ],
   "source": [
    "# Escribe el comando para listar el contenido del directorio de trabajo actual.\n",
    "ls"
   ]
  },
  {
   "cell_type": "code",
   "execution_count": 5,
   "id": "7934dc8b",
   "metadata": {},
   "outputs": [
    {
     "name": "stdout",
     "output_type": "stream",
     "text": [
      "\u001b[H\u001b[2J\u001b[3J"
     ]
    }
   ],
   "source": [
    "# Escribe el comando para borrar la pantalla del terminal.\n",
    "clear"
   ]
  },
  {
   "cell_type": "code",
   "execution_count": 6,
   "id": "38a4589f",
   "metadata": {},
   "outputs": [
    {
     "name": "stdout",
     "output_type": "stream",
     "text": [
      "exit\n",
      "Restarting Bash"
     ]
    }
   ],
   "source": [
    "# Escribe el comando para cerrar el shell.\n",
    "exit"
   ]
  },
  {
   "cell_type": "markdown",
   "id": "1833adbd",
   "metadata": {},
   "source": [
    "### Lanzamiento de programas\n",
    "\n",
    "   - Existen varias formas de lanzar comandos en Linux: a través del menú o icono correspondiente (al estilo clásico de Windows), llamando al comando correspondiente desde el terminal, o usando el menú de lanzamiento rápido (Alt-F2). "
   ]
  },
  {
   "cell_type": "markdown",
   "id": "335fc0d1",
   "metadata": {},
   "source": [
    "   - Como ejercicio, lanza la calculadora de GNOME (`gnome-calculator`) usando estos tres métodos."
   ]
  },
  {
   "cell_type": "code",
   "execution_count": 7,
   "id": "aab5fc6a",
   "metadata": {},
   "outputs": [],
   "source": [
    "gnome-calculator"
   ]
  },
  {
   "cell_type": "markdown",
   "id": "cdab5ac0",
   "metadata": {},
   "source": [
    "- Podemos lanzar cualquier programa, ya sea de interfaz gráfica o de línea de comandos. Prueba a lanzar `firefox` para navegar por la web. "
   ]
  },
  {
   "cell_type": "code",
   "execution_count": 8,
   "id": "29ac8002",
   "metadata": {},
   "outputs": [
    {
     "name": "stdout",
     "output_type": "stream",
     "text": [
      "update.go:85: cannot change mount namespace according to change mount (/var/lib/snapd/hostfs/usr/share/gimp/2.0/help /usr/share/gimp/2.0/help none bind,ro 0 0): cannot open directory \"/var/lib\": permission denied\n",
      "update.go:85: cannot change mount namespace according to change mount (/var/lib/snapd/hostfs/usr/share/xubuntu-docs /usr/share/xubuntu-docs none bind,ro 0 0): cannot open directory \"/var/lib\": permission denied\n",
      "Gtk-\u001b[1;32mMessage\u001b[0m: \u001b[34m18:12:15.117\u001b[0m: Not loading module \"atk-bridge\": The functionality is provided by GTK natively. Please try to not load it.\n",
      "\n",
      "(firefox:14122): Gtk-\u001b[1;33mWARNING\u001b[0m **: \u001b[34m18:12:15.367\u001b[0m: GTK+ module /snap/firefox/3131/gnome-platform/usr/lib/gtk-2.0/modules/libcanberra-gtk-module.so cannot be loaded.\n",
      "GTK+ 2.x symbols detected. Using GTK+ 2.x and GTK+ 3 in the same process is not supported.\n",
      "Gtk-\u001b[1;32mMessage\u001b[0m: \u001b[34m18:12:15.367\u001b[0m: Failed to load module \"canberra-gtk-module\"\n",
      "\n",
      "(firefox:14122): Gtk-\u001b[1;33mWARNING\u001b[0m **: \u001b[34m18:12:15.373\u001b[0m: GTK+ module /snap/firefox/3131/gnome-platform/usr/lib/gtk-2.0/modules/libcanberra-gtk-module.so cannot be loaded.\n",
      "GTK+ 2.x symbols detected. Using GTK+ 2.x and GTK+ 3 in the same process is not supported.\n",
      "Gtk-\u001b[1;32mMessage\u001b[0m: \u001b[34m18:12:15.373\u001b[0m: Failed to load module \"canberra-gtk-module\"\n",
      "ATTENTION: default value of option mesa_glthread overridden by environment.\n",
      "ATTENTION: default value of option mesa_glthread overridden by environment.\n"
     ]
    }
   ],
   "source": [
    "firefox"
   ]
  },
  {
   "cell_type": "markdown",
   "id": "a86db56e",
   "metadata": {},
   "source": [
    "   - Prueba a mostrar la ayuda del programa `gnome-calculator` pasándole la opción `--help`, y luego modifica su funcionamiento lanzándolo en diferentes modos (`--mode=programming`, `--mode=basic`, `--mode=advanced`)."
   ]
  },
  {
   "cell_type": "code",
   "execution_count": 9,
   "id": "bd090a5e",
   "metadata": {},
   "outputs": [
    {
     "name": "stdout",
     "output_type": "stream",
     "text": [
      "Uso:\n",
      "  gnome-calculator [OPCIÓN…]\n",
      "\n",
      "Opciones de ayuda:\n",
      "  -h, --help                  Mostrar opciones de ayuda\n",
      "  --help-all                  Muestra todas las opciones de ayuda\n",
      "  --help-gapplication         Mostrar las opciones de GApplication\n",
      "  --help-gtk                  Mostrar opciones GTK+\n",
      "\n",
      "Opciones de la aplicación:\n",
      "  -m, --mode=mode             Iniciar en un modo dado (básico, avanzado, financiero, programación, teclado)\n",
      "  -s, --solve=equation        Resolver la ecuación dada\n",
      "  -e, --equation=equation     Empezar con la ecuación dada\n",
      "  -v, --version               Mostrar el número de versión\n",
      "  --display=VISOR             Visor [display] X que usar\n",
      "\n"
     ]
    }
   ],
   "source": [
    "# Mostrar ayuda de la calculadora de GNOME y ver modos\n",
    "gnome-calculator --help"
   ]
  },
  {
   "cell_type": "code",
   "execution_count": 10,
   "id": "177dddb5",
   "metadata": {},
   "outputs": [],
   "source": [
    "# Lanzar el calendario en la fecha\n",
    "gnome-calculator --mode=advanced"
   ]
  },
  {
   "cell_type": "markdown",
   "id": "1dce5750",
   "metadata": {},
   "source": [
    "### Directorio de trabajo actual. \n",
    "\n",
    "Como hemos visto, para cambiar el directorio de trabajo se utiliza el comando `cd`, una abreviatura de “cambiar de directorio”."
   ]
  },
  {
   "cell_type": "markdown",
   "id": "245b7766",
   "metadata": {},
   "source": [
    "- Cámbiate al directorio raíz. Después muestra el directorio actual y finalmente lista su contenido."
   ]
  },
  {
   "cell_type": "code",
   "execution_count": 11,
   "id": "efa790a1",
   "metadata": {},
   "outputs": [],
   "source": [
    "cd /"
   ]
  },
  {
   "cell_type": "code",
   "execution_count": 12,
   "id": "2b9e2e3e",
   "metadata": {},
   "outputs": [
    {
     "name": "stdout",
     "output_type": "stream",
     "text": [
      "/\n"
     ]
    }
   ],
   "source": [
    "pwd"
   ]
  },
  {
   "cell_type": "code",
   "execution_count": 13,
   "id": "738fd9cd",
   "metadata": {},
   "outputs": [
    {
     "name": "stdout",
     "output_type": "stream",
     "text": [
      "\u001b[0m\u001b[01;36mbin\u001b[0m    \u001b[01;34mdev\u001b[0m   \u001b[01;36mlib\u001b[0m    \u001b[01;36mlibx32\u001b[0m      \u001b[01;34mmnt\u001b[0m   \u001b[01;34mroot\u001b[0m  \u001b[01;34msnap\u001b[0m      \u001b[01;34msys\u001b[0m  \u001b[01;34mvar\u001b[0m\n",
      "\u001b[01;34mboot\u001b[0m   \u001b[01;34metc\u001b[0m   \u001b[01;36mlib32\u001b[0m  \u001b[01;34mlost+found\u001b[0m  \u001b[01;34mopt\u001b[0m   \u001b[01;34mrun\u001b[0m   \u001b[01;34msrv\u001b[0m       \u001b[30;42mtmp\u001b[0m\n",
      "\u001b[01;34mcdrom\u001b[0m  \u001b[01;34mhome\u001b[0m  \u001b[01;36mlib64\u001b[0m  \u001b[01;34mmedia\u001b[0m       \u001b[01;34mproc\u001b[0m  \u001b[01;36msbin\u001b[0m  swapfile  \u001b[01;34musr\u001b[0m\n"
     ]
    }
   ],
   "source": [
    "ls"
   ]
  },
  {
   "cell_type": "markdown",
   "id": "3ac17440",
   "metadata": {},
   "source": [
    "- Desde el directorio raíz, cámbiate al directorio `home`, que es un subdirectorio inmediato de  `/`. Después, muestra el directorio actual y lista su contenido."
   ]
  },
  {
   "cell_type": "code",
   "execution_count": 14,
   "id": "373d67e2",
   "metadata": {},
   "outputs": [],
   "source": [
    "cd home"
   ]
  },
  {
   "cell_type": "code",
   "execution_count": 15,
   "id": "a2ffbfa9",
   "metadata": {},
   "outputs": [
    {
     "name": "stdout",
     "output_type": "stream",
     "text": [
      "/home\n"
     ]
    }
   ],
   "source": [
    "pwd"
   ]
  },
  {
   "cell_type": "code",
   "execution_count": 16,
   "id": "95c0b92e",
   "metadata": {},
   "outputs": [
    {
     "name": "stdout",
     "output_type": "stream",
     "text": [
      "\u001b[0m\u001b[01;34mkiko\u001b[0m\n"
     ]
    }
   ],
   "source": [
    "ls"
   ]
  },
  {
   "cell_type": "markdown",
   "id": "dd684781",
   "metadata": {},
   "source": [
    "- Sube al directorio padre del directorio de trabajo actual, en este caso de vuelta a “/”. Recuerda que se utiliza la sintaxis especial de dos puntos (..). NOTA: *No olvides el espacio entre “cd” y “..”, respetando siempre la estructura general de un comando (comando + opciones + parámetros, separados por espacios)*."
   ]
  },
  {
   "cell_type": "code",
   "execution_count": 17,
   "id": "97356588",
   "metadata": {},
   "outputs": [],
   "source": [
    "cd .."
   ]
  },
  {
   "cell_type": "markdown",
   "id": "bfca94a5",
   "metadata": {},
   "source": [
    "- Cámbiate a tu directorio de usuario de la forma más rápida posible  y tras ello, muestra cuál es el directorio actual y lista su contenido:\n"
   ]
  },
  {
   "cell_type": "code",
   "execution_count": 18,
   "id": "e2bff392",
   "metadata": {},
   "outputs": [],
   "source": [
    "cd /home/kiko"
   ]
  },
  {
   "cell_type": "code",
   "execution_count": 19,
   "id": "60c59756",
   "metadata": {},
   "outputs": [
    {
     "name": "stdout",
     "output_type": "stream",
     "text": [
      "/home/kiko\n"
     ]
    }
   ],
   "source": [
    "pwd"
   ]
  },
  {
   "cell_type": "code",
   "execution_count": 20,
   "id": "577bfbd6",
   "metadata": {},
   "outputs": [
    {
     "name": "stdout",
     "output_type": "stream",
     "text": [
      " \u001b[0m\u001b[01;34mbuild\u001b[0m\n",
      " coche\n",
      " coche.save\n",
      " \u001b[01;34mcopiaprueba\u001b[0m\n",
      " \u001b[01;34mdocumentos\u001b[0m\n",
      " \u001b[01;34mDownloads\u001b[0m\n",
      " ej1.drawio\n",
      " Ej_Simplex.pdf\n",
      "'examen-fc-practicas-resuelto (1).ipynb'\n",
      " examen-fc-practicas-resuelto.ipynb\n",
      " examen_probabilidad\n",
      " f1.txt\n",
      " f2.txt\n",
      " \u001b[01;34mfc\u001b[0m\n",
      " \u001b[01;34mFC\u001b[0m\n",
      " \u001b[01;34mIA\u001b[0m\n",
      " \u001b[01;34mimagenes\u001b[0m\n",
      " \u001b[01;34mlocal\u001b[0m\n",
      " Manzanares_Gómez_JuanFco.ipynb\n",
      " matricula\n",
      " nano.2400.save\n",
      " nano.3718.save\n",
      " pro\n",
      "'Problemas Relación 2.pdf'\n",
      " \u001b[01;34mprueba\u001b[0m\n",
      " Redsys.pdf\n",
      " Sesión1_Contenidos.ipynb\n",
      "'simplex transparencias.pdf'\n",
      " \u001b[01;34msnap\u001b[0m\n",
      "'T1.- Introducción y preliminares _presentación_.pdf'\n",
      "'Tema 2.pdf'\n",
      " TEMA2-UMU.pdf\n",
      " ticket.pdf\n",
      " \u001b[01;34mum\u001b[0m\n",
      " Untitled1.ipynb\n",
      " Untitled.ipynb\n"
     ]
    }
   ],
   "source": [
    "ls"
   ]
  },
  {
   "cell_type": "markdown",
   "id": "3dfbb378",
   "metadata": {},
   "source": [
    "- También puedes usar `..` más de una vez si tienes que subir por varios niveles de directorios padre: La ruta `../..` significa “partiendo del directorio de trabajo actual, ve al directorio padre, y desde esa ahí a su vez a su padre”. Sabiendo eso, prueba a cambia directamente desde el directorio actual (directorio personal) hasta el directorio raíz."
   ]
  },
  {
   "cell_type": "code",
   "execution_count": 21,
   "id": "3d58b5c2",
   "metadata": {},
   "outputs": [],
   "source": [
    "cd ../.."
   ]
  },
  {
   "cell_type": "code",
   "execution_count": 22,
   "id": "25ce3276",
   "metadata": {},
   "outputs": [
    {
     "name": "stdout",
     "output_type": "stream",
     "text": [
      "/\n"
     ]
    }
   ],
   "source": [
    "pwd"
   ]
  },
  {
   "cell_type": "markdown",
   "id": "d158c580",
   "metadata": {},
   "source": [
    "- Finalmente, regresa *de la forma más rápida posible* al directorio donde te encontrabas antes de último cambio de directorio:"
   ]
  },
  {
   "cell_type": "code",
   "execution_count": 23,
   "id": "c2d130c7",
   "metadata": {},
   "outputs": [
    {
     "name": "stdout",
     "output_type": "stream",
     "text": [
      "/home/kiko\n"
     ]
    }
   ],
   "source": [
    "cd -"
   ]
  },
  {
   "cell_type": "code",
   "execution_count": 24,
   "id": "86f55c6a",
   "metadata": {},
   "outputs": [
    {
     "name": "stdout",
     "output_type": "stream",
     "text": [
      "/home/kiko\n"
     ]
    }
   ],
   "source": [
    "pwd"
   ]
  },
  {
   "cell_type": "markdown",
   "id": "52527fef",
   "metadata": {},
   "source": [
    "Ahora deberías estar de nuevo en tu directorio personal (`/home/alumno` o similar)"
   ]
  },
  {
   "cell_type": "markdown",
   "id": "8363d7af",
   "metadata": {},
   "source": [
    "### Rutas relativas y absolutas\n",
    "\n",
    "La mayoría de los ejemplos que hemos visto hasta ahora utilizan rutas relativas. Es decir, el lugar en el que terminas depende de tu directorio de trabajo actual.\n"
   ]
  },
  {
   "cell_type": "markdown",
   "id": "df1d53a8",
   "metadata": {},
   "source": [
    "- Cámbiate al directorio raíz"
   ]
  },
  {
   "cell_type": "code",
   "execution_count": 25,
   "id": "8f8325e4",
   "metadata": {},
   "outputs": [],
   "source": [
    "cd /"
   ]
  },
  {
   "cell_type": "markdown",
   "id": "93933497",
   "metadata": {},
   "source": [
    "- Ahora entra en el subdirectorio `etc` ejecutando la siguiente celda.\n"
   ]
  },
  {
   "cell_type": "code",
   "execution_count": 26,
   "id": "157a49c8",
   "metadata": {},
   "outputs": [],
   "source": [
    "cd etc"
   ]
  },
  {
   "cell_type": "code",
   "execution_count": 27,
   "id": "6307c3da",
   "metadata": {},
   "outputs": [
    {
     "name": "stdout",
     "output_type": "stream",
     "text": [
      "/etc\n"
     ]
    }
   ],
   "source": [
    "pwd"
   ]
  },
  {
   "cell_type": "markdown",
   "id": "89df46ae",
   "metadata": {},
   "source": [
    "- Como ves, todo ha ido bien y deberías estar en `/etc`. Ahora bien, si ejecutas `cd etc` estando tu directorio personal en vez de en el directorio raíz, ¿qué pasa?"
   ]
  },
  {
   "cell_type": "code",
   "execution_count": 28,
   "id": "12858877",
   "metadata": {},
   "outputs": [],
   "source": [
    "cd"
   ]
  },
  {
   "cell_type": "code",
   "execution_count": 29,
   "id": "527f1e04",
   "metadata": {},
   "outputs": [
    {
     "name": "stdout",
     "output_type": "stream",
     "text": [
      "bash: cd: etc: No existe el archivo o el directorio\n"
     ]
    },
    {
     "ename": "",
     "evalue": "1",
     "output_type": "error",
     "traceback": []
    }
   ],
   "source": [
    "cd etc"
   ]
  },
  {
   "cell_type": "markdown",
   "id": "7bc23d3e",
   "metadata": {},
   "source": [
    "Como habrás visto, el cambio de directorio especificando el nombre del directorio, o usando .., **tendrá diferentes efectos dependiendo del directorio actual**, es decir, desde el lugar desde el que empieces. Recuerda que **todas las rutas a ficheros o directorios que NO empiecen por `/` (o `~`) son rutas relativas** al directorio de trabajo actual, y por tanto, sólo tienen sentido en relación al directorio en el que te encuentres en ese momento."
   ]
  },
  {
   "cell_type": "markdown",
   "id": "0628d117",
   "metadata": {},
   "source": [
    "- A la vista de la información anterior, usa una ruta absoluta para cambiar al directorio `etc` sin importar en qué parte del sistema de ficheros te encuentres:"
   ]
  },
  {
   "cell_type": "code",
   "execution_count": 30,
   "id": "d34d79b0",
   "metadata": {},
   "outputs": [],
   "source": [
    "cd /etc"
   ]
  },
  {
   "cell_type": "code",
   "execution_count": 31,
   "id": "2c6dda8d",
   "metadata": {},
   "outputs": [
    {
     "name": "stdout",
     "output_type": "stream",
     "text": [
      "/etc\n"
     ]
    }
   ],
   "source": [
    "pwd"
   ]
  },
  {
   "cell_type": "markdown",
   "id": "f1e3aa5c",
   "metadata": {},
   "source": [
    "- Recuerda que la tilde `~` (teclas `Alt Gr`+`4`) es un abreviatura de la *ruta absoluta* a tu directorio personal (p.ej., `/home/alumno`). Usando dicho atajo, cámbiate directamente a tu carpeta personal `Escritorio` (fíjate en la “E” mayúscula y usa el tabulador)."
   ]
  },
  {
   "cell_type": "code",
   "execution_count": 35,
   "id": "8a70ed34",
   "metadata": {},
   "outputs": [],
   "source": [
    "cd ~/Downloads\n",
    "#no tengo directorio Escritorio\n",
    "cd"
   ]
  },
  {
   "cell_type": "markdown",
   "id": "e5ed27cd",
   "metadata": {},
   "source": [
    "- Ahora lista (`ls`) el contenido del subdirectorio `Descargas` que hay en tu directorio personal, usando su **ruta absoluta**."
   ]
  },
  {
   "cell_type": "code",
   "execution_count": 36,
   "id": "204f4d44",
   "metadata": {},
   "outputs": [
    {
     "name": "stdout",
     "output_type": "stream",
     "text": [
      "\u001b[0m\u001b[01;31m'(6572)CÁLCULOI[22_23].zip'\u001b[0m\n",
      " apuntes_tema_04_anexo.pdf\n",
      " apuntes_tema_04.pdf\n",
      " apuntes_tema_05.pdf\n",
      "'apuntes_tema_06 (1).pdf'\n",
      " apuntes_tema_06.pdf\n",
      " coche\n",
      " \u001b[01;31mejerciciosColas.rar\u001b[0m\n",
      " \u001b[01;31mejerciciosPilas.rar\u001b[0m\n",
      " \u001b[01;31mFicherosPractica8.zip\u001b[0m\n",
      "'Manzanares_Gómez_JuanFco (1).ipynb'\n",
      "'Manzanares_Gómez_JuanFco (2).ipynb'\n",
      "'Manzanares_Gómez_JuanFco (3).ipynb'\n",
      " Manzanares_Gómez_JuanFco.ipynb\n",
      " mayo2023s.pdf\n",
      "'Memoria  22-23.pdf'\n",
      " practica0-presentacion.ipynb\n",
      "'practica1-introshell-boletin (1).ipynb'\n",
      " practica1-introshell-boletin.ipynb\n",
      " practica1-introshell-ejercicios.ipynb\n",
      " practica_1.ipynb\n",
      " Resguardo_matrícula_23832209_278_2023.pdf\n",
      "'simplex transparencias_COMPLETAS (1).pdf'\n",
      "'simplex transparencias_COMPLETAS (2).pdf'\n",
      "'simplex transparencias_COMPLETAS (3).pdf'\n",
      "'simplex transparencias_COMPLETAS.pdf'\n",
      "'Sin confirmar 488545.crdownload'\n",
      " sol_enero2023.pdf\n",
      "'tema1 (1).ppt'\n",
      "'tema1 (2).ppt'\n",
      " tema1.odp\n",
      " tema1.ppt\n",
      " vacio\n"
     ]
    }
   ],
   "source": [
    "ls /home/kiko/Downloads"
   ]
  },
  {
   "cell_type": "markdown",
   "id": "17f1eb61",
   "metadata": {},
   "source": [
    "- Sabiendo que tanto `Descargas` como `Escritorio` son subdirectorios de tu directorio personal, haz un *listado largo* (opción `-l`) del contenido del subdirectorio `Descargas` usando la **ruta relativa** desde tu directorio de trabajo actual (deberías estar en `~/Escritorio`)."
   ]
  },
  {
   "cell_type": "markdown",
   "id": "4550b839",
   "metadata": {},
   "source": [
    "Para los siguientes comandos, usa una ventana del terminal en vez de en este notebook:"
   ]
  },
  {
   "cell_type": "code",
   "execution_count": 38,
   "id": "42a048a8",
   "metadata": {},
   "outputs": [
    {
     "name": "stdout",
     "output_type": "stream",
     "text": [
      "total 49784\n",
      "-rw-rw-r-- 1 kiko kiko  5288146 mar 29  2023 \u001b[0m\u001b[01;31m'(6572)CÁLCULOI[22_23].zip'\u001b[0m\n",
      "-rw-rw-r-- 1 kiko kiko   159740 may  3 10:41  apuntes_tema_04_anexo.pdf\n",
      "-rw-rw-r-- 1 kiko kiko   959354 may  9 17:52  apuntes_tema_04.pdf\n",
      "-rw-rw-r-- 1 kiko kiko   537195 may  3 10:41  apuntes_tema_05.pdf\n",
      "-rw-rw-r-- 1 kiko kiko   677493 may  6 15:23 'apuntes_tema_06 (1).pdf'\n",
      "-rw-rw-r-- 1 kiko kiko   677493 may  3 10:41  apuntes_tema_06.pdf\n",
      "-rw-rw-r-- 1 kiko kiko     2722 ago 12 13:49  coche\n",
      "-rw-rw-r-- 1 kiko kiko      760 feb 14  2023  \u001b[01;31mejerciciosColas.rar\u001b[0m\n",
      "-rw-rw-r-- 1 kiko kiko      937 feb 14  2023  \u001b[01;31mejerciciosPilas.rar\u001b[0m\n",
      "-rw-rw-r-- 1 kiko kiko     7312 jun 10 16:37  \u001b[01;31mFicherosPractica8.zip\u001b[0m\n",
      "-rw-rw-r-- 1 kiko kiko     9742 may 18 12:48 'Manzanares_Gómez_JuanFco (1).ipynb'\n",
      "-rw-rw-r-- 1 kiko kiko     9742 may 18 12:53 'Manzanares_Gómez_JuanFco (2).ipynb'\n",
      "-rw-rw-r-- 1 kiko kiko     9742 may 18 12:55 'Manzanares_Gómez_JuanFco (3).ipynb'\n",
      "-rw-rw-r-- 1 kiko kiko     9742 may 18 12:48  Manzanares_Gómez_JuanFco.ipynb\n",
      "-rw-rw-r-- 1 kiko kiko   205614 jun 24 18:23  mayo2023s.pdf\n",
      "-rw-rw-r-- 1 kiko kiko  8102437 jul 12 12:21 'Memoria  22-23.pdf'\n",
      "-rw-rw-r-- 1 kiko kiko    16276 oct  2 17:55  practica0-presentacion.ipynb\n",
      "-rw-rw-r-- 1 kiko kiko   934694 oct  2 18:07 'practica1-introshell-boletin (1).ipynb'\n",
      "-rw-rw-r-- 1 kiko kiko   934703 sep 18 13:31  practica1-introshell-boletin.ipynb\n",
      "-rw-rw-r-- 1 kiko kiko    40107 oct  2 18:19  practica1-introshell-ejercicios.ipynb\n",
      "-rw-rw-r-- 1 kiko kiko   125823 sep 25 18:11  practica_1.ipynb\n",
      "-rw-rw-r-- 1 kiko kiko   139851 ago 21 11:54  Resguardo_matrícula_23832209_278_2023.pdf\n",
      "-rw-rw-r-- 1 kiko kiko   921779 feb 13  2023 'simplex transparencias_COMPLETAS (1).pdf'\n",
      "-rw-rw-r-- 1 kiko kiko   921779 feb 15  2023 'simplex transparencias_COMPLETAS (2).pdf'\n",
      "-rw-rw-r-- 1 kiko kiko   921779 may 19 22:24 'simplex transparencias_COMPLETAS (3).pdf'\n",
      "-rw-rw-r-- 1 kiko kiko   921779 feb 12  2023 'simplex transparencias_COMPLETAS.pdf'\n",
      "-rw-rw-r-- 1 kiko kiko 15901911 sep  6 09:24 'Sin confirmar 488545.crdownload'\n",
      "-rw-rw-r-- 1 kiko kiko  8194111 may 20 00:16  sol_enero2023.pdf\n",
      "-rw-rw-r-- 1 kiko kiko  1250816 sep 21 11:23 'tema1 (1).ppt'\n",
      "-rw-rw-r-- 1 kiko kiko  1335296 sep 29 12:01 'tema1 (2).ppt'\n",
      "-rw-rw-r-- 1 kiko kiko   426523 sep 19 13:59  tema1.odp\n",
      "-rw-rw-r-- 1 kiko kiko  1250816 sep 19 12:09  tema1.ppt\n",
      "-rw-rw-r-- 1 kiko kiko        0 oct  2 18:06  vacio\n"
     ]
    }
   ],
   "source": [
    "ls -l Downloads\n",
    "gnome-terminal"
   ]
  },
  {
   "cell_type": "markdown",
   "id": "e0635479",
   "metadata": {},
   "source": [
    "- Usando la ventana del terminal, vamos a pasearnos un poco por el sistema de ficheros, fijándote en el prompt mientras lo haces. Nota que,  estás en algún lugar dentro de tu directorio personal, el prompt utilizará `~` como abreviatura:\n",
    "```bash\n",
    "cd\n",
    "cd /\n",
    "cd ~/Escritorio\n",
    "cd /etc\n",
    "cd /var/log\n",
    "cd ..\n",
    "cd\n",
    "```\n"
   ]
  },
  {
   "cell_type": "markdown",
   "id": "cf3c27d5",
   "metadata": {},
   "source": [
    "- En realidad, las rutas relativas funcionan porque todos los directorios del sistema de ficheros siempre contienen dos subdirectorios especiales, llamados  `.` y `..` que hacen referencia, respectivamente, al propio directorio y a su directorio padre. Haz un listado de tu directorio actual mostrando **todos** los ficheros (opción `-a`) para comprobarlo:"
   ]
  },
  {
   "cell_type": "code",
   "execution_count": 39,
   "id": "c7b6c629",
   "metadata": {},
   "outputs": [
    {
     "name": "stdout",
     "output_type": "stream",
     "text": [
      " \u001b[0m\u001b[01;34m.\u001b[0m\n",
      " \u001b[01;34m..\u001b[0m\n",
      " .bash_history\n",
      " .bash_logout\n",
      " .bashrc\n",
      " \u001b[01;34mbuild\u001b[0m\n",
      " \u001b[01;34m.cache\u001b[0m\n",
      " coche\n",
      " coche.save\n",
      " \u001b[01;34m.config\u001b[0m\n",
      " \u001b[01;34mcopiaprueba\u001b[0m\n",
      " \u001b[01;34mdocumentos\u001b[0m\n",
      " \u001b[01;34mDownloads\u001b[0m\n",
      " ej1.drawio\n",
      " Ej_Simplex.pdf\n",
      "'examen-fc-practicas-resuelto (1).ipynb'\n",
      " examen-fc-practicas-resuelto.ipynb\n",
      " examen_probabilidad\n",
      " f1.txt\n",
      " f2.txt\n",
      " \u001b[01;34mfc\u001b[0m\n",
      " \u001b[01;34mFC\u001b[0m\n",
      " .gitconfig\n",
      " \u001b[01;34m.gnupg\u001b[0m\n",
      " \u001b[01;34m.gphoto\u001b[0m\n",
      " \u001b[01;34mIA\u001b[0m\n",
      " \u001b[01;34mimagenes\u001b[0m\n",
      " \u001b[01;34m.ipynb_checkpoints\u001b[0m\n",
      " \u001b[01;34m.ipython\u001b[0m\n",
      " \u001b[01;34m.jupyter\u001b[0m\n",
      " .lesshst\n",
      " \u001b[01;34m.local\u001b[0m\n",
      " \u001b[01;34mlocal\u001b[0m\n",
      " Manzanares_Gómez_JuanFco.ipynb\n",
      " matricula\n",
      " \u001b[01;34m.mozilla\u001b[0m\n",
      " nano.2400.save\n",
      " nano.3718.save\n",
      " .netrc\n",
      " \u001b[01;34m.pki\u001b[0m\n",
      " pro\n",
      "'Problemas Relación 2.pdf'\n",
      " .profile\n",
      " \u001b[01;34mprueba\u001b[0m\n",
      " .python_history\n",
      " Redsys.pdf\n",
      " \u001b[01;34m.sage\u001b[0m\n",
      " Sesión1_Contenidos.ipynb\n",
      "'simplex transparencias.pdf'\n",
      " \u001b[01;34msnap\u001b[0m\n",
      " \u001b[01;34m.ssh\u001b[0m\n",
      " .sudo_as_admin_successful\n",
      "'T1.- Introducción y preliminares _presentación_.pdf'\n",
      "'Tema 2.pdf'\n",
      " TEMA2-UMU.pdf\n",
      " \u001b[01;34m.thunderbird\u001b[0m\n",
      " ticket.pdf\n",
      " \u001b[01;34mum\u001b[0m\n",
      " Untitled1.ipynb\n",
      " Untitled.ipynb\n",
      " \u001b[01;34m.vscode\u001b[0m\n"
     ]
    }
   ],
   "source": [
    "ls -a"
   ]
  },
  {
   "cell_type": "markdown",
   "id": "468eb22a",
   "metadata": {},
   "source": [
    "- Ejecuta siguientes comandos de ejemplo para ver que las rutas son igualmente correctas, y aunque en este caso puedan carecer de utilidad práctica, se muestran para clarificar los mencionados conceptos de directorio actual y directorio padre:\n",
    "```bash\n",
    "cd /etc/..\n",
    "pwd\n",
    "cd ./././././\n",
    "pwd\n",
    "cd etc\n",
    "cd /\n",
    "cd ./etc\n",
    "exit\n",
    "```"
   ]
  },
  {
   "cell_type": "markdown",
   "id": "49dded12",
   "metadata": {},
   "source": [
    "### Uso del tabulador para autocompletar rutas.\n",
    "\n",
    "Es importante acostumbrarse desde el primer día a usar el tabulador para navegar por el sistema de ficheros, de forma que podamos autocompletar rutas al mismo tiempo que tenemos una noción exacta de en qué punto del sistema de ficheros nos encontramos.\n"
   ]
  },
  {
   "cell_type": "markdown",
   "id": "eba5138a",
   "metadata": {},
   "source": [
    "Usando de nuevo una ventana del terminal, vamos a practicar el uso del tabulador:"
   ]
  },
  {
   "cell_type": "code",
   "execution_count": null,
   "id": "d6e039c8",
   "metadata": {},
   "outputs": [],
   "source": [
    "gnome-terminal"
   ]
  },
  {
   "cell_type": "markdown",
   "id": "584b9c6a",
   "metadata": {},
   "source": [
    "Situado en el directorio `~/Escritorio`, prueba a navegar por el sistema de ficheros presionando dos veces el tabulador para mostrar el contenido de cada directorio de nivel superior en la ruta relativa hacia el directorio /etc. Para ello, sin teclear ningún carácter tras cada separador `/`, observa cómo el shell muestra las alternativas disponibles para autocompletar: \n",
    "```bash\n",
    "cd [tab][tab]../[tab][tab]../[tab][tab]../etc\n",
    "```\n",
    "\n"
   ]
  },
  {
   "cell_type": "markdown",
   "id": "13afe60a",
   "metadata": {},
   "source": [
    "-  Experimenta con la compleción de rutas con el tabulador tecleando, por ejemplo:\n",
    "```bash\n",
    "cd /us[tab]/bi[tab]/X[tab], etc.\n",
    "``` "
   ]
  },
  {
   "cell_type": "markdown",
   "id": "49ab2b76",
   "metadata": {},
   "source": [
    "-  Experimenta tecleando las rutas extravagantes mostradas como ejemplo en el último apartado del ejercicio anterior, pero esta vez pulsando el tabulador dos veces para tratar de autocompletar en cada nivel:\n",
    "```bash\n",
    "cd /e[tab]/../[tab][tab]home/[tab][tab]../[tab][tab]usr,\n",
    "```"
   ]
  },
  {
   "cell_type": "markdown",
   "id": "eaf6a461",
   "metadata": {},
   "source": [
    "### Movimiento básico por el sistema de ficheros. Apertura, creación y borrado de ficheros y directorios.\n",
    "\n",
    "Ahora vamos a hacer uso de los ficheros de ejemplo que tienes disponibles en el Aula Virtual. Descarga el fichero `ficheros_ejemplo.zip` descomprímelo en tu directorio personal. El árbol de directorios en que se organizan los ficheros de ejemplo se puede observar a continuación:"
   ]
  },
  {
   "cell_type": "markdown",
   "id": "0b575449",
   "metadata": {},
   "source": [
    "```\n",
    "ficheros_ejemplo\n",
    "├── nano\n",
    "│   ├── doc\n",
    "│   ├── m4\n",
    "│   ├── po\n",
    "│   ├── src\n",
    "│   └── syntax\n",
    "│       └── extra\n",
    "└── sample_files\n",
    "    ├── audio\n",
    "    │   ├── mp3\n",
    "    │   ├── ogg\n",
    "    │   ├── wav\n",
    "    │   └── wma\n",
    "    ├── document\n",
    "    │   ├── doc\n",
    "    │   ├── docx\n",
    "    │   ├── pdf\n",
    "    │   ├── rtf\n",
    "    │   ├── txt\n",
    "    │   ├── xls\n",
    "    │   └── xlsx\n",
    "    ├── image\n",
    "    │   ├── bmp\n",
    "    │   ├── gif\n",
    "    │   ├── jpg\n",
    "    │   ├── png\n",
    "    │   └── tiff\n",
    "    └── video\n",
    "        ├── flv\n",
    "        ├── mkv\n",
    "        ├── mov\n",
    "        └── mp4\n",
    "\n",
    "```"
   ]
  },
  {
   "cell_type": "markdown",
   "id": "293b8c77",
   "metadata": {},
   "source": [
    "Una vez lo tengas preparado, empezando desde tu directorio personal, realiza los siguientes ejercicios, utilizando en todo caso **RUTAS RELATIVAS**. \n",
    "\n",
    "<span style=\"color: red;\">Recuerda utilizar el tabulador </span> para facilitar la navegación por el sistema de ficheros al autocompletar los nombres de ficheros y directorios.\n"
   ]
  },
  {
   "cell_type": "code",
   "execution_count": 2,
   "id": "2f4502e7",
   "metadata": {},
   "outputs": [],
   "source": [
    "cd"
   ]
  },
  {
   "cell_type": "code",
   "execution_count": 3,
   "id": "bf558662",
   "metadata": {},
   "outputs": [],
   "source": [
    "# Cambia al directorio \"nano\" que hay dentro de \"ficheros_ejemplo\"\n",
    "cd Downloads/ficheros_ejemplo/nano"
   ]
  },
  {
   "cell_type": "code",
   "execution_count": 4,
   "id": "1de6a4da",
   "metadata": {},
   "outputs": [
    {
     "name": "stdout",
     "output_type": "stream",
     "text": [
      "AUTHORS              configure.ac  \u001b[0m\u001b[01;34mm4\u001b[0m            README             THANKS\n",
      "\u001b[01;32mautogen.sh\u001b[0m           COPYING       Makefile.am   README.hacking     TODO\n",
      "ChangeLog            COPYING.DOC   \u001b[01;32mnano-regress\u001b[0m  \u001b[01;32mroll-a-release.sh\u001b[0m\n",
      "ChangeLog.1999-2006  \u001b[01;34mdoc\u001b[0m           NEWS          \u001b[01;34msrc\u001b[0m\n",
      "ChangeLog.2007-2015  IMPROVEMENTS  \u001b[01;34mpo\u001b[0m            \u001b[01;34msyntax\u001b[0m\n"
     ]
    }
   ],
   "source": [
    "# Haz un listado del directorio actual\n",
    "ls"
   ]
  },
  {
   "cell_type": "code",
   "execution_count": 5,
   "id": "bd9dca76",
   "metadata": {},
   "outputs": [
    {
     "name": "stdout",
     "output_type": "stream",
     "text": [
      "\u001b[0m\u001b[01;34mnano\u001b[0m  \u001b[01;34msample_files\u001b[0m\n"
     ]
    }
   ],
   "source": [
    "# Haz un listado del directorio padre\n",
    "ls .."
   ]
  },
  {
   "cell_type": "code",
   "execution_count": 6,
   "id": "509ef614",
   "metadata": {},
   "outputs": [],
   "source": [
    "# Cambia al directorio \"src\"\n",
    "cd src"
   ]
  },
  {
   "cell_type": "code",
   "execution_count": null,
   "id": "21a874fb",
   "metadata": {},
   "outputs": [
    {
     "name": "stdout",
     "output_type": "stream",
     "text": [
      "\u001b[?1049h\u001b[22;0;0t\u001b[?1h\u001b=\n",
      "          GNU nano -- a simple editor, inspired by Pico\n",
      "\n",
      "Purpose\n",
      "\n",
      "    Nano is a small and simple text editor for use on the terminal.\n",
      "    It copied the interface and key bindings of the Pico editor but\n",
      "    added several missing features: undo/redo, syntax highlighting,\n",
      "    line numbers, softwrapping, multiple buffers, selecting text by\n",
      "    holding Shift, search-and-replace with regular expressions, and\n",
      "    several other conveniences.\n",
      "\n",
      "Appearance\n",
      "\n",
      "    In rough ASCII graphics, this is what nano's screen looks like:\n",
      "\n",
      "   ____________________________________________________________________\n",
      "  |  GNU nano 7.2                  filename                  Modified  |\n",
      "   --------------------------------------------------------------------\n",
      "  | This is the text window, displaying the contents of a 'buffer',    |\n",
      "  | the contents of the file you are editing.                          |\n",
      "  |                                                                    |\n",
      "  | The top row of the screen is the 'title bar'; it shows nano's      |\n"
     ]
    }
   ],
   "source": [
    "# Muestra el contenido del fichero README dentro de \"nano\"\n",
    "# (comando \"less\")\n",
    "less ../README"
   ]
  },
  {
   "cell_type": "code",
   "execution_count": 7,
   "id": "eda39d97",
   "metadata": {},
   "outputs": [],
   "source": [
    "# Cambia al directorio padre\n",
    "cd ..\n"
   ]
  },
  {
   "cell_type": "code",
   "execution_count": 7,
   "id": "86d534f9",
   "metadata": {},
   "outputs": [
    {
     "name": "stdout",
     "output_type": "stream",
     "text": [
      "\n",
      "For a list of open bugs and requested features see:\n",
      "\n",
      "  https://savannah.gnu.org/bugs/?group=nano\n",
      "\n"
     ]
    }
   ],
   "source": [
    "# Muestra el contenido completo del fichero TODO dentro de \"nano\"\n",
    "# (comando \"cat\")\n",
    "cat TODO\n"
   ]
  },
  {
   "cell_type": "code",
   "execution_count": null,
   "id": "884df20d",
   "metadata": {},
   "outputs": [],
   "source": [
    "# Abre el fichero faq.html que hay en el subdirectorio \"doc\" con el navegador \"firefox\"\n",
    "firefox doc/faq.html"
   ]
  },
  {
   "cell_type": "code",
   "execution_count": 8,
   "id": "672c6ede",
   "metadata": {},
   "outputs": [],
   "source": [
    "# Ahora vamos a usar los ficheros de \"sample_files\"\n",
    "# Empieza cambiando al directorio \"sample_files\"\n",
    "cd ../sample_files"
   ]
  },
  {
   "cell_type": "code",
   "execution_count": 9,
   "id": "5d058752",
   "metadata": {},
   "outputs": [],
   "source": [
    "# Cambia al subdirectorio \"txt\" , situado en \"document\"\n",
    "cd document/txt"
   ]
  },
  {
   "cell_type": "code",
   "execution_count": 10,
   "id": "3fd4a484",
   "metadata": {},
   "outputs": [],
   "source": [
    "# Abre el fichero \"sample1.txt\" con el editor de textos \"gedit\". \n",
    "# Guarda una copia del mismo llamada \"copia_sample1.txt\" en el mismo directorio\n",
    "gedit sample1.txt"
   ]
  },
  {
   "cell_type": "code",
   "execution_count": 11,
   "id": "e82d5543",
   "metadata": {},
   "outputs": [
    {
     "name": "stdout",
     "output_type": "stream",
     "text": [
      "file-example_PDF_1MB.pdf     file-sample_150kB.pdf  sample2.pdf\n",
      "file-example_PDF_500_kB.pdf  sample1.pdf            sample3.pdf\n"
     ]
    }
   ],
   "source": [
    "# Muestra el contenido del directorio \"pdf\"\n",
    "ls ../pdf"
   ]
  },
  {
   "cell_type": "code",
   "execution_count": 12,
   "id": "80ee29db",
   "metadata": {},
   "outputs": [],
   "source": [
    "# Abre el fichero `file-example_PDF_500_kB.pdf` \n",
    "# (el programa lector de PDF en GNOME se llama \"evince\")\n",
    "evince ../pdf/file-example_PDF_500_kB.pdf"
   ]
  },
  {
   "cell_type": "code",
   "execution_count": 13,
   "id": "9267ed44",
   "metadata": {},
   "outputs": [
    {
     "name": "stdout",
     "output_type": "stream",
     "text": [
      "total 888\n",
      "-rw-rw-r-- 1 kiko kiko 140288 sep  7 09:08 file_example_XLS_1000.xls\n",
      "-rw-rw-r-- 1 kiko kiko  20480 sep  7 09:08 file_example_XLS_100.xls\n",
      "-rw-rw-r-- 1 kiko kiko   8704 sep  7 09:08 file_example_XLS_10.xls\n",
      "-rw-rw-r-- 1 kiko kiko 672256 sep  7 09:08 file_example_XLS_5000.xls\n",
      "-rw-rw-r-- 1 kiko kiko  13824 sep  7 09:08 file_example_XLS_50.xls\n",
      "-rw-rw-r-- 1 kiko kiko  16384 sep  7 09:08 sample1.xls\n",
      "-rw-rw-r-- 1 kiko kiko   7168 sep  7 09:08 sample2.xls\n",
      "-rw-rw-r-- 1 kiko kiko  13312 sep  7 09:08 sample3.xls\n"
     ]
    }
   ],
   "source": [
    "# Haz un listado largo del directorio \"xls\"\n",
    "ls -l ../xls"
   ]
  },
  {
   "cell_type": "code",
   "execution_count": 14,
   "id": "6a850f8c",
   "metadata": {},
   "outputs": [],
   "source": [
    "# Abre el fichero \"file_example_XLS_100.xls\" (programa \"libreoffice\")\n",
    "libreoffice ../xls/file_example_XLS_100.xls"
   ]
  },
  {
   "cell_type": "code",
   "execution_count": 15,
   "id": "3b453010",
   "metadata": {},
   "outputs": [],
   "source": [
    "# Cámbiate al directorio \"jpg\" situado en \"image\"\n",
    "cd ../../image/jpg"
   ]
  },
  {
   "cell_type": "code",
   "execution_count": 16,
   "id": "20470f20",
   "metadata": {},
   "outputs": [],
   "source": [
    "# Abre el fichero \"ocean_waves.jpg\" (el programa visor de imágenes de GNOME se llama \"eog\")\n",
    "eog ocean_waves.jpg"
   ]
  },
  {
   "cell_type": "code",
   "execution_count": 18,
   "id": "fab2c799",
   "metadata": {},
   "outputs": [
    {
     "name": "stdout",
     "output_type": "stream",
     "text": [
      "\u001b[0m\u001b[01;35manimal_pattern.png\u001b[0m              \u001b[01;35mface_mask.png\u001b[0m\n",
      "\u001b[01;35massorted_houses.png\u001b[0m             \u001b[01;35mgear_clock.png\u001b[0m\n",
      "\u001b[01;35mbaran_skull.png\u001b[0m                 \u001b[01;35miconic_london_landmark.png\u001b[0m\n",
      "\u001b[01;35mbarbeshop_item_silhouettes.png\u001b[0m  \u001b[01;35mkoi_fish.png\u001b[0m\n",
      "\u001b[01;35mbuldog_cartoon.png\u001b[0m              \u001b[01;35moil_towers.png\u001b[0m\n",
      "\u001b[01;35mburger.png\u001b[0m                      \u001b[01;35mpink_coffee_mug.png\u001b[0m\n",
      "\u001b[01;35mbutterflies_shaped_leaves.png\u001b[0m   \u001b[01;35mrose.png\u001b[0m\n",
      "\u001b[01;35mcherry_blossom_tree.png\u001b[0m         \u001b[01;35mstegosaurus.png\u001b[0m\n",
      "\u001b[01;35mcosmos_rocket_cartoon.png\u001b[0m       \u001b[01;35mvintage_bmw_car.png\u001b[0m\n",
      "\u001b[01;35mdigital_camera.png\u001b[0m              \u001b[01;35mwheat_silhouette.png\u001b[0m\n"
     ]
    }
   ],
   "source": [
    "# Haz un listado del directorio \"png\"\n",
    "ls ../png"
   ]
  },
  {
   "cell_type": "code",
   "execution_count": 19,
   "id": "a493d564",
   "metadata": {},
   "outputs": [
    {
     "name": "stdout",
     "output_type": "stream",
     "text": [
      "\u001b[0m\u001b[01;35mastronaut_flying_fantasy.mp4\u001b[0m  \u001b[01;35mkayak_surfing_ocean.mp4\u001b[0m\n",
      "\u001b[01;35mbirds_on_branch.mp4\u001b[0m           \u001b[01;35mmagnolia_flower_blossom.mp4\u001b[0m\n",
      "\u001b[01;35mcheetah_strolling.mp4\u001b[0m         \u001b[01;35mmorning_fog.mp4\u001b[0m\n",
      "\u001b[01;35mcherry_flower_blossom.mp4\u001b[0m     \u001b[01;35mmountain_sky.mp4\u001b[0m\n",
      "\u001b[01;35mcity_forest_rainbow.mp4\u001b[0m       \u001b[01;35mneon_subscribe_sign.mp4\u001b[0m\n",
      "\u001b[01;35mcliff_waterfall.mp4\u001b[0m           \u001b[01;35mplum_flower_blossom.mp4\u001b[0m\n",
      "\u001b[01;35mcoffee_beans.mp4\u001b[0m              \u001b[01;35mpuppy_running.mp4\u001b[0m\n",
      "\u001b[01;35mcouple_jogging.mp4\u001b[0m            \u001b[01;35mseoul_street_night_light.mp4\u001b[0m\n",
      "\u001b[01;35mdesert.mp4\u001b[0m                    \u001b[01;35mseoul_traffic_car.mp4\u001b[0m\n",
      "\u001b[01;35mdogs_playing.mp4\u001b[0m              \u001b[01;35mstary_sky.mp4\u001b[0m\n"
     ]
    }
   ],
   "source": [
    "# Haz un listado del directorio \"mp4\" situado dentro de \"videos\"\n",
    "ls ../../video/mp4"
   ]
  },
  {
   "cell_type": "code",
   "execution_count": 21,
   "id": "abdf4977",
   "metadata": {},
   "outputs": [
    {
     "name": "stdout",
     "output_type": "stream",
     "text": [
      "VLC media player 3.0.16 Vetinari (revision 3.0.13-8-g41878ff4f2)\n",
      "[\u001b[32;1m000055cdd92b4580\u001b[0m] main libvlc: \u001b[0;1mEjecutar vlc con la interfaz predeterminada. Use «cvlc» para usar vlc sin interfaz.\u001b[0m\n",
      "Warning: Ignoring XDG_SESSION_TYPE=wayland on Gnome. Use QT_QPA_PLATFORM=wayland to run on Wayland anyway.\n",
      "[\u001b[32;1m00007fa610001fc0\u001b[0m] gl gl: \u001b[0;1mInitialized libplacebo v4.192.1 (API v192)\u001b[0m\n",
      "libva info: VA-API version 1.14.0\n",
      "libva error: vaGetDriverNameByIndex() failed with unknown libva error, driver_name = (null)\n",
      "[\u001b[32;1m00007fa610001fc0\u001b[0m] glconv_vaapi_x11 gl error: \u001b[31;1mvaInitialize: unknown libva error\u001b[0m\n",
      "libva info: VA-API version 1.14.0\n",
      "libva info: Trying to open /usr/lib/x86_64-linux-gnu/dri/nouveau_drv_video.so\n",
      "libva info: Found init function __vaDriverInit_1_14\n",
      "libva info: va_openDriver() returns 0\n",
      "[\u001b[32;1m00007fa610001fc0\u001b[0m] glconv_vaapi_drm gl error: \u001b[31;1mvaDeriveImage: operation failed\u001b[0m\n",
      "[\u001b[32;1m00007fa57c048040\u001b[0m] main video output error: \u001b[31;1mvideo output creation failed\u001b[0m\n",
      "[\u001b[32;1m00007fa58cc33850\u001b[0m] main decoder error: \u001b[31;1mfailed to create video output\u001b[0m\n",
      "[\u001b[32;1m00007fa61002abe0\u001b[0m] gl gl: \u001b[0;1mInitialized libplacebo v4.192.1 (API v192)\u001b[0m\n",
      "Failed to open VDPAU backend libvdpau_nvidia.so: no se puede abrir el archivo del objeto compartido: No existe el archivo o el directorio\n",
      "[\u001b[32;1m00007fa61002abe0\u001b[0m] gl gl: \u001b[0;1mInitialized libplacebo v4.192.1 (API v192)\u001b[0m\n",
      "QObject::~QObject: Timers cannot be stopped from another thread\n"
     ]
    }
   ],
   "source": [
    "# Reproduce el vídeo \"astronaut_flying_fantasy.mp4\" con el programa \"vlc\"\n",
    "vlc ../../video/mp4/astronaut_flying_fantasy.mp4"
   ]
  },
  {
   "cell_type": "code",
   "execution_count": 23,
   "id": "9d95ab26",
   "metadata": {},
   "outputs": [],
   "source": [
    "# Vuelve al directorio \"ficheros_ejemplo\"\n",
    "cd ../../.."
   ]
  },
  {
   "cell_type": "code",
   "execution_count": 25,
   "id": "fd70a48b",
   "metadata": {},
   "outputs": [],
   "source": [
    "# Crea un directorio llamado pracFC (usando mkdir)\n",
    "mkdir pracFC"
   ]
  },
  {
   "cell_type": "code",
   "execution_count": 26,
   "id": "7f3d6aee",
   "metadata": {},
   "outputs": [],
   "source": [
    "# Cámbiate al directorio que acabas de crear\n",
    "cd pracFC"
   ]
  },
  {
   "cell_type": "code",
   "execution_count": 27,
   "id": "1f06438b",
   "metadata": {},
   "outputs": [],
   "source": [
    "# Crea en el directorio actual un fichero que se llame \"prueba.txt\" (comando touch)\n",
    "touch prueba.txt"
   ]
  },
  {
   "cell_type": "code",
   "execution_count": 28,
   "id": "a80bfd02",
   "metadata": {},
   "outputs": [],
   "source": [
    "# Abre el fichero \"prueba.txt\" con el programa \"gedit\", escribe “Mi primer fichero creado con touch” y guárdalo.\n",
    "gedit prueba.txt"
   ]
  },
  {
   "cell_type": "code",
   "execution_count": 30,
   "id": "218a2322",
   "metadata": {},
   "outputs": [],
   "source": [
    "# Vuelve a tu directorio personal con una ruta relativa.\n",
    "cd ../../.."
   ]
  },
  {
   "cell_type": "code",
   "execution_count": 31,
   "id": "8c27d28f",
   "metadata": {},
   "outputs": [
    {
     "name": "stdout",
     "output_type": "stream",
     "text": [
      "Mi primer fichero creado con touch\n"
     ]
    }
   ],
   "source": [
    "# Mediante el comando cat , muestra el contenido del \n",
    "# fichero \"prueba.txt\" que acabas de editar, utilizando un ruta relativa\n",
    "cat ./Downloads/ficheros_ejemplo/pracFC/prueba.txt"
   ]
  },
  {
   "cell_type": "code",
   "execution_count": 32,
   "id": "91950cd8",
   "metadata": {},
   "outputs": [
    {
     "name": "stdout",
     "output_type": "stream",
     "text": [
      "rmdir: fallo al borrar './Downloads/ficheros_ejemplo/pracFC': El directorio no está vacío\n"
     ]
    },
    {
     "ename": "",
     "evalue": "1",
     "output_type": "error",
     "traceback": []
    }
   ],
   "source": [
    "# Intenta borrar el directorio pracFC usando el comando rmdir. ¿Qué ocurre?\n",
    "rmdir ./Downloads/ficheros_ejemplo/pracFC"
   ]
  },
  {
   "cell_type": "code",
   "execution_count": 33,
   "id": "9079d478",
   "metadata": {},
   "outputs": [
    {
     "name": "stdout",
     "output_type": "stream",
     "text": [
      "rm: no se puede borrar './Downloads/ficheros_ejemplo/pracFC': Es un directorio\n"
     ]
    },
    {
     "ename": "",
     "evalue": "1",
     "output_type": "error",
     "traceback": []
    }
   ],
   "source": [
    "# Intenta borrar el directorio pracFC usando el comando \"rm\" sin argumentos.\n",
    "rm ./Downloads/ficheros_ejemplo/pracFC"
   ]
  },
  {
   "cell_type": "code",
   "execution_count": 34,
   "id": "7df8cabd",
   "metadata": {},
   "outputs": [],
   "source": [
    "# Utiliza el comando adecuado para hacer el borrado completo del directorio pracFC\n",
    "rm -r ./Downloads/ficheros_ejemplo/pracFC"
   ]
  },
  {
   "cell_type": "markdown",
   "id": "f931fce3",
   "metadata": {},
   "source": [
    "### Mi segundo *shell script*"
   ]
  },
  {
   "cell_type": "markdown",
   "id": "c756485e",
   "metadata": {},
   "source": [
    "Vamos a resumir los conceptos vistos en este boletín mediante un sencillo *shell script* con el que **ejemplificar las capacidades de automatización** que ofrece el *shell*. \n",
    "\n",
    "- Completa la parte inicial del *script* que se muestra en la siguiente celda, siguiendo las instrucciones que se proporcionan.\n",
    "- Cuando hayas completado la parte que falta, elimina el comando `exit` para probar el script dentro del notebook.\n",
    "- Finalmente, copia el texto íntegro a un fichero de texto `miscript.sh` y ejecútalo desde una terminal del shell con `bash miscript.sh`"
   ]
  },
  {
   "cell_type": "code",
   "execution_count": 36,
   "id": "de806e51",
   "metadata": {},
   "outputs": [
    {
     "name": "stdout",
     "output_type": "stream",
     "text": [
      "La lista de vídeos seleccionados es\n",
      "\u001b[0m\u001b[01;35mastronaut_flying_fantasy.mp4\u001b[0m  \u001b[01;35mastronaut_walking_fantasy.mkv\u001b[0m  \u001b[01;35mgas_lamp_flame.mov\u001b[0m\n",
      "Voy a reproducir los 2 primeros segundos de los vídeos seleccionados:\n",
      "astronaut_flying_fantasy.mp4 astronaut_walking_fantasy.mkv gas_lamp_flame.mov\n",
      "VLC media player 3.0.16 Vetinari (revision 3.0.13-8-g41878ff4f2)\n",
      "[\u001b[32;1m000055a71e749580\u001b[0m] main libvlc: \u001b[0;1mEjecutar vlc con la interfaz predeterminada. Use «cvlc» para usar vlc sin interfaz.\u001b[0m\n",
      "Warning: Ignoring XDG_SESSION_TYPE=wayland on Gnome. Use QT_QPA_PLATFORM=wayland to run on Wayland anyway.\n",
      "[\u001b[32;1m00007f914c0042b0\u001b[0m] gl gl: \u001b[0;1mInitialized libplacebo v4.192.1 (API v192)\u001b[0m\n",
      "libva info: VA-API version 1.14.0\n",
      "libva error: vaGetDriverNameByIndex() failed with unknown libva error, driver_name = (null)\n",
      "[\u001b[32;1m00007f914c0042b0\u001b[0m] glconv_vaapi_x11 gl error: \u001b[31;1mvaInitialize: unknown libva error\u001b[0m\n",
      "libva info: VA-API version 1.14.0\n",
      "libva info: Trying to open /usr/lib/x86_64-linux-gnu/dri/nouveau_drv_video.so\n",
      "libva info: Found init function __vaDriverInit_1_14\n",
      "libva info: va_openDriver() returns 0\n",
      "[\u001b[32;1m00007f914c0042b0\u001b[0m] glconv_vaapi_drm gl error: \u001b[31;1mvaDeriveImage: operation failed\u001b[0m\n",
      "[\u001b[32;1m00007f9150048040\u001b[0m] main video output error: \u001b[31;1mvideo output creation failed\u001b[0m\n",
      "[\u001b[32;1m00007f9160c33eb0\u001b[0m] main decoder error: \u001b[31;1mfailed to create video output\u001b[0m\n",
      "[\u001b[32;1m00007f914c84d3c0\u001b[0m] gl gl: \u001b[0;1mInitialized libplacebo v4.192.1 (API v192)\u001b[0m\n",
      "Failed to open VDPAU backend libvdpau_nvidia.so: no se puede abrir el archivo del objeto compartido: No existe el archivo o el directorio\n",
      "[\u001b[32;1m00007f914c84d3c0\u001b[0m] gl gl: \u001b[0;1mInitialized libplacebo v4.192.1 (API v192)\u001b[0m\n",
      "QObject::~QObject: Timers cannot be stopped from another thread\n",
      "Ahora voy a mostrar un slide-show con las imágenes seleccionadas:\n"
     ]
    }
   ],
   "source": [
    "#!/bin/bash\n",
    "\n",
    "# Sitúate en tu directorio personal\n",
    "cd\n",
    "\n",
    "# Crea un directorio llamado \"seleccion-videos\" \n",
    "\n",
    "\n",
    "# Sin moverte de directorio, copia al directorio \"seleccion-videos\" el fichero de ejemplo \"astronaut_flying_fantasy.mp4\"\n",
    "\n",
    "\n",
    "# Cambia al directorio seleccion-videos\n",
    "\n",
    "\n",
    "# Copia al directorio actual el fichero de ejemplo \"astronaut_walking_fantasy.mkv\"\n",
    "\n",
    "\n",
    "# Cambia al directorio \"video\" que hay en \"sample_files\"\n",
    "\n",
    "\n",
    "# Copia al directorio \"seleccion-videos\" el fichero de ejemplo \"gas_lamp_flame\"\n",
    "\n",
    "\n",
    "# Cambia al directorio \"images\"\n",
    "\n",
    "\n",
    "# Sin moverte de directorio, crea un directorio llamado \"seleccion-imagenes\" en tu directorio personal\n",
    "\n",
    "# Copia al directorio que acabas de crear el fichero \"highway_long_exposure.tiff\"\n",
    "\n",
    "\n",
    "# Cambia al directorio \"png\"\n",
    "\n",
    "\n",
    "# Copia el fichero \"digital_camera.png\" al directorio \"seleccion-imagenes\" \n",
    "\n",
    "\n",
    "# Sin moverte de directorio, copia el fichero \"waterfall_long_exposure.jpg\" al directorio \"seleccion-imagenes\"\n",
    "\n",
    "\n",
    "#### Borra esta línea cuando hayas terminado los ejercicios anteriores para probar el script\n",
    "\n",
    "################# NO MODIFICAR A PARTIR DE AQUÍ #################\n",
    "\n",
    "echo \"La lista de vídeos seleccionados es\"\n",
    "ls seleccion-videos\n",
    "\n",
    "echo \"Voy a reproducir los 2 primeros segundos de los vídeos seleccionados:\"\n",
    "cd seleccion-videos\n",
    "VIDEOS=`ls` # VIDEOS es una variable del shell que guarda la salida del comando\n",
    "echo $VIDEOS\n",
    "\n",
    "# Al añadir vlc://quit a la lista de ficheros a reproducir hacermos que el reproductor se cierre al terminar\n",
    "vlc $VIDEOS --stop-time 2 vlc://quit\n",
    "\n",
    "echo \"Ahora voy a mostrar un slide-show con las imágenes seleccionadas:\"\n",
    "cd ~/seleccion-imagenes\n",
    "eog --slide-show *\n",
    "cd\n",
    "\n",
    "rm -r seleccion-videos\n",
    "rm -r seleccion-imagenes\n"
   ]
  },
  {
   "cell_type": "code",
   "execution_count": null,
   "id": "ee383810",
   "metadata": {},
   "outputs": [],
   "source": []
  }
 ],
 "metadata": {
  "kernelspec": {
   "display_name": "Bash",
   "language": "bash",
   "name": "bash"
  },
  "language_info": {
   "codemirror_mode": "shell",
   "file_extension": ".sh",
   "mimetype": "text/x-sh",
   "name": "bash"
  },
  "toc": {
   "base_numbering": 1,
   "nav_menu": {},
   "number_sections": true,
   "sideBar": true,
   "skip_h1_title": false,
   "title_cell": "Table of Contents",
   "title_sidebar": "Contents",
   "toc_cell": false,
   "toc_position": {},
   "toc_section_display": true,
   "toc_window_display": false
  }
 },
 "nbformat": 4,
 "nbformat_minor": 5
}
