{
 "cells": [
  {
   "cell_type": "markdown",
   "id": "8e983960",
   "metadata": {},
   "source": [
    "# Las prácticas de Fundamentos de Computadores.\n",
    "\n",
    "**Grado en Ciencia e Ingeniería de Datos**\n",
    "\n",
    "Universidad de Murcia - Universidad Politécnica de Cartagena"
   ]
  },
  {
   "cell_type": "markdown",
   "id": "289d8a7e",
   "metadata": {},
   "source": [
    "## Contenidos de las prácticas\n",
    "\n",
    "**1. Introducción al shell del Linux. Bash.**\n",
    "- En esta práctica los alumnos se introducirán por primera vez en el shell de Linux, aprendiendo conceptos fundamentales y comandos básicos.\n",
    "\n",
    "**2. Control de versiones con Git.**\n",
    "- En esta práctica se introducirá a los alumnos en la gestión de versiones mediante la herramienta git, y su flujo de trabajo básico. Se pretende dotar a los alumnos de la destreza minima para poder mantener un repositorio personal a modo de bitácora, en el que cada uno pueda llevar un registro de su trabajo autónomo en la parte práctica. \n",
    "\n",
    "**3. Decodificación de ficheros con Okteta. Representación de enteros y reales.**\n",
    "- En esta práctica se pretende conseguir que el alumno se familiarice con los sistemas de codificación más usuales para representar datos en un ordenador. Haciendo uso de la herramienta de Linux denominada Okteta, el alumno podrá examinar y modificar la codificación de distintos tipos de datos (enteros con y sin signo, reales, caracteres, imágenes, etc.) y experimentar con ciertos conceptos básicos como el direccionamiento o desplazamiento dentro de un fichero. Todo ello servirá para reforzar los conceptos relacionados que se imparten durante las respectivas clases teóricas.\n",
    "\n",
    "**4. Manejo del sistema de ficheros en el shell de Linux.**\n",
    "- En esta práctica se persigue familiarizar a los alumnos con el uso básico de los comandos del shell Linux relacionados con el manejo del sistema de ficheros y las búsquedas. También se introducirán los aspectos básicos sobre las variables de entorno más destacables (PATH, HOME, etc.), el uso de comodines, rutas absolutas y relativas, uso del tabulador y búsqueda en el historial de órdenes. \n",
    "\n",
    "**5. Procesos en el shell de Linux. Redirección, tuberías y filtros.**\n",
    " - En esta práctica se continuará profundizando en el uso del shell de Linux, esta vez con énfasis en el lanzamiento de procesos, su gestión y monitorización, los conceptos de entrada y salida estándar y de error de un proceso y las posibilidades de redirección de las mismas. Posteriormente, los alumnos aprenderán a formar secuencias de comandos entubados sencillas mediante las que establecer comunicación entre diferentes procesos con el fin de llevar a cabo tareas de búsqueda/procesamiento de información progresivamente más complejas mediante comandos del shell.\n",
    "\n",
    "**6. Compilación y depuración de programas. Bibliotecas.**\n",
    "- Esta práctica está dedicada al estudio del proceso de generación de un programa ejecutable a partir de un programa especificado en un lenguaje de alto nivel. Se emplearán herramientas de compilación y depuración de programas nativas de Linux (gcc, gdb, binutils, etc.) para mostrar los aspectos básicos tanto de los lenguajes del computador y la jerarquía de traducción, como de la arquitectura del procesador y del uso de las bibliotecas y las llamadas al sistema."
   ]
  },
  {
   "cell_type": "markdown",
   "id": "905097d0",
   "metadata": {},
   "source": [
    "## Evaluación de las prácticas\n",
    "\n",
    "Las prácticas tienen un peso del 50% en la nota global de la asignatura, y es necesario aprobar la parte práctica de poder hacer media con la nota de la parte de teoría.\n",
    "\n",
    "### Evaluación continua: repositorio Git a modo de bitácora \n",
    "\n",
    "Durante el trascurso del cuatrimestre, los estudiantes van a utilizar un **repositorio Git** en el que llevar un registro periódico de su trabajo tanto en las sesiones presenciales del laboratorio de prácticas (seguimiento de los ejemplos de los boletines, etc.) como de forma autónoma (resolución de los ejercicios propuestos), con el fin de permitir al profesor supervisar el grado de seguimiento y consecución de los objetivos de aprendizaje.Este repositorio Git funcionará, por tanto, como una bitácora de todas las prácticas que los alumnos también podrán consultar en cualquier momento para repasar los ejercicios realizados.\n",
    "\n",
    "En la práctica 2, los alumnos aprenderán los fundamentos del uso de Git, que les permitirá crear y utilizar sus repositorio-bitácora en cada sesión de prácticas a lo largo de la asignatura.\n",
    "\n",
    "En la evaluación de la bitácora del alumno se tendrá en cuenta tanto la **periodicidad** (frecuencia) con que los alumnos contribuyen a su repositorio como el **contenido** de las contribuciones en sí (corrección de las soluciones a los ejercicios). Igualmente, la **organización** adecuada del contenido registrado en la bitácora resulta imprescidible para que el alumno pueda alcanzar la puntuación asignada a esta\n",
    "herramienta de evaluación continua.\n",
    "\n",
    "- **Frecuencia** de los *commits*:\n",
    "Dado que se trata de una herramienta de evaluación continua, es imprescindible que las contribuciones a la bitácora se realicen en los plazos marcados.\n",
    "    * Por un lado, para demostrar el seguimiento de las sesiones de prácticas, los alumnos deben realizar un *commit* al repositorio **al finalizar cada sesión de laboratorio**.\n",
    "    * Por otro lado, con respecto a los ejercicios propuestos en cada sesión, con carácter general se establece un **plazo máximo de dos semanas** a partir de la sesión de laboratorio correspondiente, atendiendo a lo dispuesto en la planificación de la asignatura para cada subgrupo.\n",
    "\n",
    "- **Contenido**: \n",
    "Se valorará la corrección de las respuestas a los ejercicios y preguntas formuladas en los boletines. En cuanto al número de sesiones de laboratorio y ejercicios registrados, es necesario realizar como mínimo el 80 % de los ejercicios propuestos para que la bitácora se considere apta.\n",
    "\n",
    "- **Organización**:\n",
    "Es fundamental seguir las siguientes instrucciones a la hora de estructurar el contenido del repositorio, tal y como se describirá en los ejercicios propuestos. La bitácora debe tener un directorio por cada sesión de prácticas, dentro del cual se ubicarán los ficheros relevantes, opcinalmente organizados en subdirectorios a discreción de los alumnos. Se deberá incluir para cada práctica tanto el *Jupyter notebook* empleado en cada sesión de laboratorio, como los ficheros con las soluciones a los ejercicios planteados u otros que el alumno considere relevante.\n",
    "\n",
    "\n",
    "### Examen final práctico (Ponderación: 80%)\n",
    "\n",
    "Se trata de un examen individual delante del ordenador, en el que cada alumno tendrá que resolver diversos ejercicios similares a los planteados en los boletines de prácticas.\n"
   ]
  },
  {
   "cell_type": "markdown",
   "id": "01b0058e",
   "metadata": {},
   "source": [
    "## Un poco de historia\n",
    "\n",
    "### ¿Qué es un *shell*? \n",
    "\n",
    "Un *shell* es un programa que actúa como interfaz, basada en órdenes o comandos, entre el usuario y el núcleo de un sistema operativo. A diferencia de las interfaces de usuario gráficas (GUI, *graphical user interface*), el shell ofrece una interfaz exclusivamente textual a menudo denominada *interfaz de línea de órdenes* o CLI (*command line interface*), la cual permite a los usuarios interactuar con el sistema operativo escribiendo comandos mediante el teclado y recibiendo respuestas a través de la pantalla. \n",
    "\n",
    "El término \"shell\" es por tanto genérico, y se refiere a cualquier interfaz de línea de comandos que permite interactuar con un sistema operativo. Existen muchos tipos de shells, como sh (Bourne Shell), bash (Bourne Again Shell), dash (Debian Almquist Shell), csh (C Shell), zsh (Z Shell), entre otros. Cada uno tiene sus propias características y sintaxis, pero todos funcionan como interfaces de línea de comandos para interactuar con el sistema operativo.\n",
    "\n",
    "### ¿Por qué se llama también *terminal* o *consola*?  \n",
    "\n",
    "El término \"terminal\" se utiliza a menudo para referirse a la interfaz de línea de comandos del shell debido a la historia y la evolución de las computadoras y los sistemas operativos. En los primeros días de la informática, las computadoras no tenían pantallas ni monitores como los conocemos hoy en día. En cambio, se conectaban a través de máquinas de escritura telegráfica o terminales de impresión. Estos dispositivos se utilizaban para enviar comandos y recibir resultados de la computadora. Con el tiempo, a medida que las computadoras evolucionaron, la forma en que se interactuaba con ellas a través de estas terminales se convirtió en el antecedente de las interfaces de línea de comandos. Se desarrollaron interfaces de texto que permitían a los usuarios ingresar comandos y recibir resultados en la pantalla de una computadora en lugar de en papel. A pesar de este cambio, el término \"terminal\" se mantuvo, ya que la interacción de línea de comandos continuaba siendo la forma principal de comunicarse con la computadora.\n",
    "\n",
    "A menudo, la interfaz de línea de comandos se conoce como también \"consola de comandos\" o simplemente \"consola\". Esto refleja la idea de que el usuario está interactuando con la computadora a través de comandos de texto.\n",
    "\n",
    "### ¿Qué es *Bash*?\n",
    "\n",
    "Bash es un tipo específico de shell que se basa en el Bourne Shell original (sh) pero incluye mejoras significativas. Es uno de los shells más comunes y populares en sistemas Unix y tipo-Unix, como Linux. Bash es ampliamente utilizado y es la elección predeterminada en muchas distribuciones de Linux debido a su versatilidad y potencia."
   ]
  },
  {
   "cell_type": "markdown",
   "id": "e7f702d8",
   "metadata": {},
   "source": [
    "## Aprender Bash usando *Jupyter notebooks* \n",
    "\n",
    "Un notebook de Jupyter (como este en el que te encuetras) es un documento interactivo que combina elementos de código, texto descriptivo, imágenes y otros elementos multimedia en un único entorno. Los *notebooks* se utilizan principalmente para la programación interactiva, la exploración de datos, la visualización y la documentación técnica.\n",
    "\n",
    "Un notebook de Jupyter está compuesto por **celdas**; cada celda puede contener código, texto, imágenes o fórmulas matemáticas. Hay dos tipos principales de celdas:\n",
    "\n",
    "   - **Celdas de código:** Contienen código que puede ejecutarse en tiempo real utilizando un kernel específico (como Python, R, etc.). El resultado de la ejecución del código se muestra en la celda, lo que facilita la visualización de resultados intermedios y la experimentación.\n",
    "       - El **kernel** de un *notebook* es un programa que actúa como intermediario entre el entorno de Jupyter y el lenguaje de programación específico en el que se escribe el código en las celdas del notebook; podemos pensar en el kernel como el *motor* que ejecuta el código en las celdas de código. Por lo general, cada notebook utilizará  un kernel específico que determina el lenguaje de programación que se utilizará para ejecutar las celdas de código en ese notebook. Por defecto, los notebooks utilizan un kernel de Python 3 (ipykernel), pero es posible añadir nuevos kernels y seleccionar el kernel a usar desde el menú `Kernel`.\n",
    "\n",
    "   - **Celdas de Markdown:** Contienen texto en formato Markdown, que permite la creación de documentación enriquecida con formato, como encabezados, listas, enlaces, imágenes y ecuaciones matemáticas. Las celdas Markdown se utilizan para proporcionar explicaciones, instrucciones y contextos dentro del notebook.\n",
    "\n",
    "Los notebooks de Jupyter se ejecutan en una interfaz de usuario basada en web que te permite crear, editar, ejecutar y gestionar celdas. Esta interfaz de usuario se puede acceder desde un **navegador web** y proporciona una experiencia interactiva para trabajar con código y texto.\n",
    "\n",
    "### Ejecutando comandos del *shell* en Jupyter Notebook\n",
    "\n",
    "Jupyter Notebook es compatible con el lenguaje de shell *Bash*. Así, puedes ejecutar comandos del shell directamente en una celda de un *notebook* de Python utilizando el prefijo `!` antes de tu comando: `!ls`. Después de escribir el comando en la celda, puedes ejecutarlo haciendo clic en el botón \"Ejecutar\" (*Run*) en la barra de herramientas o usando el atajo de teclado Shift + Enter.\n",
    "\n",
    "La salida del comando Bash se mostrará debajo de la celda: "
   ]
  },
  {
   "cell_type": "code",
   "execution_count": null,
   "id": "3ccc1f63",
   "metadata": {},
   "outputs": [],
   "source": [
    "# El comando \"echo\" simplemente imprime (repite) el mensaje por pantalla\n",
    "!echo \"Hola\""
   ]
  },
  {
   "cell_type": "markdown",
   "id": "6742430c",
   "metadata": {},
   "source": [
    "**IMPORTANTE**: Ten en cuenta que Jupyter Notebook ejecutará los comandos Bash en el entorno en el que se está ejecutando, lo que significa que **tendrás pleno acceso a los archivos y recursos del sistema** en el que se está ejecutando Jupyter. Asegúrate de tener cuidado al ejecutar comandos Bash en Jupyter Notebook, especialmente si están relacionados con la manipulación de archivos o configuraciones del sistema, ya que podrían afectar el entorno en el que estás trabajando (por ejemplo, podrías borrar ficheros importantes accidentalmente)."
   ]
  },
  {
   "cell_type": "markdown",
   "id": "c3c1250e",
   "metadata": {},
   "source": [
    "### El kernel de Bash\n",
    "\n",
    "Los comandos de Bash están diseñados para ser ejecutados desde un terminal Linux. Sin embargo, hay varias maneras diferentes en que la mayor parte de esta funcionalidad se puede lograr desde un Jupyter notebook, con la consiguiente ventaja de las capacidades de documentación incorporadas. De esa forma, los *notebooks* que utilizaremos en las prácticas de la asignatura contendrán celdas de Markdown a modo de explicación, intercaladas con celdas de código en la que probar los comandos interactivamente.\n",
    "\n",
    "Para facilitar el uso de comandos de Bash en los notebooks de Jupyter, existe un kernel específico que permite ejecutar directamente los comandos en las celdas de código, evitando así la necesidad de utilizar las extensiones mágicas del kernel IPython (como `!`)."
   ]
  },
  {
   "cell_type": "markdown",
   "id": "e393b2ed",
   "metadata": {},
   "source": [
    "#### Instalación del kernel de Bash para Jupyter Notebook"
   ]
  },
  {
   "cell_type": "code",
   "execution_count": null,
   "id": "2437c84e",
   "metadata": {},
   "outputs": [],
   "source": [
    "!pip install bash_kernel && python3 -m bash_kernel.install"
   ]
  },
  {
   "cell_type": "code",
   "execution_count": null,
   "id": "c4ca8848",
   "metadata": {},
   "outputs": [],
   "source": [
    "!python3 -m pip install --upgrade pip"
   ]
  }
 ],
 "metadata": {
  "kernelspec": {
   "display_name": "Python 3 (ipykernel)",
   "language": "python",
   "name": "python3"
  },
  "language_info": {
   "codemirror_mode": {
    "name": "ipython",
    "version": 3
   },
   "file_extension": ".py",
   "mimetype": "text/x-python",
   "name": "python",
   "nbconvert_exporter": "python",
   "pygments_lexer": "ipython3",
   "version": "3.10.12"
  },
  "toc": {
   "base_numbering": 1,
   "nav_menu": {},
   "number_sections": true,
   "sideBar": true,
   "skip_h1_title": false,
   "title_cell": "Table of Contents",
   "title_sidebar": "Contents",
   "toc_cell": false,
   "toc_position": {},
   "toc_section_display": true,
   "toc_window_display": false
  }
 },
 "nbformat": 4,
 "nbformat_minor": 5
}
