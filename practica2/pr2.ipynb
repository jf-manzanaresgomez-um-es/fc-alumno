{
 "cells": [
  {
   "cell_type": "markdown",
   "id": "7673defa",
   "metadata": {},
   "source": [
    "# Práctica 2a: Control de versiones con Git"
   ]
  },
  {
   "cell_type": "markdown",
   "id": "e20da562",
   "metadata": {},
   "source": [
    "Un sistema de control de versiones (VCS, por sus siglas en inglés) es una herramienta software que se utiliza para rastrear y gestionar cambios en archivos y proyectos de software a lo largo del tiempo. Su principal función es mantener un historial de modificaciones, permitiendo a los desarrolladores colaborar de manera eficiente, revertir a versiones anteriores y realizar un seguimiento de quién hizo qué cambios.\n",
    "\n",
    "Un VCS es esencial en el desarrollo de software para mantener un registro ordenado de las diferentes versiones y facilitar la colaboración en equipos de trabajo. En este boletín de prácticas, aprenderemos a usar el VCS más ampliamente utilizado en la actualidad: [Git](https://git-scm.com/).\n",
    "\n",
    "## Introducción a Git\n",
    "\n",
    "Git es un sistema de control de versiones creado en 2005 por Linus Torvalds (el mismo desarrollador que creó el kernel de Linux). Git tiene varias ventajas que lo hacen destacar entre otros VCS, tales como su velocidad, eficiencia, flexibilidad y capacidad de colaboración. Fruto de dichas fortalezas, en la última década Git ha sido ampliamente adoptado por la gran mayoría de desarrolladores hasta convertirse hoy en día en el VCS estándar *de facto* en la industria.\n",
    "\n",
    "### ¿Para qué Sirve Git?\n",
    "\n",
    "Git se utiliza para rastrear y gestionar cambios en proyectos de desarrollo de software a lo largo del tiempo. Sus principales funciones incluyen:\n",
    "\n",
    "1. **Control de versiones**: Registra todas las modificaciones realizadas en los archivos de un proyecto, lo que permite mantener un historial completo de cambios.\n",
    "\n",
    "2. **Colaboración**: Facilita la colaboración en proyectos de software, permitiendo que varios desarrolladores trabajen en el mismo proyecto de manera simultánea.\n",
    "\n",
    "3. **Gestión de ramas**: Permite crear ramas separadas para trabajar en nuevas características o solucionar problemas sin afectar la rama principal del proyecto.\n",
    "\n",
    "4. **Reversión**: Facilita la reversión a versiones anteriores del proyecto en caso de errores o problemas.\n",
    "\n",
    "5. **Seguimiento de cambios**: Ayuda a identificar cuándo y por quién se realizaron ciertos cambios en el código.\n"
   ]
  },
  {
   "cell_type": "markdown",
   "id": "470d2c67",
   "metadata": {},
   "source": [
    "### Por qué aprender *git* en Ciencia de Datos\n",
    "\n",
    "Saber cómo utilizar un VCS como Git es importante en un grado en Ciencia de Datos por varias razones:\n",
    "\n",
    "1. **Colaboración en equipos**: Es común trabajar en equipos interdisciplinarios donde múltiples personas contribuyen al mismo proyecto software. Un VCS facilita la colaboración al permitir a los miembros del equipo rastrear los cambios, fusionar contribuciones y mantener un historial de versiones. Esto ayuda a evitar conflictos y a mantener un flujo de trabajo ordenado.\n",
    "\n",
    "2. **Reproducibilidad**: La Ciencia de Datos se basa en la reproducibilidad de los resultados. Un VCS registra todas las modificaciones realizadas en un proyecto, lo que permite a otros científicos de datos replicar exactamente lo que se hizo en un análisis o experimento. Esto es fundamental para la verificación y validación de resultados.\n",
    "\n",
    "3. **Gestión de Experimentos**: En Ciencia de Datos, a menudo se realizan múltiples experimentos con diferentes configuraciones y modelos. Un VCS ayuda a organizar y etiquetar estos experimentos, lo que facilita el seguimiento de los resultados y la comparación entre ellos.\n",
    "\n",
    "4. **Gestión de Datos**: Los datos son un activo crítico en la Ciencia de Datos. Un VCS no solo se utiliza para el código, sino también para rastrear y gestionar cambios en conjuntos de datos. Esto asegura que se conserve un registro de la evolución de los datos y cómo se han procesado.\n",
    "\n",
    "5. **Errores y Debugging**: Cuando se presentan errores en el código o en los análisis, un VCS permite retroceder en el tiempo para identificar cuándo y cómo se introdujo un problema. Esto agiliza el proceso de depuración.\n",
    "\n",
    "6. **Seguridad**: Un VCS actúa como una copia de seguridad automática. Si se comete un error grave o se pierden datos, es posible volver a versiones anteriores para recuperar la información.\n",
    "\n",
    "7. **Documentación Automática**: A menudo, los comentarios en los commits de Git sirven como una forma de documentación de alto nivel sobre los cambios realizados en un proyecto. Esto ayuda a comprender por qué se hicieron ciertas modificaciones.\n",
    "\n",
    "8. **Flexibilidad**: Los sistemas de control de versiones, como Git, ofrecen flexibilidad para trabajar en diferentes ramas (branches) y experimentar sin afectar la versión principal del proyecto.\n"
   ]
  },
  {
   "cell_type": "markdown",
   "id": "b70d028f",
   "metadata": {},
   "source": [
    "## Instalación y configuración de Git\n",
    "\n",
    "### Instalación en Linux y MacOS\n",
    "\n",
    "Instalación de `git` en Linux (Ubuntu):\n",
    "\n",
    "```bash\n",
    "$ sudo apt-get -y install git\n",
    "```\n",
    "\n",
    "En MacOS `git` está instalado por defecto.\n",
    "\n",
    "Para comprobar que `git` está instalado:\n",
    "\n",
    "```bash\n",
    "$ git version\n",
    "git version 2.34.1\n",
    "```"
   ]
  },
  {
   "cell_type": "markdown",
   "id": "440968e1",
   "metadata": {},
   "source": [
    "#### <span style=\"color: blue;\">EJERCICIO</span>\n",
    "\n",
    "Comprueba que Git está instalado mostrando su versión, dónde está instalado y el fichero ejecutable que contiene dicho programa.\n"
   ]
  },
  {
   "cell_type": "code",
   "execution_count": 1,
   "id": "7d7a7766",
   "metadata": {},
   "outputs": [
    {
     "name": "stdout",
     "output_type": "stream",
     "text": [
      "git version 2.34.1\n"
     ]
    }
   ],
   "source": [
    "git version\n",
    "# Si lo está, muestra su ayuda sobre su uso (opción help)\n"
   ]
  },
  {
   "cell_type": "code",
   "execution_count": 3,
   "id": "e7a2054a",
   "metadata": {},
   "outputs": [
    {
     "name": "stdout",
     "output_type": "stream",
     "text": [
      "git: /usr/bin/git /usr/share/man/man1/git.1.gz\n"
     ]
    }
   ],
   "source": [
    "# Usar el comando `whereis` para mostrar la ubicación donde \n",
    "# está instalado el programa git\n",
    "whereis git"
   ]
  },
  {
   "cell_type": "code",
   "execution_count": null,
   "id": "b56b8a8c",
   "metadata": {},
   "outputs": [
    {
     "name": "stdout",
     "output_type": "stream",
     "text": [
      "'\\\" t49h\u001b[22;0;0t\u001b[?1h\u001b=\n",
      ".\\\"     Title: git\n",
      ".\\\"    Author: [see the \"Authors\" section]\n",
      ".\\\" Generator: DocBook XSL Stylesheets vsnapshot <http://docbook.sf.net/>\n",
      ".\\\"      Date: 04/26/2023\n",
      ".\\\"    Manual: Git Manual\n",
      ".\\\"    Source: Git 2.34.1\n",
      ".\\\"  Language: English\n",
      ".\\\"\n",
      ".TH \"GIT\" \"1\" \"04/26/2023\" \"Git 2\\&.34\\&.1\" \"Git Manual\"\n",
      ".\\\" -----------------------------------------------------------------\n",
      ".\\\" * Define some portability stuff\n",
      ".\\\" -----------------------------------------------------------------\n",
      ".\\\" ~~~~~~~~~~~~~~~~~~~~~~~~~~~~~~~~~~~~~~~~~~~~~~~~~~~~~~~~~~~~~~~~~\n",
      ".\\\" http://bugs.debian.org/507673\n",
      ".\\\" http://lists.gnu.org/archive/html/groff/2009-02/msg00013.html\n",
      ".\\\" ~~~~~~~~~~~~~~~~~~~~~~~~~~~~~~~~~~~~~~~~~~~~~~~~~~~~~~~~~~~~~~~~~\n",
      ".ie \\n(.g .ds Aq \\(aq\n",
      ".el       .ds Aq '\n",
      ".\\\" -----------------------------------------------------------------\n",
      ".\\\" * set default formatting\n",
      ".\\\" -----------------------------------------------------------------\n",
      ".\\\" disable hyphenation\n"
     ]
    }
   ],
   "source": [
    "# Haz un listado detallado del fichero que contiene el \n",
    "# programa ejecutable Git, para ver su tamaño, permisos, etc.\n",
    "less /usr/share/man/man1/git.1.gz\n"
   ]
  },
  {
   "cell_type": "markdown",
   "id": "35041aa2",
   "metadata": {},
   "source": [
    "### Configuración\n",
    "\n",
    "Antes de comenzar a usar Git, debemos llevar a cabo una mínima configuración: necesitamos indicar al menos nuestro nombre y correo electrónico, de forma que en los *commits* que hagamos a nuestro repositorio quede reflejada la identidad de quien lo hizo.\n",
    "\n",
    "Git se puede configurar de diferentes formas, dependiendo de que si queremos establecer la misma configuración para todos nuestros repositorios del usuario en esa máquina, o bien tener una configuración distinta para cada repositorio.  En nuestro caso, asumiremos que la configuración es la misma para todos los repositorios del usuario:\n",
    "\n",
    "**NOTA**: Usa tu nombre y apellido(s), y tu dirección de correo electrónico de la UMU.\n",
    "```bash\n",
    "$ git config --global user.name \"Nombre Apellido1 [Apellido2]\"\n",
    "$ git config --global user.email \"alumno@um.es\"\n",
    "```\n",
    "\n",
    "La configuración global (para todos los repositorios del usuario) se almacena en el directorio personal, en el archivo `$HOME/.gitconfig`:\n",
    "\n",
    "```bash\n",
    "$ cat $HOME/.gitconfig\n",
    "[user]\n",
    "    name = Nombre Apellido1 [Apellido2]\n",
    "    email = alumno@um.es\n",
    "...\n",
    "```\n",
    "\n",
    "La configuración global actual se puede consultar con `git config --list --global`. \n",
    "\n",
    "Ejecuta las siguientes celdas para establecer otras opciones de configuración que nos facilitarán trabajar con Git desde un *notebook*."
   ]
  },
  {
   "cell_type": "code",
   "execution_count": null,
   "id": "81dc9fb3",
   "metadata": {},
   "outputs": [],
   "source": [
    "# Establece gedit como editor por defecto\n",
    "# (facilita trabajar con git desde un notebook)\n",
    "git config --global core.editor \"gedit\""
   ]
  },
  {
   "cell_type": "code",
   "execution_count": null,
   "id": "63a7c48a",
   "metadata": {},
   "outputs": [],
   "source": [
    "# Establece el nombre de la rama por defecto a \"main\"\n",
    "# (tradicionalmente se llamaba \"master\")\n",
    "git config --global init.defaultBranch main"
   ]
  },
  {
   "cell_type": "markdown",
   "id": "249117be",
   "metadata": {},
   "source": [
    "<font size=\"5\">  \n",
    "    <span style=\"color: red;\">ADVERTENCIA:</span>\n",
    "</font>  \n",
    "\n",
    "\n",
    "Si estás utilizando un PC con una cuenta de usuario compartida (p.ej., la cuenta `alumno` en un PC del laboratorio de prácticas), **al comienzo de cada sesión de prácticas debes asegurarte de configurar correctamente tu identidad** (nombre y email) antes de empezar a trabajar con los repositorios de Git (p.ej., tu bitácora de prácticas), para evitar hacer contribuciones a tus repositorios con la identidad errónea."
   ]
  },
  {
   "cell_type": "markdown",
   "id": "25f3c14d",
   "metadata": {},
   "source": [
    "#### <span style=\"color: blue;\">EJERCICIO</span>\n",
    "\n",
    "Muestra la configuración de Git, modifícala adecuadamente y observa el fichero donde se almacena."
   ]
  },
  {
   "cell_type": "code",
   "execution_count": null,
   "id": "fd81f067",
   "metadata": {},
   "outputs": [],
   "source": [
    "# Muestra la configuración global\n",
    "cat $HOME/.gitconfig"
   ]
  },
  {
   "cell_type": "code",
   "execution_count": null,
   "id": "090a6597",
   "metadata": {},
   "outputs": [],
   "source": [
    "# Establece la configuración global con tu nombre y email  \n",
    "#ya lo tengo de antes"
   ]
  },
  {
   "cell_type": "code",
   "execution_count": 2,
   "id": "8c3526bb",
   "metadata": {},
   "outputs": [
    {
     "name": "stdout",
     "output_type": "stream",
     "text": [
      "user.email=jf_manzanaresgomez@um_es\n",
      "user.name=Juan Fco Manzanares\n"
     ]
    }
   ],
   "source": [
    "# Muestra el contenido del fichero de configuración global de git\n",
    "git config --list --global"
   ]
  },
  {
   "attachments": {
    "snapshots.png": {
     "image/png": "[encoded data removed]"
    }
   },
   "cell_type": "markdown",
   "id": "19f352a1",
   "metadata": {},
   "source": [
    "## Conceptos básicos de Git\n",
    "\n",
    "Git maneja sus datos como un conjunto de **copias instantáneas de un sistema de archivos miniatura**: \n",
    "- Cada vez que confirmas un cambio, o guardas el estado de tu proyecto en Git, él básicamente **\"toma una foto\" del aspecto de todos tus archivos en ese momento** y guarda una referencia a esa copia instantánea. \n",
    "- Para ser eficiente, si los archivos no se han modificado Git no almacena el archivo de nuevo, sino un enlace al archivo anterior idéntico que ya tiene almacenado, como muestra la siguiente figura:\n",
    "\n",
    "![snapshots.png](attachment:snapshots.png)"
   ]
  },
  {
   "attachments": {
    "areas.png": {
     "image/png": "[encoded data removed]"
    }
   },
   "cell_type": "markdown",
   "id": "b8829156",
   "metadata": {},
   "source": [
    "### Áreas\n",
    "\n",
    "En un proyecto Git existen tres secciones o áreas principales en las que se dividen los cambios realizados en tu proyecto antes de que se confirmen. **Comprender estas áreas es fundamentales para entender cómo se gestionan los cambios en Git**.\n",
    "\n",
    "Las tres áreas principales en Git son:\n",
    "\n",
    "1. **Árbol de trabajo (*Working tree*)**:\n",
    "   - Se denomina también *working directory* o directorio de trabajo (*NOTA: ver abajo advertencia*)\n",
    "   - Esta es la primera área donde trabajas en tus archivos.\n",
    "   - Inicialmente, es una copia de una instantánea o versión del repositorio, a partir de la cual se realizan cambios en los ficheros (aquí es donde editas, agregas o eliminas archivos y directorios).\n",
    "   - Los cambios en el árbol de trabajo aún no se han registrado en Git. Se consideran \"cambios sin confirmar\".\n",
    "\n",
    "2. **Índice (*Staging Area*)**:\n",
    "   - Se denomina también *área de preparación* o *area de stage*.\n",
    "   - Después de hacer cambios en tu árbol de trabajo, debes seleccionar qué cambios deseas incluir en tu próximo commit (tu próxima instantánea). Esto se hace agregando los archivos modificados al índice o *staging area*.\n",
    "   - El índice actúa como una especie de \"pila\" de cambios pendientes de confirmación. Puedes pensar en ella como una lista de cambios que estás preparando para incluir en tu próximo commit, ya que incluye aquellos archivos que han sido modificados y que son candidatos a ser incluidos en la próxima instantánea o versión del repositorio.\n",
    "   - Se utiliza el comando `git add` para mover los cambios del árbol de trabajo al índice.\n",
    "\n",
    "3. **Repositorio (*Repository*)**:\n",
    "   - El repositorio es donde Git almacena de manera permanente y registra todos los commits confirmados, es decir, es la base de datos con todas las instantáneas o versiones del mismo.\n",
    "   - Cuando realizas un commit, los cambios en la staging area se guardan en el repositorio, y se crea un nuevo registro de la versión del proyecto.\n",
    "   - Los cambios en el repositorio están asegurados y forman parte del historial del proyecto.\n",
    "   - El repositorio se guarda en un directorio llamado `.git`, situado en el directorio raíz del proyecto Git.\n",
    "\n",
    "\n",
    "La secuencia típica de trabajo en Git involucra realizar cambios en el árbol de trabajo, agregar los cambios deseados al índice y, finalmente, confirmar los cambios en el repositorio con un *commit*. Esto permite un control preciso sobre qué cambios se incluyen en cada versión del proyecto y facilita la colaboración en equipos, ya que los cambios pueden ser revisados y discutidos antes de confirmarlos en el repositorio principal:\n",
    "\n",
    "![areas.png](attachment:areas.png)\n"
   ]
  },
  {
   "cell_type": "markdown",
   "id": "314a4dcd",
   "metadata": {},
   "source": [
    "<font size=\"5\">  \n",
    "    <span style=\"color: red;\">\n",
    "        A TENER EN CUENTA: la ambigüedad del término \"directorio de trabajo\"\n",
    "    </span>\n",
    "</font>  \n",
    "\n",
    "\n",
    "Desafortunadamente, en ocasiones en Informática nos encontramos que un mismo términos se refiere a conceptos distintos en función del contexto; ocurre con el término \"directorio de trabajo\", que se utiliza tanto en el ámbito de Git como en el uso del shell (intérprete de comandos) con significados distintos. Así pues, si estás buscando información *online* (tutoriales, ChatGPT, etc.) es importante que distingas a partir del contexto cuándo el término \"directorio de trabajo\" se refiere a uno u otro significado. Para ayudar a clarificar estos conceptos, he aquí un resumen de las diferencias entre ambos, según el contexto:\n",
    "\n",
    "* **Directorio de trabajo de Git (a.k.a. \"árbol de trabajo\"):**\n",
    "\n",
    "   - Se refiere al área dentro de tu sistema de archivos local donde tienes una copia de los archivos de tu proyecto Git, es decir, el directorio mantienes los ficheros de tu proyecto, editas, creas y eliminas archivos, y realizas cambios en tu código u otros recursos.\n",
    "   - Git rastrea los cambios en este directorio, pero estos cambios no se reflejan en el historial de versiones de Git hasta que los agregas al \"área de preparación\" y realizas un \"commit\".\n",
    "\n",
    "* **Directorio de trabajo del shell (a.k.a. \"directoro actual\"):**\n",
    "\n",
    "   - Se refiere al directorio actual desde el cual estás ejecutando comandos en la línea de comandos, es decir, el directorio que se muestra al ejecutar el comando `pwd`.\n",
    "   - Este directorio puede no estar relacionado con un repositorio Git en particular. Puede ser cualquier directorio en tu sistema de archivos.\n",
    "\n",
    "> *En la documentación de los boletines de prácticas en los que tratamos con Git se procura utilizar de manera uniforme los términos **directorio actual** (para referirnos al directorio desde el que estamos ejecutando comandos del shell) y **árbol de trabajo** (para referirnos al área donde Git almacena y rastrea los archivos de tu proyecto Git específico).* "
   ]
  },
  {
   "attachments": {
    "lifecycle.png": {
     "image/png": "[encoded data removed]"
    }
   },
   "cell_type": "markdown",
   "id": "1719f5fa",
   "metadata": {},
   "source": [
    "### Estados de un fichero\n",
    "\n",
    "Los ficheros pueden estar en varios estados antes de estar confirmados\n",
    "(*committed*), es decir, antes de formar parte de una instantánea o versión del\n",
    "repositorio:\n",
    "\n",
    "- **Ignorado** (*untracked*): **No forma parte** del repositorio y no está en el índice\n",
    "  para ser incluido en él.\n",
    "- **No modificado** (*unmodified*): Forma parte del repositorio, y su contenido en el directorio de trabajo es igual al del repositorio. \n",
    "- **Modificado** (*modified*): Forma parte del repositorio, y su contenido en el directorio de trabajo es distinto al del repositorio.\n",
    "- **Candidato** (*staged*): Forma parte del área de preparación o índice y es candidato a formar parte de la próxima instantánea o versión del repositorio.\n",
    "  * Si ya forma parte del repositorio en la versión actual, entonces necesariamente el contenido del fichero en el directorio de trabajo es distinto al de repositorio (previamente en estado *modificado*).\n",
    "  * Si no forma parte del repositorio en la versión actual, se trata de un fichero que está siendo preparado para ser añadido al repositorio (previamente en estado *ignorado*).\n",
    "- **Confirmado** (*committed*): Se incluye en la última instantánea o versión del repositorio.\n",
    "  * En realidad, no se trata de un estado \"visible\" para el usuario de Git, sino que al confirmar los cambios en un fichero en una nueva instantánea (un nuevo *commit*), el fichero pasa al estado *no modificado* con respecto a la nueva versión (es decir, la última instantánea tomada, que pasa a ser la actual) del repositorio.\n",
    "\n",
    "![lifecycle.png](attachment:lifecycle.png)\n",
    "\n",
    "En secciones posteriores veremos con un ejemplo el ciclo de vida de un fichero en Git."
   ]
  },
  {
   "cell_type": "markdown",
   "id": "e0e61f4f",
   "metadata": {},
   "source": [
    "## Comandos básicos de Git: Flujo de trabajo en un repositorio local\n",
    "\n",
    "### Crear un Repositorio\n",
    "\n",
    "Al comenzar nuestro proyecto software en el que usaremos Git como VCS, debemos crear en primer lugar un repositorio vacío (sin instantáneas). Para ello, utilizaremos el comando `git init`.\n",
    "\n",
    "```bash\n",
    "$ mkdir myfirstrepo && cd myfirstrepo # Creamos un directorio y entramos en él\n",
    "\n",
    "$ git init\n",
    "Inicializado repositorio Git vacío en [....]/myfirstrepo/.git/\n",
    "\n",
    "$ ls\n",
    "\n",
    "$ ls -a\n",
    ".  ..  .git\n",
    "\n",
    "$ ls .git/\n",
    "branches  config  description  HEAD  hooks  info  objects  refs\n",
    "\n",
    "```\n",
    "\n",
    "Como vemos, se ha creado un directorio `.git` (oculto, ya que empieza por `.`), el cual contendrá la base de datos de instantáneas de nuestro proyecto, es decir, las diferentes versiones por las que los ficheros de nuestro proyecto van pasando. Con el comando `git status` podemos observar el estado de los ficheros que hay en el directorio de trabajo con respecto al repositorio:\n",
    "\n",
    "```bash\n",
    "$ git status\n",
    "\n",
    "En la rama master\n",
    "\n",
    "No hay commits todavía\n",
    "\n",
    "no hay nada para confirmar (crea/copia archivos y usa \"git add\" para hacerles seguimiento)\n",
    "```\n",
    "\n",
    "\n",
    "En este caso, es un directorio vacío sobre el que hemos creado un repositorio, por lo que no hay instantáneas en el repositorio ni tampoco ficheros en el directorio de trabajo, con la excepción, obviamente, del propio directorio `.git`. Como es lógico, el contenido de dicho directorio no está bajo control de versiones, sino que es precisamente la base de datos requerida donde se guarda todo lo necesario para gestionar las versiones del resto de ficheros dentro del directorio `myfirstrepo`.\n",
    "\n",
    "Fíjate que el comando `git status` (como muchos otros comandos), nos indica en qué *rama* nos encontramos. El concepto de rama es fundamental en Git, pero queda fuera del ámbito de este boletín de prácticas. Por tanto, en todo momento vamos a asumir que existe una única rama en el repositorio, que es en la que trabajamos. Por convención, la rama principal de un repositorio suele llamarse `main` o `master`.\n",
    "\n",
    "> *La rama principal de muchos repositorios todavía se sigue llamando \"master\", aunque existe un compromiso global por evitar términos relacionados con el racismo.*\n",
    "\n",
    "### ¿En qué repositorio estamos trabajando en cada momento?\n",
    "\n",
    "Un aspecto importante cuando estamos aprendiendo a usar un VCS por primera vez es entender el ámbito en el que trabajamos en cada momento: qué ficheros estamos versionando y dónde se encuentra el repositorio donde se guardan las versiones de dichos ficheros. \n",
    "\n",
    "Así, cuando ejecutamos un comando de Git y puesto que podemos tenemos múltiples repositorios en la misma máquina, cabe preguntarse: ¿Cómo sabe Git a qué repositorio nos estamos refieriendo? Pues bien, la respuesta es sencilla: cuando invocamos cualquiera de los comandos de Git (p.ej., `git status`), lo que hace dicho programa es **buscar en el directorio actual** del shell un directorio llamado `.git` (pues ahí es donde Git almacena toda la información necesaria para gestionar las versiones de un repositorio); si no lo encuentra en el directorio actual, lo busca en el **directorio padre del actual** (`..`), y así sucesivamente hasta que bien lo encuentra (y utiliza su contenido para procesar el comando que le hemos solicitado) o bien genera un mensaje de error. Siguiendo con la secuencia de comandos del ejemplo, si nos saliésemos del directorio `myfirstrepo` y volvemos a ejecutar un comando git, lo más probable es que vea este mensaje de error (a no ser que el directorio padre de `myfirstrepo` esté a su vez contenido dentro de otro repositorio de Git distinto al que acabamos de inicializar):\n",
    "```bash\n",
    "$ pwd\n",
    "[....]/myfirstrepo\n",
    "\n",
    "$ cd .. \n",
    "\n",
    "$ git status\n",
    "fatal: no es un repositorio git (ni ningún padre en el punto de montaje /)\n",
    "Parando a la frontera del sistema de archivos (GIT_DISCOVERY_ACROSS_FILESYSTEM no establecido).\n",
    "```\n",
    "\n",
    "Así pues, debemos tener presente que para gestionar los ficheros de nuestro repositorio Git desde el shell, debemos siempre situarnos **dentro del directorio del proyecto**, sin importar si estamos en el directorio más externo (\"raíz del proyecto\") o cualquiera de sus subdirectorios.\n",
    "\n",
    "> No hay que confundir el *directorio raíz de un proyecto Git* (el que contiene el subdirectorio `.git` junto con todos los demás subdirectorios y ficheros relevantes al proyecto), que será distinto para cada repositorio Git que tengamos en nuestra máquina, con el *directorio raíz del sistema de ficheros* (`/`), que es único.\n"
   ]
  },
  {
   "cell_type": "markdown",
   "id": "1c17c320",
   "metadata": {},
   "source": [
    "#### <span style=\"color: blue;\">EJERCICIO</span>\n",
    "\n",
    "Crea un repositorio vacío, añade al directorio de trabajo y observa su estado."
   ]
  },
  {
   "cell_type": "code",
   "execution_count": 3,
   "id": "96c574d0",
   "metadata": {},
   "outputs": [],
   "source": [
    "# Sitúate en tu directorio de inicio de usuario\n",
    "cd"
   ]
  },
  {
   "cell_type": "code",
   "execution_count": 4,
   "id": "91da112d",
   "metadata": {},
   "outputs": [],
   "source": [
    "# Crea un directorio llamado \"fc-alumno\"\n",
    "mkdir fc-alumno"
   ]
  },
  {
   "cell_type": "code",
   "execution_count": 5,
   "id": "352abf5b",
   "metadata": {},
   "outputs": [],
   "source": [
    "# Accede al directorio que acabas de crear\n",
    "cd fc-alumno"
   ]
  },
  {
   "cell_type": "code",
   "execution_count": 6,
   "id": "2cb58bc5",
   "metadata": {},
   "outputs": [
    {
     "name": "stdout",
     "output_type": "stream",
     "text": [
      "\u001b[33mayuda: Usando 'master' como el nombre de la rama inicial. Este nombre de rama predeterminado\u001b[m\n",
      "\u001b[33mayuda: está sujeto a cambios. Para configurar el nombre de la rama inicial para usar en todos\u001b[m\n",
      "\u001b[33mayuda: de sus nuevos repositorios, reprimiendo esta advertencia, llama a:\u001b[m\n",
      "\u001b[33mayuda: \u001b[m\n",
      "\u001b[33mayuda: \tgit config --global init.defaultBranch <nombre>\u001b[m\n",
      "\u001b[33mayuda: \u001b[m\n",
      "\u001b[33mayuda: Los nombres comúnmente elegidos en lugar de 'master' son 'main', 'trunk' y\u001b[m\n",
      "\u001b[33mayuda: 'development'. Se puede cambiar el nombre de la rama recién creada mediante este comando:\u001b[m\n",
      "\u001b[33mayuda: \u001b[m\n",
      "\u001b[33mayuda: \tgit branch -m <nombre>\u001b[m\n",
      "Inicializado repositorio Git vacío en /home/kiko/fc-alumno/.git/\n"
     ]
    }
   ],
   "source": [
    "# Crea un repositorio vacío\n",
    "git init"
   ]
  },
  {
   "cell_type": "code",
   "execution_count": 9,
   "id": "8bce43cb",
   "metadata": {},
   "outputs": [
    {
     "name": "stdout",
     "output_type": "stream",
     "text": [
      "\u001b[0m\u001b[01;34m.\u001b[0m  \u001b[01;34m..\u001b[0m  \u001b[01;34m.git\u001b[0m\n"
     ]
    }
   ],
   "source": [
    "# Muestra el contenido del directorio actual.\n",
    "# NOTA:: Usa la opción adecuada para mostrar **TODOS** \n",
    "# los ficheros y directorios\n",
    "ls -a"
   ]
  },
  {
   "cell_type": "code",
   "execution_count": 10,
   "id": "34019ca2",
   "metadata": {},
   "outputs": [
    {
     "name": "stdout",
     "output_type": "stream",
     "text": [
      "\u001b[0m\u001b[01;34mbranches\u001b[0m  config  description  HEAD  \u001b[01;34mhooks\u001b[0m  \u001b[01;34minfo\u001b[0m  \u001b[01;34mobjects\u001b[0m  \u001b[01;34mrefs\u001b[0m\n"
     ]
    }
   ],
   "source": [
    "# Muestra el contenido del subdirectorio \".git\"\n",
    "ls .git"
   ]
  },
  {
   "cell_type": "code",
   "execution_count": 11,
   "id": "a49e7a8c",
   "metadata": {},
   "outputs": [],
   "source": [
    "# Crea un fichero vacío llamado AUTHORS\n",
    "touch AUTHORS"
   ]
  },
  {
   "cell_type": "code",
   "execution_count": 12,
   "id": "28c95973",
   "metadata": {},
   "outputs": [],
   "source": [
    "# Crea un directorio llamado practica1\n",
    "mkdir practica1"
   ]
  },
  {
   "cell_type": "code",
   "execution_count": 13,
   "id": "6476d087",
   "metadata": {},
   "outputs": [],
   "source": [
    "# Crea otro fichero vacío llamado \"lista_comandos.txt\" \n",
    "# en el directorio `practica1`\n",
    "touch practica1/lista_comandos.txt"
   ]
  },
  {
   "cell_type": "code",
   "execution_count": 14,
   "id": "04b4e4f6",
   "metadata": {},
   "outputs": [
    {
     "name": "stdout",
     "output_type": "stream",
     "text": [
      "En la rama master\n",
      "\n",
      "No hay commits todavía\n",
      "\n",
      "Archivos sin seguimiento:\n",
      "  (usa \"git add <archivo>...\" para incluirlo a lo que se será confirmado)\n",
      "\t\u001b[31mAUTHORS\u001b[m\n",
      "\t\u001b[31mpractica1/\u001b[m\n",
      "\n",
      "no hay nada agregado al commit pero hay archivos sin seguimiento presentes (usa \"git add\" para hacerles seguimiento)\n"
     ]
    }
   ],
   "source": [
    "# Muestra el estado del árbol de trabajo\n",
    "git status"
   ]
  },
  {
   "cell_type": "code",
   "execution_count": 15,
   "id": "b0537993",
   "metadata": {},
   "outputs": [],
   "source": [
    "# Cámbiate al directorio práctica1\n",
    "cd practica1"
   ]
  },
  {
   "cell_type": "code",
   "execution_count": 16,
   "id": "20cd9390",
   "metadata": {},
   "outputs": [
    {
     "name": "stdout",
     "output_type": "stream",
     "text": [
      "En la rama master\n",
      "\n",
      "No hay commits todavía\n",
      "\n",
      "Archivos sin seguimiento:\n",
      "  (usa \"git add <archivo>...\" para incluirlo a lo que se será confirmado)\n",
      "\t\u001b[31m../AUTHORS\u001b[m\n",
      "\t\u001b[31m./\u001b[m\n",
      "\n",
      "no hay nada agregado al commit pero hay archivos sin seguimiento presentes (usa \"git add\" para hacerles seguimiento)\n"
     ]
    }
   ],
   "source": [
    "# Muestra el estado del árbol de trabajo\n",
    "git status"
   ]
  },
  {
   "cell_type": "code",
   "execution_count": 17,
   "id": "97585f7d",
   "metadata": {},
   "outputs": [
    {
     "name": "stdout",
     "output_type": "stream",
     "text": [
      "En la rama master\n",
      "\n",
      "No hay commits todavía\n",
      "\n",
      "Archivos sin seguimiento:\n",
      "  (usa \"git add <archivo>...\" para incluirlo a lo que se será confirmado)\n",
      "\t\u001b[31m../AUTHORS\u001b[m\n",
      "\t\u001b[31m./\u001b[m\n",
      "\n",
      "no hay nada agregado al commit pero hay archivos sin seguimiento presentes (usa \"git add\" para hacerles seguimiento)\n"
     ]
    }
   ],
   "source": [
    "# Muestra el estado del árbol del trabajo a partir \n",
    "# del directorio actual\n",
    "git status"
   ]
  },
  {
   "cell_type": "markdown",
   "id": "711a651b",
   "metadata": {},
   "source": [
    "### Versionar nuevos archivos\n",
    "\n",
    "Imaginemos que, partiendo de un repositorio vacío, queremos versionar el archivo: `README.md`.\n",
    "\n",
    "```bash\n",
    "$ echo \"# Archivo README.md\" > README.md\n",
    "\n",
    "$ git status\n",
    "En la rama master\n",
    "\n",
    "No hay commits todavía\n",
    "\n",
    "Archivos sin seguimiento:\n",
    "  (usa \"git add <archivo>...\" para actualizar lo que se será confirmado)\n",
    "\tREADME.md\n",
    "```\n",
    "\n",
    "Como vemos, el fichero `README.md` está en estado \"Ignorado\" (sin seguimiento, en ingles, *untracked*). Con el comando `git add` podemos añadir el fichero `README.md` en su estado actual al índice (área de *stage* o de preparación):\n",
    "\n",
    "```bash\n",
    "$ git add README.md\n",
    "\n",
    "$ git status\n",
    "En la rama master\n",
    "\n",
    "No hay commits todavía\n",
    "\n",
    "Cambios a ser confirmados:\n",
    "  (usa \"git rm --cached <archivo>...\" para sacar del área de stage)\n",
    "\tnuevo archivo:  README.md\n",
    "```\n",
    "\n",
    "Como vemos en la salidad anterior, `git status` nos indica que el fichero `README.md` está en estado \"Candidato\". \n",
    "\n",
    "Si a continuación guardamos una instantánea de nuestro proyecto  mediante `git commit`, los cambios que hemos añadido al índice serán confirmados y pasarán a formar parte del repositorio, en concreto, de su última (primera y única) instantánea (versión).\n",
    "\n",
    "```bash\n",
    "$ git commit -m \"Confirmando README.md\"\n",
    "[master (commit-raíz) 0935859] Confirmando README.md\n",
    " 1 file changed, 1 insertion(+)\n",
    " create mode 100644 README.md\n",
    "\n",
    "$ git status\n",
    "En la rama master\n",
    "nada para hacer commit, el árbol de trabajo está limpio\n",
    "```\n",
    "\n",
    "Como vemos, ahora el fichero `README.md` no aparece en la salida de `git status`. Esto se debe a que ha sido confirmado en un *commit anterior* (forma parte del repositorio en su versión *actual*) y su contenido es idéntico al del repositorio en la versión actual (es decir, el fichero está en estado \"No Modificado\"). La frase `el árbol de trabajo está limpio` nos indica que no hay ningún fichero en el árbol de trabajo que esté modificado con respecto a la versión actual del repositorio.\n",
    "\n",
    "El comando `git status` omite intencionalmente los archivos no modificados para mantener la salida más limpia y fácil de leer: en un proyecto software del mundo real, en el que es común tener cientos de ficheros versionados en un mismo repositorio, lo que nos interesa es saber rápidamente *lo que hemos cambiado* desde la última instantánea que tenemos en el repositorio (unos pocos ficheros), ya que el resto (omitido, pues es la inmensa mayoría de los ficheros) permanecen igual. Por tanto, recuerda que `git status` muestra únicamente los archivos que han sido modificados en tu directorio de trabajo, los que están en el área de preparación (staging) y los que están siendo ignorados (están en el árbol de trabajo pero no en la versión actual del repositorio)."
   ]
  },
  {
   "cell_type": "markdown",
   "id": "135f65f1",
   "metadata": {},
   "source": [
    "### Versionar Archivos Existentes\n",
    "\n",
    "Ahora, vamos a actualizar el archivo existente y versionar un segundo archivo:\n",
    "`hello.py`.\n",
    "\n",
    "```bash\n",
    "$ echo -e '#!/usr/bin/env python3\\nprint(\"Hola, Mundo!\")\\n' > hello.py\n",
    "```\n",
    "\n",
    "En este momento, `hello.py` está en estado \"Ignorado\" y ni `git diff` ni `git diff\n",
    "--staged` nos devuelven nada.\n",
    "\n",
    "Sin embargo, si añadimos `hello.py` al índice:\n",
    "\n",
    "```bash\n",
    "$ git add hello.py\n",
    "```\n",
    "\n",
    "`hello.py` pasa al estado \"Candidato\". La orden `git diff` sigue sin proporcionarnos información, ya que esa orden nos dice la diferencia entre lo que se encuentra en el índice y en el árbol de trabajo. De ahí que si queremos saber algo más, tengamos que usar la opción `--staged` para que nos muestre las diferencias del archivo que se encuentra *staged* con respecto al último *commit*.\n",
    "\n",
    "```bash\n",
    "$ git diff --staged\n",
    "diff --git a/hello.py b/hello.py\n",
    "new file mode 100644\n",
    "index 0000000..59bc56c\n",
    "--- /dev/null\n",
    "+++ b/hello.py\n",
    "@@ -0,0 +1,3 @@\n",
    "+#!/usr/bin/env python3\n",
    "+print(\"Hello, World!\")\n",
    "+\n",
    "```\n",
    "\n",
    "Como podemos ver, nos informa de que hay un nuevo archivo con respecto al último\n",
    "*commit* y marca con `+` las líneas añadidas.\n",
    "\n",
    "Ahora vamos a añadir contenido al archivo `README.md`, haciendo que pase al\n",
    "estado \"Modificado\".\n",
    "\n",
    "<!-- markdownlint-disable MD013 -->\n",
    "```bash\n",
    "$ echo -e 'Contenido: hello.py' >> README.md\n",
    "$ git status\n",
    "En la rama master\n",
    "Cambios a ser confirmados:\n",
    "  (usa \"git restore --staged <archivo>...\" para sacar del área de stage)\n",
    "\tnuevo archivo:  hello.py\n",
    "\n",
    "Cambios no rastreados para el commit:\n",
    "  (usa \"git add <archivo>...\" para actualizar lo que será confirmado)\n",
    "  (usa \"git restore <archivo>...\" para descartar los cambios en el directorio de trabajo)\n",
    "\tmodificado:     README.md\n",
    "```\n",
    "<!-- markdownlint-enable MD013 -->\n",
    "\n",
    "Si ahora hacemos un `git diff` veremos que hay una diferencia entre lo que hay\n",
    "en el directorio y lo que hay en el índice, que coincide también con el último\n",
    "*commit*.\n",
    "\n",
    "```bash\n",
    "$ git diff\n",
    "diff --git a/README.md b/README.md\n",
    "index 12b837c..c567036 100644\n",
    "--- a/README.md\n",
    "+++ b/README.md\n",
    "@@ -1 +1,2 @@\n",
    " # Archivo README.md\n",
    "+Contenido: hello.py\n",
    "```\n",
    "\n",
    "Si ahora añadimos al índice el archivo `README.md`, éste pasa a estado\n",
    "\"Candidato\". Si volvemos a consultar las diferencias, tendremos que usar\n",
    "`--staged`.\n",
    "\n",
    "```bash\n",
    "$ git add README.md\n",
    "$ git status\n",
    "En la rama master\n",
    "Cambios a ser confirmados:\n",
    "  (usa \"git restore --staged <archivo>...\" para sacar del área de stage)\n",
    "\tmodificado:     README.md\n",
    "\tnuevo archivo:  hello.py\n",
    "\n",
    "\n",
    "$ git diff --staged\n",
    "diff --git a/README.md b/README.md\n",
    "index 12b837c..c567036 100644\n",
    "--- a/README.md\n",
    "+++ b/README.md\n",
    "@@ -1 +1,2 @@\n",
    " # Archivo README.md\n",
    "+Contenido: hello.py\n",
    "diff --git a/hello.py b/hello.py\n",
    "new file mode 100644\n",
    "index 0000000..59bc56c\n",
    "--- /dev/null\n",
    "+++ b/hello.py\n",
    "@@ -0,0 +1,3 @@\n",
    "+#!/usr/bin/env python3\n",
    "+print(\"Hello, TEII!\")\n",
    "+\n",
    "```\n",
    "\n",
    "Ahora vamos a hacer un *commit* de lo que se ha guardado en el índice, por lo\n",
    "que tanto `hello.py` como `README.md` pasarán a estar en el estado\n",
    "\"Confirmado/No Modificado\".\n",
    "\n",
    "```bash\n",
    "$ git commit -m \"Confirmando hello.py\"\n",
    "[master 2c8e405] Confirmando hello.py\n",
    " 2 files changed, 4 insertions(+)\n",
    " create mode 100644 hello.py\n",
    "\n",
    "$ git status\n",
    "En la rama master\n",
    "nada para hacer commit, el árbol de trabajo está limpio\n",
    "```"
   ]
  },
  {
   "cell_type": "markdown",
   "id": "1b69a417",
   "metadata": {},
   "source": [
    "### Ver el historial de confirmaciones (*commits*)\n",
    "\n",
    "Para mostrar el registro de commits en Git, puedes utilizar el comando `git log`. Este comando muestra una lista de todos los commits en el repositorio, comenzando desde el commit más reciente y retrocediendo en el tiempo. Siguiendo con el ejemplo anterior, podemos ver el historial de commits en el repositorio, mostrando información como el autor, la fecha y el mensaje del commit de esta forma:\n",
    "\n",
    "```bash\n",
    "$ git log\n",
    "commit 9b7f993035ddc8a5d971e79bb711808ea5ad0143 (HEAD -> master)\n",
    "Author: Jane Doe <jdoe@example.edu>\n",
    "Date:   Wed Aug 23 17:03:10 2023 +0200\n",
    "\n",
    "    Confirmando README.md\n",
    "```\n",
    "\n",
    "Vemos que hasta ahora solo se ha guardado una \"instantánea\" en el repositorio. \n",
    "\n",
    "Puedes usar diferentes opciones con `git log` para personalizar la salida y filtrar los resultados según tus necesidades. Por ejemplo, puees mostrar un número limitado de commits con `git log -n 5`, o un resumen de modo  compacto (con una sola línea por commit) con `git log --oneline`, o por el contrario información detallada de cada commit con  `git log -p` (mostrará los cambios realizados en dicho commit)."
   ]
  },
  {
   "cell_type": "markdown",
   "id": "507cde95",
   "metadata": {},
   "source": [
    "### Ámbito de aplicación de un comando git\n",
    "\n",
    "Tanto `git status` como muchos otros comandos de Git admiten como argumento opcional una lista de rutas a ficheros y/o directorios, de forma que limitan su ámbito de información/actuación a los ficheros de dicha(s) ruta(s) y sus subdirectorios.\n",
    "\n",
    "Así pues, si ejecutas `git status` sin especificar un directorio como argumento, Git mostrará cualquier cambio en cualquier punto del árbol de trabajo, i.e., el directorio raíz del proyecto Git y en todos sus subdirectorios. Por contra, si ejecutas ejecuta dicho comando seguido de un directorio (p.ej., `git status .`), Git mostrará únicamente el estado de los ficheros y subdirectorios *que cuelgan* de ese directorio concreto. Esto es útil cuando solo quieres verificar el estado de un subconjunto específico de archivos o directorios en tu proyecto Git (es decir, un \"sub-árbol\" del árbol de trabajo).\n",
    "\n",
    "   Por ejemplo:\n",
    "   \n",
    "   ```bash\n",
    "   $ git status directorio/\n",
    "   ```\n",
    "\n",
    "mostrará el estado de los archivos y subdirectorios dentro de \"directorio/\" y sus subdirectorios descendientes, pero no incluirá cambios en otros lugares de tu proyecto (por ejemplo, no se mostrarán los ficheros modificados en el directorio actual, padre de `directorio`). De la misma forma, el comando:\n",
    "   \n",
    "   ```bash\n",
    "   $ git log directorio/\n",
    "   ```\n",
    "   \n",
    "mostrará el historial del aquellos commits en los que haya sido modificado algún fichero ubicado dentro de `directorio`."
   ]
  },
  {
   "cell_type": "markdown",
   "id": "6c57915f",
   "metadata": {},
   "source": [
    "#### <span style=\"color: blue;\">EJERCICIO</span>\n",
    "\n",
    "Añade nuevos ficheros al repositorio `fc-alumno` del ejercicio anterior y observa el estado del árbol del trabajo y el registro de commits al repositorio."
   ]
  },
  {
   "cell_type": "code",
   "execution_count": 20,
   "id": "33637b84",
   "metadata": {},
   "outputs": [],
   "source": [
    "# Sitúate en el directorio raíz de tu repositorio \"fc-alumno\"\n",
    "cd .."
   ]
  },
  {
   "cell_type": "code",
   "execution_count": 21,
   "id": "f5539295",
   "metadata": {},
   "outputs": [
    {
     "name": "stdout",
     "output_type": "stream",
     "text": [
      "En la rama master\n",
      "\n",
      "No hay commits todavía\n",
      "\n",
      "Archivos sin seguimiento:\n",
      "  (usa \"git add <archivo>...\" para incluirlo a lo que se será confirmado)\n",
      "\t\u001b[31mAUTHORS\u001b[m\n",
      "\t\u001b[31mpractica1/\u001b[m\n",
      "\n",
      "no hay nada agregado al commit pero hay archivos sin seguimiento presentes (usa \"git add\" para hacerles seguimiento)\n"
     ]
    }
   ],
   "source": [
    "# Muestra el estado del árbol de trabajo y\n",
    "# observa en qué estado está el fichero AUTHORS\n",
    "git status"
   ]
  },
  {
   "cell_type": "code",
   "execution_count": 22,
   "id": "b693da5f",
   "metadata": {},
   "outputs": [],
   "source": [
    "# Añade el fichero AUTHORS (actualmente vacío) al índice\n",
    "git add AUTHORS"
   ]
  },
  {
   "cell_type": "code",
   "execution_count": 23,
   "id": "7ebf33bb",
   "metadata": {},
   "outputs": [
    {
     "name": "stdout",
     "output_type": "stream",
     "text": [
      "En la rama master\n",
      "\n",
      "No hay commits todavía\n",
      "\n",
      "Cambios a ser confirmados:\n",
      "  (usa \"git rm --cached <archivo>...\" para sacar del área de stage)\n",
      "\t\u001b[32mnuevos archivos: AUTHORS\u001b[m\n",
      "\n",
      "Archivos sin seguimiento:\n",
      "  (usa \"git add <archivo>...\" para incluirlo a lo que se será confirmado)\n",
      "\t\u001b[31mpractica1/\u001b[m\n",
      "\n"
     ]
    }
   ],
   "source": [
    "# Muestra el estado del árbol de trabajo y observa\n",
    "# el nuevo estado del fichero AUTHORS\n",
    "git status"
   ]
  },
  {
   "cell_type": "code",
   "execution_count": 24,
   "id": "2ce664e4",
   "metadata": {},
   "outputs": [
    {
     "name": "stdout",
     "output_type": "stream",
     "text": [
      "[master (commit-raíz) 4d7b425] añadiendo fichero con autores vacío\n",
      " 1 file changed, 0 insertions(+), 0 deletions(-)\n",
      " create mode 100644 AUTHORS\n"
     ]
    }
   ],
   "source": [
    "# Confirma los cambios al repositorio. Recuerda \n",
    "# usar la opción -m seguida del mensaje entrecomillado\n",
    "# (p.ej., \"añadiendo fichero con autores vacío\")\n",
    "git commit -m \"añadiendo fichero con autores vacío\""
   ]
  },
  {
   "cell_type": "code",
   "execution_count": 25,
   "id": "a30b8442",
   "metadata": {},
   "outputs": [
    {
     "name": "stdout",
     "output_type": "stream",
     "text": [
      "En la rama master\n",
      "Archivos sin seguimiento:\n",
      "  (usa \"git add <archivo>...\" para incluirlo a lo que se será confirmado)\n",
      "\t\u001b[31mpractica1/\u001b[m\n",
      "\n",
      "no hay nada agregado al commit pero hay archivos sin seguimiento presentes (usa \"git add\" para hacerles seguimiento)\n"
     ]
    }
   ],
   "source": [
    "# Muestra el estado del árbol de trabajo\n",
    "git status"
   ]
  },
  {
   "cell_type": "code",
   "execution_count": 26,
   "id": "ef55dfcd",
   "metadata": {},
   "outputs": [
    {
     "name": "stdout",
     "output_type": "stream",
     "text": [
      "\u001b[33mcommit 4d7b425335b39aed073e417694a182a8942229d6\u001b[m\u001b[33m (\u001b[m\u001b[1;36mHEAD -> \u001b[m\u001b[1;32mmaster\u001b[m\u001b[33m)\u001b[m\n",
      "Author: Juan Fco Manzanares <jf_manzanaresgomez@um_es>\n",
      "Date:   Mon Oct 9 16:57:22 2023 +0200\n",
      "\n",
      "    añadiendo fichero con autores vacío\n"
     ]
    }
   ],
   "source": [
    "# Muestra el historial de commits\n",
    "git log"
   ]
  },
  {
   "cell_type": "markdown",
   "id": "850c34b2",
   "metadata": {},
   "source": [
    "En este punto, deberías tener un árbol de trabajo limpio, con el directorio `practica1` sin seguimiento."
   ]
  },
  {
   "cell_type": "code",
   "execution_count": 27,
   "id": "5a59e497",
   "metadata": {},
   "outputs": [],
   "source": [
    "# Abre el fichero AUTHORS con un editor de texto\n",
    "gedit AUTHORS"
   ]
  },
  {
   "cell_type": "code",
   "execution_count": null,
   "id": "7ff13db6",
   "metadata": {},
   "outputs": [],
   "source": [
    "# Añade tu nombre y apellidos al fichero AUTHORS y guárdalo"
   ]
  },
  {
   "cell_type": "code",
   "execution_count": 28,
   "id": "b3055168",
   "metadata": {},
   "outputs": [
    {
     "name": "stdout",
     "output_type": "stream",
     "text": [
      "En la rama master\n",
      "Cambios no rastreados para el commit:\n",
      "  (usa \"git add <archivo>...\" para actualizar lo que será confirmado)\n",
      "  (usa \"git restore <archivo>...\" para descartar los cambios en el directorio de trabajo)\n",
      "\t\u001b[31mmodificados:     AUTHORS\u001b[m\n",
      "\n",
      "Archivos sin seguimiento:\n",
      "  (usa \"git add <archivo>...\" para incluirlo a lo que se será confirmado)\n",
      "\t\u001b[31mpractica1/\u001b[m\n",
      "\n",
      "sin cambios agregados al commit (usa \"git add\" y/o \"git commit -a\")\n"
     ]
    }
   ],
   "source": [
    "# Muestra el estado del árbol de trabajo\n",
    "git status"
   ]
  },
  {
   "cell_type": "code",
   "execution_count": 33,
   "id": "ed422463",
   "metadata": {},
   "outputs": [
    {
     "name": "stdout",
     "output_type": "stream",
     "text": [
      "fatal: /practica1: '/practica1' está fuera del repositorio en '/home/kiko/fc-alumno'\n"
     ]
    },
    {
     "ename": "",
     "evalue": "128",
     "output_type": "error",
     "traceback": []
    }
   ],
   "source": [
    "# Muestra el estado del árbol de trabajo a partir\n",
    "# del directorio \"practica1\"\n",
    "git status /practica1"
   ]
  },
  {
   "cell_type": "code",
   "execution_count": 30,
   "id": "3581a7d9",
   "metadata": {},
   "outputs": [],
   "source": [
    "# Cámbiate al directorio \"practica1\"\n",
    "cd practica1"
   ]
  },
  {
   "cell_type": "code",
   "execution_count": 31,
   "id": "613fc914",
   "metadata": {},
   "outputs": [
    {
     "name": "stdout",
     "output_type": "stream",
     "text": [
      "En la rama master\n",
      "Cambios no rastreados para el commit:\n",
      "  (usa \"git add <archivo>...\" para actualizar lo que será confirmado)\n",
      "  (usa \"git restore <archivo>...\" para descartar los cambios en el directorio de trabajo)\n",
      "\t\u001b[31mmodificados:     ../AUTHORS\u001b[m\n",
      "\n",
      "Archivos sin seguimiento:\n",
      "  (usa \"git add <archivo>...\" para incluirlo a lo que se será confirmado)\n",
      "\t\u001b[31m./\u001b[m\n",
      "\n",
      "sin cambios agregados al commit (usa \"git add\" y/o \"git commit -a\")\n"
     ]
    }
   ],
   "source": [
    "# Muestra el estado del árbol de trabajo a partir del\n",
    "# directorio de trabajo actual\n",
    "git status"
   ]
  },
  {
   "cell_type": "markdown",
   "id": "220ce77b",
   "metadata": {},
   "source": [
    "### Mostrando diferencias entre estados\n",
    "\n",
    "Una de las principales ventajas de usar un VCS, también con Git, es poder ver los cambios realizados en tus archivos (con respecto a la versión del repositorio) antes de hacer un commit, o revisar los cambios entre diferentes puntos en la historia del proyecto. El comando `git diff` se utiliza para mostrar las diferencias entre dos estados, ya sea entre el árbol de trabajo y índice (staging area), entre el índice y el repositorio, entre el árbol de trabajo y el último commit, o entre dos commits específicos. \n",
    "\n",
    "#### Diferencias entre el árbol de trabajo y repositorio\n",
    "\n",
    "Si no has agregado ningún cambio al índice, `git diff` comparará el árbol de trabajo con la versión actual del repositorio. Esto resulta útil para ver las diferencias entre tus archivos locales y la última versión confirmada. Por ejemplo, si modificamos el fichero README.md en nuestro árbol de trabajo añadiendo una nueva línea, posteriormente podemos ver la diferencia con el último commit de esta forma:\n",
    "\n",
    "```bash\n",
    "$ echo \"Breve descripción del proyecto\" >> README.md\n",
    "\n",
    "$ cat README.md\n",
    "# Archivo README.md\n",
    "Breve descripción del proyecto\n",
    "\n",
    "$ git diff\n",
    "diff --git a/README.md b/README.md\n",
    "index 12b837c..743bb2f 100644\n",
    "--- a/README.md\n",
    "+++ b/README.md\n",
    "@@ -1 +1,2 @@\n",
    " # Archivo README.md\n",
    "+Breve descripción del proyecto\n",
    "```"
   ]
  },
  {
   "cell_type": "markdown",
   "id": "af4ac87f",
   "metadata": {},
   "source": [
    "Fíjate en la salida de `git diff`: aparece un registro \"diff\" con el nombre de cada fichero modificado, las líneas añadidas en dicho fichero (precedidas de `+`) y las eliminadas (precedidas de `-`), brevemente contextualizadas (líneas anteriores y posteriores al cambio). En este caso, vemos que se ha añadido la línea \"Breve descripción del proyecto\" al final del fichero `README.md`.\n",
    "\n",
    "#### Diferencias entre el índice y el repositorio\n",
    "\n",
    "Una vez que has agregado cambios al índice con `git add`, si ejecutas `git diff` sin argumentos adicionales verás que no muestra nada, a pesar de que el fichero está en estado modificado:\n",
    "\n",
    "```bash\n",
    "$ git add README.md\n",
    "\n",
    "$ git diff\n",
    "\n",
    "$ git status\n",
    "En la rama main\n",
    "Cambios a ser confirmados:\n",
    "  (usa \"git restore --staged <archivo>...\" para sacar del área de stage)\n",
    "\tmodificados:     README.md\n",
    "```\n"
   ]
  },
  {
   "cell_type": "markdown",
   "id": "04473685",
   "metadata": {},
   "source": [
    "Esto se debe a que `git diff` por defecto compara el árbol de trabajo con el índice (*área de stage*).\n",
    "\n",
    "Cuando agregas cambios al índice con `git add`, estás diciendo a Git que tome una instantánea de esos cambios \"candidatos a ser confirmados\", de forma que cuando ejecutas `git diff` sin argumentos, Git compara el árbol de trabajo con dicha instantánea en el índice: como ambos están en el mismo estado (los cambios en el árbol de trabajo han sido copiados al índice), no hay diferencias para mostrar. Así, si deseas ver los cambios candidatos a ser confirmados (es decir, las diferencias entre el índice y el repositorio), debes usar `git diff --cached`.\n",
    "\n",
    "\n",
    "#### Diferencias entre dos commits específicos\n",
    "\n",
    "El comando `git diff commit1 commit2` puede mostrar las diferencias entre los dos commits especificados por su *hash*, o incluso entre otras referencias (como nombres de ramas o etiquetas). Continuando con el ejemplo anterior, si confirmamos con `git commit` el cambio en el fichero que habíamos añadimos al índice, luego podemos ver el nuevo commit con `git log` y finalmente mostrar las diferencias entre el primer commit al repositorio y este segundo con `git diff` y los respectivos *hash* de los commits (generalmente basta con los 6-7 primeros caracteres del *commit hash* para identificarlo unívocamente).\n",
    "\n",
    "\n",
    "```bash\n",
    "\n",
    "$ git commit -m \"Ampliando README.md\"\n",
    "\n",
    "$ git log\n",
    "4b63344 (HEAD -> main) Ampliando README.md\n",
    "9969d9a Confirmando README.md\n",
    "\n",
    "\n",
    "$ git diff 9969d 4b633\n",
    "diff --git a/README.md b/README.md\n",
    "index 12b837c..743bb2f 100644\n",
    "--- a/README.md\n",
    "+++ b/README.md\n",
    "@@ -1 +1,2 @@\n",
    " # Archivo README.md\n",
    "+Breve descripción del proyecto\n",
    "\n",
    "```\n",
    "\n",
    "Como hemos visto, el comando `git diff` es una herramienta poderosa para visualizar y entender los cambios en tu proyecto. Puedes utilizar varias opciones y combinaciones de argumentos para adaptar la salida a tus necesidades específicas. Por ejemplo, si deseas ver las diferencias en un fichero o un directorio específico, puedes proporcionarlo como argumento, al igual que ocurre con muchos otros comandos de Git."
   ]
  },
  {
   "cell_type": "markdown",
   "id": "0205514e",
   "metadata": {},
   "source": [
    "#### <span style=\"color: blue;\">EJERCICIO</span>\n",
    "\n",
    "Observa las diferencias entre los ficheros en las diferentes áreas del repositorio `fc-alumno` y entre commits."
   ]
  },
  {
   "cell_type": "code",
   "execution_count": 34,
   "id": "45631e21",
   "metadata": {},
   "outputs": [
    {
     "name": "stdout",
     "output_type": "stream",
     "text": [
      "\u001b[1mdiff --git a/AUTHORS b/AUTHORS\u001b[m\n",
      "\u001b[1mindex e69de29..4232234 100644\u001b[m\n",
      "\u001b[1m--- a/AUTHORS\u001b[m\n",
      "\u001b[1m+++ b/AUTHORS\u001b[m\n",
      "\u001b[36m@@ -0,0 +1 @@\u001b[m\n",
      "\u001b[32m+\u001b[m\u001b[32mJuan Francisco Manzanares Gómez\u001b[m\n"
     ]
    }
   ],
   "source": [
    "# Muestra las diferencias entre el fichero AUTHORS \n",
    "# y el repositorio\n",
    "git diff"
   ]
  },
  {
   "cell_type": "code",
   "execution_count": 39,
   "id": "e0d6b151",
   "metadata": {},
   "outputs": [],
   "source": [
    "# Añade al índice el fichero AUTHORS modificado\n",
    "git add AUTHORS"
   ]
  },
  {
   "cell_type": "code",
   "execution_count": 41,
   "id": "116bccc4",
   "metadata": {},
   "outputs": [
    {
     "name": "stdout",
     "output_type": "stream",
     "text": [
      "\u001b[1mdiff --git a/AUTHORS b/AUTHORS\u001b[m\n",
      "\u001b[1mindex e69de29..4232234 100644\u001b[m\n",
      "\u001b[1m--- a/AUTHORS\u001b[m\n",
      "\u001b[1m+++ b/AUTHORS\u001b[m\n",
      "\u001b[36m@@ -0,0 +1 @@\u001b[m\n",
      "\u001b[32m+\u001b[m\u001b[32mJuan Francisco Manzanares Gómez\u001b[m\n"
     ]
    }
   ],
   "source": [
    "# Muestra las diferencias entre el árbol de trabajo y el índice\n",
    "git diff --cached"
   ]
  },
  {
   "cell_type": "code",
   "execution_count": null,
   "id": "a018f0a5",
   "metadata": {},
   "outputs": [],
   "source": [
    "# Muestra las diferencias entre el índice y el repositorio\n"
   ]
  },
  {
   "cell_type": "code",
   "execution_count": 42,
   "id": "4f3dd1f3",
   "metadata": {},
   "outputs": [
    {
     "name": "stdout",
     "output_type": "stream",
     "text": [
      "[master 580e59a] actualizacion\n",
      " 1 file changed, 1 insertion(+)\n"
     ]
    }
   ],
   "source": [
    "# Confirma los cambios al repositorio\n",
    "git commit -m \"actualizacion\""
   ]
  },
  {
   "cell_type": "code",
   "execution_count": 43,
   "id": "1dd78dd0",
   "metadata": {},
   "outputs": [
    {
     "name": "stdout",
     "output_type": "stream",
     "text": [
      "\u001b[33mcommit 580e59a82e211a45b6f2c8efd89352b7f8a24248\u001b[m\u001b[33m (\u001b[m\u001b[1;36mHEAD -> \u001b[m\u001b[1;32mmaster\u001b[m\u001b[33m)\u001b[m\n",
      "Author: Juan Fco Manzanares <jf_manzanaresgomez@um_es>\n",
      "Date:   Mon Oct 9 17:07:29 2023 +0200\n",
      "\n",
      "    actualizacion\n",
      "\n",
      "\u001b[1mdiff --git a/AUTHORS b/AUTHORS\u001b[m\n",
      "\u001b[1mindex e69de29..4232234 100644\u001b[m\n",
      "\u001b[1m--- a/AUTHORS\u001b[m\n",
      "\u001b[1m+++ b/AUTHORS\u001b[m\n",
      "\u001b[36m@@ -0,0 +1 @@\u001b[m\n",
      "\u001b[32m+\u001b[m\u001b[32mJuan Francisco Manzanares Gómez\u001b[m\n",
      "\n",
      "\u001b[33mcommit 4d7b425335b39aed073e417694a182a8942229d6\u001b[m\n",
      "Author: Juan Fco Manzanares <jf_manzanaresgomez@um_es>\n",
      "Date:   Mon Oct 9 16:57:22 2023 +0200\n",
      "\n",
      "    añadiendo fichero con autores vacío\n",
      "\n",
      "\u001b[1mdiff --git a/AUTHORS b/AUTHORS\u001b[m\n",
      "\u001b[1mnew file mode 100644\u001b[m\n",
      "\u001b[1mindex 0000000..e69de29\u001b[m\n"
     ]
    }
   ],
   "source": [
    "# Muestra el historial de commits al repositorio de \n",
    "# forma detallada (-p)\n",
    "git log -p"
   ]
  },
  {
   "cell_type": "code",
   "execution_count": 44,
   "id": "8b766407",
   "metadata": {},
   "outputs": [],
   "source": [
    "# Añade al índice el contenido íntegro del directorio 'practica1'\n",
    "git add practica1"
   ]
  },
  {
   "cell_type": "code",
   "execution_count": 45,
   "id": "02131db0",
   "metadata": {},
   "outputs": [
    {
     "name": "stdout",
     "output_type": "stream",
     "text": [
      "[master ef11ad5] actu2\n",
      " 1 file changed, 0 insertions(+), 0 deletions(-)\n",
      " create mode 100644 practica1/lista_comandos.txt\n"
     ]
    }
   ],
   "source": [
    "# Confirma los cambios al repositorio\n",
    "git commit -m \"actu2\""
   ]
  },
  {
   "cell_type": "code",
   "execution_count": 46,
   "id": "a3247656",
   "metadata": {},
   "outputs": [
    {
     "name": "stdout",
     "output_type": "stream",
     "text": [
      "\u001b[33mcommit 580e59a82e211a45b6f2c8efd89352b7f8a24248\u001b[m\n",
      "Author: Juan Fco Manzanares <jf_manzanaresgomez@um_es>\n",
      "Date:   Mon Oct 9 17:07:29 2023 +0200\n",
      "\n",
      "    actualizacion\n",
      "\n",
      "\u001b[33mcommit 4d7b425335b39aed073e417694a182a8942229d6\u001b[m\n",
      "Author: Juan Fco Manzanares <jf_manzanaresgomez@um_es>\n",
      "Date:   Mon Oct 9 16:57:22 2023 +0200\n",
      "\n",
      "    añadiendo fichero con autores vacío\n"
     ]
    }
   ],
   "source": [
    "# Muestra el registro de commits que modifican el fichero AUTHORS\n",
    "git log AUTHORS"
   ]
  },
  {
   "cell_type": "code",
   "execution_count": 48,
   "id": "e0b112e5",
   "metadata": {},
   "outputs": [],
   "source": [
    "# Crea un nuevo directorio en el árbol de trabajo \n",
    "# llamado 'practica2'\n",
    "mkdir practica2"
   ]
  },
  {
   "cell_type": "code",
   "execution_count": null,
   "id": "8b6ecb40",
   "metadata": {},
   "outputs": [],
   "source": [
    "# Guarda una copia de este notebook en directorio 'practica2'\n",
    "# que acabas de crear (File->Save as.. y busca \n",
    "# el directorio 'fc-alumno')\n"
   ]
  },
  {
   "cell_type": "code",
   "execution_count": null,
   "id": "fe950a6e",
   "metadata": {},
   "outputs": [],
   "source": [
    "# Añade al índice y luego al repositorio el contenido íntegro del \n",
    "# directorio 'practica2'. NOTA: Puedes pasar dicho directorio como\n",
    "# argumento a los comandos git add y git commit\n"
   ]
  },
  {
   "cell_type": "markdown",
   "id": "39c1420d",
   "metadata": {},
   "source": [
    "### Gestionando ficheros en el repositorio: borrar, mover, renombrar\n",
    "\n",
    "Los comandos `git mv` y `git rm` de Git que se utilizan para gestionar archivos que ya están en tu repositorio, ya sea porque necesitas cambiar su nombre o ubicación en el árbol de directorios, o porque deseas eliminarlos del repositorio.\n",
    "\n",
    "**Mover o renombrar ficheros o directorios: `git mv`:**\n",
    "\n",
    "- **Función:** `git mv` se utiliza para renombrar o mover archivos en tu repositorio Git. Es útil porque no solo cambia el nombre o la ubicación del archivo en tu sistema de archivos, sino que también actualiza el índice de Git para reflejar ese cambio, lo que facilita el seguimiento de la historia del archivo. Por ejemplo:\n",
    "\n",
    "   ```bash\n",
    "   git mv archivo-viejo.txt archivo-nuevo.txt\n",
    "   ```\n",
    "\n",
    "   Esto cambia el nombre del archivo de \"archivo-viejo.txt\" a \"archivo-nuevo.txt\" y actualiza automáticamente el índice de Git.\n",
    "\n",
    "**Eliminar archivos del repositorio: `git rm`:**\n",
    "\n",
    "- **Función:** `git rm` se utiliza para eliminar archivos de tu repositorio Git. Al igual que `git mv`, también actualiza el índice de Git para reflejar esta eliminación, lo que significa que Git ya no hará un seguimiento del archivo eliminado. Por ejemplo:\n",
    "\n",
    "   ```bash\n",
    "   git rm archivo-a-eliminar.txt\n",
    "   ```\n",
    "\n",
    "   Esto eliminará el archivo \"archivo-a-eliminar.txt\" de tu sistema de archivos y actualizará el índice de Git para que ya no haga un seguimiento del archivo.\n",
    "\n",
    "**Nota:** Después de usar `git mv` o `git rm`, debes confirmar los cambios utilizando `git commit` para que los cambios se registren en la historia del repositorio.\n"
   ]
  },
  {
   "cell_type": "markdown",
   "id": "89004cab-f89e-420a-bed4-6323c647f4f3",
   "metadata": {},
   "source": [
    "\n",
    "#### <span style=\"color: blue;\">EJERCICIO</span>\n",
    "\n",
    "Gestiona los ficheros del repositorio `fc-alumno` como se indica a continuación:"
   ]
  },
  {
   "cell_type": "code",
   "execution_count": null,
   "id": "0662745b-d17b-4313-ae21-bf0c4a3053f7",
   "metadata": {},
   "outputs": [],
   "source": [
    "# Copia el fichero \"practica0-presentacion.ipynb\" (el cual puedes obtener del AV)\n",
    "# al directorio fc-alumno\n"
   ]
  },
  {
   "cell_type": "code",
   "execution_count": null,
   "id": "fc17e1ae-6425-47c2-8734-6d54c9fabcff",
   "metadata": {},
   "outputs": [],
   "source": [
    "# Añade el fichero al repositorio (añade al índice y confirma la nueva versión)\n"
   ]
  },
  {
   "cell_type": "code",
   "execution_count": null,
   "id": "c1f84e72-c3de-40e1-98f9-5d0d3747711e",
   "metadata": {},
   "outputs": [],
   "source": [
    "# Muestra el estado de los ficheros del árbol de trabajo\n"
   ]
  },
  {
   "cell_type": "code",
   "execution_count": null,
   "id": "7b88d1ed-986e-45b7-9a55-446f34f54367",
   "metadata": {},
   "outputs": [],
   "source": [
    "# Renombra el fichero en tu árbol de trabajo PERO NO EN EL REPOSITORIO\n",
    "# (usando el comando \"mv\" de Bash en vez de \"git mv\"). \n",
    "# El fichero \"practica0-presentacion.ipynb\" debe pasar a\n",
    "# llamarse \"presentacion.ipynb\"\n"
   ]
  },
  {
   "cell_type": "code",
   "execution_count": null,
   "id": "2de310fd-4b17-44da-8e9c-58ee854998db",
   "metadata": {},
   "outputs": [],
   "source": [
    "# Muestra el estado de los ficheros del árbol de trabajo\n"
   ]
  },
  {
   "cell_type": "markdown",
   "id": "17716417-a213-4f75-8e51-b4f05aa133ff",
   "metadata": {},
   "source": [
    "En este punto, verás que tras renombrar el fichero en tu árbol de trabajo (y no en el repositorio), Git te indica que el fichero `practica0-presentacion.ipynb` ha sido borrado, mientras que hay un nuevo fichero ignorado (sin seguimiento) llamado `presentacion.ipynb`). Para completar el renombramiento de esta forma, sigue los siguientes pasos:"
   ]
  },
  {
   "cell_type": "code",
   "execution_count": null,
   "id": "5dd98a04-524e-4788-9df7-9a97f2da3412",
   "metadata": {},
   "outputs": [],
   "source": [
    "# Borra el fichero `practica0-presentacion.ipynb` del repositorio"
   ]
  },
  {
   "cell_type": "code",
   "execution_count": null,
   "id": "2e72d237-c626-49a9-8530-6fe0ec880e6b",
   "metadata": {},
   "outputs": [],
   "source": [
    "# Añade el fichero `presentacion.ipynb` al repositorio"
   ]
  },
  {
   "cell_type": "code",
   "execution_count": null,
   "id": "29e0ac32-3ce8-4ec5-b78b-97373a1f744b",
   "metadata": {},
   "outputs": [],
   "source": [
    "# Muestra el estado del árbol de trabajo"
   ]
  },
  {
   "cell_type": "markdown",
   "id": "4e5df031-5a76-4c60-8bdc-12625eb4534a",
   "metadata": {},
   "source": [
    "En este punto, verás que Git te indica que el fichero ha sido en realidad renombrado. "
   ]
  },
  {
   "cell_type": "code",
   "execution_count": null,
   "id": "ee333463-cd10-40ab-af44-6b9a4ce039b8",
   "metadata": {},
   "outputs": [],
   "source": [
    "# Confirma los cambios y muestra el estado de los ficheros del árbol de trabajo"
   ]
  },
  {
   "cell_type": "markdown",
   "id": "211963a3-a15c-40cf-9c6f-4e116255795d",
   "metadata": {},
   "source": [
    "Hemos renombrado el fichero en el repositorio en dos pasos (eliminando el fichero con el nombre antiguo y añadiendo el fichero con el nombre nuevo). Sin embargo, esto se puede hacer directamente con `git mv`:"
   ]
  },
  {
   "cell_type": "code",
   "execution_count": null,
   "id": "34ae1570-f7cc-46ee-8473-12dc58bb62a5",
   "metadata": {},
   "outputs": [],
   "source": [
    "# Cambia el nombre del fichero `presentacion.ipynb` a `practica0.ipynb` en el repositorio\n"
   ]
  },
  {
   "cell_type": "code",
   "execution_count": null,
   "id": "585d4140-d403-4623-84aa-13f98560dd0c",
   "metadata": {},
   "outputs": [],
   "source": [
    "# Confirma el cambio de nombre en el repositorio"
   ]
  },
  {
   "cell_type": "markdown",
   "id": "d8ed6e41-717a-49ef-848c-e9f0613fb1b3",
   "metadata": {},
   "source": [
    "Al igual que ocurre en Bash con `mv`, también es posible usar el `git mv` para cambiar la ubicación de un fichero en el árbol de trabajo, trasladándolo a otro directorio distinto:"
   ]
  },
  {
   "cell_type": "code",
   "execution_count": null,
   "id": "67f24efa-a4b6-4a6d-99cd-cd3910634ec0",
   "metadata": {},
   "outputs": [],
   "source": [
    "# Crea un directorio llamado `practica0` dentro de `fc-alumno`\n"
   ]
  },
  {
   "cell_type": "code",
   "execution_count": null,
   "id": "2fbe3b0e-27b1-412c-9bbf-f7f1d7037adf",
   "metadata": {},
   "outputs": [],
   "source": [
    "# Mueve el fichero `practica0.ipynb` al directorio `practica0`\n"
   ]
  },
  {
   "cell_type": "code",
   "execution_count": null,
   "id": "86cd00a6-9807-4890-8652-45ee62c44f43",
   "metadata": {},
   "outputs": [],
   "source": [
    "# Muestra el estado del árbol de trabajo"
   ]
  },
  {
   "cell_type": "code",
   "execution_count": null,
   "id": "986b343d-cfce-40d4-9ee3-1452f975233e",
   "metadata": {},
   "outputs": [],
   "source": [
    "# Confirma el cambio de ubicación en el repositorio"
   ]
  },
  {
   "cell_type": "markdown",
   "id": "8d666402",
   "metadata": {},
   "source": [
    "\n",
    "## Deshacer cambios: Volver a una versión anterior\n",
    "\n",
    "Entre las principales capacidades que ofrece el uso de Git como sistema de gestión de versiones es la posibilidad de deshacer cambios tanto en el árbol de trabajo, índice o repositorio. Así, resulta trivial restaurar tanto el proyecto como ficheros individuales a cualquier versión anterior del repositorio.\n",
    "\n",
    "### Deshacer cambios en el árbol de trabajo\n",
    "\n",
    "Si deseas deshacer cambios en los ficheros del árbol de trabajo que aún no has agregado al índice, puedes utilizar `git restore` para restaurar ficheros a su última versión confirmada:\n",
    "\n",
    "   ```bash\n",
    "   $ git restore archivo\n",
    "   ```\n",
    "\n",
    "Esto modificará el contenido de `archivo`, deshaciendo los últimos cambios no confirmados, restaurando el contenido de dicho fichero en la versión actual del repositorio, de forma que pasará del estado *modificado* al estado *no modificado*.\n",
    "\n",
    "### Deshacer cambios agregados al índice\n",
    "\n",
    "Si has agregado cambios al índice (área de preparación) pero posteriormente decides que dichos cambios no son aún candidatos a ser confirmados, puedes eliminarlos del índice al tiempo que mantienes sus modificaciones en el árbol de trabajo. Para ello, usa `git restore --staged`:\n",
    "\n",
    "   ```bash\n",
    "   git restore --staged archivo\n",
    "   ```\n",
    "\n",
    "Esto hará que `archivo` pase de del estado *candidato* al estado *modificado*."
   ]
  },
  {
   "cell_type": "markdown",
   "id": "38e1ee52",
   "metadata": {},
   "source": [
    "### Deshacer commits al repositorio \n",
    "\n",
    "A veces, resulta necesario revertir cambios que ya han sido confirmados al repositorio. Supongamos que tienes el siguiente historial de commits:\n",
    "\n",
    "```\n",
    "A -- B -- C -- D -- E (rama principal)\n",
    "```\n",
    "\n",
    "donde, A es el commit más antiguo y E el más reciente. Si deseas deshacer los cambios introducidos en el repositorio por los commits \"D\" y \"E\" y volver a la versión del commit \"C\", puedes revertirlos en el orden inverso al que fueron confirmados con `git revert`:\n",
    "\n",
    "   ```bash\n",
    "   git revert E  # Deshace el commit E, vuelve a la versión D\n",
    "   git revert D  # Deshace el commit D, vuelve a la versión C\n",
    "   ```\n",
    "\n",
    "  Esto creará nuevos commits que deshacen los cambios anteriormente confirmados, dejando el repositorio en el mismo estado que estaba tras el commit \"C\".\n",
    "  \n",
    "  \n",
    "### Extraer una versión específica de un fichero\n",
    "\n",
    "También puedes usar `git checkout` para restaurar archivos en el directorio de trabajo a una versión anterior especificada por el *hash* del commit:\n",
    "\n",
    "   ```bash\n",
    "   git checkout commit-hash -- archivo\n",
    "   ```\n",
    "\n",
    "Esto hará que se obtenga la versión de `archivo` que había en el repositorio en el commit indicado por el `hash`, de forma que a partir de ese momento el fichero estará en estado *candidato* (modificado con respecto a la versión actual del repositorio, y añadido al índice).\n",
    "\n",
    "### Explorar versiones anteriores del repositorio\n",
    "\n",
    "El comando `git checkout` se utilizar también para explorar versiones anteriores de tu proyecto. Sin embargo, para entender cómo trabajar de manera independiente con diferentes versiones de un mismo repositorio, es necesario conocer un concepto importante de Git como son las **ramas** (*branches*), que hemos dejado intencionalmente fuera de este boletín, ya que su uso va más allá del alcance de las prácticas de la asignatura."
   ]
  },
  {
   "cell_type": "markdown",
   "id": "c078d499",
   "metadata": {},
   "source": [
    "## El repositorio Git `fc-alumno`: tu bitácora de prácticas de FC\n",
    "\n",
    "<br>\n",
    "<font size=\"5\">  \n",
    "    <span style=\"color: red;\">IMPORTANTE:\n",
    "        </font>\n",
    "    </span>\n",
    "<font size=\"4\">  \n",
    "    <span style=\"color: red;\">El repositorio Git que acabas de crear en el directorio \"fc-alumno\" será a partir de ahora tu bitácora de prácticas. Por ello, no olvides guardarlo en tu espacio de almacenamiento en la nube al terminar esta sesión de prácticas.\n",
    "        </font>\n",
    "    </span>"
   ]
  },
  {
   "cell_type": "markdown",
   "id": "ab591346",
   "metadata": {},
   "source": [
    "El profesor utilizará este repositorio Git como **herramienta de evaluación continua** para supervisar el grado de seguimiento de la asignatura de cada alumno. En sesiones de prácticas sucesivas veremos cómo alojarlo en la nube y compartirlo con el profesor, para que pueda observar tu trabajo semanal en las prácticas.\n",
    "\n",
    "A partir de ahora **todo tu trabajo de prácticas debería quedar reflejado en los *commits* de tu repositorio-bitácora**. Para ello, debes finalizar este boletín añadiendo a tu repositorio todos los *notebooks* que hemos visto hasta ahora.\n",
    "- `practica1-introshell-boletin.ipynb`\n",
    "- `practica1-introshell-ejercicios.ipynb`\n",
    "- `practica2a-introgit-boletin.ipynb` \n",
    "\n",
    "Debes añadir los ficheros anteriores con `git add`, sea cual sea su contenido actual, sin importar si no has modificado nada en alguno o todos ellos, y luego confirmar la adición con `git commit`.\n",
    "\n",
    "Recuerda que lo que se pretende con este repositorio es observar cómo dichos ficheros van cambiando de versión conforme vas realizando los ejemplos del boletín o los ejercicios propuestos asociados a cada uno. Por ello, el resto de *notebooks* que veremos a partir de ahora deben ser añadidos a tu repositorio tan pronto como los descargues del AV, antes de realizar ninguna modificación. Una vez estén bajo control de versiones con Git, puedes empezar a trabajar con ellos y hacer *commits* periódicamente, conforme vayas haciendo cada uno de los ejercicios, además de ir añadiendo nuevos ficheros y notebooks conforme avancemos en el desarrollo de las prácticas."
   ]
  },
  {
   "cell_type": "markdown",
   "id": "1646f11b",
   "metadata": {},
   "source": [
    "\n",
    "## Referencias\n",
    "\n",
    "### Básicas\n",
    "\n",
    "- Pro Git Book by Scott Chacon and Ben Straub [[HTML](https://www.git-scm.com/book/en/v2)|[PDF](https://github.com/progit/progit2/releases/download/2.1.300/progit.pdf)|[EPUB](https://github.com/progit/progit2/releases/download/2.1.300/progit.epub)]\n",
    "\n",
    "  - [2.2 Git Basics - Recording Changes to the Repository](https://www.git-scm.com/book/en/v2/Git-Basics-Recording-Changes-to-the-Repository)\n",
    "  - [2.3 Git Basics - Viewing the Commit History](https://www.git-scm.com/book/en/v2/Git-Basics-Viewing-the-Commit-History)\n",
    "  - [2.4 Git Basics - Undoing Things](https://www.git-scm.com/book/en/v2/Git-Basics-Undoing-Things)\n",
    "\n",
    "- [git-scm.com • *Reference*](https://git-scm.com/docs)\n",
    "- github.com • *git cheat sheet* [[HTML](https://training.github.com/downloads/github-git-cheat-sheet/)|[PDF](https://training.github.com/downloads/github-git-cheat-sheet.pdf)]\n",
    "- [github.com • GitHub CLI](https://cli.github.com/)\n",
    "- [Visual Git CheatSheet](https://ndpsoftware.com/git-cheatsheet.html)\n",
    "\n",
    "### Complementarias\n",
    "\n",
    "- [The GitHub Blog • How to undo (almost) anything with Git](https://github.blog/2015-06-08-how-to-undo-almost-anything-with-git/)\n",
    "- [A Visual Git Reference by Mark Lodato](http://marklodato.github.io/visual-git-guide/index-en.html)\n",
    "- [Git Tutorial by Lars Vogel](https://www.vogella.com/tutorials/Git/article.html)"
   ]
  }
 ],
 "metadata": {
  "kernelspec": {
   "display_name": "Bash",
   "language": "bash",
   "name": "bash"
  },
  "language_info": {
   "codemirror_mode": "shell",
   "file_extension": ".sh",
   "mimetype": "text/x-sh",
   "name": "bash"
  },
  "toc": {
   "base_numbering": "1",
   "nav_menu": {},
   "number_sections": true,
   "sideBar": true,
   "skip_h1_title": true,
   "title_cell": "Table of Contents",
   "title_sidebar": "Contents",
   "toc_cell": false,
   "toc_position": {
    "height": "calc(100% - 180px)",
    "left": "10px",
    "top": "150px",
    "width": "296px"
   },
   "toc_section_display": true,
   "toc_window_display": true
  }
 },
 "nbformat": 4,
 "nbformat_minor": 5
}
