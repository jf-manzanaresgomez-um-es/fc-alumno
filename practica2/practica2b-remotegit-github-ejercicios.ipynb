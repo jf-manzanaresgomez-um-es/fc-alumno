{
 "cells": [
  {
   "cell_type": "markdown",
   "id": "7673defa",
   "metadata": {},
   "source": [
    "# Ejercicios - Práctica 2b: Repositorios remotos en Git. La plataforma GitHub"
   ]
  },
  {
   "cell_type": "markdown",
   "id": "b70d028f",
   "metadata": {},
   "source": [
    "<font size=\"4\">  \n",
    "    <span style=\"color: red;\">No olvides configurar Git para usar tu nombre y apellido(s), y tu dirección de correo electrónico universitario antes de comenzar.\n",
    "    </span>\n",
    "</font>"
   ]
  },
  {
   "cell_type": "markdown",
   "id": "c4206a02",
   "metadata": {},
   "source": [
    "Edita las primeras líneas de la siguiente celda con tu nombre y email y ejecútala para configurar tu entorno Git antes de empezar."
   ]
  },
  {
   "cell_type": "code",
   "execution_count": null,
   "id": "3db2a9f3",
   "metadata": {},
   "outputs": [],
   "source": [
    "# Establece tu identidad\n",
    "git config --global user.name \"Nombre Apellido1 [Apellido2]\"\n",
    "git config --global user.email \"alumno@um.es\"\n",
    "\n",
    "# Establece el editor por defecto\n",
    "# para los mensajes de commit\n",
    "git config --global core.editor \"gedit\""
   ]
  },
  {
   "cell_type": "markdown",
   "id": "26b93257",
   "metadata": {},
   "source": [
    "<br>\n",
    "<font size=\"5\">  \n",
    "    <span style=\"color: red;\"><b>IMPORTANTE:</b><br> Añade este fichero a tu repositorio-bitácora \"fc-alumno\" <b>ANTES</b> de comenzar a realizar los ejercicios.\n",
    "    </span>\n",
    "</font>  \n",
    "<font size=\"4\">  \n",
    "    Sigue las instrucciones a continuación.\n",
    "</font>"
   ]
  },
  {
   "cell_type": "markdown",
   "id": "3c565cc9",
   "metadata": {},
   "source": [
    "Recuerda que para poder registrar tu trabajo en tu bitácora personal de prácticas, debes evitar trabajar en una copia de este *notebook* que no esté bajo control de versiones en Git en tu repositorio. Por ello, **ANTES DE REALIZAR NINGÚN CAMBIO en este fichero asegúrate de COLOCARLO DENTRO DIRECTORIO DE TU REPOSITORIO-BITÁCORA `fc-alumno`** y añadirlo al repositorio:\n",
    "1. Cierra esta pestaña del navegador sin guardar los cambios.\n",
    "2. Muévelo desde donde lo hayas descargado del AV (p.ej. `$HOME/Descargas`) al directorio donde tengas tu repositorio (se recomienda `$HOME/fc-alumno`).\n",
    "3. Añádelo al repositorio:\n",
    "    * `git add practica2b-remotegit-github-ejercicios.ipynb`\n",
    "    * `git commit -m \"Añadiendo el notebook de ejercicios de la práctica 2b\"`"
   ]
  },
  {
   "cell_type": "markdown",
   "id": "ef3208be",
   "metadata": {},
   "source": [
    "<font size=\"4\">  \n",
    "    <b>Recuerda que debes hacer este paso con cada notebook de prácticas antes de empezar a trabajar en él.</b>\n",
    "</font>"
   ]
  },
  {
   "cell_type": "markdown",
   "id": "dc28375d",
   "metadata": {},
   "source": [
    "Tras seguir las indicaciones anteriores, al arrancar este notebook deberías observar que tu directorio de trabajo actual es `$HOME/fc-alumno` y que el comando `git log` muestra los últimos commits que realizaste a tu repositorio-bitácora. "
   ]
  },
  {
   "cell_type": "code",
   "execution_count": null,
   "id": "c554e817",
   "metadata": {},
   "outputs": [],
   "source": [
    "pwd"
   ]
  },
  {
   "cell_type": "code",
   "execution_count": null,
   "id": "fa270955",
   "metadata": {},
   "outputs": [],
   "source": [
    "git log"
   ]
  },
  {
   "cell_type": "markdown",
   "id": "fd36fe10",
   "metadata": {},
   "source": [
    "Si has seguido los pasos anteriores, el último *commit* debería ser tuyo (tu nombre y apellidos y con mensaje *Añadiendo el notebook de ejercicios de la práctica 2*). Si no es así, asegúrate de seguir los pasos anteriores correctamente."
   ]
  },
  {
   "cell_type": "markdown",
   "id": "f02a9770",
   "metadata": {},
   "source": [
    "<font size=\"4\">  \n",
    "    <span style=\"color: red;\"><b>NO COMIENCES LOS EJERCICIOS</b> HASTA QUE HAYAS CONFIRMADO QUE ESTE NOTEBOOK ESTÁ BAJO CONTROL DE VERSIONES EN TU REPOSITORIO `fc-alumno`\n",
    "    </span>\n",
    "</font>"
   ]
  },
  {
   "cell_type": "code",
   "execution_count": null,
   "id": "fd81f067",
   "metadata": {},
   "outputs": [],
   "source": [
    "# Muestra la configuración global mediante un comando git\n",
    "git config --list --global"
   ]
  },
  {
   "cell_type": "code",
   "execution_count": null,
   "id": "8c3526bb",
   "metadata": {},
   "outputs": [],
   "source": [
    "# Muestra el contenido del fichero \n",
    "# de configuración *GLOBAL* de git (~/.gitconfig)\n"
   ]
  },
  {
   "cell_type": "markdown",
   "id": "66e8322f",
   "metadata": {},
   "source": [
    "Deberías ver tu nombre y email en la configuración. Si no es así, configura Git como se indica al principio del *notebook*."
   ]
  },
  {
   "cell_type": "code",
   "execution_count": null,
   "id": "96c574d0",
   "metadata": {},
   "outputs": [],
   "source": [
    "# Sitúate en tu directorio de inicio de usuario\n",
    "cd"
   ]
  },
  {
   "cell_type": "code",
   "execution_count": null,
   "id": "91da112d",
   "metadata": {},
   "outputs": [],
   "source": [
    "# Crea un directorio llamado \"p2b-ejercicio\"\n"
   ]
  },
  {
   "cell_type": "code",
   "execution_count": null,
   "id": "352abf5b",
   "metadata": {},
   "outputs": [],
   "source": [
    "# Accede al directorio que acabas de crear\n"
   ]
  },
  {
   "cell_type": "code",
   "execution_count": null,
   "id": "62fe78c8",
   "metadata": {},
   "outputs": [],
   "source": [
    "# Clona tu repositorio bitácora \"fc-alumno\"\n"
   ]
  },
  {
   "cell_type": "code",
   "execution_count": null,
   "id": "4459af9a",
   "metadata": {},
   "outputs": [],
   "source": [
    "# Renombra el directorio \"fc-alumno\" que acabas \n",
    "# de crear al clonar, para que se llame \"fc-alumno1\"\n"
   ]
  },
  {
   "cell_type": "code",
   "execution_count": null,
   "id": "aa939c78",
   "metadata": {},
   "outputs": [],
   "source": [
    "# Sin moverte del directorio \"p2b-ejercicio\", \n",
    "# clona de nuevo tu repositorio bitácora \"fc-alumno\"\n"
   ]
  },
  {
   "cell_type": "code",
   "execution_count": null,
   "id": "3dcbb100",
   "metadata": {},
   "outputs": [],
   "source": [
    "# Renombra el directorio \"fc-alumno\" que acabas \n",
    "# de crear al clonar, para que se llame \"fc-alumno2\"\n"
   ]
  },
  {
   "cell_type": "markdown",
   "id": "decc7e41",
   "metadata": {},
   "source": [
    "Tras seguir los pasos anteriores, deberías tener el siguiente contenido en tu directorio actual:"
   ]
  },
  {
   "cell_type": "code",
   "execution_count": null,
   "id": "8acf0935",
   "metadata": {},
   "outputs": [],
   "source": [
    "ls"
   ]
  },
  {
   "cell_type": "markdown",
   "id": "6dd73219",
   "metadata": {},
   "source": [
    "```bash \n",
    "$ pwd\n",
    "/home/alumno/p2b-ejercicio\n",
    "$ ls\n",
    "fc-alumno1  fc-alumno2\n",
    "```\n",
    "Cada uno de esos dos directorios es una copia de tu repositorio-bitácora alojado en la nube. Puedes comprobarlo listando el contenido de cada uno de esos directorios con `ls -a fc-alumno1 fc-alumno2`, y verás que cada uno de ellos tiene a su vez un directorio `.git`."
   ]
  },
  {
   "cell_type": "code",
   "execution_count": null,
   "id": "543eb642",
   "metadata": {},
   "outputs": [],
   "source": [
    "# Entra en el directorio fc-alumno1 \n"
   ]
  },
  {
   "cell_type": "code",
   "execution_count": null,
   "id": "0d484fe4",
   "metadata": {},
   "outputs": [],
   "source": [
    "# Modifica el fichero AUTHORS\n",
    "# de forma que ahora, además de tu nombre y apellidos,\n",
    "# contenga una nueva línea con tu usuario de GitHub.\n"
   ]
  },
  {
   "cell_type": "code",
   "execution_count": null,
   "id": "19233e7c",
   "metadata": {},
   "outputs": [],
   "source": [
    "# Añade los cambios en AUTHORS al índice\n"
   ]
  },
  {
   "cell_type": "code",
   "execution_count": null,
   "id": "5b522518",
   "metadata": {},
   "outputs": [],
   "source": [
    "# Confirma los cambios al repositorio\n",
    "# con el mensaje \"Añadiendo username de GitHub\"\n"
   ]
  },
  {
   "cell_type": "code",
   "execution_count": null,
   "id": "a1061921",
   "metadata": {},
   "outputs": [],
   "source": [
    "# Modifica el fichero AUTHORS de nuevo para incluir\n",
    "# una línea nueva al final con tu subgrupo de prácticas \n"
   ]
  },
  {
   "cell_type": "code",
   "execution_count": null,
   "id": "36093ef4",
   "metadata": {},
   "outputs": [],
   "source": [
    "# Confirma los cambios en AUTHORS al repositorio.\n",
    "# (recuerda que puedes hacerlo directamente)\n",
    "# Mensaje: \"Añadiendo subgrupo de prácticas\"\n"
   ]
  },
  {
   "cell_type": "code",
   "execution_count": null,
   "id": "31dc92b1",
   "metadata": {},
   "outputs": [],
   "source": [
    "# Muestra el historial de commits\n"
   ]
  },
  {
   "cell_type": "code",
   "execution_count": null,
   "id": "1ae07b13",
   "metadata": {},
   "outputs": [],
   "source": [
    "# Envía los cambios al repositorio remoto (GitHub)\n"
   ]
  },
  {
   "cell_type": "markdown",
   "id": "9bb3364c",
   "metadata": {},
   "source": [
    "- Ve a GitHub y observa que los commits que has realizado en tu copia del repositorio local ubicada en el directorio `fc-alumno1` ahora están también en el repositorio remoto."
   ]
  },
  {
   "cell_type": "markdown",
   "id": "83b4593a",
   "metadata": {},
   "source": [
    "- Ahora vamos a ver qué ocurre si la misma rama (`master`) avanza en paralelo en dos copias distintas del repositorio. Recuerda que tanto en la copia en `fc-alumno1` como en GitHub tenemos la \"última\" versión, en la que el fichero AUTHORS tienen tu usuario de GitHub y email."
   ]
  },
  {
   "cell_type": "code",
   "execution_count": null,
   "id": "85fb62d9",
   "metadata": {},
   "outputs": [],
   "source": [
    "# Ahora cámbiate al directorio fc-alumno2\n"
   ]
  },
  {
   "cell_type": "code",
   "execution_count": null,
   "id": "2269420f",
   "metadata": {},
   "outputs": [],
   "source": [
    "# Muestra el historial de commits\n"
   ]
  },
  {
   "cell_type": "code",
   "execution_count": null,
   "id": "148e12b4",
   "metadata": {},
   "outputs": [],
   "source": [
    "# Muestra el contenido del fichero AUTHORS\n"
   ]
  },
  {
   "cell_type": "markdown",
   "id": "c16ce0ae",
   "metadata": {},
   "source": [
    "- A la vista de los dos comandos anterior, ¿por qué el contenido de AUTHORS es diferente en esta copia del repositorio?\n",
    "\n",
    "RESPUESTA (razonada): "
   ]
  },
  {
   "cell_type": "code",
   "execution_count": null,
   "id": "30d6790a",
   "metadata": {},
   "outputs": [],
   "source": [
    "# Ejecuta esta celda para crear un fichero \"README.md\"\n",
    "echo \"# Bitácora de Fundamentos de Computadores\" >> README.md"
   ]
  },
  {
   "cell_type": "code",
   "execution_count": null,
   "id": "9a7da872",
   "metadata": {},
   "outputs": [],
   "source": [
    "# Añade el fichero README.md al índice\n"
   ]
  },
  {
   "cell_type": "code",
   "execution_count": null,
   "id": "d3d1ca15",
   "metadata": {},
   "outputs": [],
   "source": [
    "# Confirma los cambios en el repositorio\n",
    "# Mensaje: \"Añadiendo fichero README\"\n"
   ]
  },
  {
   "cell_type": "code",
   "execution_count": null,
   "id": "761c4ead",
   "metadata": {},
   "outputs": [],
   "source": [
    "# Muestra el historial de commits\n"
   ]
  },
  {
   "cell_type": "code",
   "execution_count": null,
   "id": "07762976",
   "metadata": {},
   "outputs": [],
   "source": [
    "# Trata de enviar los cambios al repositorio remoto (GitHub)\n"
   ]
  },
  {
   "cell_type": "markdown",
   "id": "75c508dc",
   "metadata": {},
   "source": [
    "- ¿Qué ha ocurrido al tratar de enviar los cambios a GitHub? ¿Por qué no es posible enviar los últimos cambios (añadir fichero README.md) del repositorio al remoto?\n",
    "\n",
    "RESPUESTA:"
   ]
  },
  {
   "cell_type": "code",
   "execution_count": null,
   "id": "4461190e",
   "metadata": {},
   "outputs": [],
   "source": [
    "# Ejecuta esta celda para cambiar al directorio padre\n",
    "# de \"p2b-ejercicio, crea una copia de \"fc-alumno2\"\n",
    "# y regresar a fc-alumno2\n",
    "cd ..\n",
    "cp -r fc-alumno2 fc-alumno3\n",
    "cd fc-alumno2"
   ]
  },
  {
   "cell_type": "code",
   "execution_count": null,
   "id": "52388fa2",
   "metadata": {},
   "outputs": [],
   "source": [
    "# Ejecuta esta celda para configurar la forma de reconciliar\n",
    "# las ramas \"master\" de ambos repositorios (remoto y local en fc-alumno2)\n",
    "git config pull.rebase false"
   ]
  },
  {
   "cell_type": "code",
   "execution_count": null,
   "id": "b40cb9a0",
   "metadata": {},
   "outputs": [],
   "source": [
    "# Muestra el contenido del fichero AUTHORS\n"
   ]
  },
  {
   "cell_type": "code",
   "execution_count": null,
   "id": "1ae9f3cb",
   "metadata": {},
   "outputs": [],
   "source": [
    "# Trae los cambios que se han publicado en el repositorio\n",
    "# remoto al local\n"
   ]
  },
  {
   "cell_type": "code",
   "execution_count": null,
   "id": "2e9fd5a7",
   "metadata": {},
   "outputs": [],
   "source": [
    "# Muestra el historial de commits\n"
   ]
  },
  {
   "cell_type": "markdown",
   "id": "9a9454d4",
   "metadata": {},
   "source": [
    "- ¿Se han incorporado los cambios del remoto al repositorio local? ¿Qué estrategia se ha seguido para ello? \n",
    "\n",
    "RESPUESTA:"
   ]
  },
  {
   "cell_type": "markdown",
   "id": "45469886",
   "metadata": {},
   "source": [
    "Indica mediante su hash qué dos commits son los predecesores de la versión actual del repositorio.\n",
    "\n",
    "RESPUESTA:"
   ]
  },
  {
   "cell_type": "markdown",
   "id": "6c1bbb03",
   "metadata": {},
   "source": [
    "- ¿Cuántas versiones nuevas (commits) han aparecido en el repositorio local al obtener los cambios?\n",
    "\n",
    "RESPUESTA:"
   ]
  },
  {
   "cell_type": "code",
   "execution_count": null,
   "id": "39c7cec9",
   "metadata": {},
   "outputs": [],
   "source": [
    "# Muestra el contenido del fichero AUTHORS\n"
   ]
  },
  {
   "cell_type": "markdown",
   "id": "f0d1365c",
   "metadata": {},
   "source": [
    "- ¿Qué le ha ocurrido al contenido del fichero AUTHORS con respecto a su estado antes de traer los cambios del remoto al local?\n",
    "\n",
    "RESPUESTA:"
   ]
  },
  {
   "cell_type": "markdown",
   "id": "33845789",
   "metadata": {},
   "source": [
    "- Ve a GitHub y observa tanto el historial de commits como los ficheros que contiene en su última versión. ¿Qué diferencias observas entre el repositorio local en `fc-alumno2` y el remoto? ¿Se han incorporado los cambios del repositorio local en `fc-alumno2` al remoto en GitHub?\n",
    "\n",
    "RESPUESTA:"
   ]
  },
  {
   "attachments": {
    "image.png": {
     "image/png": "[encoded data removed]"
    }
   },
   "cell_type": "markdown",
   "id": "5c98170c",
   "metadata": {},
   "source": [
    "**Reconciliar divergencias mediante la estrategia de fusión (*merge*)**\n",
    "\n",
    "La siguiente figura muestra cómo se concilian los cambios que han hecho diverger nuestro repositorio, es decir, cómo actuar en caso de llegar a tener dos \"últimas versiones distintas\" (una en la copia local y otra en la copia remota). Al aplicar la estrategia de mezclar (*merge*) al realizar un *pull*, verás que se crea un nuevo commit que es la fusión de las dos versiones más recientes, la que tenemos en el repositorio local y la remota.\n",
    "\n",
    "En violeta tenemos la versión (*commit*) que apareció en el remoto pero que es desconocida en nuestra copia local y por tanto debe ser fusionada. Este *commit* en violeta apareció en el remoto probablemente al hacer *push* desde otra copia local ubicada en otro lugar/máquina. En turquesa tenemos el *commit* que hemos hecho en local y que aún no está en el repositorio remoto.\n",
    "\n",
    "![image.png](attachment:image.png)"
   ]
  },
  {
   "cell_type": "markdown",
   "id": "44184557",
   "metadata": {},
   "source": [
    "Ahora vamos a repetir el proceso de reconciliación entre un repositorio remoto y uno local, pero esta vez en la copia que hemos hecho en `fc-alumno3` antes de mezclar los cambios. Esta vez, vamos a configurar Git de manera diferente para que actúe siguiendo otra política a la hora de reconciliar las divergencias."
   ]
  },
  {
   "cell_type": "code",
   "execution_count": null,
   "id": "b2663be4",
   "metadata": {},
   "outputs": [],
   "source": [
    "# Cámbiate al directorio fc-alumno3\n"
   ]
  },
  {
   "cell_type": "code",
   "execution_count": null,
   "id": "7c08d27d",
   "metadata": {},
   "outputs": [],
   "source": [
    "# Ejecuta esta celda para configurar la forma de reconciliar\n",
    "# las ramas \"master\" de ambos repositorios (remoto y local en fc-alumno2)\n",
    "git config pull.rebase true"
   ]
  },
  {
   "cell_type": "code",
   "execution_count": null,
   "id": "4ef0769e",
   "metadata": {},
   "outputs": [],
   "source": [
    "# Muestra el contenido del fichero AUTHORS\n",
    "# para confirmar que sólo aparece tu nombre\n"
   ]
  },
  {
   "cell_type": "code",
   "execution_count": null,
   "id": "0429c235",
   "metadata": {},
   "outputs": [],
   "source": [
    "# Muestra el historial de commits\n"
   ]
  },
  {
   "cell_type": "markdown",
   "id": "98370147",
   "metadata": {},
   "source": [
    "- ¿Cuál es el hash del último commit al repositorio? (en el que añadiste el fichero `README.md`)\n",
    "\n",
    "RESPUESTA:"
   ]
  },
  {
   "cell_type": "markdown",
   "id": "e0cfe52b",
   "metadata": {},
   "source": [
    "- ¿Cuál es el hash del commit predecesor al último commit al repositorio? ¿Y su mensaje? \n",
    "\n",
    "RESPUESTA:"
   ]
  },
  {
   "cell_type": "code",
   "execution_count": null,
   "id": "907e9991",
   "metadata": {},
   "outputs": [],
   "source": [
    "# Trae los cambios que se han publicado en el repositorio\n",
    "# remoto al local\n"
   ]
  },
  {
   "cell_type": "code",
   "execution_count": null,
   "id": "aac84354",
   "metadata": {},
   "outputs": [],
   "source": [
    "# Muestra el historial de commits\n"
   ]
  },
  {
   "cell_type": "code",
   "execution_count": null,
   "id": "92dda831",
   "metadata": {},
   "outputs": [],
   "source": [
    "# Muestra el contenido del fichero AUTHORS\n"
   ]
  },
  {
   "cell_type": "markdown",
   "id": "f1e8da74",
   "metadata": {},
   "source": [
    "- ¿Se han incorporado los cambios del remoto al repositorio local? ¿Qué estrategia se ha seguido esta vez para ello?\n",
    "\n",
    "RESPUESTA:"
   ]
  },
  {
   "cell_type": "markdown",
   "id": "570b65e5",
   "metadata": {},
   "source": [
    "- ¿Qué ha ocurrido con  el hash del último commit al repositorio? (en el que añadiste el fichero `README.md`)\n",
    "\n",
    "RESPUESTA:"
   ]
  },
  {
   "cell_type": "markdown",
   "id": "e5324a01",
   "metadata": {},
   "source": [
    "- ¿Cuál es el hash del commit predecesor al último commit al repositorio? ¿Y su mensaje? \n",
    "\n",
    "RESPUESTA:"
   ]
  },
  {
   "cell_type": "markdown",
   "id": "5ee7bce0",
   "metadata": {},
   "source": [
    "- ¿Cuántas versiones nuevas (commits) han aparecido en el repositorio local al obtener los cambios?\n",
    "\n",
    "RESPUESTA:"
   ]
  },
  {
   "attachments": {
    "image.png": {
     "image/png": "[encoded data removed]"
    }
   },
   "cell_type": "markdown",
   "id": "b9e88b16",
   "metadata": {},
   "source": [
    "**Reconciliar divergencias mediante la estrategia de establecer una nueva base (*rebase*)**\n",
    "\n",
    "La siguiente figura muestra cómo se concilian los cambios que han hecho diverger nuestro repositorio, es decir, cómo actuar en caso de llegar a tener dos \"últimas versiones distintas\" (una en la copia local y otra en la copia remota). Al aplicar la estrategia de *rebase* al realizar un *pull*, verás que los últimos commits que han aparecido en el repositorio local (en verde) se modifican para que parezcan estar basados en el último commit conocido en el repositorio remoto (en violeta).\n",
    "\n",
    "\n",
    "![image.png](attachment:image.png)"
   ]
  },
  {
   "cell_type": "markdown",
   "id": "daad8537",
   "metadata": {},
   "source": [
    "Vamos a optar por enviar al repositorio remoto la versión actualizada que combina los cambios mediante la estrategia *merge*. Para ello, regresa al directorio `fc-alumno2` y envía los cambios:"
   ]
  },
  {
   "cell_type": "code",
   "execution_count": null,
   "id": "a9886e41",
   "metadata": {},
   "outputs": [],
   "source": [
    "# Regresa a fc-alumno2\n"
   ]
  },
  {
   "cell_type": "code",
   "execution_count": null,
   "id": "baf03d3e",
   "metadata": {},
   "outputs": [],
   "source": [
    "# Envía los últimos cambios hechos en la copia local\n",
    "# del repositorio en fc-alumno2 al repositorio remoto\n"
   ]
  },
  {
   "cell_type": "markdown",
   "id": "54c2d554",
   "metadata": {},
   "source": [
    "- Ahora, vamos a ver que también **es posible realizar cambios en tu copia del repositorio `fc-alumno` alojada en la nube desde la propia plataforma GitHub**. Para ello, usa la URL de tu repositorio para acceder al mismo, pincha sobre el fichero `README.md` y luego haz clic en el icono del lápiz (*Edit this file*). Añade una nueva línea con el nombre de la titulación (Grado en Ciencia e Ingeniería de Datos) y confirma el cambio con el mensaje sugerido en la propia rama principal del repositorio."
   ]
  },
  {
   "cell_type": "markdown",
   "id": "d0a0ea27",
   "metadata": {},
   "source": [
    "Ve al directorio fc-alumno1 y actualiza esa copia del repositorio con los cambios hechos en el remoto:"
   ]
  },
  {
   "cell_type": "code",
   "execution_count": null,
   "id": "bd745d00",
   "metadata": {},
   "outputs": [],
   "source": [
    "# Cambia al directorio de fc-alumno1\n"
   ]
  },
  {
   "cell_type": "code",
   "execution_count": null,
   "id": "93736d03",
   "metadata": {},
   "outputs": [],
   "source": [
    "# Muestra el historial de commits\n"
   ]
  },
  {
   "cell_type": "markdown",
   "id": "fc8b13da",
   "metadata": {},
   "source": [
    "Verás que esta copia del repositorio está desactualizada: su última versión no contiene el fichero `README.md` que sí existe en las otras copias locales (`fc-alumno2` y `fc-alumno3`, y en la nube)."
   ]
  },
  {
   "cell_type": "code",
   "execution_count": null,
   "id": "b1fe0ee8",
   "metadata": {},
   "outputs": [],
   "source": [
    "# Muestra el contenido del fichero README.md\n"
   ]
  },
  {
   "cell_type": "code",
   "execution_count": null,
   "id": "a4d28a97",
   "metadata": {},
   "outputs": [],
   "source": [
    "# Actualiza la copia actual del repositorio con los cambios del remoto\n"
   ]
  },
  {
   "cell_type": "code",
   "execution_count": null,
   "id": "103d8b80",
   "metadata": {},
   "outputs": [],
   "source": [
    "# Comprueba que ahora sí tienes el fichero más actualizado (con el nombre del título)\n"
   ]
  },
  {
   "cell_type": "markdown",
   "id": "c19dbe1c",
   "metadata": {},
   "source": [
    "- Finalmente, actualiza tu copia local **ORIGINAL** del repositorio-bitácora situada en el directorio personal. Una vez la hayas sincronizado con GitHub, puedes borrar las otras copias situadas en el directorio `p2b-ejercicio`."
   ]
  },
  {
   "cell_type": "code",
   "execution_count": null,
   "id": "c91fcedc",
   "metadata": {},
   "outputs": [],
   "source": [
    "# Cámbiate al directorio fc-alumno \"original\"\n"
   ]
  },
  {
   "cell_type": "code",
   "execution_count": null,
   "id": "83586476",
   "metadata": {},
   "outputs": [],
   "source": [
    "# Muestra el contenido del fichero AUTHORS\n"
   ]
  },
  {
   "cell_type": "code",
   "execution_count": null,
   "id": "280ab971",
   "metadata": {},
   "outputs": [],
   "source": [
    "# Obtén los últimos cambios que han sido publicados en el repositorio\n"
   ]
  },
  {
   "cell_type": "code",
   "execution_count": null,
   "id": "0924dc73",
   "metadata": {},
   "outputs": [],
   "source": [
    "# Muestra el contenido del fichero README.md\n"
   ]
  },
  {
   "cell_type": "markdown",
   "id": "c2f1cd02",
   "metadata": {},
   "source": [
    "<br>\n",
    "<font size=\"5\">  \n",
    "    <span style=\"color: red;\">RECUERDA: Debes guardar este notebook al terminar (CTRL+S) y confirmar los cambios en dicho fichero a tu repositorio-bitácora \"fc-alumno\"\n",
    "        </font>\n",
    "    </span>"
   ]
  },
  {
   "cell_type": "code",
   "execution_count": null,
   "id": "c5e7b824",
   "metadata": {},
   "outputs": [],
   "source": [
    "cd ~/fc-alumno"
   ]
  },
  {
   "cell_type": "code",
   "execution_count": null,
   "id": "551caca4",
   "metadata": {},
   "outputs": [],
   "source": [
    "git add practica2b-remotegit-github-ejercicios.ipynb"
   ]
  },
  {
   "cell_type": "code",
   "execution_count": null,
   "id": "7991a344",
   "metadata": {},
   "outputs": [],
   "source": [
    "git commit -m \"Trabajando en los ejercicios de la práctica 2a\""
   ]
  }
 ],
 "metadata": {
  "kernelspec": {
   "display_name": "Bash",
   "language": "bash",
   "name": "bash"
  },
  "language_info": {
   "codemirror_mode": "shell",
   "file_extension": ".sh",
   "mimetype": "text/x-sh",
   "name": "bash"
  },
  "toc": {
   "base_numbering": "1",
   "nav_menu": {},
   "number_sections": true,
   "sideBar": true,
   "skip_h1_title": true,
   "title_cell": "Table of Contents",
   "title_sidebar": "Contents",
   "toc_cell": false,
   "toc_position": {
    "height": "calc(100% - 180px)",
    "left": "10px",
    "top": "150px",
    "width": "296px"
   },
   "toc_section_display": true,
   "toc_window_display": false
  }
 },
 "nbformat": 4,
 "nbformat_minor": 5
}
