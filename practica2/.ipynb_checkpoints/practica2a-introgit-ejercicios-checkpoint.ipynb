{
 "cells": [
  {
   "cell_type": "markdown",
   "id": "7673defa",
   "metadata": {},
   "source": [
    "# Ejercicios - Práctica 2a: Control de versiones con Git"
   ]
  },
  {
   "cell_type": "markdown",
   "id": "b70d028f",
   "metadata": {},
   "source": [
    "<font size=\"4\">  \n",
    "    <span style=\"color: red;\">No olvides configurar Git para usar tu nombre y apellido(s), y tu dirección de correo electrónico universitario antes de comenzar.\n",
    "    </span>\n",
    "</font>"
   ]
  },
  {
   "cell_type": "markdown",
   "id": "1da65b82",
   "metadata": {},
   "source": [
    "Edita las primeras líneas de la siguiente celda con tu nombre y email y ejecútala para configurar tu entorno Git antes de empezar."
   ]
  },
  {
   "cell_type": "code",
   "execution_count": 1,
   "id": "ccf7e4f4",
   "metadata": {},
   "outputs": [],
   "source": [
    "# Establece tu identidad\n",
    "git config --global user.name \"jf_manzanaresgomez@um_es\"\n",
    "git config --global user.email \"Juan Fco Manzanares\"\n",
    "\n",
    "# Establece el editor por defecto\n",
    "# para los mensajes de commit\n",
    "git config --global core.editor \"gedit\"\n",
    "# Establece el nombre de la rama por defecto a \"main\"\n",
    "git config --global init.defaultBranch main"
   ]
  },
  {
   "cell_type": "markdown",
   "id": "e26bf9e0",
   "metadata": {},
   "source": [
    "<br>\n",
    "<font size=\"5\">  \n",
    "    <span style=\"color: red;\"><b>IMPORTANTE:</b><br> Añade este fichero a tu repositorio-bitácora \"fc-alumno\" <b>ANTES</b> de comenzar a realizar los ejercicios.\n",
    "    </span>\n",
    "</font>  \n",
    "<font size=\"4\">  \n",
    "    Sigue las instrucciones a continuación.\n",
    "</font>"
   ]
  },
  {
   "cell_type": "markdown",
   "id": "a8c5afb1",
   "metadata": {},
   "source": [
    "Recuerda que para poder registrar tu trabajo en tu bitácora personal de prácticas, debes evitar trabajar en una copia de este *notebook* que no esté bajo control de versiones en Git en tu repositorio. Por ello, **ANTES DE REALIZAR NINGÚN CAMBIO en este fichero asegúrate de COLOCARLO DENTRO DIRECTORIO DE TU REPOSITORIO-BITÁCORA `fc-alumno`** y añadirlo al repositorio:\n",
    "1. Cierra esta pestaña del navegador sin guardar los cambios.\n",
    "2. Muévelo desde donde lo hayas descargado del AV (p.ej. `$HOME/Descargas`) al directorio donde tengas tu repositorio (se recomienda `$HOME/fc-alumno`).\n",
    "3. Añádelo al repositorio:\n",
    "    * `git add practica2a-introgit-ejercicios.ipynb`\n",
    "    * `git commit -m \"Añadiendo el notebook de ejercicios de la práctica 2a\"`\n",
    "\n",
    "**Recuerda que debes hacer lo propio con cada notebook de prácticas antes de empezar a trabajar en él.**\n",
    "\n",
    "Tras seguir las indicaciones anteriores, al arrancar este notebook deberías observar que tu directorio de trabajo actual es `$HOME/fc-alumno` y que el comando `git log` muestra los últimos commits que realizaste a tu repositorio-bitácora. "
   ]
  },
  {
   "cell_type": "code",
   "execution_count": 4,
   "id": "8227ea24",
   "metadata": {},
   "outputs": [
    {
     "name": "stdout",
     "output_type": "stream",
     "text": [
      "/home/kiko/fc-alumno\n"
     ]
    }
   ],
   "source": [
    "pwd"
   ]
  },
  {
   "cell_type": "code",
   "execution_count": 5,
   "id": "5e5e6218",
   "metadata": {},
   "outputs": [
    {
     "name": "stdout",
     "output_type": "stream",
     "text": [
      "\u001b[33mcommit 4589cef1bb1c6b080a6f505c3650004a2706d363\u001b[m\u001b[33m (\u001b[m\u001b[1;36mHEAD -> \u001b[m\u001b[1;32mmaster\u001b[m\u001b[33m)\u001b[m\n",
      "Author: jf_manzanaresgomez@um_es <Juan Fco Manzanares>\n",
      "Date:   Mon Oct 9 17:36:39 2023 +0200\n",
      "\n",
      "    añadimos ejercicios pr2\n",
      "\n",
      "\u001b[33mcommit 6e29bd3980c182bf87444ddb23cc7f7bc1bd6ec7\u001b[m\n",
      "Author: Juan Fco Manzanares <jf_manzanaresgomez@um_es>\n",
      "Date:   Mon Oct 9 17:32:02 2023 +0200\n",
      "\n",
      "    nuevas practicas\n",
      "\n",
      "\u001b[33mcommit b9f806f250160cfc522989561388155c3e4d9542\u001b[m\n",
      "Author: Juan Fco Manzanares <jf_manzanaresgomez@um_es>\n",
      "Date:   Mon Oct 9 17:25:41 2023 +0200\n",
      "\n",
      "    pr00\n",
      "\n",
      "\u001b[33mcommit fdfef3433e6f647e4809348aaea5da332a5a6535\u001b[m\n",
      "Author: Juan Fco Manzanares <jf_manzanaresgomez@um_es>\n",
      "Date:   Mon Oct 9 17:23:55 2023 +0200\n",
      "\n",
      "    pr0\n",
      "\n",
      "\u001b[33mcommit 68dbee54e7db72e575259e52132568cd88fbe574\u001b[m\n",
      "Author: Juan Fco Manzanares <jf_manzanaresgomez@um_es>\n",
      "Date:   Mon Oct 9 17:21:32 2023 +0200\n",
      "\n",
      "    pr0\n",
      "\n",
      "\u001b[33mcommit 6f3b93c5ff6aca0c3239d7c2b0b5b60a83be1ec8\u001b[m\n",
      "Author: Juan Fco Manzanares <jf_manzanaresgomez@um_es>\n",
      "Date:   Mon Oct 9 17:19:23 2023 +0200\n",
      "\n",
      "    añadir pr2\n",
      "\n",
      "\u001b[33mcommit ef11ad577bc06b8cbee371d1651fb8d7341e40ec\u001b[m\n",
      "Author: Juan Fco Manzanares <jf_manzanaresgomez@um_es>\n",
      "Date:   Mon Oct 9 17:08:08 2023 +0200\n",
      "\n",
      "    actu2\n",
      "\n",
      "\u001b[33mcommit 580e59a82e211a45b6f2c8efd89352b7f8a24248\u001b[m\n",
      "Author: Juan Fco Manzanares <jf_manzanaresgomez@um_es>\n",
      "Date:   Mon Oct 9 17:07:29 2023 +0200\n",
      "\n",
      "    actualizacion\n",
      "\n",
      "\u001b[33mcommit 4d7b425335b39aed073e417694a182a8942229d6\u001b[m\n",
      "Author: Juan Fco Manzanares <jf_manzanaresgomez@um_es>\n",
      "Date:   Mon Oct 9 16:57:22 2023 +0200\n",
      "\n",
      "    añadiendo fichero con autores vacío\n"
     ]
    }
   ],
   "source": [
    "git log"
   ]
  },
  {
   "cell_type": "markdown",
   "id": "3c9a6d15",
   "metadata": {},
   "source": [
    "Si has seguido los pasos anteriores, el último *commit* debería ser tuyo (tu nombre y apellidos y con mensaje *Añadiendo el notebook de ejercicios de la práctica 2*). Si no es así, asegúrate de seguir los pasos anteriores correctamente."
   ]
  },
  {
   "cell_type": "markdown",
   "id": "be25f524",
   "metadata": {},
   "source": [
    "<font size=\"4\">  \n",
    "    <span style=\"color: red;\"><b>NO COMIENCES LOS EJERCICIOS</b> HASTA QUE HAYAS CONFIRMADO QUE ESTE NOTEBOOK ESTÁ BAJO CONTROL DE VERSIONES EN TU REPOSITORIO `fc-alumno`\n",
    "    </span>\n",
    "</font>    "
   ]
  },
  {
   "cell_type": "markdown",
   "id": "e0e61f4f",
   "metadata": {},
   "source": [
    "## Comandos básicos de Git: Flujo de trabajo en un repositorio local\n",
    "\n",
    "### Crear un repositorio, mostrar el estado del árbol de trabajo y versionar archivos nuevos.\n"
   ]
  },
  {
   "cell_type": "code",
   "execution_count": null,
   "id": "fd81f067",
   "metadata": {},
   "outputs": [],
   "source": [
    "# Muestra la configuración global mediante un comando git\n"
   ]
  },
  {
   "cell_type": "code",
   "execution_count": null,
   "id": "8c3526bb",
   "metadata": {},
   "outputs": [],
   "source": [
    "# Muestra el contenido del fichero \n",
    "# de configuración *GLOBAL* de git (~/.gitconfig)\n"
   ]
  },
  {
   "cell_type": "markdown",
   "id": "9c9abd3c",
   "metadata": {},
   "source": [
    "Deberías ver tu nombre y email en la configuración. Si no es así, configura Git como se indica al principio del *notebook*."
   ]
  },
  {
   "cell_type": "code",
   "execution_count": 53,
   "id": "96c574d0",
   "metadata": {},
   "outputs": [],
   "source": [
    "# Sitúate en tu directorio personal ($HOME)\n",
    "cd"
   ]
  },
  {
   "cell_type": "code",
   "execution_count": null,
   "id": "91da112d",
   "metadata": {},
   "outputs": [],
   "source": [
    "# Crea un directorio llamado \"p2a-ejercicio\"\n"
   ]
  },
  {
   "cell_type": "code",
   "execution_count": null,
   "id": "352abf5b",
   "metadata": {},
   "outputs": [],
   "source": [
    "# Cámbiate al directorio que acabas de crear\n"
   ]
  },
  {
   "cell_type": "code",
   "execution_count": null,
   "id": "2cb58bc5",
   "metadata": {},
   "outputs": [],
   "source": [
    "# Crea un repositorio vacío\n"
   ]
  },
  {
   "cell_type": "code",
   "execution_count": null,
   "id": "34019ca2",
   "metadata": {},
   "outputs": [],
   "source": [
    "# Haz un listado largo de *todos* los ficheros\n"
   ]
  },
  {
   "cell_type": "code",
   "execution_count": null,
   "id": "a49e7a8c",
   "metadata": {},
   "outputs": [],
   "source": [
    "# Ejecuta esta celda para crea un fichero \n",
    "# llamado \"git-commands\"\n",
    "echo \"LISTA DE COMANDOS DE GIT\" > git-commands"
   ]
  },
  {
   "cell_type": "code",
   "execution_count": null,
   "id": "89413566",
   "metadata": {},
   "outputs": [],
   "source": [
    "# Muestra el contenido del fichero git-commands\n"
   ]
  },
  {
   "cell_type": "code",
   "execution_count": null,
   "id": "5c63e53f",
   "metadata": {},
   "outputs": [],
   "source": [
    "# Muestra el estado del árbol de trabajo\n"
   ]
  },
  {
   "cell_type": "code",
   "execution_count": null,
   "id": "2062eccd",
   "metadata": {},
   "outputs": [],
   "source": [
    "# Añade el fichero \"git-commands\" al índice\n"
   ]
  },
  {
   "cell_type": "code",
   "execution_count": null,
   "id": "28c95973",
   "metadata": {},
   "outputs": [],
   "source": [
    "# Crea un directorio llamado \"other\"\n"
   ]
  },
  {
   "cell_type": "code",
   "execution_count": null,
   "id": "43d5224c",
   "metadata": {},
   "outputs": [],
   "source": [
    "# Copia el fichero ~/.gitconfig al directorio \"other\"\n"
   ]
  },
  {
   "cell_type": "code",
   "execution_count": null,
   "id": "04b4e4f6",
   "metadata": {},
   "outputs": [],
   "source": [
    "# Muestra el estado del árbol de trabajo\n"
   ]
  },
  {
   "cell_type": "code",
   "execution_count": null,
   "id": "97585f7d",
   "metadata": {},
   "outputs": [],
   "source": [
    "# Muestra el estado del árbol del trabajo pero sólo\n",
    "# para el directorio \"other\"\n"
   ]
  },
  {
   "cell_type": "markdown",
   "id": "d321c92e",
   "metadata": {},
   "source": [
    "- ¿En qué estado está el fichero `git-commands`?\n",
    "\n",
    "RESPUESTA: "
   ]
  },
  {
   "cell_type": "markdown",
   "id": "98602d6b",
   "metadata": {},
   "source": [
    "- ¿En qué estado está el fichero `other/.gitconfig`? \n",
    "\n",
    "RESPUESTA: "
   ]
  },
  {
   "cell_type": "markdown",
   "id": "711a651b",
   "metadata": {},
   "source": [
    "### Confirmar cambios al repositorio, ver diferencias entre áreas y ver el historial de confirmaciones"
   ]
  },
  {
   "cell_type": "code",
   "execution_count": null,
   "id": "f6704726",
   "metadata": {},
   "outputs": [],
   "source": [
    "# Confirma los cambios del índice al repositorio\n"
   ]
  },
  {
   "cell_type": "code",
   "execution_count": null,
   "id": "2f710e53",
   "metadata": {},
   "outputs": [],
   "source": [
    "# Muestra el historial de commits del repositorio\n"
   ]
  },
  {
   "cell_type": "code",
   "execution_count": null,
   "id": "6a5ba295",
   "metadata": {},
   "outputs": [],
   "source": [
    "# Edita el fichero \"git-commands\" con gedit,\n",
    "# añade los siguientes 3 comandos, guarda los \n",
    "# cambios y cierra la ventana de gedit al acabar:\n",
    "# git init: Para crear un repo vacío\n",
    "# git add: Para añadir cambios al índice (stage)\n",
    "# git commit: Para confirmar los cambios\n"
   ]
  },
  {
   "cell_type": "code",
   "execution_count": null,
   "id": "09dc940b",
   "metadata": {},
   "outputs": [],
   "source": [
    "# Muestra el estado del fichero \"git-commands\"\n"
   ]
  },
  {
   "cell_type": "code",
   "execution_count": null,
   "id": "d2d9c377",
   "metadata": {},
   "outputs": [],
   "source": [
    "# Muestra las diferencias entre la versión de\n",
    "# \"git-commands\" en el repositorio y \n",
    "# en el árbol de trabajo\n"
   ]
  },
  {
   "cell_type": "code",
   "execution_count": null,
   "id": "a612414b",
   "metadata": {},
   "outputs": [],
   "source": [
    "# Añade los cambios en \"git-commands\" al índice\n"
   ]
  },
  {
   "cell_type": "code",
   "execution_count": null,
   "id": "1d1b2208",
   "metadata": {},
   "outputs": [],
   "source": [
    "# Muestra las diferencias entre el árbol\n",
    "# de trabajo y el índice (los cambios que\n",
    "# no son candidatos a ser confirmados)\n"
   ]
  },
  {
   "cell_type": "markdown",
   "id": "2d4540a6",
   "metadata": {},
   "source": [
    "- ¿Por qué el comando anterior no muestra nada?\n",
    "\n",
    "RESPUESTA:"
   ]
  },
  {
   "cell_type": "code",
   "execution_count": null,
   "id": "a65a77f2",
   "metadata": {},
   "outputs": [],
   "source": [
    "# Muestra las diferencias entre el índice\n",
    "# y el repositorio (los cambios que\n",
    "# son candidatos a ser confirmados)\n"
   ]
  },
  {
   "cell_type": "markdown",
   "id": "1820f25b",
   "metadata": {},
   "source": [
    "El comando anterior sí debería mostrarte las tres líneas que hemos añadido al fichero."
   ]
  },
  {
   "cell_type": "code",
   "execution_count": null,
   "id": "186e5f85",
   "metadata": {},
   "outputs": [],
   "source": [
    "# Ejecuta esta celda para añadir otra línea más:\n",
    "echo \"git log: Para ver el historial de commits\" >> git-commands"
   ]
  },
  {
   "cell_type": "code",
   "execution_count": null,
   "id": "1dd9bca7",
   "metadata": {},
   "outputs": [],
   "source": [
    "# Muestra el estado del fichero \"git-commands\"\n"
   ]
  },
  {
   "cell_type": "markdown",
   "id": "5acd58fc",
   "metadata": {},
   "source": [
    "- ¿En qué estados está el fichero `git-commands` ahora?\n",
    "\n",
    "RESPUESTA:"
   ]
  },
  {
   "cell_type": "markdown",
   "id": "7b938cbd",
   "metadata": {},
   "source": [
    "- Si ejecutamos `git commmit`, ¿qué versión del fichero se confirmará al repositorio?\n",
    "    * a) La que contiene la línea de \"git log\" \n",
    "    * b) La que **NO** contiene la línea de \"git log\"\n",
    "\n",
    "RESPUESTA (razonada): "
   ]
  },
  {
   "cell_type": "code",
   "execution_count": null,
   "id": "6b4e57db",
   "metadata": {},
   "outputs": [],
   "source": [
    "# Muestra las diferencias entre el árbol \n",
    "# de trabajo y el índice\n"
   ]
  },
  {
   "cell_type": "code",
   "execution_count": null,
   "id": "d97465f5",
   "metadata": {},
   "outputs": [],
   "source": [
    "# Muestra las diferencias entre el árbol \n",
    "# de trabajo y el último commit al repositorio\n"
   ]
  },
  {
   "cell_type": "markdown",
   "id": "fa7652a4",
   "metadata": {},
   "source": [
    "- A la vista de lo anterior, ¿entre qué dos áreas de Git se muestran las diferencias con `git diff` si no especificas la opción `--staged`?\n",
    "\n",
    "RESPUESTA:"
   ]
  },
  {
   "cell_type": "code",
   "execution_count": null,
   "id": "b51bf4b9",
   "metadata": {},
   "outputs": [],
   "source": [
    "# Confirma los cambios en el índice\n"
   ]
  },
  {
   "cell_type": "code",
   "execution_count": null,
   "id": "139e43a1",
   "metadata": {},
   "outputs": [],
   "source": [
    "# Muestra las diferencias entre el árbol \n",
    "# de trabajo y el repositorio\n"
   ]
  },
  {
   "cell_type": "code",
   "execution_count": null,
   "id": "20a071ff",
   "metadata": {},
   "outputs": [],
   "source": [
    "# Muestra el estado del fichero \"git-commands\"\n"
   ]
  },
  {
   "cell_type": "code",
   "execution_count": null,
   "id": "b7d096d3",
   "metadata": {},
   "outputs": [],
   "source": [
    "# Añade al índice los cambios en \"git-commands\"\n"
   ]
  },
  {
   "cell_type": "code",
   "execution_count": null,
   "id": "c423a193",
   "metadata": {},
   "outputs": [],
   "source": [
    "# Confirma los cambios en el índice\n"
   ]
  },
  {
   "cell_type": "code",
   "execution_count": null,
   "id": "ff7ef593",
   "metadata": {},
   "outputs": [],
   "source": [
    "# Muestra el historial de commits de repositorio\n"
   ]
  },
  {
   "cell_type": "code",
   "execution_count": null,
   "id": "04b5e322",
   "metadata": {},
   "outputs": [],
   "source": [
    "# Añade al índice el contenido del directorio \"other\"\n"
   ]
  },
  {
   "cell_type": "code",
   "execution_count": null,
   "id": "7753c0e9",
   "metadata": {},
   "outputs": [],
   "source": [
    "# Muestra el estado del árbol de trabajo\n"
   ]
  },
  {
   "cell_type": "code",
   "execution_count": null,
   "id": "44774edf",
   "metadata": {},
   "outputs": [],
   "source": [
    "# Confirma los cambios en el índice\n"
   ]
  },
  {
   "cell_type": "markdown",
   "id": "1bbae4de",
   "metadata": {},
   "source": [
    "### Ubicación de un repositorio e importancia del directorio `.git`"
   ]
  },
  {
   "cell_type": "code",
   "execution_count": null,
   "id": "5a04b4d8",
   "metadata": {},
   "outputs": [],
   "source": [
    "# Sin moverte de directorio (deberías estar en \"~/p2a-ejercicio\"),\n",
    "# crea un directorio llamado \"otrorepo\"\n"
   ]
  },
  {
   "cell_type": "code",
   "execution_count": null,
   "id": "01c607d1",
   "metadata": {},
   "outputs": [],
   "source": [
    "# Cámbiate al directorio que acabas de crear\n"
   ]
  },
  {
   "cell_type": "code",
   "execution_count": null,
   "id": "9173cca1",
   "metadata": {},
   "outputs": [],
   "source": [
    "# Crea un nuevo repositorio vacío\n"
   ]
  },
  {
   "cell_type": "code",
   "execution_count": null,
   "id": "e32c8099",
   "metadata": {},
   "outputs": [],
   "source": [
    "# Muestra el historial de commits\n"
   ]
  },
  {
   "cell_type": "markdown",
   "id": "ad27b6cf",
   "metadata": {},
   "source": [
    "- ¿En qué repositorio Git estás operando ahora mismo? ¿Por qué?\n",
    "    * a) En el repositorio donde está el fichero `git-commands`\n",
    "    * b) En el repositorio vacío que acabo de crear en `otrorepo`\n",
    "   \n",
    "RESPUESTA (razonada):"
   ]
  },
  {
   "cell_type": "markdown",
   "id": "0afae419",
   "metadata": {},
   "source": [
    "- ¿Qué habría que hacer para volver a operar sobre el repositorio que contiene el fichero `git-commands`?\n",
    "\n",
    "RESPUESTA:"
   ]
  },
  {
   "cell_type": "code",
   "execution_count": null,
   "id": "299a03ba",
   "metadata": {},
   "outputs": [],
   "source": [
    "# Crea un fichero ejecutando esta celda\n",
    "echo \"Hello, world\" > hello"
   ]
  },
  {
   "cell_type": "code",
   "execution_count": null,
   "id": "11419c09",
   "metadata": {},
   "outputs": [],
   "source": [
    "# Haz que hello pase a estar en el repositorio que actualmente está vacío\n",
    "# Paso 1"
   ]
  },
  {
   "cell_type": "code",
   "execution_count": null,
   "id": "3ddccc08",
   "metadata": {},
   "outputs": [],
   "source": [
    "# Paso 2"
   ]
  },
  {
   "cell_type": "code",
   "execution_count": null,
   "id": "171e5fe2",
   "metadata": {},
   "outputs": [],
   "source": [
    "# Muestra el historial de commits\n"
   ]
  },
  {
   "cell_type": "markdown",
   "id": "8d94f119",
   "metadata": {},
   "source": [
    "- Indica la ruta **ABSOLUTA** al directorio `.git` del repositorio que únicamente contiene el fichero `hello`.\n",
    "\n",
    "RESPUESTA: "
   ]
  },
  {
   "cell_type": "code",
   "execution_count": null,
   "id": "f3a9d6da",
   "metadata": {},
   "outputs": [],
   "source": [
    "# Cambia al directorio padre del actual (padre de \"otrorepo\")\n"
   ]
  },
  {
   "cell_type": "code",
   "execution_count": null,
   "id": "b5a16eff",
   "metadata": {},
   "outputs": [],
   "source": [
    "# Muestra el historial de commits\n"
   ]
  },
  {
   "cell_type": "markdown",
   "id": "a6a09e3a",
   "metadata": {},
   "source": [
    "- A la vista de la salida de `git log`, ¿en qué repositorio estás operando ahora? Indica la ruta **ABSOLUTA** a su directorio `.git`.\n",
    "\n",
    "RESPUESTA: "
   ]
  },
  {
   "cell_type": "markdown",
   "id": "ed327b0b",
   "metadata": {},
   "source": [
    "- A la vista de todo lo anterior, explica por qué es posible tener varios repositorios Git ubicados dentro del mismo directorio en el sistema de ficheros:\n",
    "\n",
    "RESPUESTA:"
   ]
  },
  {
   "cell_type": "code",
   "execution_count": null,
   "id": "fc6ba897",
   "metadata": {},
   "outputs": [],
   "source": [
    "# Mueve el directorio \"otrorepo\" a \n",
    "# tu directorio personal ($HOME o ~)\n"
   ]
  },
  {
   "cell_type": "code",
   "execution_count": 1,
   "id": "e92d69ae",
   "metadata": {},
   "outputs": [],
   "source": []
  },
  {
   "cell_type": "code",
   "execution_count": null,
   "id": "4026d782",
   "metadata": {},
   "outputs": [],
   "source": [
    "# Muestra el historial de commits\n"
   ]
  },
  {
   "cell_type": "markdown",
   "id": "f23c34ba",
   "metadata": {},
   "source": [
    "- A la vista de la salida de `git log`, ¿es posible cambiar la ubicación o el nombre del directorio donde está el árbol de trabajo de un repositorio?\n",
    "\n",
    "RESPUESTA:"
   ]
  },
  {
   "cell_type": "code",
   "execution_count": null,
   "id": "b00f3152",
   "metadata": {},
   "outputs": [],
   "source": [
    "# Crea un directorio nuevo en \"~/Descargas/testrepo\""
   ]
  },
  {
   "cell_type": "code",
   "execution_count": null,
   "id": "3ed7277e",
   "metadata": {},
   "outputs": [],
   "source": [
    "# Cámbiate al directorio que acabas de crear"
   ]
  },
  {
   "cell_type": "code",
   "execution_count": null,
   "id": "d529a372",
   "metadata": {},
   "outputs": [],
   "source": [
    "# Ejecuta el siguiente comando:\n",
    "git status"
   ]
  },
  {
   "cell_type": "markdown",
   "id": "32af943e",
   "metadata": {},
   "source": [
    "- ¿Hay algún repositorio Git en este directorio (o alguno de sus ancestros)?\n",
    "\n",
    "RESPUESTA:"
   ]
  },
  {
   "cell_type": "code",
   "execution_count": null,
   "id": "ba2aa53d",
   "metadata": {},
   "outputs": [],
   "source": [
    "# Regresa al directorio \"otrorepo\"\n",
    "cd -"
   ]
  },
  {
   "cell_type": "code",
   "execution_count": null,
   "id": "522a34b5",
   "metadata": {},
   "outputs": [],
   "source": [
    "# Mueve el directorio \".git\" del directorio \"otrorepo\" al directorio \"~/Descargas/testrepo\"\n"
   ]
  },
  {
   "cell_type": "code",
   "execution_count": null,
   "id": "44ecaaa6",
   "metadata": {},
   "outputs": [],
   "source": [
    "# Muestra el historial de commits\n"
   ]
  },
  {
   "cell_type": "markdown",
   "id": "f3abbe40",
   "metadata": {},
   "source": [
    "- ¿Qué ha ocurrido al mover (eliminar) el directorio `.git` del directorio  `otrorepo`?\n",
    "\n",
    "RESPUESTA:"
   ]
  },
  {
   "cell_type": "code",
   "execution_count": null,
   "id": "5813ab38",
   "metadata": {},
   "outputs": [],
   "source": [
    "# Cámbiate al directorio \"~/Descargas/testrepo\"\n"
   ]
  },
  {
   "cell_type": "code",
   "execution_count": null,
   "id": "156c26cf",
   "metadata": {},
   "outputs": [],
   "source": [
    "# Lista el contenido del directorio actual\n",
    "ls"
   ]
  },
  {
   "cell_type": "markdown",
   "id": "c903a8c8",
   "metadata": {},
   "source": [
    "No debería haber ningún fichero en directorio actual."
   ]
  },
  {
   "cell_type": "code",
   "execution_count": null,
   "id": "c5085038",
   "metadata": {},
   "outputs": [],
   "source": [
    "# Ejecuta el siguiente comando\n",
    "git status"
   ]
  },
  {
   "cell_type": "code",
   "execution_count": null,
   "id": "b2be8c8d",
   "metadata": {},
   "outputs": [],
   "source": [
    "# Restaura el fichero \"hello\"\n",
    "git restore hello"
   ]
  },
  {
   "cell_type": "code",
   "execution_count": null,
   "id": "ec7ec849",
   "metadata": {},
   "outputs": [],
   "source": [
    "# Lista el contenido del directorio actual\n",
    "ls"
   ]
  },
  {
   "cell_type": "markdown",
   "id": "9a8ec5a2",
   "metadata": {},
   "source": [
    "- ¿Dónde se almacena la información que Git usa para ser capaz de restaurar el fichero \"hello\" de la celda anterior?\n",
    "\n",
    "RESPUESTA:"
   ]
  },
  {
   "cell_type": "markdown",
   "id": "db4ef628",
   "metadata": {},
   "source": [
    "Finalmente, elimina el directorio de prueba que hemos utilizado en este ejercicio."
   ]
  },
  {
   "cell_type": "code",
   "execution_count": null,
   "id": "eff77a64",
   "metadata": {},
   "outputs": [],
   "source": [
    "# Regresa al directorio \"~/p2a-ejercicio\"\n"
   ]
  },
  {
   "cell_type": "code",
   "execution_count": null,
   "id": "418e7569",
   "metadata": {},
   "outputs": [],
   "source": [
    "# Elimina el directorio \"~/Descargas/testrepo\" y el repositorio\n"
   ]
  },
  {
   "cell_type": "code",
   "execution_count": null,
   "id": "e733fa76",
   "metadata": {},
   "outputs": [],
   "source": [
    "# Elimina el directorio \"~/otrorepo\"\n"
   ]
  },
  {
   "cell_type": "markdown",
   "id": "5b2dd672",
   "metadata": {},
   "source": [
    "### Reorganizar el repositorio moviendo y borrando ficheros"
   ]
  },
  {
   "cell_type": "code",
   "execution_count": null,
   "id": "ce84031d",
   "metadata": {},
   "outputs": [],
   "source": [
    "# Cambia el nombre al fichero \"git-commands\"\n",
    "# para que pase a llamarse \"git-commands.txt\"\n",
    "# en el repositorio\n"
   ]
  },
  {
   "cell_type": "code",
   "execution_count": null,
   "id": "eea9aa60",
   "metadata": {},
   "outputs": [],
   "source": [
    "# Muestra el estado del árbol de trabajo\n"
   ]
  },
  {
   "cell_type": "code",
   "execution_count": null,
   "id": "b7d66d3a",
   "metadata": {},
   "outputs": [],
   "source": [
    "# Confirma el cambio de nombre\n"
   ]
  },
  {
   "cell_type": "code",
   "execution_count": null,
   "id": "f1c77081",
   "metadata": {},
   "outputs": [],
   "source": [
    "# Crea un directorio llamado \"notas\""
   ]
  },
  {
   "cell_type": "code",
   "execution_count": null,
   "id": "74e4872b",
   "metadata": {},
   "outputs": [],
   "source": [
    "# Mueve el fichero \"git-commands.txt\" para que\n",
    "# pase a estar ubicado en el directorio \"notas\"\n",
    "# y siga perteneciendo al repositorio"
   ]
  },
  {
   "cell_type": "code",
   "execution_count": null,
   "id": "19447328",
   "metadata": {},
   "outputs": [],
   "source": [
    "# Muestra el estado del árbol de trabajo\n"
   ]
  },
  {
   "cell_type": "code",
   "execution_count": null,
   "id": "0f9662cf",
   "metadata": {},
   "outputs": [],
   "source": [
    "# Confirma el cambio de ubicación del fichero\n"
   ]
  },
  {
   "cell_type": "code",
   "execution_count": null,
   "id": "f939ff7e",
   "metadata": {},
   "outputs": [],
   "source": [
    "# Elimina recursivamente todos los ficheros \n",
    "# del directorio \"other\" del repositorio\n",
    "# PISTA: usa opción '-r'\n"
   ]
  },
  {
   "cell_type": "code",
   "execution_count": null,
   "id": "ef57e593",
   "metadata": {},
   "outputs": [],
   "source": [
    "# Muestra el estado del árbol de trabajo\n"
   ]
  },
  {
   "cell_type": "code",
   "execution_count": null,
   "id": "447c7cf1",
   "metadata": {},
   "outputs": [],
   "source": [
    "# Confirma la eliminación\n"
   ]
  },
  {
   "cell_type": "markdown",
   "id": "f9b3eb5f",
   "metadata": {},
   "source": [
    "### Restaurar ficheros a su estado anterior, deshacer cambios y volver a versiones anteriores"
   ]
  },
  {
   "cell_type": "code",
   "execution_count": null,
   "id": "a49b188b",
   "metadata": {},
   "outputs": [],
   "source": [
    "# Ejecuta esta celda para crear un fichero\n",
    "echo \"Algunos trucos\" > git-tricks"
   ]
  },
  {
   "cell_type": "code",
   "execution_count": null,
   "id": "e2f029a2",
   "metadata": {},
   "outputs": [],
   "source": [
    "# Añade el fichero `git-tricks` al índice\n"
   ]
  },
  {
   "cell_type": "code",
   "execution_count": null,
   "id": "07aa5d97",
   "metadata": {},
   "outputs": [],
   "source": [
    "# Muestra el estado de `git-tricks` en el árbol de trabajo\n"
   ]
  },
  {
   "cell_type": "code",
   "execution_count": null,
   "id": "b06af84e",
   "metadata": {},
   "outputs": [],
   "source": [
    "# Saca \"git-tricks\" del índice para que vuelva a estar \n",
    "# en estado \"ignorado\" (sin seguimiento)\n"
   ]
  },
  {
   "cell_type": "code",
   "execution_count": null,
   "id": "d7dcb84a",
   "metadata": {},
   "outputs": [],
   "source": [
    "# Muestra el estado de `git-tricks` en el árbol de trabajo\n"
   ]
  },
  {
   "cell_type": "code",
   "execution_count": null,
   "id": "c968bec1",
   "metadata": {},
   "outputs": [],
   "source": [
    "# Haz que \"git-tricks\" pase estar en el repositorio\n",
    "# Paso 1\n"
   ]
  },
  {
   "cell_type": "code",
   "execution_count": null,
   "id": "0334a19b",
   "metadata": {},
   "outputs": [],
   "source": [
    "# Paso 2\n"
   ]
  },
  {
   "cell_type": "code",
   "execution_count": null,
   "id": "42cdb955",
   "metadata": {},
   "outputs": [],
   "source": [
    "# Modifica el contenido del fichero ejecutando esta celda\n",
    "echo \"- Hacer directamente 'git commit FICHERO' sin añadir al índice\" >> git-tricks"
   ]
  },
  {
   "cell_type": "code",
   "execution_count": null,
   "id": "60cbf09e",
   "metadata": {},
   "outputs": [],
   "source": [
    "# Muestra el estado de `git-tricks` en el árbol de trabajo\n"
   ]
  },
  {
   "cell_type": "code",
   "execution_count": 4,
   "id": "f9b7063e",
   "metadata": {},
   "outputs": [],
   "source": [
    "# Muestra los cambios en `git-tricks` en el árbol de trabajo\n"
   ]
  },
  {
   "cell_type": "code",
   "execution_count": null,
   "id": "6c36abf7",
   "metadata": {},
   "outputs": [],
   "source": [
    "# Descarta los cambios que hayas realizado en \"git-tricks\"\n",
    "# para que vuelva a estar en estado \"no modificado\"\n"
   ]
  },
  {
   "cell_type": "code",
   "execution_count": 5,
   "id": "bcae47dc",
   "metadata": {},
   "outputs": [],
   "source": [
    "# Muestra los cambios en `git-tricks` en el árbol de trabajo\n"
   ]
  },
  {
   "cell_type": "code",
   "execution_count": null,
   "id": "68b1a7ba",
   "metadata": {},
   "outputs": [],
   "source": [
    "# Modifica de nuevo el contenido del fichero ejecutando esta celda\n",
    "echo \"- Hacer directamente 'git commit FICHERO' sin añadir al índice\" >> git-tricks"
   ]
  },
  {
   "cell_type": "code",
   "execution_count": null,
   "id": "92246666",
   "metadata": {},
   "outputs": [],
   "source": [
    "# Muestra el estado de `git-tricks` en el árbol de trabajo\n"
   ]
  },
  {
   "cell_type": "code",
   "execution_count": 52,
   "id": "13d9eaad",
   "metadata": {},
   "outputs": [],
   "source": [
    "# Prueba a confirmar directamente la versión \n",
    "# actual de `git-tricks` al repositorio\n",
    "# (sin pasar por el índice)\n"
   ]
  },
  {
   "cell_type": "code",
   "execution_count": null,
   "id": "4f4c1e90",
   "metadata": {},
   "outputs": [],
   "source": [
    "# Muestra el estado de `git-tricks` en el árbol de trabajo\n"
   ]
  },
  {
   "cell_type": "markdown",
   "id": "16d2f593",
   "metadata": {},
   "source": [
    "### Mostrar diferencias entre versiones del repositorio y deshacer *commits*"
   ]
  },
  {
   "cell_type": "code",
   "execution_count": null,
   "id": "4745b727",
   "metadata": {},
   "outputs": [],
   "source": [
    "# Muestra el historial de commits\n"
   ]
  },
  {
   "cell_type": "code",
   "execution_count": null,
   "id": "0199a617",
   "metadata": {},
   "outputs": [],
   "source": [
    "# Muestra las diferencias entre el primer\n",
    "# y el segundo commit al repositorio\n"
   ]
  },
  {
   "cell_type": "code",
   "execution_count": null,
   "id": "9167a4fd",
   "metadata": {},
   "outputs": [],
   "source": [
    "# Muestra las diferencias entre el segundo\n",
    "# y el tercer commit al repositorio\n"
   ]
  },
  {
   "cell_type": "code",
   "execution_count": null,
   "id": "c294e50c",
   "metadata": {},
   "outputs": [],
   "source": [
    "# Muestra las diferencias entre el primer\n",
    "# y el tercer commit al repositorio\n"
   ]
  },
  {
   "cell_type": "code",
   "execution_count": null,
   "id": "a6224d94",
   "metadata": {},
   "outputs": [],
   "source": [
    "# Haz un commit que deshaga el último cambio en el repositorio\n"
   ]
  },
  {
   "cell_type": "code",
   "execution_count": null,
   "id": "9e3fda28",
   "metadata": {},
   "outputs": [],
   "source": [
    "# Muestra el contenido del fichero \"git-tricks\" para confirmar que se ha deshecho el último commit\n"
   ]
  },
  {
   "cell_type": "code",
   "execution_count": null,
   "id": "ac88805d",
   "metadata": {},
   "outputs": [],
   "source": [
    "# Muestra el historial de commits.\n"
   ]
  },
  {
   "cell_type": "markdown",
   "id": "c2f1cd02",
   "metadata": {},
   "source": [
    "<br>\n",
    "<font size=\"5\">  \n",
    "    <span style=\"color: red;\">RECUERDA: Debes guardar este notebook al terminar (CTRL+S) y confirmar los cambios en dicho fichero a tu repositorio-bitácora \"fc-alumno\"\n",
    "    </span>\n",
    "</font>\n"
   ]
  },
  {
   "cell_type": "code",
   "execution_count": null,
   "id": "e4c04c95",
   "metadata": {},
   "outputs": [],
   "source": [
    "cd ~/fc-alumno"
   ]
  },
  {
   "cell_type": "code",
   "execution_count": null,
   "id": "262017f8",
   "metadata": {},
   "outputs": [],
   "source": [
    "git add practica2a-introgit-ejercicios.ipynb"
   ]
  },
  {
   "cell_type": "code",
   "execution_count": null,
   "id": "21667abf",
   "metadata": {},
   "outputs": [],
   "source": [
    "git commit -m \"Trabajando en los ejercicios de la práctica 2a\""
   ]
  }
 ],
 "metadata": {
  "kernelspec": {
   "display_name": "Bash",
   "language": "bash",
   "name": "bash"
  },
  "language_info": {
   "codemirror_mode": "shell",
   "file_extension": ".sh",
   "mimetype": "text/x-sh",
   "name": "bash"
  },
  "toc": {
   "base_numbering": "1",
   "nav_menu": {},
   "number_sections": true,
   "sideBar": true,
   "skip_h1_title": true,
   "title_cell": "Table of Contents",
   "title_sidebar": "Contents",
   "toc_cell": false,
   "toc_position": {
    "height": "calc(100% - 180px)",
    "left": "10px",
    "top": "150px",
    "width": "296px"
   },
   "toc_section_display": true,
   "toc_window_display": true
  }
 },
 "nbformat": 4,
 "nbformat_minor": 5
}
