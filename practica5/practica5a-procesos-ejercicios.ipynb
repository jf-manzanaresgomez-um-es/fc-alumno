{
 "cells": [
  {
   "cell_type": "markdown",
   "id": "8e983960",
   "metadata": {},
   "source": [
    "# Ejercicios - Práctica 5a: Procesos en el *shell* de Linux."
   ]
  },
  {
   "cell_type": "markdown",
   "id": "12603fc2",
   "metadata": {},
   "source": [
    "<font size=\"4\">  \n",
    "    <span style=\"color: red;\">No olvides configurar Git para usar tu nombre y apellido(s), y tu dirección de correo electrónico universitario antes de comenzar.\n",
    "    </span>\n",
    "</font>\n",
    "\n",
    "Edita las primeras líneas de la siguiente celda con tu nombre y email y ejecútala para configurar tu entorno Git antes de empezar."
   ]
  },
  {
   "cell_type": "code",
   "execution_count": null,
   "id": "9f68a80c",
   "metadata": {},
   "outputs": [],
   "source": [
    "# Establece tu identidad\n",
    "git config --global user.name \"Nombre Apellido1 [Apellido2]\"\n",
    "git config --global user.email \"alumno@um.es\"\n",
    "\n",
    "# Establece el editor por defecto\n",
    "# para los mensajes de commit\n",
    "git config --global core.editor \"gedit\""
   ]
  },
  {
   "cell_type": "markdown",
   "id": "1eceb1f9",
   "metadata": {},
   "source": [
    "<br>\n",
    "<font size=\"5\">  \n",
    "    <span style=\"color: red;\"><b>IMPORTANTE:</b><br> Añade este fichero a tu repositorio-bitácora \"fc-alumno\" <b>ANTES</b> de comenzar a realizar los ejercicios.\n",
    "    </span>\n",
    "</font>  \n",
    "<font size=\"4\">  \n",
    "    Sigue las instrucciones a continuación.\n",
    "</font>"
   ]
  },
  {
   "cell_type": "markdown",
   "id": "5585b1f2",
   "metadata": {},
   "source": [
    "Recuerda que para poder registrar tu trabajo en tu bitácora personal de prácticas, debes evitar trabajar en una copia de este *notebook* que no esté bajo control de versiones en Git en tu repositorio. Por ello, **ANTES DE REALIZAR NINGÚN CAMBIO en este fichero asegúrate de COLOCARLO DENTRO DIRECTORIO DE TU REPOSITORIO-BITÁCORA `fc-alumno`** y añadirlo al repositorio:\n",
    "1. Cierra esta pestaña del navegador sin guardar los cambios.\n",
    "2. Muévelo desde donde lo hayas descargado del AV (p.ej. `$HOME/Descargas`) al directorio donde tengas tu repositorio (se recomienda `$HOME/fc-alumno`).\n",
    "3. Añádelo al repositorio:\n",
    "    * `git add practica5a-procesos-ejercicios.ipynb`\n",
    "    * `git commit -m \"Añadiendo el notebook de ejercicios de la práctica 5a (sin empezar)\"`"
   ]
  },
  {
   "cell_type": "markdown",
   "id": "5f67155f",
   "metadata": {},
   "source": [
    "<br>\n",
    "<font size=\"5\">  \n",
    "    <span style=\"color: red;\"><b>ATENCIÓN:</b><br>Se recomienda realizar los ejercicios propuestos de este boletín en un terminal independiente, ya que la mayoría de ellos <b>no pueden llevarse a cabo en Jupyter</b> debido a que es necesario interactuar con el programa lanzado mediante el teclado durante su ejecución. \n",
    "    </span>\n",
    "    <br><br>\n",
    "    Utiliza el <i>notebook</i> únicamente para responder a las preguntas o introducir el comando requerido en las celdas de código, una vez lo hayas ejecutado en otro terminal.\n",
    "</font>  \n"
   ]
  },
  {
   "cell_type": "markdown",
   "id": "c61e6f57",
   "metadata": {},
   "source": [
    "### Control de procesos en primer y segundo plano"
   ]
  },
  {
   "cell_type": "markdown",
   "id": "043a0cc4-5e30-43d1-ac07-a2ea82d73652",
   "metadata": {},
   "source": [
    "- Lanza el programa `gedit` desde un terminal, y luego pulsa `Ctrl-C` para enviar al proceso una señal de terminación. ¿Puedes terminar su ejecución de esta forma? ¿Por qué? ¿A qué proceso le llega la señal `SIGINT` enviada al pulsar `Ctrl-C`?\n",
    "\n",
    "RESPUESTA (razonada): Sí, porque por defecto el shell lanza los procesos en primer plano. Al proceso gedit lanzado."
   ]
  },
  {
   "cell_type": "markdown",
   "id": "038ef6a8",
   "metadata": {},
   "source": [
    "Vuelve a lanzar el mismo programa, esta vez en segundo plano, y tras hacerlo, pulsa de nuevo `Ctrl-C`. ¿Puedes terminar su ejecución así? ¿Por qué? ¿A qué proceso le llega esta vez la señal `SIGINT`?\n",
    "\n",
    "RESPUESTA (razonada): No, porque al lanzar gedit en segundo plano, la señal de interrupción no le llega a dicho proceso sino a propio shell, que se está ejecutando en primer plano para atender nuestros comandos."
   ]
  },
  {
   "cell_type": "code",
   "execution_count": null,
   "id": "d2eea050",
   "metadata": {},
   "outputs": [],
   "source": [
    "# Comando para lanzar gedit en segundo plano\n"
   ]
  },
  {
   "cell_type": "markdown",
   "id": "34002cc0",
   "metadata": {},
   "source": [
    "- ¿Qué comando utilizarías para poder terminar el comando lanzado anteriormente sabiendo su PID?"
   ]
  },
  {
   "cell_type": "code",
   "execution_count": null,
   "id": "91497829",
   "metadata": {},
   "outputs": [],
   "source": [
    "# Comando para terminar la ejecución del proceso lanzado a partir del nombre del programa\n"
   ]
  },
  {
   "cell_type": "markdown",
   "id": "71867479-8914-42fb-8ba8-ba12ad70dd14",
   "metadata": {},
   "source": [
    "- Una vez terminada la ejecución del comando anterior, sin teclear ningún comando, presiona repetidamente `Ctrl-C`. ¿Qué ocurre cada vez que lo haces? ¿Es posible terminar la ejecución del shell de esa forma?\n",
    "\n",
    "RESPUESTA (razonada):  El shell ignora la señal SIGINT y cada vez que la recibe, simplemente vuelve a mostrar el prompt. No es posible terminar el shell así, sino que la forma habitual de hacerlo es con el comando `exit`."
   ]
  },
  {
   "cell_type": "markdown",
   "id": "07b435d3-cc1f-4f5c-b34e-b3e1ef843226",
   "metadata": {},
   "source": [
    "- Lanza los programas `okteta` y `gedit` desde el terminal, ambos en primer plano, como una secuencia de comandos consecutivos, en la misma línea de la siguiente celda:"
   ]
  },
  {
   "cell_type": "code",
   "execution_count": null,
   "id": "8bb9c999-744b-48b8-b30d-2d06cd04baec",
   "metadata": {},
   "outputs": [],
   "source": [
    "# Lanzar okteta y después gedit, ambos en primer plano\n"
   ]
  },
  {
   "cell_type": "markdown",
   "id": "6ebc93a7",
   "metadata": {},
   "source": [
    "- ¿Qué ha de ocurrir para que comience a ejecutarse el editor `gedit`? ¿Cuándo se completa la ejecución de la celda del notebook?\n",
    "\n",
    "RESPUESTA (razonada): Hasta que no cerramos la ventana de okteta no se lanza gedit. La celda del notebook se queda en ejecución hasta que no cerramos gedit."
   ]
  },
  {
   "cell_type": "markdown",
   "id": "6f7a601c-0136-4e19-b8f5-ee8b05a7ce0c",
   "metadata": {},
   "source": [
    "- Vuelve a lanzar los dos programas en una misma línea de comandos, pero esta vez en segundo plano."
   ]
  },
  {
   "cell_type": "code",
   "execution_count": null,
   "id": "552cf1f7-6670-413d-ae47-9d5fc1ba9a25",
   "metadata": {},
   "outputs": [],
   "source": [
    "# Lanzar okteta y después gedit, ambos en segundo plano\n"
   ]
  },
  {
   "cell_type": "markdown",
   "id": "b4948205-22c4-44fb-9532-47b40855f089",
   "metadata": {},
   "source": [
    "- Usa el comando adecuado para pasar a primer plano el último proceso que se lanzó (el editor `gedit`).\n",
    "\n",
    "RESPUESTA: "
   ]
  },
  {
   "cell_type": "markdown",
   "id": "f4576b30",
   "metadata": {},
   "source": [
    "- Desde el terminal, termina el proceso que acabas de pasar a primer plano. ¿Qué teclas o comando has utilizado?\n",
    "\n",
    "RESPUESTA: "
   ]
  },
  {
   "cell_type": "markdown",
   "id": "2a2a49f9-1684-4f43-b518-f646fa9af5b2",
   "metadata": {},
   "source": [
    "- Repite el comando `fg` para hacer lo propio con el comando anterior (`okteta`), pero esta vez, en lugar de terminarlo, páralo. ¿Qué combinación de teclas has utilizado?\n",
    "\n",
    "RESPUESTA: "
   ]
  },
  {
   "cell_type": "markdown",
   "id": "0f4215bc",
   "metadata": {},
   "source": [
    "- Trata de interactuar con el proceso `okteta`, ¿por qué no responde al ratón ni al teclado?\n",
    "\n",
    "RESPUESTA: "
   ]
  },
  {
   "cell_type": "markdown",
   "id": "e509880d",
   "metadata": {},
   "source": [
    "- Vuelve a despertar el proceso `okteta` pero esta vez en segundo plano. ¿Qué comando has de utilizar?\n",
    "\n",
    "RESPUESTA: "
   ]
  },
  {
   "cell_type": "markdown",
   "id": "c582f37f",
   "metadata": {},
   "source": [
    "- Usa la orden adecuada para listar los procesos lanzados desde el terminal donde estás ejecutando los comandos anteriores."
   ]
  },
  {
   "cell_type": "code",
   "execution_count": null,
   "id": "c989208a",
   "metadata": {},
   "outputs": [],
   "source": [
    "# Comando para monitorizar los procesos activos lanzados en este terminal\n"
   ]
  },
  {
   "cell_type": "markdown",
   "id": "559c6d51-fb7e-4aa8-8bbc-a7066eadf691",
   "metadata": {},
   "source": [
    "SALIDA:\n",
    "```\n",
    "    PID TTY          TIME CMD\n",
    "  19422 pts/5    00:00:00 bash\n",
    "  27254 pts/5    00:00:01 okteta\n",
    "  28051 pts/5    00:00:00 ps\n",
    "```"
   ]
  },
  {
   "cell_type": "markdown",
   "id": "80a20a8a-14a2-4f48-8517-f464f2a6122b",
   "metadata": {},
   "source": [
    "- Finalmente, termina el proceso `okteta` desde el terminal esta vez usando el PID (identificador del proceso) que nos indicó el terminal al lanzar el proceso inicialmente."
   ]
  },
  {
   "cell_type": "code",
   "execution_count": null,
   "id": "9f86707c",
   "metadata": {},
   "outputs": [],
   "source": [
    "# Comando para terminar el proceso lanzado en segundo plano\n"
   ]
  },
  {
   "cell_type": "markdown",
   "id": "e7cee5ac-bcec-4e17-baf4-c53759766a8a",
   "metadata": {},
   "source": [
    "- Lanza de nuevo los programas `okteta` y `gedit`, en dicho orden, pero esta vez únicamente con `okteta` en segundo plano. ¿Qué ocurre si ahora pulsas `Ctrl-C` en el terminal?\n",
    "\n",
    "RESPUESTA (razonada): "
   ]
  },
  {
   "cell_type": "markdown",
   "id": "00c51ed8",
   "metadata": {},
   "source": [
    "- Usando el comando adecuado, averigua el PID del proceso que está ejecutando `okteta` a partir de su nombre."
   ]
  },
  {
   "cell_type": "code",
   "execution_count": null,
   "id": "9f9f5985",
   "metadata": {},
   "outputs": [],
   "source": [
    "# Comando para averiguar el PID del un proceso por el nombre del comando ejecutado\n"
   ]
  },
  {
   "cell_type": "markdown",
   "id": "4a8907ca-3ed5-4e68-8b42-1372181296e8",
   "metadata": {},
   "source": [
    "- Termina el programa `okteta` sin necesidad de introducir su PID"
   ]
  },
  {
   "cell_type": "code",
   "execution_count": null,
   "id": "57ccec94-bb9e-4744-a562-6ee857476af2",
   "metadata": {},
   "outputs": [],
   "source": []
  },
  {
   "cell_type": "markdown",
   "id": "f715191f-fce5-40c7-a9f0-049d7de99b3b",
   "metadata": {},
   "source": [
    "- Descarga el programa ejecutable `uninterruptible`, el cual tienes disponible a través del AV. Ejecútalo en primer plano y prueba a terminar su ejecución con `CTRL-C`. ¿Puedes? Explica qué semejanzas crees que tiene este programa con el programa *shell* en cuanto al tratamiento de la señal `SIGINT`.\n",
    "\n",
    "RESPUESTA: "
   ]
  },
  {
   "cell_type": "markdown",
   "id": "3a223cf7-f83c-4a9b-8ea4-2002b8f5ea08",
   "metadata": {},
   "source": [
    "- Detén la ejecución del programa lanzado anteriormente, sin terminarlo. Después lista los procesos lanzados en el terminal, ¿cuánto tiempo ha usado la CPU el programa `uninterruptible` antes de ser detenido? Si vuelves a listar los procesos, ¿ha variado el tiempo de CPU?\n",
    "\n",
    "RESPUESTA: "
   ]
  },
  {
   "cell_type": "markdown",
   "id": "2959ee8e-3cd7-4eec-8478-0cfe7dc0ef4d",
   "metadata": {},
   "source": [
    "- Reanuda en segundo plano la ejecución del programa detenido anteriormente, y usa el comando adecuado para observar periódicamente el tiempo de CPU que lleva consumido. ¿Qué porcentaje de la CPU usa cuando está en ejecución? ¿En qué medida crece el tiempo de uso de la CPU con respecto al tiempo \"del reloj de pared\" (medido por una persona)?\n",
    "\n",
    "RESPUESTA: "
   ]
  },
  {
   "cell_type": "markdown",
   "id": "12e5101a-68ef-42e0-a9c2-e5a82f5261d5",
   "metadata": {},
   "source": [
    "- Termina el programa `uninterruptible`, ya sea por su nombre o PID, enviando la señal `SIGTERM`. ¿Puedes terminar el proceso? Indica el comando que has utilizado.\n",
    "\n",
    "RESPUESTA: "
   ]
  },
  {
   "cell_type": "markdown",
   "id": "a67dede5",
   "metadata": {},
   "source": [
    "- A la vista de la salida del programa `uninterruptible` terminado en el paso anterior, ¿crees que el programa termina súbitamente al recibir la señal, o lo hace por sus propios medios?\n",
    "\n",
    "RESPUESTA: "
   ]
  },
  {
   "cell_type": "markdown",
   "id": "5cbaf5da-0fb9-4a71-abef-dfd0b6283cb4",
   "metadata": {},
   "source": [
    "- Descarga el programa `stubborn` del AV. Ejecútalo en primer plano y prueba a terminar su ejecución con `CTRL-C`. ¿Qué ocurre? De nuevo, observa los procesos en ejecución con el comando adecuado, ¿cuál es su uso de CPU?\n",
    "\n",
    "RESPUESTA: "
   ]
  },
  {
   "cell_type": "markdown",
   "id": "8e8df847-5afc-4622-b5f9-3955cabf9832",
   "metadata": {},
   "source": [
    "- Detén la ejecución del programa lanzado anteriormente, sin terminarlo, y luego reanuda en segundo plano su ejecución. Después, trata de terminar el programa `stubborn`, ya sea por su nombre o PID, enviando la señal `SIGTERM` al igual que has hecho anteriormente. ¿Puedes terminar el proceso de esta forma?\n",
    "\n",
    "RESPUESTA: "
   ]
  },
  {
   "cell_type": "markdown",
   "id": "8bac5a7f",
   "metadata": {},
   "source": [
    "- A la vista de lo anterior, ¿de qué forma podemos terminar el proceso `stubborn`? Indica el comando.\n",
    "\n",
    "RESPUESTA: "
   ]
  },
  {
   "cell_type": "markdown",
   "id": "b33cb824",
   "metadata": {},
   "source": [
    "### Listado y monitorización de procesos"
   ]
  },
  {
   "cell_type": "markdown",
   "id": "d9456ca4",
   "metadata": {},
   "source": [
    "- Usa el comando adecuado para mostrar **todos** los procesos que se están ejecutando actualmente en el sistema."
   ]
  },
  {
   "cell_type": "code",
   "execution_count": null,
   "id": "dcbfdbf2",
   "metadata": {},
   "outputs": [],
   "source": []
  },
  {
   "cell_type": "markdown",
   "id": "4f9ed984",
   "metadata": {},
   "source": [
    "- Localiza tres procesos cuyo propietario sea nuestro usuario, y otros tres cuyo propietario sea el superusuario (root). Pega la línea completa mostrada para cada proceso.\n",
    "\n",
    "RESPUESTA:"
   ]
  },
  {
   "cell_type": "markdown",
   "id": "50897f10",
   "metadata": {},
   "source": [
    "- Localiza el proceso que ha consumido más tiempo de CPU. Pega la línea completa mostrada.\n",
    "\n",
    "RESPUESTA:"
   ]
  },
  {
   "cell_type": "markdown",
   "id": "52e16c59",
   "metadata": {},
   "source": [
    "- Localiza también el último que se lanzó, mirando las horas de inicio. Pega la línea completa mostrada.\n",
    "\n",
    "RESPUESTA:"
   ]
  },
  {
   "cell_type": "markdown",
   "id": "78d785a5",
   "metadata": {},
   "source": [
    "- Lanza desde la interfaz de usuario el navegador firefox, y navega hasta la página `www.google.es`, mientras observas mediante `top` la evolución dinámica del consumo de memoria y CPU de los procesos involucrados.  Puedes dividir la pantalla entre ambas ventanas, terminal y navegador, para observar la salida de top mientras navegas. Luego, prueba a navegar a la página `www.youtube.com`. ¿En cuál de las dos páginas se hace más uso de la CPU?\n",
    "\n",
    "RESPUESTA (razonada): "
   ]
  },
  {
   "cell_type": "markdown",
   "id": "03a93d11",
   "metadata": {},
   "source": [
    "### Redireccionamiento de la entrada/salida de un proceso"
   ]
  },
  {
   "cell_type": "code",
   "execution_count": null,
   "id": "493203c3-ee8c-47fb-ac18-6446131d97e3",
   "metadata": {},
   "outputs": [],
   "source": [
    "# Lista todos los ficheros en `/usr/bin/` cuyo nombre empiece por 'l'\n",
    "# y tenga exactamente dos caracteres\n"
   ]
  },
  {
   "cell_type": "code",
   "execution_count": null,
   "id": "703757b1-f7ea-451e-9683-a4613d702c3c",
   "metadata": {},
   "outputs": [],
   "source": [
    "# Repite el comando anterior, redireccionando la salida a un fichero llamado progs-l.txt\n"
   ]
  },
  {
   "cell_type": "code",
   "execution_count": null,
   "id": "9c8b8a14-e560-4fa0-8824-3fc172cd2b1e",
   "metadata": {},
   "outputs": [],
   "source": [
    "# Muestra el contenido del fichero progs-l.txt\n"
   ]
  },
  {
   "cell_type": "code",
   "execution_count": null,
   "id": "6ed0e4e5-80f7-40eb-80b8-bcc2be9e5f92",
   "metadata": {},
   "outputs": [],
   "source": [
    "# Añade al final de dicho fichero un mensaje que diga \"FIN DEL LISTADO\", usando `echo` y la redirección\n"
   ]
  },
  {
   "cell_type": "code",
   "execution_count": null,
   "id": "a0a027d5-64d8-46e9-a0f5-31770ab674c0",
   "metadata": {},
   "outputs": [],
   "source": [
    "# Muestra de nuevo el contenido del fichero\n"
   ]
  },
  {
   "cell_type": "code",
   "execution_count": null,
   "id": "40297afb-a388-492e-a377-bb69951a011a",
   "metadata": {},
   "outputs": [],
   "source": [
    "# Utilizando el comando ls con la opción adecuada y la redirección de la salida estándar/de error,\n",
    "# averigua sobre qué subdirectorios de /etc no tienes permisos de acceso. PISTA: usa /dev/null\n",
    "# para descartar la salida que no te interese.\n"
   ]
  },
  {
   "cell_type": "code",
   "execution_count": null,
   "id": "ff133717-ed86-48c9-9f50-b0ba0f50c4e6",
   "metadata": {},
   "outputs": [],
   "source": [
    "# Crea dos directorios, llamados dir1 y dir2\n"
   ]
  },
  {
   "cell_type": "code",
   "execution_count": null,
   "id": "f84145d8",
   "metadata": {},
   "outputs": [],
   "source": [
    "# Copia el fichero stubborn a dir1\n"
   ]
  },
  {
   "cell_type": "code",
   "execution_count": null,
   "id": "4948b60a",
   "metadata": {},
   "outputs": [],
   "source": [
    "# Copia el fichero uninterruptible a dir2\n"
   ]
  },
  {
   "cell_type": "code",
   "execution_count": null,
   "id": "8378626f",
   "metadata": {},
   "outputs": [],
   "source": [
    "# Lista el contenido de dir1 y dir2 en un mismo comando\n"
   ]
  },
  {
   "cell_type": "code",
   "execution_count": null,
   "id": "c118b18c",
   "metadata": {},
   "outputs": [],
   "source": [
    "# Cambia los permisos a dir2 para que nadie tenga acceso\n"
   ]
  },
  {
   "cell_type": "code",
   "execution_count": null,
   "id": "0f4b1d2c-f73b-4a04-804e-4ccd0c406fad",
   "metadata": {},
   "outputs": [],
   "source": [
    "# Listar el contenido de dir1 y dir2 en un mismo comando\n"
   ]
  },
  {
   "cell_type": "code",
   "execution_count": null,
   "id": "5e379716-ef05-4bcd-a1a9-1f0bcc1d0e54",
   "metadata": {},
   "outputs": [],
   "source": [
    "# Utilizando la redirección de la salida estándar/de error, lista\n",
    "# los directorios dir1 y dir2, de forma que los mensajes de error\n",
    "# vayan al fichero \"errores_ls\" y el resto al fichero \"salida_ls\"\n"
   ]
  },
  {
   "cell_type": "code",
   "execution_count": null,
   "id": "edeaf103",
   "metadata": {},
   "outputs": [],
   "source": [
    "# Muestra el contenido del fichero errores_ls\n"
   ]
  },
  {
   "cell_type": "code",
   "execution_count": null,
   "id": "0d627d50",
   "metadata": {},
   "outputs": [],
   "source": [
    "# Muestra el contenido del fichero salida_ls\n"
   ]
  },
  {
   "cell_type": "markdown",
   "id": "c1efbfd5",
   "metadata": {},
   "source": [
    "### Variables de entorno. Concepto de PATH"
   ]
  },
  {
   "cell_type": "markdown",
   "id": "72304564-f2f3-4c4e-a666-4a403d74bf79",
   "metadata": {},
   "source": [
    "- La variable de entorno `LANG` define, junto con otras, la configuración regional y el idioma del shell. Empieza mostrando su valor actual con `echo`."
   ]
  },
  {
   "cell_type": "code",
   "execution_count": null,
   "id": "67952124-9f6c-41ea-be99-6ee6381d51d4",
   "metadata": {},
   "outputs": [],
   "source": [
    "echo $LANG"
   ]
  },
  {
   "cell_type": "markdown",
   "id": "481440bd",
   "metadata": {},
   "source": [
    " - Ejecuta el comando `ls` pasándole una ruta inexistente para generar un mensaje de error."
   ]
  },
  {
   "cell_type": "code",
   "execution_count": null,
   "id": "fa42a493",
   "metadata": {},
   "outputs": [],
   "source": []
  },
  {
   "cell_type": "markdown",
   "id": "151420ba-8ec3-40c0-819b-1e6f261a250b",
   "metadata": {},
   "source": [
    "-  Ahora, cambia el valor de la variable `LANG` por \"xyz\" (da igual el valor)  y seguidamente muestra su valor con `echo`."
   ]
  },
  {
   "cell_type": "code",
   "execution_count": null,
   "id": "c31de968-48c9-4eea-9043-e8fb32016766",
   "metadata": {},
   "outputs": [],
   "source": []
  },
  {
   "cell_type": "markdown",
   "id": "7d2e5f95",
   "metadata": {},
   "source": [
    " - Vuelve a ejecutar el comando `ls` pasándole una ruta inexistente para generar un mensaje de error."
   ]
  },
  {
   "cell_type": "code",
   "execution_count": null,
   "id": "693be90e",
   "metadata": {},
   "outputs": [],
   "source": []
  },
  {
   "cell_type": "markdown",
   "id": "6451158c-38ca-4525-9957-2275b6216482",
   "metadata": {},
   "source": [
    "-  ¿En qué se diferencia el resultado de ejecutar el comando con un valor u otro de `$LANG`? ¿Cuál es el idioma por defecto del shell cuando $LANG no tiene un valor?\n",
    "\n",
    "RESPUESTA:"
   ]
  },
  {
   "cell_type": "markdown",
   "id": "c7b6e7a0",
   "metadata": {},
   "source": [
    "- Vuelve a establecer el valor de `LANG` a su valor original (\"es_ES.UTF-8\") y seguidamente muestra su valor con `echo`."
   ]
  },
  {
   "cell_type": "code",
   "execution_count": null,
   "id": "feb6ad01",
   "metadata": {},
   "outputs": [],
   "source": []
  },
  {
   "cell_type": "code",
   "execution_count": null,
   "id": "9f45e0a9-3640-4c69-8ffd-e269406dd52d",
   "metadata": {},
   "outputs": [],
   "source": [
    "# Crea un subdirectorio llamado bin en tu directorio de inicio de usuario (si no existe ya)\n"
   ]
  },
  {
   "cell_type": "code",
   "execution_count": null,
   "id": "a2e67231-cd7c-493b-8de8-ecdfedda284c",
   "metadata": {},
   "outputs": [],
   "source": [
    "# Copia al directorio creado anteriormente el fichero /usr/bin/ls, con el nombre myls\n"
   ]
  },
  {
   "cell_type": "code",
   "execution_count": null,
   "id": "aac39f6c-58ba-42d7-955b-8093c05655a9",
   "metadata": {},
   "outputs": [],
   "source": [
    "# Sin cambiarte de directorio, ejecuta mediante una ruta absoluta el programa `myls` con la opción '-l':\n"
   ]
  },
  {
   "cell_type": "code",
   "execution_count": null,
   "id": "aa3f01d3-c67f-428d-b9d2-83fb7d23815f",
   "metadata": {},
   "outputs": [],
   "source": [
    "# Modifica el valor de `PATH` para añadir el subdirectorio \"bin\" creado anteriormente:\n"
   ]
  },
  {
   "cell_type": "code",
   "execution_count": null,
   "id": "24cdea31-6b40-4da3-8d86-4d524c1c5b3a",
   "metadata": {},
   "outputs": [],
   "source": [
    "# Prueba a ejecutar `myls` sin necesidad de indicar su ruta, sólo el nombre del programa\n"
   ]
  },
  {
   "cell_type": "markdown",
   "id": "98116a9c",
   "metadata": {},
   "source": [
    "### Variables del proceso actual y variables de entorno"
   ]
  },
  {
   "cell_type": "code",
   "execution_count": null,
   "id": "914527cb",
   "metadata": {},
   "outputs": [],
   "source": [
    "# Muestra el valor de la variable de entorno USER\n"
   ]
  },
  {
   "cell_type": "code",
   "execution_count": null,
   "id": "d91031ce",
   "metadata": {},
   "outputs": [],
   "source": [
    "# Define una nueva variable llamada \"PRUEBA\" con valor \"hola\"\n"
   ]
  },
  {
   "cell_type": "code",
   "execution_count": null,
   "id": "04ca20d5",
   "metadata": {},
   "outputs": [],
   "source": [
    "# Muestra el valor de la variable PRUEBA en el proceso actual\n"
   ]
  },
  {
   "cell_type": "code",
   "execution_count": null,
   "id": "8543cd82",
   "metadata": {},
   "outputs": [],
   "source": [
    "# Ejecuta esta celda para crear un shell script llamadao \"variables.sh\"\n",
    "echo '#!/bin/bash' > variables.sh\n",
    "echo >> variables.sh\n",
    "echo 'echo \"**Inicio del script**\"' >> variables.sh\n",
    "echo 'echo \"La variable PRUEBA vale $PRUEBA\"' >> variables.sh\n",
    "echo 'MYVAR=\"hello world!\"' >> variables.sh\n",
    "echo 'echo \"La variable MYVAR $MYVAR\"' >> variables.sh\n",
    "echo 'echo \"La variable USER vale $USER\"' >> variables.sh\n",
    "echo 'echo \"La variable ANOTHERVAR vale $ANOTHERVAR\"' >> variables.sh\n",
    "echo 'echo \"**Fin del script**\"' >> variables.sh"
   ]
  },
  {
   "cell_type": "code",
   "execution_count": null,
   "id": "aac9aa2a",
   "metadata": {},
   "outputs": [],
   "source": [
    "cat variables.sh"
   ]
  },
  {
   "cell_type": "code",
   "execution_count": null,
   "id": "1982636e",
   "metadata": {},
   "outputs": [],
   "source": [
    "# Establece permisos de ejecución para el fichero creado\n"
   ]
  },
  {
   "cell_type": "code",
   "execution_count": null,
   "id": "dce8f441",
   "metadata": {},
   "outputs": [],
   "source": [
    "# Ejecuta el script\n"
   ]
  },
  {
   "cell_type": "markdown",
   "id": "eac067c4",
   "metadata": {},
   "source": [
    "- ¿Se produce algún error en el shell cuando tratas de mostrar el valor de una variable a la que no has asignado valor previamente (ANOTHERVAR)?\n",
    "\n",
    "RESPUESTA:"
   ]
  },
  {
   "cell_type": "markdown",
   "id": "8c5ba378",
   "metadata": {},
   "source": [
    "- ¿Por qué no se imprime el valor de PRUEBA?\n",
    "\n",
    "RESPUESTA: "
   ]
  },
  {
   "cell_type": "code",
   "execution_count": null,
   "id": "86c797c7",
   "metadata": {},
   "outputs": [],
   "source": [
    "# Imprime el valor de la variable MYVAR en el shell actual\n"
   ]
  },
  {
   "cell_type": "markdown",
   "id": "e3c76a33",
   "metadata": {},
   "source": [
    "- ¿Por qué no aparece \"hello world\" como valor de \"MYVAR\" en el shell actual, tras ejecutar `variables.sh`?\n",
    "\n",
    "RESPUESTA: "
   ]
  },
  {
   "cell_type": "markdown",
   "id": "cd7524b2",
   "metadata": {},
   "source": [
    "- ¿Qué valor tiene la variable \"USER\" en el proceso creado para ejecutar el script `variables.sh`?\n",
    "\n",
    "RESPUESTA: "
   ]
  }
 ],
 "metadata": {
  "kernelspec": {
   "display_name": "Bash",
   "language": "bash",
   "name": "bash"
  },
  "language_info": {
   "codemirror_mode": "shell",
   "file_extension": ".sh",
   "mimetype": "text/x-sh",
   "name": "bash"
  },
  "toc": {
   "base_numbering": 1,
   "nav_menu": {},
   "number_sections": true,
   "sideBar": true,
   "skip_h1_title": true,
   "title_cell": "Table of Contents",
   "title_sidebar": "Contents",
   "toc_cell": false,
   "toc_position": {
    "height": "calc(100% - 180px)",
    "left": "10px",
    "top": "150px",
    "width": "296px"
   },
   "toc_section_display": true,
   "toc_window_display": false
  }
 },
 "nbformat": 4,
 "nbformat_minor": 5
}
