{
 "cells": [
  {
   "cell_type": "markdown",
   "id": "8e983960",
   "metadata": {},
   "source": [
    "# Ejercicios - Práctica 5a: Procesos en el *shell* de Linux."
   ]
  },
  {
   "cell_type": "markdown",
   "id": "12603fc2",
   "metadata": {},
   "source": [
    "<font size=\"4\">  \n",
    "    <span style=\"color: red;\">No olvides configurar Git para usar tu nombre y apellido(s), y tu dirección de correo electrónico universitario antes de comenzar.\n",
    "    </span>\n",
    "</font>\n",
    "\n",
    "Edita las primeras líneas de la siguiente celda con tu nombre y email y ejecútala para configurar tu entorno Git antes de empezar."
   ]
  },
  {
   "cell_type": "code",
   "execution_count": 1,
   "id": "9f68a80c",
   "metadata": {},
   "outputs": [],
   "source": [
    "# Establece tu identidad\n",
    "git config --global user.name \"Juan Fco Manzanares Gómez\"\n",
    "git config --global user.email \"jf.manzanaresgomez@um.es\"\n",
    "\n",
    "# Establece el editor por defecto\n",
    "# para los mensajes de commit\n",
    "git config --global core.editor \"gedit\""
   ]
  },
  {
   "cell_type": "markdown",
   "id": "1eceb1f9",
   "metadata": {},
   "source": [
    "<br>\n",
    "<font size=\"5\">  \n",
    "    <span style=\"color: red;\"><b>IMPORTANTE:</b><br> Añade este fichero a tu repositorio-bitácora \"fc-alumno\" <b>ANTES</b> de comenzar a realizar los ejercicios.\n",
    "    </span>\n",
    "</font>  \n",
    "<font size=\"4\">  \n",
    "    Sigue las instrucciones a continuación.\n",
    "</font>"
   ]
  },
  {
   "cell_type": "markdown",
   "id": "5585b1f2",
   "metadata": {},
   "source": [
    "Recuerda que para poder registrar tu trabajo en tu bitácora personal de prácticas, debes evitar trabajar en una copia de este *notebook* que no esté bajo control de versiones en Git en tu repositorio. Por ello, **ANTES DE REALIZAR NINGÚN CAMBIO en este fichero asegúrate de COLOCARLO DENTRO DIRECTORIO DE TU REPOSITORIO-BITÁCORA `fc-alumno`** y añadirlo al repositorio:\n",
    "1. Cierra esta pestaña del navegador sin guardar los cambios.\n",
    "2. Muévelo desde donde lo hayas descargado del AV (p.ej. `$HOME/Descargas`) al directorio donde tengas tu repositorio (se recomienda `$HOME/fc-alumno`).\n",
    "3. Añádelo al repositorio:\n",
    "    * `git add practica5a-procesos-ejercicios.ipynb`\n",
    "    * `git commit -m \"Añadiendo el notebook de ejercicios de la práctica 5a (sin empezar)\"`"
   ]
  },
  {
   "cell_type": "markdown",
   "id": "5f67155f",
   "metadata": {},
   "source": [
    "<br>\n",
    "<font size=\"5\">  \n",
    "    <span style=\"color: red;\"><b>ATENCIÓN:</b><br>Se recomienda realizar los ejercicios propuestos de este boletín en un terminal independiente, ya que la mayoría de ellos <b>no pueden llevarse a cabo en Jupyter</b> debido a que es necesario interactuar con el programa lanzado mediante el teclado durante su ejecución. \n",
    "    </span>\n",
    "    <br><br>\n",
    "    Utiliza el <i>notebook</i> únicamente para responder a las preguntas o introducir el comando requerido en las celdas de código, una vez lo hayas ejecutado en otro terminal.\n",
    "</font>  \n"
   ]
  },
  {
   "cell_type": "markdown",
   "id": "c61e6f57",
   "metadata": {},
   "source": [
    "### Control de procesos en primer y segundo plano"
   ]
  },
  {
   "cell_type": "markdown",
   "id": "043a0cc4-5e30-43d1-ac07-a2ea82d73652",
   "metadata": {},
   "source": [
    "- Lanza el programa `gedit` desde un terminal, y luego pulsa `Ctrl-C` para enviar al proceso una señal de terminación. ¿Puedes terminar su ejecución de esta forma? ¿Por qué? ¿A qué proceso le llega la señal `SIGINT` enviada al pulsar `Ctrl-C`?\n",
    "\n",
    "RESPUESTA (razonada): Sí, porque por defecto el shell lanza los procesos en primer plano. Al proceso gedit lanzado."
   ]
  },
  {
   "cell_type": "markdown",
   "id": "038ef6a8",
   "metadata": {},
   "source": [
    "Vuelve a lanzar el mismo programa, esta vez en segundo plano, y tras hacerlo, pulsa de nuevo `Ctrl-C`. ¿Puedes terminar su ejecución así? ¿Por qué? ¿A qué proceso le llega esta vez la señal `SIGINT`?\n",
    "\n",
    "RESPUESTA (razonada): No, porque al lanzar gedit en segundo plano, la señal de interrupción no le llega a dicho proceso sino a propio shell, que se está ejecutando en primer plano para atender nuestros comandos."
   ]
  },
  {
   "cell_type": "code",
   "execution_count": null,
   "id": "d2eea050",
   "metadata": {},
   "outputs": [],
   "source": [
    "# Comando para lanzar gedit en segundo plano\n",
    "gedit &"
   ]
  },
  {
   "cell_type": "markdown",
   "id": "34002cc0",
   "metadata": {},
   "source": [
    "- ¿Qué comando utilizarías para poder terminar el comando lanzado anteriormente sabiendo su PID? kill PID"
   ]
  },
  {
   "cell_type": "code",
   "execution_count": null,
   "id": "91497829",
   "metadata": {},
   "outputs": [],
   "source": [
    "# Comando para terminar la ejecución del proceso lanzado a partir del nombre del programa\n",
    "pkill (nombre del programa)"
   ]
  },
  {
   "cell_type": "markdown",
   "id": "71867479-8914-42fb-8ba8-ba12ad70dd14",
   "metadata": {},
   "source": [
    "- Una vez terminada la ejecución del comando anterior, sin teclear ningún comando, presiona repetidamente `Ctrl-C`. ¿Qué ocurre cada vez que lo haces? ¿Es posible terminar la ejecución del shell de esa forma?\n",
    "\n",
    "RESPUESTA (razonada):  El shell ignora la señal SIGINT y cada vez que la recibe, simplemente vuelve a mostrar el prompt. No es posible terminar el shell así, sino que la forma habitual de hacerlo es con el comando `exit`."
   ]
  },
  {
   "cell_type": "markdown",
   "id": "07b435d3-cc1f-4f5c-b34e-b3e1ef843226",
   "metadata": {},
   "source": [
    "- Lanza los programas `okteta` y `gedit` desde el terminal, ambos en primer plano, como una secuencia de comandos consecutivos, en la misma línea de la siguiente celda:"
   ]
  },
  {
   "cell_type": "code",
   "execution_count": null,
   "id": "8bb9c999-744b-48b8-b30d-2d06cd04baec",
   "metadata": {},
   "outputs": [],
   "source": [
    "# Lanzar okteta y después gedit, ambos en primer plano\n",
    "okteta && gedit\n"
   ]
  },
  {
   "cell_type": "markdown",
   "id": "6ebc93a7",
   "metadata": {},
   "source": [
    "- ¿Qué ha de ocurrir para que comience a ejecutarse el editor `gedit`? ¿Cuándo se completa la ejecución de la celda del notebook?\n",
    "\n",
    "RESPUESTA (razonada): Hasta que no cerramos la ventana de okteta no se lanza gedit. La celda del notebook se queda en ejecución hasta que no cerramos gedit."
   ]
  },
  {
   "cell_type": "markdown",
   "id": "6f7a601c-0136-4e19-b8f5-ee8b05a7ce0c",
   "metadata": {},
   "source": [
    "- Vuelve a lanzar los dos programas en una misma línea de comandos, pero esta vez en segundo plano."
   ]
  },
  {
   "cell_type": "code",
   "execution_count": null,
   "id": "552cf1f7-6670-413d-ae47-9d5fc1ba9a25",
   "metadata": {},
   "outputs": [],
   "source": [
    "# Lanzar okteta y después gedit, ambos en segundo plano\n",
    "okteta & gedit &"
   ]
  },
  {
   "cell_type": "markdown",
   "id": "b4948205-22c4-44fb-9532-47b40855f089",
   "metadata": {},
   "source": [
    "- Usa el comando adecuado para pasar a primer plano el último proceso que se lanzó (el editor `gedit`).\n",
    "\n",
    "RESPUESTA: fg \"%gedit\""
   ]
  },
  {
   "cell_type": "markdown",
   "id": "f4576b30",
   "metadata": {},
   "source": [
    "- Desde el terminal, termina el proceso que acabas de pasar a primer plano. ¿Qué teclas o comando has utilizado?\n",
    "\n",
    "RESPUESTA: Crtl c"
   ]
  },
  {
   "cell_type": "markdown",
   "id": "2a2a49f9-1684-4f43-b518-f646fa9af5b2",
   "metadata": {},
   "source": [
    "- Repite el comando `fg` para hacer lo propio con el comando anterior (`okteta`), pero esta vez, en lugar de terminarlo, páralo. ¿Qué combinación de teclas has utilizado?\n",
    "\n",
    "RESPUESTA: Ctrl z"
   ]
  },
  {
   "cell_type": "markdown",
   "id": "0f4215bc",
   "metadata": {},
   "source": [
    "- Trata de interactuar con el proceso `okteta`, ¿por qué no responde al ratón ni al teclado?\n",
    "\n",
    "RESPUESTA: Porque se encuentra en estado detenido"
   ]
  },
  {
   "cell_type": "markdown",
   "id": "e509880d",
   "metadata": {},
   "source": [
    "- Vuelve a despertar el proceso `okteta` pero esta vez en segundo plano. ¿Qué comando has de utilizar?\n",
    "\n",
    "RESPUESTA: bg \"%okteta\""
   ]
  },
  {
   "cell_type": "markdown",
   "id": "c582f37f",
   "metadata": {},
   "source": [
    "- Usa la orden adecuada para listar los procesos lanzados desde el terminal donde estás ejecutando los comandos anteriores."
   ]
  },
  {
   "cell_type": "code",
   "execution_count": null,
   "id": "c989208a",
   "metadata": {},
   "outputs": [],
   "source": [
    "# Comando para monitorizar los procesos activos lanzados en este terminal\n",
    "ps"
   ]
  },
  {
   "cell_type": "markdown",
   "id": "559c6d51-fb7e-4aa8-8bbc-a7066eadf691",
   "metadata": {},
   "source": [
    "SALIDA:\n",
    "```\n",
    "    PID TTY          TIME CMD\n",
    "  19422 pts/5    00:00:00 bash\n",
    "  27254 pts/5    00:00:01 okteta\n",
    "  28051 pts/5    00:00:00 ps\n",
    "```"
   ]
  },
  {
   "cell_type": "markdown",
   "id": "80a20a8a-14a2-4f48-8517-f464f2a6122b",
   "metadata": {},
   "source": [
    "- Finalmente, termina el proceso `okteta` desde el terminal esta vez usando el PID (identificador del proceso) que nos indicó el terminal al lanzar el proceso inicialmente."
   ]
  },
  {
   "cell_type": "code",
   "execution_count": null,
   "id": "9f86707c",
   "metadata": {},
   "outputs": [],
   "source": [
    "# Comando para terminar el proceso lanzado en segundo plano\n",
    "kill 6840 (PID)"
   ]
  },
  {
   "cell_type": "markdown",
   "id": "e7cee5ac-bcec-4e17-baf4-c53759766a8a",
   "metadata": {},
   "source": [
    "- Lanza de nuevo los programas `okteta` y `gedit`, en dicho orden, pero esta vez únicamente con `okteta` en segundo plano. ¿Qué ocurre si ahora pulsas `Ctrl-C` en el terminal?\n",
    "\n",
    "RESPUESTA (razonada): se termina gedit, que ha sido el programa lanzado en primer plano"
   ]
  },
  {
   "cell_type": "markdown",
   "id": "00c51ed8",
   "metadata": {},
   "source": [
    "- Usando el comando adecuado, averigua el PID del proceso que está ejecutando `okteta` a partir de su nombre."
   ]
  },
  {
   "cell_type": "code",
   "execution_count": null,
   "id": "9f9f5985",
   "metadata": {},
   "outputs": [],
   "source": [
    "# Comando para averiguar el PID del un proceso por el nombre del comando ejecutado\n",
    "pgrep okteta"
   ]
  },
  {
   "cell_type": "markdown",
   "id": "4a8907ca-3ed5-4e68-8b42-1372181296e8",
   "metadata": {},
   "source": [
    "- Termina el programa `okteta` sin necesidad de introducir su PID"
   ]
  },
  {
   "cell_type": "code",
   "execution_count": null,
   "id": "57ccec94-bb9e-4744-a562-6ee857476af2",
   "metadata": {},
   "outputs": [],
   "source": [
    "pkill okteta"
   ]
  },
  {
   "cell_type": "markdown",
   "id": "f715191f-fce5-40c7-a9f0-049d7de99b3b",
   "metadata": {},
   "source": [
    "- Descarga el programa ejecutable `uninterruptible`, el cual tienes disponible a través del AV. Ejecútalo en primer plano y prueba a terminar su ejecución con `CTRL-C`. ¿Puedes? Explica qué semejanzas crees que tiene este programa con el programa *shell* en cuanto al tratamiento de la señal `SIGINT`.\n",
    "\n",
    "\n",
    "NO ME DEJABA INICIAR EL PROGRAMA, HE TENIDO QUE CAMBIAR LOS PERMISOS CON CHMOD\n",
    "\n",
    "RESPUESTA: No termina el proceso. \n",
    "En términos generales, tanto un programa como un shell suelen responder a la señal SIGINT (generada por CTRL-C) cerrándose o interrumpiendo la ejecución. Ambos pueden tener un manejo personalizado de señales para ignorarlas o realizar acciones específicas antes de cerrarse. Sin embargo, las similitudes exactas dependen de la implementación específica de cada uno."
   ]
  },
  {
   "cell_type": "markdown",
   "id": "3a223cf7-f83c-4a9b-8ea4-2002b8f5ea08",
   "metadata": {},
   "source": [
    "- Detén la ejecución del programa lanzado anteriormente, sin terminarlo. Después lista los procesos lanzados en el terminal, ¿cuánto tiempo ha usado la CPU el programa `uninterruptible` antes de ser detenido? Si vuelves a listar los procesos, ¿ha variado el tiempo de CPU?\n",
    "\n",
    "RESPUESTA: 3:27. No ha variado"
   ]
  },
  {
   "cell_type": "markdown",
   "id": "2959ee8e-3cd7-4eec-8478-0cfe7dc0ef4d",
   "metadata": {},
   "source": [
    "- Reanuda en segundo plano la ejecución del programa detenido anteriormente, y usa el comando adecuado para observar periódicamente el tiempo de CPU que lleva consumido. ¿Qué porcentaje de la CPU usa cuando está en ejecución? ¿En qué medida crece el tiempo de uso de la CPU con respecto al tiempo \"del reloj de pared\" (medido por una persona)?\n",
    "\n",
    "RESPUESTA: 100.q"
   ]
  },
  {
   "cell_type": "markdown",
   "id": "12e5101a-68ef-42e0-a9c2-e5a82f5261d5",
   "metadata": {},
   "source": [
    "- Termina el programa `uninterruptible`, ya sea por su nombre o PID, enviando la señal `SIGTERM`. ¿Puedes terminar el proceso? Indica el comando que has utilizado.\n",
    "\n",
    "RESPUESTA: SI. pkill uninterruptible"
   ]
  },
  {
   "cell_type": "markdown",
   "id": "a67dede5",
   "metadata": {},
   "source": [
    "- A la vista de la salida del programa `uninterruptible` terminado en el paso anterior, ¿crees que el programa termina súbitamente al recibir la señal, o lo hace por sus propios medios?\n",
    "\n",
    "RESPUESTA: Parece que lo hace por sus propios medios (El programa ./uninterruptible está a punto de terminar voluntariamente\n",
    ")"
   ]
  },
  {
   "cell_type": "markdown",
   "id": "5cbaf5da-0fb9-4a71-abef-dfd0b6283cb4",
   "metadata": {},
   "source": [
    "- Descarga el programa `stubborn` del AV. Ejecútalo en primer plano y prueba a terminar su ejecución con `CTRL-C`. ¿Qué ocurre? De nuevo, observa los procesos en ejecución con el comando adecuado, ¿cuál es su uso de CPU?\n",
    "chmod +x ./stubborn \n",
    "\n",
    "RESPUESTA: señal ignorada. 30"
   ]
  },
  {
   "cell_type": "markdown",
   "id": "8e8df847-5afc-4622-b5f9-3955cabf9832",
   "metadata": {},
   "source": [
    "- Detén la ejecución del programa lanzado anteriormente, sin terminarlo, y luego reanuda en segundo plano su ejecución. Después, trata de terminar el programa `stubborn`, ya sea por su nombre o PID, enviando la señal `SIGTERM` al igual que has hecho anteriormente. ¿Puedes terminar el proceso de esta forma?\n",
    "\n",
    "RESPUESTA: No"
   ]
  },
  {
   "cell_type": "markdown",
   "id": "8bac5a7f",
   "metadata": {},
   "source": [
    "- A la vista de lo anterior, ¿de qué forma podemos terminar el proceso `stubborn`? Indica el comando.\n",
    "\n",
    "RESPUESTA: pkill stubborn"
   ]
  },
  {
   "cell_type": "markdown",
   "id": "b33cb824",
   "metadata": {},
   "source": [
    "### Listado y monitorización de procesos"
   ]
  },
  {
   "cell_type": "markdown",
   "id": "d9456ca4",
   "metadata": {},
   "source": [
    "- Usa el comando adecuado para mostrar **todos** los procesos que se están ejecutando actualmente en el sistema."
   ]
  },
  {
   "cell_type": "code",
   "execution_count": null,
   "id": "dcbfdbf2",
   "metadata": {},
   "outputs": [],
   "source": [
    "ps -Af"
   ]
  },
  {
   "cell_type": "markdown",
   "id": "4f9ed984",
   "metadata": {},
   "source": [
    "- Localiza tres procesos cuyo propietario sea nuestro usuario, y otros tres cuyo propietario sea el superusuario (root). Pega la línea completa mostrada para cada proceso.\n",
    "\n",
    "RESPUESTA:\n",
    "kiko        1681    1570  0 10:20 tty2     00:00:00 /usr/libexec/gdm-wayland-ses\n",
    "kiko        1685    1583  0 10:20 ?        00:00:00 /usr/libexec/goa-daemon\n",
    "kiko        1688    1681  0 10:20 tty2     00:00:00 /usr/libexec/gnome-session-b\n",
    "root         602       2  0 10:19 ?        00:00:00 [card0-crtc0]\n",
    "root         603       2  0 10:19 ?        00:00:00 [card0-crtc1]\n",
    "root         604       2  0 10:19 ?        00:00:00 [card0-crtc2]\n"
   ]
  },
  {
   "cell_type": "markdown",
   "id": "50897f10",
   "metadata": {},
   "source": [
    "- Localiza el proceso que ha consumido más tiempo de CPU. Pega la línea completa mostrada.\n",
    "\n",
    "RESPUESTA:kiko        1794    1583  7 10:20 ?        00:00:19 /usr/bin/gnome-shell\n"
   ]
  },
  {
   "cell_type": "markdown",
   "id": "52e16c59",
   "metadata": {},
   "source": [
    "- Localiza también el último que se lanzó, mirando las horas de inicio. Pega la línea completa mostrada.\n",
    "\n",
    "RESPUESTA:kiko        3664    3617  0 10:25 pts/4    00:00:00 ps -Af\n"
   ]
  },
  {
   "cell_type": "markdown",
   "id": "78d785a5",
   "metadata": {},
   "source": [
    "- Lanza desde la interfaz de usuario el navegador firefox, y navega hasta la página `www.google.es`, mientras observas mediante `top` la evolución dinámica del consumo de memoria y CPU de los procesos involucrados.  Puedes dividir la pantalla entre ambas ventanas, terminal y navegador, para observar la salida de top mientras navegas. Luego, prueba a navegar a la página `www.youtube.com`. ¿En cuál de las dos páginas se hace más uso de la CPU?\n",
    "\n",
    "RESPUESTA (razonada): Se hace más uso de la CPU en youtube, ya que es contenido más complejo."
   ]
  },
  {
   "cell_type": "markdown",
   "id": "03a93d11",
   "metadata": {},
   "source": [
    "### Redireccionamiento de la entrada/salida de un proceso"
   ]
  },
  {
   "cell_type": "code",
   "execution_count": 1,
   "id": "493203c3-ee8c-47fb-ac18-6446131d97e3",
   "metadata": {},
   "outputs": [
    {
     "name": "stdout",
     "output_type": "stream",
     "text": [
      "\u001b[0m\u001b[01;36m/usr/bin/ld\u001b[0m  \u001b[01;32m/usr/bin/ln\u001b[0m  \u001b[01;32m/usr/bin/lp\u001b[0m  \u001b[01;32m/usr/bin/ls\u001b[0m\n"
     ]
    }
   ],
   "source": [
    "# Lista todos los ficheros en `/usr/bin/` cuyo nombre empiece por 'l'\n",
    "# y tenga exactamente dos caracteres\n",
    "ls /usr/bin/l?"
   ]
  },
  {
   "cell_type": "code",
   "execution_count": 2,
   "id": "703757b1-f7ea-451e-9683-a4613d702c3c",
   "metadata": {},
   "outputs": [],
   "source": [
    "# Repite el comando anterior, redireccionando la salida a un fichero llamado progs-l.txt\n",
    "ls /usr/bin/l? > progs-l.txt"
   ]
  },
  {
   "cell_type": "code",
   "execution_count": 4,
   "id": "9c8b8a14-e560-4fa0-8824-3fc172cd2b1e",
   "metadata": {},
   "outputs": [
    {
     "name": "stdout",
     "output_type": "stream",
     "text": [
      "/usr/bin/ld\n",
      "/usr/bin/ln\n",
      "/usr/bin/lp\n",
      "/usr/bin/ls\n"
     ]
    }
   ],
   "source": [
    "# Muestra el contenido del fichero progs-l.txt\n",
    "cat progs-l.txt"
   ]
  },
  {
   "cell_type": "code",
   "execution_count": 5,
   "id": "6ed0e4e5-80f7-40eb-80b8-bcc2be9e5f92",
   "metadata": {},
   "outputs": [],
   "source": [
    "# Añade al final de dicho fichero un mensaje que diga \"FIN DEL LISTADO\", usando `echo` y la redirección\n",
    "echo \"FIN DEL LISTADO\" >> progs-l.txt"
   ]
  },
  {
   "cell_type": "code",
   "execution_count": 6,
   "id": "a0a027d5-64d8-46e9-a0f5-31770ab674c0",
   "metadata": {},
   "outputs": [
    {
     "name": "stdout",
     "output_type": "stream",
     "text": [
      "/usr/bin/ld\n",
      "/usr/bin/ln\n",
      "/usr/bin/lp\n",
      "/usr/bin/ls\n",
      "FIN DEL LISTADO\n"
     ]
    }
   ],
   "source": [
    "# Muestra de nuevo el contenido del fichero\n",
    "cat progs-l.txt"
   ]
  },
  {
   "cell_type": "code",
   "execution_count": 7,
   "id": "40297afb-a388-492e-a377-bb69951a011a",
   "metadata": {},
   "outputs": [
    {
     "name": "stdout",
     "output_type": "stream",
     "text": [
      "total 1276\n",
      "drwxr-xr-x  3 root root    4096 ago  9  2022 \u001b[0m\u001b[01;34macpi\u001b[0m\n",
      "-rw-r--r--  1 root root    3028 ago  9  2022 adduser.conf\n",
      "drwxr-xr-x  3 root root    4096 ago  9  2022 \u001b[01;34malsa\u001b[0m\n",
      "drwxr-xr-x  2 root root   12288 dic  8  2022 \u001b[01;34malternatives\u001b[0m\n",
      "-rw-r--r--  1 root root     335 mar 23  2022 anacrontab\n",
      "drwxr-xr-x  3 root root    4096 oct 24  2022 \u001b[01;34mapache2\u001b[0m\n",
      "-rw-r--r--  1 root root     433 mar 23  2022 apg.conf\n",
      "drwxr-xr-x  5 root root    4096 ago  9  2022 \u001b[01;34mapm\u001b[0m\n",
      "drwxr-xr-x  3 root root    4096 ago  9  2022 \u001b[01;34mapparmor\u001b[0m\n",
      "drwxr-xr-x  7 root root    4096 oct  4 11:27 \u001b[01;34mapparmor.d\u001b[0m\n",
      "drwxr-xr-x  4 root root    4096 may  2  2023 \u001b[01;34mapport\u001b[0m\n",
      "-rw-r--r--  1 root root     769 feb 22  2022 appstream.conf\n",
      "drwxr-xr-x  8 root root    4096 oct 23  2022 \u001b[01;34mapt\u001b[0m\n",
      "-rw-r--r--  1 root root     186 mar 24  2022 atmsigd.conf\n",
      "drwxr-xr-x  3 root root    4096 jun 24 11:41 \u001b[01;34mavahi\u001b[0m\n",
      "-rw-r--r--  1 root root    2319 ene  6  2022 bash.bashrc\n",
      "-rw-r--r--  1 root root      45 nov 11  2021 bash_completion\n",
      "drwxr-xr-x  2 root root    4096 may  2  2023 \u001b[01;34mbash_completion.d\u001b[0m\n",
      "-rw-r--r--  1 root root     367 dic 16  2020 bindresvport.blacklist\n",
      "drwxr-xr-x  2 root root    4096 abr  7  2022 \u001b[01;34mbinfmt.d\u001b[0m\n",
      "drwxr-xr-x  2 root root    4096 ago  9  2022 \u001b[01;34mbluetooth\u001b[0m\n",
      "-rw-r-----  1 root root      33 ago  9  2022 brlapi.key\n",
      "drwxr-xr-x  7 root root    4096 ago  9  2022 \u001b[01;34mbrltty\u001b[0m\n",
      "-rw-r--r--  1 root root   29219 jun 28  2022 brltty.conf\n",
      "drwxr-xr-x  3 root root    4096 ago  9  2022 \u001b[01;34mca-certificates\u001b[0m\n",
      "-rw-r--r--  1 root root    6253 jun  6 13:30 ca-certificates.conf\n",
      "-rw-r--r--  1 root root    5532 dic  8  2022 ca-certificates.conf.dpkg-old\n",
      "drwxr-s---  2 root dip     4096 ago  9  2022 \u001b[01;34mchatscripts\u001b[0m\n",
      "drwxr-xr-x  2 root root    4096 oct 23  2022 \u001b[01;34mconsole-setup\u001b[0m\n",
      "drwxr-xr-x  2 root root    4096 ago  9  2022 \u001b[01;34mcracklib\u001b[0m\n",
      "drwxr-xr-x  2 root root    4096 oct 23  2022 \u001b[01;34mcron.d\u001b[0m\n",
      "drwxr-xr-x  2 root root    4096 may  2  2023 \u001b[01;34mcron.daily\u001b[0m\n",
      "drwxr-xr-x  2 root root    4096 ago  9  2022 \u001b[01;34mcron.hourly\u001b[0m\n",
      "drwxr-xr-x  2 root root    4096 ago  9  2022 \u001b[01;34mcron.monthly\u001b[0m\n",
      "-rw-r--r--  1 root root    1136 mar 23  2022 crontab\n",
      "drwxr-xr-x  2 root root    4096 ago  9  2022 \u001b[01;34mcron.weekly\u001b[0m\n",
      "drwxr-xr-x  5 root lp      4096 nov 18 10:21 \u001b[01;34mcups\u001b[0m\n",
      "drwxr-xr-x  2 root root    4096 ago  9  2022 \u001b[01;34mcupshelpers\u001b[0m\n",
      "drwxr-xr-x  4 root root    4096 ago  9  2022 \u001b[01;34mdbus-1\u001b[0m\n",
      "drwxr-xr-x  4 root root    4096 ago  9  2022 \u001b[01;34mdconf\u001b[0m\n",
      "-rw-r--r--  1 root root    2969 feb 20  2022 debconf.conf\n",
      "-rw-r--r--  1 root root      13 ago 22  2021 debian_version\n",
      "drwxr-xr-x  3 root root    4096 nov 17 12:42 \u001b[01;34mdefault\u001b[0m\n",
      "-rw-r--r--  1 root root     604 sep 16  2018 deluser.conf\n",
      "drwxr-xr-x  2 root root    4096 ago  9  2022 \u001b[01;34mdepmod.d\u001b[0m\n",
      "drwxr-xr-x  4 root root    4096 oct 23  2022 \u001b[01;34mdhcp\u001b[0m\n",
      "drwxr-xr-x  2 root root    4096 oct 23  2022 \u001b[01;34mdictionaries-common\u001b[0m\n",
      "drwxr-xr-x  4 root root    4096 nov  1  2022 \u001b[01;34mdpkg\u001b[0m\n",
      "-rw-r--r--  1 root root     685 ene  8  2022 e2scrub.conf\n",
      "drwxr-xr-x  3 root root    4096 ago  9  2022 \u001b[01;34memacs\u001b[0m\n",
      "-rw-r--r--  1 root root     106 ago  9  2022 environment\n",
      "drwxr-xr-x  2 root root    4096 ago  9  2022 \u001b[01;34menvironment.d\u001b[0m\n",
      "-rw-r--r--  1 root root    1816 dic 27  2019 ethertypes\n",
      "drwxr-xr-x  3 root root    4096 ago  9  2022 \u001b[01;34mfirefox\u001b[0m\n",
      "drwxr-xr-x  4 root root    4096 ago  9  2022 \u001b[01;34mfonts\u001b[0m\n",
      "-rw-r--r--  1 root root      20 feb 24  2022 fprintd.conf\n",
      "-rw-rw-r--  1 root root     675 oct 23  2022 fstab\n",
      "-rw-r--r--  1 root root     694 mar 23  2022 fuse.conf\n",
      "drwxr-xr-x  3 root root    4096 ago  9  2022 \u001b[01;34mfwupd\u001b[0m\n",
      "-rw-r--r--  1 root root    2584 feb  3  2022 gai.conf\n",
      "drwxr-xr-x  2 root root    4096 oct 23  2022 \u001b[01;34mgamin\u001b[0m\n",
      "drwxr-xr-x  3 root root    4096 ago  9  2022 \u001b[01;34mgdb\u001b[0m\n",
      "drwxr-xr-x  8 root root    4096 ago  9  2022 \u001b[01;34mgdm3\u001b[0m\n",
      "drwxr-xr-x  2 root root    4096 ago  9  2022 \u001b[01;34mgeoclue\u001b[0m\n",
      "drwxr-xr-x  4 root root    4096 ago  9  2022 \u001b[01;34mghostscript\u001b[0m\n",
      "drwxr-xr-x  2 root root    4096 oct 27  2022 \u001b[01;34mglances\u001b[0m\n",
      "drwxr-xr-x  3 root root    4096 ago  9  2022 \u001b[01;34mglvnd\u001b[0m\n",
      "drwxr-xr-x  2 root root    4096 ago  9  2022 \u001b[01;34mgnome\u001b[0m\n",
      "-rw-r--r--  1 root root    1672 jul  8  2019 gprc\n",
      "drwxr-xr-x  2 root root    4096 ago  9  2022 \u001b[01;34mgroff\u001b[0m\n",
      "-rw-r--r--  1 root root    1067 oct 27  2022 group\n",
      "-rw-r--r--  1 root root    1052 oct 23  2022 group-\n",
      "drwxr-xr-x  2 root root    4096 ago  9  2022 \u001b[01;34mgrub.d\u001b[0m\n",
      "-rw-r-----  1 root shadow   883 oct 27  2022 gshadow\n",
      "-rw-r-----  1 root shadow   871 oct 23  2022 gshadow-\n",
      "drwxr-xr-x  3 root root    4096 feb 21  2022 \u001b[01;34mgss\u001b[0m\n",
      "drwxr-xr-x  2 root root    4096 ago  9  2022 \u001b[01;34mgtk-2.0\u001b[0m\n",
      "drwxr-xr-x  2 root root    4096 ago  9  2022 \u001b[01;34mgtk-3.0\u001b[0m\n",
      "-rw-r--r--  1 root root    4436 dic 15  2020 hdparm.conf\n",
      "-rw-r--r--  1 root root      92 oct 15  2021 host.conf\n",
      "-rw-r--r--  1 root root       4 ago  9  2022 hostid\n",
      "-rw-r--r--  1 root root      20 oct 23  2022 hostname\n",
      "-rw-r--r--  1 root root     234 oct 23  2022 hosts\n",
      "-rw-r--r--  1 root root     411 ago  9  2022 hosts.allow\n",
      "-rw-r--r--  1 root root     711 ago  9  2022 hosts.deny\n",
      "drwxr-xr-x  2 root root    4096 ago  9  2022 \u001b[01;34mhp\u001b[0m\n",
      "drwxr-xr-x  3 root root    4096 ago  9  2022 \u001b[01;34mifplugd\u001b[0m\n",
      "drwxr-xr-x  2 root root    4096 may  2  2023 \u001b[01;34mImageMagick-6\u001b[0m\n",
      "drwxr-xr-x  2 root root    4096 oct 23  2022 \u001b[01;34minit\u001b[0m\n",
      "drwxr-xr-x  2 root root    4096 nov 17 12:43 \u001b[01;34minit.d\u001b[0m\n",
      "drwxr-xr-x  5 root root    4096 ago  9  2022 \u001b[01;34minitramfs-tools\u001b[0m\n",
      "-rw-r--r--  1 root root    1748 ene  6  2022 inputrc\n",
      "drwxr-xr-x  2 root root    4096 ago  9  2022 \u001b[01;34minsserv.conf.d\u001b[0m\n",
      "drwxr-xr-x  2 root root    4096 may  2  2023 \u001b[01;34mipp-usb\u001b[0m\n",
      "drwxr-xr-x  4 root root    4096 ago  9  2022 \u001b[01;34miproute2\u001b[0m\n",
      "-rw-r--r--  1 root root      26 jul 28  2022 issue\n",
      "-rw-r--r--  1 root root      19 jul 28  2022 issue.net\n",
      "drwxr-xr-x  5 root root    4096 oct  4 11:28 \u001b[01;34mjava-11-openjdk\u001b[0m\n",
      "drwxr-xr-x  3 root root    4096 oct 24  2022 \u001b[01;34mjupyter\u001b[0m\n",
      "drwxr-xr-x  6 root root    4096 ago  9  2022 \u001b[01;34mkernel\u001b[0m\n",
      "-rw-r--r--  1 root root     110 oct 23  2022 kernel-img.conf\n",
      "-rw-r--r--  1 root root    1308 mar 24  2022 kerneloops.conf\n",
      "drwxr-xr-x  2 root root    4096 oct 23  2022 \u001b[01;34mldap\u001b[0m\n",
      "-rw-r--r--  1 root root   86307 nov 17 12:43 ld.so.cache\n",
      "-rw-r--r--  1 root root      34 dic 16  2020 ld.so.conf\n",
      "drwxr-xr-x  2 root root    4096 oct 15 12:16 \u001b[01;34mld.so.conf.d\u001b[0m\n",
      "-rw-r--r--  1 root root     267 oct 15  2021 legal\n",
      "-rw-r--r--  1 root root      27 mar 13  2022 libao.conf\n",
      "-rw-r--r--  1 root root     191 mar 17  2022 libaudit.conf\n",
      "drwxr-xr-x  3 root root    4096 ago  9  2022 \u001b[01;34mlibblockdev\u001b[0m\n",
      "drwxr-xr-x  2 root root    4096 ago  9  2022 \u001b[01;34mlibnl-3\u001b[0m\n",
      "drwxr-xr-x  2 root root    4096 nov  1  2022 \u001b[01;34mlibpaper.d\u001b[0m\n",
      "drwxr-xr-x  3 root root    4096 jun 24 11:26 \u001b[01;34mlibreoffice\u001b[0m\n",
      "drwxr-xr-x  4 root root    4096 oct 24  2022 \u001b[01;34mlighttpd\u001b[0m\n",
      "-rw-r--r--  1 root root    2996 mar  4  2022 locale.alias\n",
      "-rw-r--r--  1 root root    9454 oct 15 12:16 locale.gen\n",
      "lrwxrwxrwx  1 root root      33 may  2  2023 \u001b[01;36mlocaltime\u001b[0m -> /usr/share/zoneinfo/Europe/Madrid\n",
      "drwxr-xr-x  4 root root    4096 ago  9  2022 \u001b[01;34mlogcheck\u001b[0m\n",
      "-rw-r--r--  1 root root   10734 nov 11  2021 login.defs\n",
      "-rw-r--r--  1 root root     592 ene 24  2022 logrotate.conf\n",
      "drwxr-xr-x  2 root root    4096 oct  4 11:27 \u001b[01;34mlogrotate.d\u001b[0m\n",
      "-rw-r--r--  1 root root     104 jul 28  2022 lsb-release\n",
      "-r--r--r--  1 root root      33 oct 23  2022 machine-id\n",
      "-rw-r--r--  1 root root     111 mar 24  2022 magic\n",
      "-rw-r--r--  1 root root     111 mar 24  2022 magic.mime\n",
      "-rw-r--r--  1 root root   52643 nov  6 16:26 mailcap\n",
      "-rw-r--r--  1 root root     449 dic 11  2021 mailcap.order\n",
      "-rw-r--r--  1 root root    5217 mar 17  2022 manpath.config\n",
      "-rw-r--r--  1 root root   40691 mar 17  2022 matplotlibrc\n",
      "-rw-r--r--  1 root root   72029 mar 21  2022 mime.types\n",
      "-rw-r--r--  1 root root     744 ene  8  2022 mke2fs.conf\n",
      "drwxr-xr-x  3 root root    4096 ago  9  2022 \u001b[01;34mModemManager\u001b[0m\n"
     ]
    },
    {
     "name": "stdout",
     "output_type": "stream",
     "text": [
      "drwxr-xr-x  2 root root    4096 nov 17 12:42 \u001b[01;34mmodprobe.d\u001b[0m\n",
      "-rw-r--r--  1 root root     195 ago  9  2022 modules\n",
      "drwxr-xr-x  2 root root    4096 may 18  2023 \u001b[01;34mmodules-load.d\u001b[0m\n",
      "lrwxrwxrwx  1 root root      19 oct 23  2022 \u001b[01;36mmtab\u001b[0m -> ../proc/self/mounts\n",
      "-rw-r--r--  1 root root   11204 feb  9  2022 nanorc\n",
      "-rw-r--r--  1 root root     767 mar 24  2022 netconfig\n",
      "drwxr-xr-x  2 root root    4096 ago  9  2022 \u001b[01;34mnetplan\u001b[0m\n",
      "drwxr-xr-x  6 root root    4096 ago  9  2022 \u001b[01;34mnetwork\u001b[0m\n",
      "drwxr-xr-x  8 root root    4096 ago  9  2022 \u001b[01;34mnetworkd-dispatcher\u001b[0m\n",
      "drwxr-xr-x  7 root root    4096 ago  9  2022 \u001b[01;34mNetworkManager\u001b[0m\n",
      "-rw-r--r--  1 root root      91 oct 15  2021 networks\n",
      "drwxr-xr-x  2 root root    4096 ago  9  2022 \u001b[01;34mnewt\u001b[0m\n",
      "-rwxr-xr-x  1 root root     228 mar 23  2022 \u001b[01;32mnftables.conf\u001b[0m\n",
      "-rw-r--r--  1 root root     542 oct 23  2022 nsswitch.conf\n",
      "drwxr-xr-x  4 root root    4096 ago  9  2022 \u001b[01;34mopenvpn\u001b[0m\n",
      "drwxr-xr-x  2 root root    4096 ago  9  2022 \u001b[01;34mopt\u001b[0m\n",
      "lrwxrwxrwx  1 root root      21 oct 23  2022 \u001b[01;36mos-release\u001b[0m -> ../usr/lib/os-release\n",
      "drwxr-xr-x  2 root root    4096 ago  9  2022 \u001b[01;34mPackageKit\u001b[0m\n",
      "-rw-r--r--  1 root root     552 ago 12  2020 pam.conf\n",
      "drwxr-xr-x  2 root root    4096 oct  4 11:27 \u001b[01;34mpam.d\u001b[0m\n",
      "-rw-rw-r--  1 root root       3 oct 23  2022 papersize\n",
      "-rw-r--r--  1 root root    2861 oct 27  2022 passwd\n",
      "-rw-r--r--  1 root root    2861 oct 27  2022 passwd-\n",
      "drwxr-xr-x  2 root root    4096 ago  9  2022 \u001b[01;34mpcmcia\u001b[0m\n",
      "drwxr-xr-x  4 root root    4096 dic  8  2022 \u001b[01;34mperl\u001b[0m\n",
      "drwxr-xr-x  4 root root    4096 ago  9  2022 \u001b[01;34mpki\u001b[0m\n",
      "drwxr-xr-x  3 root root    4096 ago  9  2022 \u001b[01;34mpm\u001b[0m\n",
      "-rw-r--r--  1 root root    7649 ago  9  2022 pnm2ppa.conf\n",
      "drwxr-xr-x  4 root root    4096 ago  9  2022 \u001b[01;34mpolkit-1\u001b[0m\n",
      "drwxr-xr-x  8 root dip     4096 ago  9  2022 \u001b[01;34mppp\u001b[0m\n",
      "lrwxrwxrwx  1 root root      18 oct  4 11:27 \u001b[01;36mprintcap\u001b[0m -> /run/cups/printcap\n",
      "-rw-r--r--  1 root root     582 oct 15  2021 profile\n",
      "drwxr-xr-x  2 root root    4096 jun 24 11:35 \u001b[01;34mprofile.d\u001b[0m\n",
      "-rw-r--r--  1 root root    2932 abr  1  2013 protocols\n",
      "drwxr-xr-x  4 root root    4096 oct 23  2022 \u001b[01;34mpulse\u001b[0m\n",
      "drwxr-xr-x  2 root root    4096 ago  9  2022 \u001b[01;34mpython3\u001b[0m\n",
      "drwxr-xr-x  2 root root    4096 oct  4 11:25 \u001b[01;34mpython3.10\u001b[0m\n",
      "drwxr-xr-x  2 root root    4096 nov  1  2022 \u001b[01;34mR\u001b[0m\n",
      "drwxr-xr-x  2 root root    4096 oct 27  2022 \u001b[01;34mrc0.d\u001b[0m\n",
      "drwxr-xr-x  2 root root    4096 oct 27  2022 \u001b[01;34mrc1.d\u001b[0m\n",
      "drwxr-xr-x  2 root root    4096 oct 27  2022 \u001b[01;34mrc2.d\u001b[0m\n",
      "drwxr-xr-x  2 root root    4096 oct 27  2022 \u001b[01;34mrc3.d\u001b[0m\n",
      "drwxr-xr-x  2 root root    4096 oct 27  2022 \u001b[01;34mrc4.d\u001b[0m\n",
      "drwxr-xr-x  2 root root    4096 oct 27  2022 \u001b[01;34mrc5.d\u001b[0m\n",
      "drwxr-xr-x  2 root root    4096 oct 27  2022 \u001b[01;34mrc6.d\u001b[0m\n",
      "drwxr-xr-x  2 root root    4096 dic 21  2022 \u001b[01;34mrcS.d\u001b[0m\n",
      "lrwxrwxrwx  1 root root      39 oct 23  2022 \u001b[01;36mresolv.conf\u001b[0m -> ../run/systemd/resolve/stub-resolv.conf\n",
      "lrwxrwxrwx  1 root root      13 feb 15  2023 \u001b[01;36mrmt\u001b[0m -> \u001b[01;32m/usr/sbin/rmt\u001b[0m\n",
      "-rw-r--r--  1 root root     887 abr  1  2013 rpc\n",
      "-rw-r--r--  1 root root    1382 dic 24  2021 rsyslog.conf\n",
      "drwxr-xr-x  2 root root    4096 ago  9  2022 \u001b[01;34mrsyslog.d\u001b[0m\n",
      "-rw-r--r--  1 root root    5620 ene  9  2022 rygel.conf\n",
      "drwxr-xr-x  3 root root    4096 ago  9  2022 \u001b[01;34msane.d\u001b[0m\n",
      "drwxr-xr-x  4 root root    4096 jun 24 11:32 \u001b[01;34msecurity\u001b[0m\n",
      "drwxr-xr-x  2 root root    4096 ago  9  2022 \u001b[01;34mselinux\u001b[0m\n",
      "-rw-r--r--  1 root root   10593 mar 31  2022 sensors3.conf\n",
      "drwxr-xr-x  2 root root    4096 ago  9  2022 \u001b[01;34msensors.d\u001b[0m\n",
      "-rw-r--r--  1 root root   12813 mar 27  2021 services\n",
      "drwxr-xr-x  3 root root    4096 nov  1  2022 \u001b[01;34msgml\u001b[0m\n",
      "-rw-r-----  1 root shadow  1457 oct 27  2022 shadow\n",
      "-rw-r-----  1 root shadow  1457 oct 27  2022 shadow-\n",
      "-rw-r--r--  1 root root     128 ago  9  2022 shells\n",
      "drwxr-xr-x  2 root root    4096 ago  9  2022 \u001b[01;34mskel\u001b[0m\n",
      "drwxr-xr-x  2 root root    4096 ene 12  2023 \u001b[01;34msnmp\u001b[0m\n",
      "drwxr-xr-x  4 root root    4096 oct 23  2022 \u001b[01;34mspeech-dispatcher\u001b[0m\n",
      "drwxr-xr-x  3 root root    4096 oct  4 11:33 \u001b[01;34mssh\u001b[0m\n",
      "drwxr-xr-x  4 root root    4096 oct 26 16:49 \u001b[01;34mssl\u001b[0m\n",
      "-rw-r--r--  1 root root      18 oct 23  2022 subgid\n",
      "-rw-r--r--  1 root root       0 ago  9  2022 subgid-\n",
      "-rw-r--r--  1 root root      18 oct 23  2022 subuid\n",
      "-rw-r--r--  1 root root       0 ago  9  2022 subuid-\n",
      "-rw-r--r--  1 root root    4573 feb 14  2022 sudo.conf\n",
      "-r--r-----  1 root root    1671 feb  8  2022 sudoers\n",
      "drwxr-xr-x  2 root root    4096 may  2  2023 \u001b[01;34msudoers.d\u001b[0m\n",
      "-rw-r--r--  1 root root    9390 feb 14  2022 sudo_logsrvd.conf\n",
      "-rw-r--r--  1 root root    2355 feb 25  2022 sysctl.conf\n",
      "drwxr-xr-x  2 root root    4096 nov 17 12:43 \u001b[01;34msysctl.d\u001b[0m\n",
      "drwxr-xr-x  5 root root    4096 may  2  2023 \u001b[01;34msystemd\u001b[0m\n",
      "drwxr-xr-x  2 root root    4096 jun  6 13:28 \u001b[01;34mterminfo\u001b[0m\n",
      "drwxr-xr-x  8 root root    4096 nov  1  2022 \u001b[01;34mtexmf\u001b[0m\n",
      "drwxr-xr-x  2 root root    4096 oct 23  2022 \u001b[01;34mthermald\u001b[0m\n",
      "drwxr-xr-x  2 root root    4096 nov  6 16:26 \u001b[01;34mthunderbird\u001b[0m\n",
      "-rw-r--r--  1 root root      14 may  2  2023 timezone\n",
      "drwxr-xr-x  2 root root    4096 abr  7  2022 \u001b[01;34mtmpfiles.d\u001b[0m\n",
      "drwxr-xr-x  2 root root    4096 oct 23  2022 \u001b[01;34mubuntu-advantage\u001b[0m\n",
      "-rw-r--r--  1 root root    1260 jun 16  2020 ucf.conf\n",
      "drwxr-xr-x  4 root root    4096 may  2  2023 \u001b[01;34mudev\u001b[0m\n",
      "drwxr-xr-x  2 root root    4096 ago  9  2022 \u001b[01;34mudisks2\u001b[0m\n",
      "drwxr-xr-x  3 root root    4096 ago  9  2022 \u001b[01;34mufw\u001b[0m\n",
      "drwxr-xr-x  3 root root    4096 oct 23  2022 \u001b[01;34mupdate-manager\u001b[0m\n",
      "drwxr-xr-x  2 root root    4096 oct 23  2022 \u001b[01;34mupdate-motd.d\u001b[0m\n",
      "drwxr-xr-x  2 root root    4096 mar 30  2022 \u001b[01;34mupdate-notifier\u001b[0m\n",
      "drwxr-xr-x  2 root root    4096 ago  9  2022 \u001b[01;34mUPower\u001b[0m\n",
      "-rw-r--r--  1 root root    1523 mar 25  2022 usb_modeswitch.conf\n",
      "drwxr-xr-x  2 root root    4096 sep  6  2021 \u001b[01;34musb_modeswitch.d\u001b[0m\n",
      "-rw-r--r--  1 root root      51 abr  9  2020 vdpau_wrapper.cfg\n",
      "drwxr-xr-x  2 root root    4096 nov  6 16:26 \u001b[01;34mvim\u001b[0m\n",
      "lrwxrwxrwx  1 root root      23 oct 23  2022 \u001b[01;36mvtrgb\u001b[0m -> /etc/alternatives/vtrgb\n",
      "drwxr-xr-x  5 root root    4096 ago  9  2022 \u001b[01;34mvulkan\u001b[0m\n",
      "drwxr-xr-x  2 root root    4096 ene 12  2023 \u001b[01;34mw3m\u001b[0m\n",
      "-rw-r--r--  1 root root    4942 ene 24  2022 wgetrc\n",
      "drwxr-xr-x  2 root root    4096 ago  9  2022 \u001b[01;34mwpa_supplicant\u001b[0m\n",
      "drwxr-xr-x 12 root root    4096 ago  9  2022 \u001b[01;34mX11\u001b[0m\n",
      "-rw-r--r--  1 root root     681 mar 23  2022 xattr.conf\n",
      "drwxr-xr-x  7 root root    4096 oct 23  2022 \u001b[01;34mxdg\u001b[0m\n",
      "drwxr-xr-x  2 root root    4096 nov  1  2022 \u001b[01;34mxml\u001b[0m\n",
      "-rw-r--r--  1 root root     460 dic  8  2021 zsh_command_not_found\n"
     ]
    }
   ],
   "source": [
    "# Utilizando el comando ls con la opción adecuada y la redirección de la salida estándar/de error,\n",
    "# averigua sobre qué subdirectorios de /etc no tienes permisos de acceso. PISTA: usa /dev/null\n",
    "# para descartar la salida que no te interese.\n",
    "ls -l /etc 2>/dev/null\n"
   ]
  },
  {
   "cell_type": "code",
   "execution_count": 12,
   "id": "ff133717-ed86-48c9-9f50-b0ba0f50c4e6",
   "metadata": {},
   "outputs": [],
   "source": [
    "# Crea dos directorios, llamados dir1 y dir2\n",
    "mkdir dir1 dir2"
   ]
  },
  {
   "cell_type": "code",
   "execution_count": 13,
   "id": "f84145d8",
   "metadata": {},
   "outputs": [],
   "source": [
    "# Copia el fichero stubborn a dir1\n",
    "cp Downloads/stubborn dir1"
   ]
  },
  {
   "cell_type": "code",
   "execution_count": 14,
   "id": "4948b60a",
   "metadata": {},
   "outputs": [],
   "source": [
    "# Copia el fichero uninterruptible a dir2\n",
    "cp Downloads/uninterruptible dir2"
   ]
  },
  {
   "cell_type": "code",
   "execution_count": 3,
   "id": "8378626f",
   "metadata": {},
   "outputs": [
    {
     "name": "stdout",
     "output_type": "stream",
     "text": [
      "dir1:\n",
      "\u001b[0m\u001b[01;32mstubborn\u001b[0m\n",
      "\n",
      "dir2:\n",
      "\u001b[01;32muninterruptible\u001b[0m\n"
     ]
    }
   ],
   "source": [
    "# Lista el contenido de dir1 y dir2 en un mismo comando\n",
    "ls dir1 dir2"
   ]
  },
  {
   "cell_type": "code",
   "execution_count": 4,
   "id": "c118b18c",
   "metadata": {},
   "outputs": [],
   "source": [
    "# Cambia los permisos a dir2 para que nadie tenga acceso\n",
    "chmod 000 dir2"
   ]
  },
  {
   "cell_type": "code",
   "execution_count": 5,
   "id": "0f4b1d2c-f73b-4a04-804e-4ccd0c406fad",
   "metadata": {},
   "outputs": [
    {
     "name": "stdout",
     "output_type": "stream",
     "text": [
      "dir1:\n",
      "\u001b[0m\u001b[01;32mstubborn\u001b[0m\n",
      "ls: no se puede abrir el directorio 'dir2': Permiso denegado\n"
     ]
    },
    {
     "ename": "",
     "evalue": "2",
     "output_type": "error",
     "traceback": []
    }
   ],
   "source": [
    "# Listar el contenido de dir1 y dir2 en un mismo comando\n",
    "ls dir1 dir2"
   ]
  },
  {
   "cell_type": "code",
   "execution_count": 2,
   "id": "5e379716-ef05-4bcd-a1a9-1f0bcc1d0e54",
   "metadata": {},
   "outputs": [
    {
     "ename": "",
     "evalue": "2",
     "output_type": "error",
     "traceback": []
    }
   ],
   "source": [
    "# Utilizando la redirección de la salida estándar/de error, lista\n",
    "# los directorios dir1 y dir2, de forma que los mensajes de error\n",
    "# vayan al fichero \"errores_ls\" y el resto al fichero \"salida_ls\" dir2 para que nadie tenga acceso\n",
    "ls dir1 dir2 > salida_ls 2> errores_ls\n"
   ]
  },
  {
   "cell_type": "code",
   "execution_count": 3,
   "id": "edeaf103",
   "metadata": {},
   "outputs": [
    {
     "name": "stdout",
     "output_type": "stream",
     "text": [
      "ls: no se puede abrir el directorio 'dir2': Permiso denegado\n"
     ]
    }
   ],
   "source": [
    "# Muestra el contenido del fichero errores_ls\n",
    "cat errores_ls"
   ]
  },
  {
   "cell_type": "code",
   "execution_count": 4,
   "id": "0d627d50",
   "metadata": {},
   "outputs": [
    {
     "name": "stdout",
     "output_type": "stream",
     "text": [
      "dir1:\n",
      "stubborn\n"
     ]
    }
   ],
   "source": [
    "# Muestra el contenido del fichero salida_ls\n",
    "cat salida_ls"
   ]
  },
  {
   "cell_type": "markdown",
   "id": "c1efbfd5",
   "metadata": {},
   "source": [
    "### Variables de entorno. Concepto de PATH"
   ]
  },
  {
   "cell_type": "markdown",
   "id": "72304564-f2f3-4c4e-a666-4a403d74bf79",
   "metadata": {},
   "source": [
    "- La variable de entorno `LANG` define, junto con otras, la configuración regional y el idioma del shell. Empieza mostrando su valor actual con `echo`."
   ]
  },
  {
   "cell_type": "code",
   "execution_count": 5,
   "id": "67952124-9f6c-41ea-be99-6ee6381d51d4",
   "metadata": {},
   "outputs": [
    {
     "name": "stdout",
     "output_type": "stream",
     "text": [
      "es_ES.UTF-8\n"
     ]
    }
   ],
   "source": [
    "echo $LANG"
   ]
  },
  {
   "cell_type": "markdown",
   "id": "481440bd",
   "metadata": {},
   "source": [
    " - Ejecuta el comando `ls` pasándole una ruta inexistente para generar un mensaje de error."
   ]
  },
  {
   "cell_type": "code",
   "execution_count": 7,
   "id": "fa42a493",
   "metadata": {},
   "outputs": [
    {
     "name": "stdout",
     "output_type": "stream",
     "text": [
      "ls: no se puede acceder a 'hello/hello': No existe el archivo o el directorio\n"
     ]
    },
    {
     "ename": "",
     "evalue": "2",
     "output_type": "error",
     "traceback": []
    }
   ],
   "source": [
    "ls hello/hello"
   ]
  },
  {
   "cell_type": "markdown",
   "id": "151420ba-8ec3-40c0-819b-1e6f261a250b",
   "metadata": {},
   "source": [
    "-  Ahora, cambia el valor de la variable `LANG` por \"xyz\" (da igual el valor)  y seguidamente muestra su valor con `echo`."
   ]
  },
  {
   "cell_type": "code",
   "execution_count": 12,
   "id": "c31de968-48c9-4eea-9043-e8fb32016766",
   "metadata": {},
   "outputs": [
    {
     "name": "stdout",
     "output_type": "stream",
     "text": [
      "es_ES.UTF-8: orden no encontrada\n",
      "es_ES.UTF-8\n"
     ]
    }
   ],
   "source": [
    "$LANG = 234\n",
    "echo $LANG"
   ]
  },
  {
   "cell_type": "code",
   "execution_count": 3,
   "id": "a34fa6d0",
   "metadata": {},
   "outputs": [],
   "source": [
    "#no me deja cambiar las variables, me tendria que poner como administrador"
   ]
  },
  {
   "cell_type": "markdown",
   "id": "7d2e5f95",
   "metadata": {},
   "source": [
    " - Vuelve a ejecutar el comando `ls` pasándole una ruta inexistente para generar un mensaje de error."
   ]
  },
  {
   "cell_type": "code",
   "execution_count": 11,
   "id": "693be90e",
   "metadata": {},
   "outputs": [
    {
     "name": "stdout",
     "output_type": "stream",
     "text": [
      "ls: no se puede acceder a 'hello/hello': No existe el archivo o el directorio\n"
     ]
    },
    {
     "ename": "",
     "evalue": "2",
     "output_type": "error",
     "traceback": []
    }
   ],
   "source": [
    "ls hello/hello"
   ]
  },
  {
   "cell_type": "markdown",
   "id": "6451158c-38ca-4525-9957-2275b6216482",
   "metadata": {},
   "source": [
    "-  ¿En qué se diferencia el resultado de ejecutar el comando con un valor u otro de `$LANG`? ¿Cuál es el idioma por defecto del shell cuando $LANG no tiene un valor?\n",
    "\n",
    "RESPUESTA: Al cambiar el valor de LANG, afectas la configuración de idioma y formato de tu sistema. Si LANG está vacío o no tiene un valor, el sistema generalmente usa un valor predeterminado, como C o POSIX, que no realiza localización y usa configuraciones estándar."
   ]
  },
  {
   "cell_type": "markdown",
   "id": "c7b6e7a0",
   "metadata": {},
   "source": [
    "- Vuelve a establecer el valor de `LANG` a su valor original (\"es_ES.UTF-8\") y seguidamente muestra su valor con `echo`."
   ]
  },
  {
   "cell_type": "code",
   "execution_count": 4,
   "id": "feb6ad01",
   "metadata": {},
   "outputs": [
    {
     "name": "stdout",
     "output_type": "stream",
     "text": [
      "es_ES.UTF-8: orden no encontrada\n",
      "es_ES.UTF-8\n"
     ]
    }
   ],
   "source": [
    "$LANG = es_ES.UTF-8\n",
    "echo $LANG"
   ]
  },
  {
   "cell_type": "code",
   "execution_count": 7,
   "id": "9f45e0a9-3640-4c69-8ffd-e269406dd52d",
   "metadata": {},
   "outputs": [],
   "source": [
    "# Crea un subdirectorio llamado bin en tu directorio de inicio de usuario (si no existe ya)\n",
    "mkdir bin"
   ]
  },
  {
   "cell_type": "code",
   "execution_count": 8,
   "id": "a2e67231-cd7c-493b-8de8-ecdfedda284c",
   "metadata": {},
   "outputs": [],
   "source": [
    "# Copia al directorio creado anteriormente el fichero /usr/bin/ls, con el nombre myls\n",
    "cp /usr/bin/ls ~/bin/myls"
   ]
  },
  {
   "cell_type": "code",
   "execution_count": 9,
   "id": "aac39f6c-58ba-42d7-955b-8093c05655a9",
   "metadata": {},
   "outputs": [
    {
     "name": "stdout",
     "output_type": "stream",
     "text": [
      "total 182436\n",
      "drwxrwxr-x 2 kiko kiko      4096 nov 18 11:02  bin\n",
      "drwxrwxr-x 3 kiko kiko      4096 dic  8  2022  build\n",
      "-rw-rw-r-- 1 kiko kiko      2722 ago 12 13:47  coche\n",
      "drwxrwxr-x 4 kiko kiko      4096 jun  7 17:12  copiaprueba\n",
      "drwxrwxr-x 3 kiko kiko      4096 oct  9 18:58  Descargas\n",
      "drwxrwxr-x 2 kiko kiko      4096 nov 18 10:42  dir1\n",
      "d--------- 2 kiko kiko      4096 nov 18 10:42  dir2\n",
      "drwxr-xr-x 2 kiko kiko      4096 oct 23  2022  documentos\n",
      "drwx------ 3 kiko kiko      4096 nov 16 17:53  Downloads\n",
      "-rw------- 1 kiko kiko     14456 sep 27 12:54  ej1.drawio\n",
      "-rw-rw-r-- 1 kiko kiko        50 nov 16 16:39  errores\n",
      "-rw-rw-r-- 1 kiko kiko        50 nov 16 16:40  errores_cat\n",
      "-rw-rw-r-- 1 kiko kiko        61 nov 18 10:46  errores_ls\n",
      "-rw-rw-r-- 1 kiko kiko       132 oct 29 20:27  EXAMENES\n",
      "-rw-rw-r-- 1 kiko kiko     49515 jun  9 18:12 'examen-fc-practicas-resuelto (1).ipynb'\n",
      "drwxrwxr-x 4 kiko kiko      4096 oct 10 18:08  fc-alumno\n",
      "-rwxrw---- 1 kiko kiko        40 nov 13 17:11  fichero_de_root\n",
      "drwxrwxr-x 4 kiko kiko      4096 sep  7 10:40  ficheros_ejemplo\n",
      "-rw-rw-r-- 1 kiko kiko 186547355 nov 13 18:42  ficheros_ejemplo.zip\n",
      "-rw-rw-r-- 1 kiko kiko        39 nov 16 16:42  frutas\n",
      "drwxr-xr-x 2 kiko kiko      4096 oct 23  2022  imagenes\n",
      "-rw-rw-r-- 1 kiko kiko         0 nov 13 17:01 '**IMPORTANTE:**'\n",
      "drwxrwxr-x 4 kiko kiko      4096 dic  8  2022  local\n",
      "drwxrwxr-x 2 kiko kiko      4096 oct 10 17:45  otrorepo\n",
      "drwxrwxr-x 5 kiko kiko      4096 oct 10 17:37  p2a-ejercicio\n",
      "drwxrwxr-x 5 kiko kiko      4096 oct 17 17:36  p2b-ejercicio\n",
      "drwxrwxr-x 4 kiko kiko      4096 nov 13 19:35  p4b-ejercicios\n",
      "-rw-rw-r-- 1 kiko kiko     65963 nov 18 10:39  prog\n",
      "-rw-rw-r-- 1 kiko kiko        64 nov 18 10:39  progs-l.txt\n",
      "drwxrwxr-x 3 kiko kiko      4096 oct 10 17:52  prueba2\n",
      "-rw-rw-r-- 1 kiko kiko        22 nov 16 16:40  salida_cat\n",
      "-rw-rw-r-- 1 kiko kiko        15 nov 18 10:46  salida_ls\n",
      "-rw-rw-r-- 1 kiko kiko        22 nov 16 16:38  saludo.txt\n",
      "drwx------ 5 kiko kiko      4096 jun  9 16:49  snap\n",
      "drwxrwxr-x 2 kiko kiko      4096 nov 13 18:28  video\n"
     ]
    }
   ],
   "source": [
    "# Sin cambiarte de directorio, ejecuta mediante una ruta absoluta el programa `myls` con la opción '-l':\n",
    "~/bin/myls -l"
   ]
  },
  {
   "cell_type": "code",
   "execution_count": 10,
   "id": "aa3f01d3-c67f-428d-b9d2-83fb7d23815f",
   "metadata": {},
   "outputs": [],
   "source": [
    "# Modifica el valor de `PATH` para añadir el subdirectorio \"bin\" creado anteriormente:\n",
    "PATH=$PATH:~/bin"
   ]
  },
  {
   "cell_type": "code",
   "execution_count": 11,
   "id": "24cdea31-6b40-4da3-8d86-4d524c1c5b3a",
   "metadata": {},
   "outputs": [
    {
     "name": "stdout",
     "output_type": "stream",
     "text": [
      "total 182436\n",
      "drwxrwxr-x 2 kiko kiko      4096 nov 18 11:02  bin\n",
      "drwxrwxr-x 3 kiko kiko      4096 dic  8  2022  build\n",
      "-rw-rw-r-- 1 kiko kiko      2722 ago 12 13:47  coche\n",
      "drwxrwxr-x 4 kiko kiko      4096 jun  7 17:12  copiaprueba\n",
      "drwxrwxr-x 3 kiko kiko      4096 oct  9 18:58  Descargas\n",
      "drwxrwxr-x 2 kiko kiko      4096 nov 18 10:42  dir1\n",
      "d--------- 2 kiko kiko      4096 nov 18 10:42  dir2\n",
      "drwxr-xr-x 2 kiko kiko      4096 oct 23  2022  documentos\n",
      "drwx------ 3 kiko kiko      4096 nov 16 17:53  Downloads\n",
      "-rw------- 1 kiko kiko     14456 sep 27 12:54  ej1.drawio\n",
      "-rw-rw-r-- 1 kiko kiko        50 nov 16 16:39  errores\n",
      "-rw-rw-r-- 1 kiko kiko        50 nov 16 16:40  errores_cat\n",
      "-rw-rw-r-- 1 kiko kiko        61 nov 18 10:46  errores_ls\n",
      "-rw-rw-r-- 1 kiko kiko       132 oct 29 20:27  EXAMENES\n",
      "-rw-rw-r-- 1 kiko kiko     49515 jun  9 18:12 'examen-fc-practicas-resuelto (1).ipynb'\n",
      "drwxrwxr-x 4 kiko kiko      4096 oct 10 18:08  fc-alumno\n",
      "-rwxrw---- 1 kiko kiko        40 nov 13 17:11  fichero_de_root\n",
      "drwxrwxr-x 4 kiko kiko      4096 sep  7 10:40  ficheros_ejemplo\n",
      "-rw-rw-r-- 1 kiko kiko 186547355 nov 13 18:42  ficheros_ejemplo.zip\n",
      "-rw-rw-r-- 1 kiko kiko        39 nov 16 16:42  frutas\n",
      "drwxr-xr-x 2 kiko kiko      4096 oct 23  2022  imagenes\n",
      "-rw-rw-r-- 1 kiko kiko         0 nov 13 17:01 '**IMPORTANTE:**'\n",
      "drwxrwxr-x 4 kiko kiko      4096 dic  8  2022  local\n",
      "drwxrwxr-x 2 kiko kiko      4096 oct 10 17:45  otrorepo\n",
      "drwxrwxr-x 5 kiko kiko      4096 oct 10 17:37  p2a-ejercicio\n",
      "drwxrwxr-x 5 kiko kiko      4096 oct 17 17:36  p2b-ejercicio\n",
      "drwxrwxr-x 4 kiko kiko      4096 nov 13 19:35  p4b-ejercicios\n",
      "-rw-rw-r-- 1 kiko kiko     65963 nov 18 10:39  prog\n",
      "-rw-rw-r-- 1 kiko kiko        64 nov 18 10:39  progs-l.txt\n",
      "drwxrwxr-x 3 kiko kiko      4096 oct 10 17:52  prueba2\n",
      "-rw-rw-r-- 1 kiko kiko        22 nov 16 16:40  salida_cat\n",
      "-rw-rw-r-- 1 kiko kiko        15 nov 18 10:46  salida_ls\n",
      "-rw-rw-r-- 1 kiko kiko        22 nov 16 16:38  saludo.txt\n",
      "drwx------ 5 kiko kiko      4096 jun  9 16:49  snap\n",
      "drwxrwxr-x 2 kiko kiko      4096 nov 13 18:28  video\n"
     ]
    }
   ],
   "source": [
    "# Prueba a ejecutar `myls` sin necesidad de indicar su ruta, sólo el nombre del programa\n",
    "myls -l"
   ]
  },
  {
   "cell_type": "markdown",
   "id": "98116a9c",
   "metadata": {},
   "source": [
    "### Variables del proceso actual y variables de entorno"
   ]
  },
  {
   "cell_type": "code",
   "execution_count": 12,
   "id": "914527cb",
   "metadata": {},
   "outputs": [
    {
     "name": "stdout",
     "output_type": "stream",
     "text": [
      "kiko\n"
     ]
    }
   ],
   "source": [
    "# Muestra el valor de la variable de entorno USER\n",
    "echo $USER"
   ]
  },
  {
   "cell_type": "code",
   "execution_count": 13,
   "id": "d91031ce",
   "metadata": {},
   "outputs": [],
   "source": [
    "# Define una nueva variable llamada \"PRUEBA\" con valor \"hola\"\n",
    "PRUEBA=\"hola\""
   ]
  },
  {
   "cell_type": "code",
   "execution_count": 14,
   "id": "04ca20d5",
   "metadata": {},
   "outputs": [
    {
     "name": "stdout",
     "output_type": "stream",
     "text": [
      "hola\n"
     ]
    }
   ],
   "source": [
    "# Muestra el valor de la variable PRUEBA en el proceso actual\n",
    "echo $PRUEBA"
   ]
  },
  {
   "cell_type": "code",
   "execution_count": 15,
   "id": "8543cd82",
   "metadata": {},
   "outputs": [],
   "source": [
    "# Ejecuta esta celda para crear un shell script llamadao \"variables.sh\"\n",
    "echo '#!/bin/bash' > variables.sh\n",
    "echo >> variables.sh\n",
    "echo 'echo \"**Inicio del script**\"' >> variables.sh\n",
    "echo 'echo \"La variable PRUEBA vale $PRUEBA\"' >> variables.sh\n",
    "echo 'MYVAR=\"hello world!\"' >> variables.sh\n",
    "echo 'echo \"La variable MYVAR $MYVAR\"' >> variables.sh\n",
    "echo 'echo \"La variable USER vale $USER\"' >> variables.sh\n",
    "echo 'echo \"La variable ANOTHERVAR vale $ANOTHERVAR\"' >> variables.sh\n",
    "echo 'echo \"**Fin del script**\"' >> variables.sh"
   ]
  },
  {
   "cell_type": "code",
   "execution_count": 16,
   "id": "aac9aa2a",
   "metadata": {},
   "outputs": [
    {
     "name": "stdout",
     "output_type": "stream",
     "text": [
      "#!/bin/bash\n",
      "\n",
      "echo \"**Inicio del script**\"\n",
      "echo \"La variable PRUEBA vale $PRUEBA\"\n",
      "MYVAR=\"hello world!\"\n",
      "echo \"La variable MYVAR $MYVAR\"\n",
      "echo \"La variable USER vale $USER\"\n",
      "echo \"La variable ANOTHERVAR vale $ANOTHERVAR\"\n",
      "echo \"**Fin del script**\"\n"
     ]
    }
   ],
   "source": [
    "cat variables.sh"
   ]
  },
  {
   "cell_type": "code",
   "execution_count": 17,
   "id": "1982636e",
   "metadata": {},
   "outputs": [],
   "source": [
    "# Establece permisos de ejecución para el fichero creado\n",
    "chmod +x variables.sh\n"
   ]
  },
  {
   "cell_type": "code",
   "execution_count": 18,
   "id": "dce8f441",
   "metadata": {},
   "outputs": [
    {
     "name": "stdout",
     "output_type": "stream",
     "text": [
      "**Inicio del script**\n",
      "La variable PRUEBA vale \n",
      "La variable MYVAR hello world!\n",
      "La variable USER vale kiko\n",
      "La variable ANOTHERVAR vale \n",
      "**Fin del script**\n"
     ]
    }
   ],
   "source": [
    "# Ejecuta el script\n",
    "./variables.sh\n"
   ]
  },
  {
   "cell_type": "markdown",
   "id": "eac067c4",
   "metadata": {},
   "source": [
    "- ¿Se produce algún error en el shell cuando tratas de mostrar el valor de una variable a la que no has asignado valor previamente (ANOTHERVAR)?\n",
    "\n",
    "RESPUESTA:No se producirá un error, pero la variable simplemente no contendrá ningún valor. "
   ]
  },
  {
   "cell_type": "markdown",
   "id": "8c5ba378",
   "metadata": {},
   "source": [
    "- ¿Por qué no se imprime el valor de PRUEBA?\n",
    "\n",
    "RESPUESTA: "
   ]
  },
  {
   "cell_type": "code",
   "execution_count": null,
   "id": "86c797c7",
   "metadata": {},
   "outputs": [],
   "source": [
    "# Imprime el valor de la variable MYVAR en el shell actual\n"
   ]
  },
  {
   "cell_type": "markdown",
   "id": "e3c76a33",
   "metadata": {},
   "source": [
    "- ¿Por qué no aparece \"hello world\" como valor de \"MYVAR\" en el shell actual, tras ejecutar `variables.sh`?\n",
    "\n",
    "RESPUESTA: "
   ]
  },
  {
   "cell_type": "markdown",
   "id": "cd7524b2",
   "metadata": {},
   "source": [
    "- ¿Qué valor tiene la variable \"USER\" en el proceso creado para ejecutar el script `variables.sh`?\n",
    "\n",
    "RESPUESTA: "
   ]
  }
 ],
 "metadata": {
  "kernelspec": {
   "display_name": "Bash",
   "language": "bash",
   "name": "bash"
  },
  "language_info": {
   "codemirror_mode": "shell",
   "file_extension": ".sh",
   "mimetype": "text/x-sh",
   "name": "bash"
  },
  "toc": {
   "base_numbering": 1,
   "nav_menu": {},
   "number_sections": true,
   "sideBar": true,
   "skip_h1_title": true,
   "title_cell": "Table of Contents",
   "title_sidebar": "Contents",
   "toc_cell": false,
   "toc_position": {
    "height": "calc(100% - 180px)",
    "left": "10px",
    "top": "150px",
    "width": "296px"
   },
   "toc_section_display": true,
   "toc_window_display": false
  }
 },
 "nbformat": 4,
 "nbformat_minor": 5
}
